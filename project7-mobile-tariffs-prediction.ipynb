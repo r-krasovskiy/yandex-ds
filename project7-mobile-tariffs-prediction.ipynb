{
 "cells": [
  {
   "cell_type": "markdown",
   "metadata": {},
   "source": [
    "# Рекомендация тарифов"
   ]
  },
  {
   "cell_type": "markdown",
   "metadata": {},
   "source": [
    "Датасет содержит данные о поведении клиентов, которые уже перешли на новые тарифы мобильного оператора эти тарифы (предобработка данных не уже была выполнена).\n",
    "<br>Необходимо построить модель для задачи классификации, которая выберет подходящий тариф для клиента. \n",
    "<br>Критерий качества модели: accurascy score >= 0,75.\n"
   ]
  },
  {
   "cell_type": "markdown",
   "metadata": {},
   "source": [
    "## 1. Подготовка"
   ]
  },
  {
   "cell_type": "code",
   "execution_count": 1,
   "metadata": {},
   "outputs": [],
   "source": [
    "import pandas as pd\n",
    "import seaborn as sns\n",
    "\n",
    "# Импортируем модели классификации, которые будем использовать ниже.\n",
    "from sklearn.tree import DecisionTreeClassifier\n",
    "from sklearn.ensemble import RandomForestClassifier\n",
    "from sklearn.linear_model import LogisticRegression\n",
    "\n",
    "# Испортируем впомогательные инструменты для модели: для разбивки на выборки и оценки качества модели\n",
    "from sklearn.model_selection import train_test_split\n",
    "from sklearn.metrics import accuracy_score\n",
    "\n",
    "# Для созранения модели с наилучшими параметрами, выбранной при обучении и ее извлечения для оценки на тестовой выборке.\n",
    "import joblib"
   ]
  },
  {
   "cell_type": "code",
   "execution_count": 2,
   "metadata": {},
   "outputs": [],
   "source": [
    "df = pd.read_csv('datasets/users_behavior.csv')"
   ]
  },
  {
   "cell_type": "code",
   "execution_count": 3,
   "metadata": {},
   "outputs": [
    {
     "name": "stdout",
     "output_type": "stream",
     "text": [
      "<class 'pandas.core.frame.DataFrame'>\n",
      "RangeIndex: 3214 entries, 0 to 3213\n",
      "Data columns (total 5 columns):\n",
      " #   Column    Non-Null Count  Dtype  \n",
      "---  ------    --------------  -----  \n",
      " 0   calls     3214 non-null   float64\n",
      " 1   minutes   3214 non-null   float64\n",
      " 2   messages  3214 non-null   float64\n",
      " 3   mb_used   3214 non-null   float64\n",
      " 4   is_ultra  3214 non-null   int64  \n",
      "dtypes: float64(4), int64(1)\n",
      "memory usage: 125.7 KB\n"
     ]
    }
   ],
   "source": [
    "df.info()"
   ]
  },
  {
   "cell_type": "code",
   "execution_count": 4,
   "metadata": {},
   "outputs": [
    {
     "data": {
      "text/html": [
       "<div>\n",
       "<style scoped>\n",
       "    .dataframe tbody tr th:only-of-type {\n",
       "        vertical-align: middle;\n",
       "    }\n",
       "\n",
       "    .dataframe tbody tr th {\n",
       "        vertical-align: top;\n",
       "    }\n",
       "\n",
       "    .dataframe thead th {\n",
       "        text-align: right;\n",
       "    }\n",
       "</style>\n",
       "<table border=\"1\" class=\"dataframe\">\n",
       "  <thead>\n",
       "    <tr style=\"text-align: right;\">\n",
       "      <th></th>\n",
       "      <th>calls</th>\n",
       "      <th>minutes</th>\n",
       "      <th>messages</th>\n",
       "      <th>mb_used</th>\n",
       "      <th>is_ultra</th>\n",
       "    </tr>\n",
       "  </thead>\n",
       "  <tbody>\n",
       "    <tr>\n",
       "      <th>0</th>\n",
       "      <td>40.0</td>\n",
       "      <td>311.90</td>\n",
       "      <td>83.0</td>\n",
       "      <td>19915.42</td>\n",
       "      <td>0</td>\n",
       "    </tr>\n",
       "    <tr>\n",
       "      <th>1</th>\n",
       "      <td>85.0</td>\n",
       "      <td>516.75</td>\n",
       "      <td>56.0</td>\n",
       "      <td>22696.96</td>\n",
       "      <td>0</td>\n",
       "    </tr>\n",
       "    <tr>\n",
       "      <th>2</th>\n",
       "      <td>77.0</td>\n",
       "      <td>467.66</td>\n",
       "      <td>86.0</td>\n",
       "      <td>21060.45</td>\n",
       "      <td>0</td>\n",
       "    </tr>\n",
       "    <tr>\n",
       "      <th>3</th>\n",
       "      <td>106.0</td>\n",
       "      <td>745.53</td>\n",
       "      <td>81.0</td>\n",
       "      <td>8437.39</td>\n",
       "      <td>1</td>\n",
       "    </tr>\n",
       "    <tr>\n",
       "      <th>4</th>\n",
       "      <td>66.0</td>\n",
       "      <td>418.74</td>\n",
       "      <td>1.0</td>\n",
       "      <td>14502.75</td>\n",
       "      <td>0</td>\n",
       "    </tr>\n",
       "  </tbody>\n",
       "</table>\n",
       "</div>"
      ],
      "text/plain": [
       "   calls  minutes  messages   mb_used  is_ultra\n",
       "0   40.0   311.90      83.0  19915.42         0\n",
       "1   85.0   516.75      56.0  22696.96         0\n",
       "2   77.0   467.66      86.0  21060.45         0\n",
       "3  106.0   745.53      81.0   8437.39         1\n",
       "4   66.0   418.74       1.0  14502.75         0"
      ]
     },
     "execution_count": 4,
     "metadata": {},
     "output_type": "execute_result"
    }
   ],
   "source": [
    "df.head(5)"
   ]
  },
  {
   "cell_type": "markdown",
   "metadata": {},
   "source": [
    "Датасет содержат 3 214 строк, пропущенных значений не имеет.\n",
    "<br>Формат данных - числовой, подходит для поставленных целей анализа."
   ]
  },
  {
   "cell_type": "markdown",
   "metadata": {},
   "source": [
    "## 2. Формирование выборок"
   ]
  },
  {
   "cell_type": "code",
   "execution_count": 5,
   "metadata": {},
   "outputs": [],
   "source": [
    "# Выделим из датасета столбцы с признаками и столбец с целевым признаком.\n",
    "\n",
    "features = df.drop(['is_ultra'], axis=1)\n",
    "target = df['is_ultra']"
   ]
  },
  {
   "cell_type": "code",
   "execution_count": 6,
   "metadata": {},
   "outputs": [
    {
     "name": "stdout",
     "output_type": "stream",
     "text": [
      "Датасет раздлен на выборки корректно\n",
      "\n",
      "Исходный датасет включает: 3214 \n",
      "Обучающая выборка включает: 2313 или 72% датасета\n",
      "Валидационная выборка включает: 579 или 18% датасета\n",
      "Тестовая выборка включает: 322 или 10% датасета\n"
     ]
    }
   ],
   "source": [
    "# Выделим из исходных данных тестовую выборку в 10%.\n",
    "(features_train,\n",
    " features_test,\n",
    " target_train,\n",
    " target_test) = train_test_split(features, target, test_size=0.1, random_state=12345, stratify=target)\n",
    "\n",
    "\n",
    "# Разделим оставшиеся данные на обучающую и валидационную выборки. Валидационная выборка составит 25% исходных данных.\n",
    "(features_train,\n",
    " features_valid,\n",
    " target_train,\n",
    " target_valid) = train_test_split(features_train, target_train, test_size=0.2, random_state=12345)\n",
    "\n",
    "\n",
    "# Проверим корерктность рассплитовки.\n",
    "if features_train.shape[0]+features_valid.shape[0]+features_test.shape[0] == df.shape[0]:\n",
    "    print('Датасет раздлен на выборки корректно\\n')\n",
    "else:\n",
    "    print('Датасет раздлен на выборки некорректно\\n')\n",
    "\n",
    "print('Исходный датасет включает:', df.shape[0],\n",
    "      '\\nОбучающая выборка включает:', features_train.shape[0], f'или {features_train.shape[0]/df.shape[0]:.0%} датасета'\n",
    "      '\\nВалидационная выборка включает:', features_valid.shape[0], f'или {features_valid.shape[0]/df.shape[0]:.0%} датасета'\n",
    "      '\\nТестовая выборка включает:', features_test.shape[0], f'или {features_test.shape[0]/df.shape[0]:.0%} датасета')\n"
   ]
  },
  {
   "cell_type": "code",
   "execution_count": 7,
   "metadata": {},
   "outputs": [
    {
     "name": "stdout",
     "output_type": "stream",
     "text": [
      "Исходный датасет:\n",
      " 0    0.69\n",
      "1    0.31\n",
      "Name: is_ultra, dtype: float64\n",
      "Обучающая выборка:\n",
      " 0    0.69\n",
      "1    0.31\n",
      "Name: is_ultra, dtype: float64\n",
      "Валидационная выборка:\n",
      " 0    0.69\n",
      "1    0.31\n",
      "Name: is_ultra, dtype: float64\n",
      "Тестовая выборка:\n",
      " 0    0.69\n",
      "1    0.31\n",
      "Name: is_ultra, dtype: float64\n"
     ]
    }
   ],
   "source": [
    "# Проверка работы стратификации.\n",
    "\n",
    "print('Исходный датасет:\\n', (target.value_counts()/target.shape[0]).round(2))\n",
    "print('Обучающая выборка:\\n', (target_train.value_counts()/target_train.shape[0]).round(2))\n",
    "print('Валидационная выборка:\\n', (target_valid.value_counts()/target_valid.shape[0]).round(2))\n",
    "print('Тестовая выборка:\\n', (target_test.value_counts()/target_test.shape[0]).round(2))"
   ]
  },
  {
   "cell_type": "markdown",
   "metadata": {},
   "source": [
    "## 3. Построение моделей"
   ]
  },
  {
   "cell_type": "markdown",
   "metadata": {},
   "source": [
    "### 3.1. Дерево решений"
   ]
  },
  {
   "cell_type": "code",
   "execution_count": 8,
   "metadata": {},
   "outputs": [
    {
     "name": "stdout",
     "output_type": "stream",
     "text": [
      "Accuracy модели с глубиной 1 составляет: 0.758\n",
      "Accuracy модели с глубиной 2 составляет: 0.781\n",
      "Accuracy модели с глубиной 3 составляет: 0.794\n",
      "Accuracy модели с глубиной 4 составляет: 0.786\n",
      "Accuracy модели с глубиной 5 составляет: 0.8\n",
      "Accuracy модели с глубиной 6 составляет: 0.8\n",
      "Accuracy модели с глубиной 7 составляет: 0.815\n",
      "Accuracy модели с глубиной 8 составляет: 0.81\n",
      "Accuracy модели с глубиной 9 составляет: 0.803\n",
      "Accuracy модели с глубиной 10 составляет: 0.8\n",
      "Accuracy модели с глубиной 11 составляет: 0.791\n",
      "Accuracy модели с глубиной 12 составляет: 0.789\n",
      "Accuracy модели с глубиной 13 составляет: 0.77\n",
      "Accuracy модели с глубиной 14 составляет: 0.748\n",
      "Accuracy модели с глубиной 15 составляет: 0.741\n",
      "Accuracy модели с глубиной 16 составляет: 0.741\n",
      "Accuracy модели с глубиной 17 составляет: 0.751\n",
      "Accuracy модели с глубиной 18 составляет: 0.739\n",
      "Accuracy модели с глубиной 19 составляет: 0.748\n",
      "\n",
      "Accuracy лучшей модели: 0.815 \n",
      "Ее глубина: 7\n"
     ]
    },
    {
     "data": {
      "text/plain": [
       "['dt_model.joblib']"
      ]
     },
     "execution_count": 8,
     "metadata": {},
     "output_type": "execute_result"
    }
   ],
   "source": [
    "DT_param = []\n",
    "DT_accur = []\n",
    "\n",
    "dt_best_model = None\n",
    "dt_best_result = 0\n",
    "best_depth = 0\n",
    "\n",
    "for depth in range(1, 20):\n",
    "    model = DecisionTreeClassifier(random_state=12345, max_depth=depth)\n",
    "    model.fit(features_train, target_train)\n",
    "    predictions = model.predict(features_valid)\n",
    "    result = accuracy_score(target_valid, predictions)\n",
    "    print('Accuracy модели с глубиной', depth, 'составляет:', result.round(3))\n",
    "    \n",
    "    DT_param.append(depth)\n",
    "    DT_accur.append(result.round(3))\n",
    "    \n",
    "    if result > dt_best_result:\n",
    "        dt_best_model = model\n",
    "        best_depth = depth\n",
    "        dt_best_result = result\n",
    "\n",
    "print('\\nAccuracy лучшей модели:', dt_best_result.round(3),\n",
    "      '\\nЕе глубина:', best_depth)\n",
    "\n",
    "# Запись лучшей модели\n",
    "joblib.dump(dt_best_model, 'dt_model.joblib')"
   ]
  },
  {
   "cell_type": "code",
   "execution_count": 9,
   "metadata": {},
   "outputs": [
    {
     "data": {
      "text/plain": [
       "<AxesSubplot:xlabel='DT_depth', ylabel='DT_accuracy'>"
      ]
     },
     "execution_count": 9,
     "metadata": {},
     "output_type": "execute_result"
    },
    {
     "data": {
      "image/png": "[encoded data removed]",
      "text/plain": [
       "<Figure size 432x288 with 1 Axes>"
      ]
     },
     "metadata": {
      "needs_background": "light"
     },
     "output_type": "display_data"
    }
   ],
   "source": [
    "DT_data = pd.DataFrame({'DT_depth': DT_param,\n",
    "                       'DT_accuracy': DT_accur})\n",
    "\n",
    "sns.scatterplot(data=DT_data,\n",
    "               x='DT_depth',\n",
    "               y='DT_accuracy',\n",
    "               color='blue'\n",
    "               )"
   ]
  },
  {
   "cell_type": "markdown",
   "metadata": {},
   "source": [
    "### 3.2. Случайный лес"
   ]
  },
  {
   "cell_type": "code",
   "execution_count": 10,
   "metadata": {},
   "outputs": [
    {
     "name": "stdout",
     "output_type": "stream",
     "text": [
      "Accuracy модели с числом эстиматоров 1 составляет: 0.731\n",
      "Accuracy модели с числом эстиматоров 2 составляет: 0.784\n",
      "Accuracy модели с числом эстиматоров 3 составляет: 0.765\n",
      "Accuracy модели с числом эстиматоров 4 составляет: 0.784\n",
      "Accuracy модели с числом эстиматоров 5 составляет: 0.772\n",
      "Accuracy модели с числом эстиматоров 6 составляет: 0.786\n",
      "Accuracy модели с числом эстиматоров 7 составляет: 0.781\n",
      "Accuracy модели с числом эстиматоров 8 составляет: 0.782\n",
      "Accuracy модели с числом эстиматоров 9 составляет: 0.777\n",
      "Accuracy модели с числом эстиматоров 10 составляет: 0.798\n",
      "Accuracy модели с числом эстиматоров 11 составляет: 0.782\n",
      "Accuracy модели с числом эстиматоров 12 составляет: 0.796\n",
      "Accuracy модели с числом эстиматоров 13 составляет: 0.793\n",
      "Accuracy модели с числом эстиматоров 14 составляет: 0.796\n",
      "Accuracy модели с числом эстиматоров 15 составляет: 0.794\n",
      "Accuracy модели с числом эстиматоров 16 составляет: 0.801\n",
      "Accuracy модели с числом эстиматоров 17 составляет: 0.805\n",
      "Accuracy модели с числом эстиматоров 18 составляет: 0.801\n",
      "Accuracy модели с числом эстиматоров 19 составляет: 0.798\n",
      "Accuracy лучшей модели: 0.805 \n",
      "Число ее деревьев: 17\n"
     ]
    },
    {
     "data": {
      "text/plain": [
       "['rf_model.joblib']"
      ]
     },
     "execution_count": 10,
     "metadata": {},
     "output_type": "execute_result"
    }
   ],
   "source": [
    "RF_param = []\n",
    "RF_accur = []\n",
    "\n",
    "rf_best_model = None\n",
    "rf_best_result = 0\n",
    "est = 0\n",
    "\n",
    "for est in range(1, 20):\n",
    "    model = RandomForestClassifier(random_state=12345, n_estimators=est)\n",
    "    model.fit(features_train, target_train)\n",
    "    predictions = model.predict(features_valid)\n",
    "    result = accuracy_score(target_valid, predictions)\n",
    "    print('Accuracy модели с числом эстиматоров', est, 'составляет:', result.round(3))\n",
    "    \n",
    "    RF_param.append(est)\n",
    "    RF_accur.append(result.round(3))\n",
    "    \n",
    "    if result > rf_best_result:\n",
    "        rf_best_model = model\n",
    "        best_est = est\n",
    "        rf_best_result = result\n",
    "\n",
    "print('Accuracy лучшей модели:', rf_best_result.round(3),\n",
    "      '\\nЧисло ее деревьев:', best_est)\n",
    "\n",
    "# Запись лучшей модели\n",
    "joblib.dump(rf_best_model, 'rf_model.joblib')"
   ]
  },
  {
   "cell_type": "code",
   "execution_count": 11,
   "metadata": {},
   "outputs": [
    {
     "data": {
      "text/plain": [
       "<AxesSubplot:xlabel='RF_depth', ylabel='RF_accuracy'>"
      ]
     },
     "execution_count": 11,
     "metadata": {},
     "output_type": "execute_result"
    },
    {
     "data": {
      "image/png": "[encoded data removed]",
      "text/plain": [
       "<Figure size 432x288 with 1 Axes>"
      ]
     },
     "metadata": {
      "needs_background": "light"
     },
     "output_type": "display_data"
    }
   ],
   "source": [
    "RF_data = pd.DataFrame({'RF_depth': RF_param,\n",
    "                       'RF_accuracy': RF_accur})\n",
    "\n",
    "sns.scatterplot(data=RF_data,\n",
    "               x='RF_depth',\n",
    "               y='RF_accuracy',\n",
    "               color='red'\n",
    "               )"
   ]
  },
  {
   "cell_type": "markdown",
   "metadata": {},
   "source": [
    "### 3.3. Логистическая регрессия"
   ]
  },
  {
   "cell_type": "code",
   "execution_count": 12,
   "metadata": {},
   "outputs": [
    {
     "name": "stdout",
     "output_type": "stream",
     "text": [
      "Accuracy лучшей модели: 0.694 \n",
      "Результат получен за итераций: 1\n"
     ]
    },
    {
     "name": "stderr",
     "output_type": "stream",
     "text": [
      "C:\\Users\\Roman\\anaconda3\\lib\\site-packages\\sklearn\\linear_model\\_logistic.py:762: ConvergenceWarning: lbfgs failed to converge (status=1):\n",
      "STOP: TOTAL NO. of ITERATIONS REACHED LIMIT.\n",
      "\n",
      "Increase the number of iterations (max_iter) or scale the data as shown in:\n",
      "    https://scikit-learn.org/stable/modules/preprocessing.html\n",
      "Please also refer to the documentation for alternative solver options:\n",
      "    https://scikit-learn.org/stable/modules/linear_model.html#logistic-regression\n",
      "  n_iter_i = _check_optimize_result(\n",
      "C:\\Users\\Roman\\anaconda3\\lib\\site-packages\\sklearn\\linear_model\\_logistic.py:762: ConvergenceWarning: lbfgs failed to converge (status=1):\n",
      "STOP: TOTAL NO. of ITERATIONS REACHED LIMIT.\n",
      "\n",
      "Increase the number of iterations (max_iter) or scale the data as shown in:\n",
      "    https://scikit-learn.org/stable/modules/preprocessing.html\n",
      "Please also refer to the documentation for alternative solver options:\n",
      "    https://scikit-learn.org/stable/modules/linear_model.html#logistic-regression\n",
      "  n_iter_i = _check_optimize_result(\n",
      "C:\\Users\\Roman\\anaconda3\\lib\\site-packages\\sklearn\\linear_model\\_logistic.py:762: ConvergenceWarning: lbfgs failed to converge (status=1):\n",
      "STOP: TOTAL NO. of ITERATIONS REACHED LIMIT.\n",
      "\n",
      "Increase the number of iterations (max_iter) or scale the data as shown in:\n",
      "    https://scikit-learn.org/stable/modules/preprocessing.html\n",
      "Please also refer to the documentation for alternative solver options:\n",
      "    https://scikit-learn.org/stable/modules/linear_model.html#logistic-regression\n",
      "  n_iter_i = _check_optimize_result(\n",
      "C:\\Users\\Roman\\anaconda3\\lib\\site-packages\\sklearn\\linear_model\\_logistic.py:762: ConvergenceWarning: lbfgs failed to converge (status=1):\n",
      "STOP: TOTAL NO. of ITERATIONS REACHED LIMIT.\n",
      "\n",
      "Increase the number of iterations (max_iter) or scale the data as shown in:\n",
      "    https://scikit-learn.org/stable/modules/preprocessing.html\n",
      "Please also refer to the documentation for alternative solver options:\n",
      "    https://scikit-learn.org/stable/modules/linear_model.html#logistic-regression\n",
      "  n_iter_i = _check_optimize_result(\n",
      "C:\\Users\\Roman\\anaconda3\\lib\\site-packages\\sklearn\\linear_model\\_logistic.py:762: ConvergenceWarning: lbfgs failed to converge (status=1):\n",
      "STOP: TOTAL NO. of ITERATIONS REACHED LIMIT.\n",
      "\n",
      "Increase the number of iterations (max_iter) or scale the data as shown in:\n",
      "    https://scikit-learn.org/stable/modules/preprocessing.html\n",
      "Please also refer to the documentation for alternative solver options:\n",
      "    https://scikit-learn.org/stable/modules/linear_model.html#logistic-regression\n",
      "  n_iter_i = _check_optimize_result(\n",
      "C:\\Users\\Roman\\anaconda3\\lib\\site-packages\\sklearn\\linear_model\\_logistic.py:762: ConvergenceWarning: lbfgs failed to converge (status=1):\n",
      "STOP: TOTAL NO. of ITERATIONS REACHED LIMIT.\n",
      "\n",
      "Increase the number of iterations (max_iter) or scale the data as shown in:\n",
      "    https://scikit-learn.org/stable/modules/preprocessing.html\n",
      "Please also refer to the documentation for alternative solver options:\n",
      "    https://scikit-learn.org/stable/modules/linear_model.html#logistic-regression\n",
      "  n_iter_i = _check_optimize_result(\n",
      "C:\\Users\\Roman\\anaconda3\\lib\\site-packages\\sklearn\\linear_model\\_logistic.py:762: ConvergenceWarning: lbfgs failed to converge (status=1):\n",
      "STOP: TOTAL NO. of ITERATIONS REACHED LIMIT.\n",
      "\n",
      "Increase the number of iterations (max_iter) or scale the data as shown in:\n",
      "    https://scikit-learn.org/stable/modules/preprocessing.html\n",
      "Please also refer to the documentation for alternative solver options:\n",
      "    https://scikit-learn.org/stable/modules/linear_model.html#logistic-regression\n",
      "  n_iter_i = _check_optimize_result(\n",
      "C:\\Users\\Roman\\anaconda3\\lib\\site-packages\\sklearn\\linear_model\\_logistic.py:762: ConvergenceWarning: lbfgs failed to converge (status=1):\n",
      "STOP: TOTAL NO. of ITERATIONS REACHED LIMIT.\n",
      "\n",
      "Increase the number of iterations (max_iter) or scale the data as shown in:\n",
      "    https://scikit-learn.org/stable/modules/preprocessing.html\n",
      "Please also refer to the documentation for alternative solver options:\n",
      "    https://scikit-learn.org/stable/modules/linear_model.html#logistic-regression\n",
      "  n_iter_i = _check_optimize_result(\n",
      "C:\\Users\\Roman\\anaconda3\\lib\\site-packages\\sklearn\\linear_model\\_logistic.py:762: ConvergenceWarning: lbfgs failed to converge (status=1):\n",
      "STOP: TOTAL NO. of ITERATIONS REACHED LIMIT.\n",
      "\n",
      "Increase the number of iterations (max_iter) or scale the data as shown in:\n",
      "    https://scikit-learn.org/stable/modules/preprocessing.html\n",
      "Please also refer to the documentation for alternative solver options:\n",
      "    https://scikit-learn.org/stable/modules/linear_model.html#logistic-regression\n",
      "  n_iter_i = _check_optimize_result(\n"
     ]
    },
    {
     "data": {
      "text/plain": [
       "['lr_model.joblib']"
      ]
     },
     "execution_count": 12,
     "metadata": {},
     "output_type": "execute_result"
    }
   ],
   "source": [
    "LR_param = []\n",
    "LR_accur = []\n",
    "\n",
    "\n",
    "lr_best_model = None\n",
    "lr_best_result = 0\n",
    "best_itr = 0\n",
    "\n",
    "for itr in range(1, 10):\n",
    "    model = LogisticRegression(random_state=12345, solver='lbfgs', max_iter=itr, penalty='l2')\n",
    "    model.fit(features_train, target_train)\n",
    "    predictions = model.predict(features_valid)\n",
    "    result = accuracy_score(target_valid, predictions)\n",
    "    \n",
    "    LR_param.append(itr)\n",
    "    LR_accur.append(result.round(3))\n",
    "    \n",
    "    if result > lr_best_result:\n",
    "        lr_best_model = model\n",
    "        best_itr = itr\n",
    "        lr_best_result = result\n",
    "\n",
    "\n",
    "print('Accuracy лучшей модели:', lr_best_result.round(3),\n",
    "     '\\nРезультат получен за итераций:', best_itr)\n",
    "\n",
    "# Запись лучшей модели\n",
    "joblib.dump(lr_best_model, 'lr_model.joblib')"
   ]
  },
  {
   "cell_type": "code",
   "execution_count": 13,
   "metadata": {},
   "outputs": [
    {
     "data": {
      "text/plain": [
       "<AxesSubplot:xlabel='LR_param', ylabel='LR_accuracy'>"
      ]
     },
     "execution_count": 13,
     "metadata": {},
     "output_type": "execute_result"
    },
    {
     "data": {
      "image/png": "[encoded data removed]",
      "text/plain": [
       "<Figure size 432x288 with 1 Axes>"
      ]
     },
     "metadata": {
      "needs_background": "light"
     },
     "output_type": "display_data"
    }
   ],
   "source": [
    "LR_data = pd.DataFrame({'LR_param': LR_param,\n",
    "                       'LR_accuracy': LR_accur})\n",
    "\n",
    "sns.scatterplot(data=LR_data,\n",
    "               x='LR_param',\n",
    "               y='LR_accuracy',\n",
    "               color='green')"
   ]
  },
  {
   "cell_type": "code",
   "execution_count": 14,
   "metadata": {},
   "outputs": [
    {
     "name": "stdout",
     "output_type": "stream",
     "text": [
      "Дерево решений 0.815\n",
      "Случайный лес 0.805\n",
      "Логистическая регрессия 0.694\n"
     ]
    }
   ],
   "source": [
    "# Сравним  трех моделей, полученные на валидационной выборке.\n",
    "\n",
    "print('Дерево решений' , dt_best_result.round(3))\n",
    "print('Случайный лес' , rf_best_result.round(3))\n",
    "print('Логистическая регрессия' , lr_best_result.round(3))"
   ]
  },
  {
   "cell_type": "markdown",
   "metadata": {},
   "source": [
    "Таким образом, наилучшие результаты accuracy score дал случайный лес, наихудшие - логистическая регрессия."
   ]
  },
  {
   "cell_type": "markdown",
   "metadata": {},
   "source": [
    "## 4. Проверка модели на тестовой выборке"
   ]
  },
  {
   "cell_type": "code",
   "execution_count": 15,
   "metadata": {},
   "outputs": [
    {
     "name": "stdout",
     "output_type": "stream",
     "text": [
      "Accuracy случайного леса составляет 0.804\n"
     ]
    }
   ],
   "source": [
    "rf_result_test = joblib.load('rf_model.joblib').predict(features_test)\n",
    "print('Accuracy случайного леса составляет', accuracy_score(rf_result_test, target_test).round(3))"
   ]
  },
  {
   "cell_type": "markdown",
   "metadata": {},
   "source": [
    "Таким образом, наилучшие результаты на тестовой выборке продемонстрировала модель дерева решений. Наихудший - логистическая регрессия.\n",
    "<br>При выборе модели для предсказания на фактических данных следует выбирать либо дерево рещений, либо случайный лес."
   ]
  },
  {
   "cell_type": "markdown",
   "metadata": {},
   "source": [
    "## 5. Проверка модели на адекватность"
   ]
  },
  {
   "cell_type": "code",
   "execution_count": 16,
   "metadata": {},
   "outputs": [
    {
     "name": "stdout",
     "output_type": "stream",
     "text": [
      "0    2229\n",
      "1     985\n",
      "Name: is_ultra, dtype: int64\n",
      "0    2256\n",
      "1     958\n",
      "Name: is_ultra_dummy, dtype: int64\n",
      "Accuracy дерева решений составляет 0.631\n",
      "Accuracy случайного леса составляет 0.585\n",
      "Accuracy логистической регрессии составляет 0.702\n"
     ]
    }
   ],
   "source": [
    "import numpy as np\n",
    "\n",
    "df_dummy = df\n",
    "\n",
    "df_dummy['is_ultra_dummy'] = np.random.choice([1, 0], size=df_dummy.shape[0], p=[.3,.7])\n",
    "df_dummy = df_dummy.drop('is_ultra', axis=1)\n",
    "\n",
    "\n",
    "features_dummy = df_dummy.drop(['is_ultra_dummy'], axis=1)\n",
    "target_dummy = df_dummy['is_ultra_dummy']\n",
    "\n",
    "# Проверим, что значения действительно отличаются от исходного датасета.\n",
    "print(target.value_counts())\n",
    "print(target_dummy.value_counts())\n",
    "\n",
    "dt_result_dummy = joblib.load('dt_model.joblib').predict(features_dummy)\n",
    "rf_result_dummy = joblib.load('rf_model.joblib').predict(features_dummy)\n",
    "lr_result_dummy = joblib.load('lr_model.joblib').predict(features_dummy)\n",
    "\n",
    "print('Accuracy дерева решений составляет', accuracy_score(dt_result_dummy, target_dummy).round(3))\n",
    "print('Accuracy случайного леса составляет', accuracy_score(rf_result_dummy, target_dummy).round(3))\n",
    "print('Accuracy логистической регрессии составляет', accuracy_score(lr_result_dummy, target_dummy).round(3))"
   ]
  }
 ],
 "metadata": {
  "kernelspec": {
   "display_name": "Python 3",
   "language": "python",
   "name": "python3"
  },
  "language_info": {
   "codemirror_mode": {
    "name": "ipython",
    "version": 3
   },
   "file_extension": ".py",
   "mimetype": "text/x-python",
   "name": "python",
   "nbconvert_exporter": "python",
   "pygments_lexer": "ipython3",
   "version": "3.8.5"
  }
 },
 "nbformat": 4,
 "nbformat_minor": 4
}
