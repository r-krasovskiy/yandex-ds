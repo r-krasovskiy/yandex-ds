{
 "cells": [
  {
   "cell_type": "markdown",
   "metadata": {},
   "source": [
    "# Исследование надёжности заёмщиков\n",
    "\n",
    "Датасет содержит различные хараткеристики клиентов банка и данные об их платёжеспособности.\n",
    "Необходимо определить, влияет ли семейное положение и количество детей и дохрд клиента на факт погашения кредита в срок.\n",
    "\n",
    "\n",
    "Значения столбцов датасета:\n",
    "\n",
    "* `children` — количество детей в семье\n",
    "* `days_employed` — общий трудовой стаж в днях\n",
    "* `dob_years` — возраст клиента в годах\n",
    "* `education` — уровень образования клиента\n",
    "* `education_id` — идентификатор уровня образования\n",
    "* `family_status` — семейное положение\n",
    "* `family_status_id` — идентификатор семейного положения\n",
    "* `gender` — пол клиента\n",
    "* `income_type` — тип занятости\n",
    "* `debt` — имел ли задолженность по возврату кредитов\n",
    "* `total_income` — ежемесячный доход\n",
    "* `purpose` — цель получения кредита."
   ]
  },
  {
   "cell_type": "markdown",
   "metadata": {},
   "source": [
    "## 1. Обзор данных"
   ]
  },
  {
   "cell_type": "markdown",
   "metadata": {},
   "source": [
    "Установим pymystem3 для стемминга."
   ]
  },
  {
   "cell_type": "code",
   "execution_count": 1,
   "metadata": {},
   "outputs": [
    {
     "name": "stdout",
     "output_type": "stream",
     "text": [
      "Requirement already satisfied: pymystem3 in c:\\users\\roman\\anaconda3\\lib\\site-packages (0.2.0)\n",
      "Requirement already satisfied: requests in c:\\users\\roman\\anaconda3\\lib\\site-packages (from pymystem3) (2.24.0)\n",
      "Requirement already satisfied: certifi>=2017.4.17 in c:\\users\\roman\\anaconda3\\lib\\site-packages (from requests->pymystem3) (2020.6.20)\n",
      "Requirement already satisfied: urllib3!=1.25.0,!=1.25.1,<1.26,>=1.21.1 in c:\\users\\roman\\anaconda3\\lib\\site-packages (from requests->pymystem3) (1.25.11)\n",
      "Requirement already satisfied: chardet<4,>=3.0.2 in c:\\users\\roman\\anaconda3\\lib\\site-packages (from requests->pymystem3) (3.0.4)\n",
      "Requirement already satisfied: idna<3,>=2.5 in c:\\users\\roman\\anaconda3\\lib\\site-packages (from requests->pymystem3) (2.10)\n",
      "Note: you may need to restart the kernel to use updated packages.\n"
     ]
    }
   ],
   "source": [
    "pip install pymystem3"
   ]
  },
  {
   "cell_type": "code",
   "execution_count": 2,
   "metadata": {},
   "outputs": [],
   "source": [
    "import pandas as pd\n",
    "\n",
    "# Для стемминга.\n",
    "\n",
    "from pymystem3 import Mystem\n",
    "from collections import Counter"
   ]
  },
  {
   "cell_type": "code",
   "execution_count": 3,
   "metadata": {},
   "outputs": [
    {
     "name": "stdout",
     "output_type": "stream",
     "text": [
      "<class 'pandas.core.frame.DataFrame'>\n",
      "RangeIndex: 21525 entries, 0 to 21524\n",
      "Data columns (total 12 columns):\n",
      " #   Column            Non-Null Count  Dtype  \n",
      "---  ------            --------------  -----  \n",
      " 0   children          21525 non-null  int64  \n",
      " 1   days_employed     19351 non-null  float64\n",
      " 2   dob_years         21525 non-null  int64  \n",
      " 3   education         21525 non-null  object \n",
      " 4   education_id      21525 non-null  int64  \n",
      " 5   family_status     21525 non-null  object \n",
      " 6   family_status_id  21525 non-null  int64  \n",
      " 7   gender            21525 non-null  object \n",
      " 8   income_type       21525 non-null  object \n",
      " 9   debt              21525 non-null  int64  \n",
      " 10  total_income      19351 non-null  float64\n",
      " 11  purpose           21525 non-null  object \n",
      "dtypes: float64(2), int64(5), object(5)\n",
      "memory usage: 2.0+ MB\n"
     ]
    }
   ],
   "source": [
    "df = pd.read_csv('datasets/pil.csv')\n",
    "df.info()"
   ]
  },
  {
   "cell_type": "code",
   "execution_count": 4,
   "metadata": {},
   "outputs": [
    {
     "data": {
      "text/html": [
       "<div>\n",
       "<style scoped>\n",
       "    .dataframe tbody tr th:only-of-type {\n",
       "        vertical-align: middle;\n",
       "    }\n",
       "\n",
       "    .dataframe tbody tr th {\n",
       "        vertical-align: top;\n",
       "    }\n",
       "\n",
       "    .dataframe thead th {\n",
       "        text-align: right;\n",
       "    }\n",
       "</style>\n",
       "<table border=\"1\" class=\"dataframe\">\n",
       "  <thead>\n",
       "    <tr style=\"text-align: right;\">\n",
       "      <th></th>\n",
       "      <th>children</th>\n",
       "      <th>days_employed</th>\n",
       "      <th>dob_years</th>\n",
       "      <th>education</th>\n",
       "      <th>education_id</th>\n",
       "      <th>family_status</th>\n",
       "      <th>family_status_id</th>\n",
       "      <th>gender</th>\n",
       "      <th>income_type</th>\n",
       "      <th>debt</th>\n",
       "      <th>total_income</th>\n",
       "      <th>purpose</th>\n",
       "    </tr>\n",
       "  </thead>\n",
       "  <tbody>\n",
       "    <tr>\n",
       "      <th>0</th>\n",
       "      <td>1</td>\n",
       "      <td>-8437.673028</td>\n",
       "      <td>42</td>\n",
       "      <td>высшее</td>\n",
       "      <td>0</td>\n",
       "      <td>женат / замужем</td>\n",
       "      <td>0</td>\n",
       "      <td>F</td>\n",
       "      <td>сотрудник</td>\n",
       "      <td>0</td>\n",
       "      <td>253875.639453</td>\n",
       "      <td>покупка жилья</td>\n",
       "    </tr>\n",
       "    <tr>\n",
       "      <th>1</th>\n",
       "      <td>1</td>\n",
       "      <td>-4024.803754</td>\n",
       "      <td>36</td>\n",
       "      <td>среднее</td>\n",
       "      <td>1</td>\n",
       "      <td>женат / замужем</td>\n",
       "      <td>0</td>\n",
       "      <td>F</td>\n",
       "      <td>сотрудник</td>\n",
       "      <td>0</td>\n",
       "      <td>112080.014102</td>\n",
       "      <td>приобретение автомобиля</td>\n",
       "    </tr>\n",
       "    <tr>\n",
       "      <th>2</th>\n",
       "      <td>0</td>\n",
       "      <td>-5623.422610</td>\n",
       "      <td>33</td>\n",
       "      <td>Среднее</td>\n",
       "      <td>1</td>\n",
       "      <td>женат / замужем</td>\n",
       "      <td>0</td>\n",
       "      <td>M</td>\n",
       "      <td>сотрудник</td>\n",
       "      <td>0</td>\n",
       "      <td>145885.952297</td>\n",
       "      <td>покупка жилья</td>\n",
       "    </tr>\n",
       "    <tr>\n",
       "      <th>3</th>\n",
       "      <td>3</td>\n",
       "      <td>-4124.747207</td>\n",
       "      <td>32</td>\n",
       "      <td>среднее</td>\n",
       "      <td>1</td>\n",
       "      <td>женат / замужем</td>\n",
       "      <td>0</td>\n",
       "      <td>M</td>\n",
       "      <td>сотрудник</td>\n",
       "      <td>0</td>\n",
       "      <td>267628.550329</td>\n",
       "      <td>дополнительное образование</td>\n",
       "    </tr>\n",
       "    <tr>\n",
       "      <th>4</th>\n",
       "      <td>0</td>\n",
       "      <td>340266.072047</td>\n",
       "      <td>53</td>\n",
       "      <td>среднее</td>\n",
       "      <td>1</td>\n",
       "      <td>гражданский брак</td>\n",
       "      <td>1</td>\n",
       "      <td>F</td>\n",
       "      <td>пенсионер</td>\n",
       "      <td>0</td>\n",
       "      <td>158616.077870</td>\n",
       "      <td>сыграть свадьбу</td>\n",
       "    </tr>\n",
       "    <tr>\n",
       "      <th>5</th>\n",
       "      <td>0</td>\n",
       "      <td>-926.185831</td>\n",
       "      <td>27</td>\n",
       "      <td>высшее</td>\n",
       "      <td>0</td>\n",
       "      <td>гражданский брак</td>\n",
       "      <td>1</td>\n",
       "      <td>M</td>\n",
       "      <td>компаньон</td>\n",
       "      <td>0</td>\n",
       "      <td>255763.565419</td>\n",
       "      <td>покупка жилья</td>\n",
       "    </tr>\n",
       "    <tr>\n",
       "      <th>6</th>\n",
       "      <td>0</td>\n",
       "      <td>-2879.202052</td>\n",
       "      <td>43</td>\n",
       "      <td>высшее</td>\n",
       "      <td>0</td>\n",
       "      <td>женат / замужем</td>\n",
       "      <td>0</td>\n",
       "      <td>F</td>\n",
       "      <td>компаньон</td>\n",
       "      <td>0</td>\n",
       "      <td>240525.971920</td>\n",
       "      <td>операции с жильем</td>\n",
       "    </tr>\n",
       "    <tr>\n",
       "      <th>7</th>\n",
       "      <td>0</td>\n",
       "      <td>-152.779569</td>\n",
       "      <td>50</td>\n",
       "      <td>СРЕДНЕЕ</td>\n",
       "      <td>1</td>\n",
       "      <td>женат / замужем</td>\n",
       "      <td>0</td>\n",
       "      <td>M</td>\n",
       "      <td>сотрудник</td>\n",
       "      <td>0</td>\n",
       "      <td>135823.934197</td>\n",
       "      <td>образование</td>\n",
       "    </tr>\n",
       "    <tr>\n",
       "      <th>8</th>\n",
       "      <td>2</td>\n",
       "      <td>-6929.865299</td>\n",
       "      <td>35</td>\n",
       "      <td>ВЫСШЕЕ</td>\n",
       "      <td>0</td>\n",
       "      <td>гражданский брак</td>\n",
       "      <td>1</td>\n",
       "      <td>F</td>\n",
       "      <td>сотрудник</td>\n",
       "      <td>0</td>\n",
       "      <td>95856.832424</td>\n",
       "      <td>на проведение свадьбы</td>\n",
       "    </tr>\n",
       "    <tr>\n",
       "      <th>9</th>\n",
       "      <td>0</td>\n",
       "      <td>-2188.756445</td>\n",
       "      <td>41</td>\n",
       "      <td>среднее</td>\n",
       "      <td>1</td>\n",
       "      <td>женат / замужем</td>\n",
       "      <td>0</td>\n",
       "      <td>M</td>\n",
       "      <td>сотрудник</td>\n",
       "      <td>0</td>\n",
       "      <td>144425.938277</td>\n",
       "      <td>покупка жилья для семьи</td>\n",
       "    </tr>\n",
       "  </tbody>\n",
       "</table>\n",
       "</div>"
      ],
      "text/plain": [
       "   children  days_employed  dob_years education  education_id  \\\n",
       "0         1   -8437.673028         42    высшее             0   \n",
       "1         1   -4024.803754         36   среднее             1   \n",
       "2         0   -5623.422610         33   Среднее             1   \n",
       "3         3   -4124.747207         32   среднее             1   \n",
       "4         0  340266.072047         53   среднее             1   \n",
       "5         0    -926.185831         27    высшее             0   \n",
       "6         0   -2879.202052         43    высшее             0   \n",
       "7         0    -152.779569         50   СРЕДНЕЕ             1   \n",
       "8         2   -6929.865299         35    ВЫСШЕЕ             0   \n",
       "9         0   -2188.756445         41   среднее             1   \n",
       "\n",
       "      family_status  family_status_id gender income_type  debt   total_income  \\\n",
       "0   женат / замужем                 0      F   сотрудник     0  253875.639453   \n",
       "1   женат / замужем                 0      F   сотрудник     0  112080.014102   \n",
       "2   женат / замужем                 0      M   сотрудник     0  145885.952297   \n",
       "3   женат / замужем                 0      M   сотрудник     0  267628.550329   \n",
       "4  гражданский брак                 1      F   пенсионер     0  158616.077870   \n",
       "5  гражданский брак                 1      M   компаньон     0  255763.565419   \n",
       "6   женат / замужем                 0      F   компаньон     0  240525.971920   \n",
       "7   женат / замужем                 0      M   сотрудник     0  135823.934197   \n",
       "8  гражданский брак                 1      F   сотрудник     0   95856.832424   \n",
       "9   женат / замужем                 0      M   сотрудник     0  144425.938277   \n",
       "\n",
       "                      purpose  \n",
       "0               покупка жилья  \n",
       "1     приобретение автомобиля  \n",
       "2               покупка жилья  \n",
       "3  дополнительное образование  \n",
       "4             сыграть свадьбу  \n",
       "5               покупка жилья  \n",
       "6           операции с жильем  \n",
       "7                 образование  \n",
       "8       на проведение свадьбы  \n",
       "9     покупка жилья для семьи  "
      ]
     },
     "execution_count": 4,
     "metadata": {},
     "output_type": "execute_result"
    }
   ],
   "source": [
    "df.head(10)"
   ]
  },
  {
   "cell_type": "markdown",
   "metadata": {},
   "source": [
    "**Вывод**\n",
    "\n",
    "Таблица содержит 12 колонок и 21 525 строк.\n",
    "<br>В таблице присутсвуют как целочисленные и вешественные, так и строковые данные."
   ]
  },
  {
   "cell_type": "markdown",
   "metadata": {},
   "source": [
    "## 2. Предобработка данных"
   ]
  },
  {
   "cell_type": "markdown",
   "metadata": {},
   "source": [
    "### 2.1. Обработка пропусков"
   ]
  },
  {
   "cell_type": "markdown",
   "metadata": {},
   "source": [
    "Проверим значения строк каждого столбца на возможные проблемы.\n",
    "<br>Начнем с `children`."
   ]
  },
  {
   "cell_type": "code",
   "execution_count": 5,
   "metadata": {},
   "outputs": [
    {
     "data": {
      "text/plain": [
       " 0     14149\n",
       " 1      4818\n",
       " 2      2055\n",
       " 3       330\n",
       " 20       76\n",
       "-1        47\n",
       " 4        41\n",
       " 5         9\n",
       "Name: children, dtype: int64"
      ]
     },
     "execution_count": 5,
     "metadata": {},
     "output_type": "execute_result"
    }
   ],
   "source": [
    "df['children'].value_counts()"
   ]
  },
  {
   "cell_type": "markdown",
   "metadata": {},
   "source": [
    "В столбце children 76 + 47 строк имеют нереалистичное значение. Вероятно, ошибки при ручном заполнении.\n",
    "<br>Скорректируем эти строк убрав \"0\" и \"-\" и проверим корректность этой замены."
   ]
  },
  {
   "cell_type": "code",
   "execution_count": 6,
   "metadata": {
    "scrolled": true
   },
   "outputs": [
    {
     "data": {
      "text/plain": [
       "0    14149\n",
       "1     4865\n",
       "2     2131\n",
       "3      330\n",
       "4       41\n",
       "5        9\n",
       "Name: children, dtype: int64"
      ]
     },
     "execution_count": 6,
     "metadata": {},
     "output_type": "execute_result"
    }
   ],
   "source": [
    "df['children'] = df['children'].replace(20, 2)\n",
    "df['children'] = df['children'].replace(-1, 1)\n",
    "\n",
    "df['children'].value_counts()"
   ]
  },
  {
   "cell_type": "markdown",
   "metadata": {},
   "source": [
    "Проверим значения столбца `days_employed`."
   ]
  },
  {
   "cell_type": "code",
   "execution_count": 7,
   "metadata": {},
   "outputs": [
    {
     "data": {
      "text/plain": [
       "count     19351.000000\n",
       "mean      63046.497661\n",
       "std      140827.311974\n",
       "min      -18388.949901\n",
       "25%       -2747.423625\n",
       "50%       -1203.369529\n",
       "75%        -291.095954\n",
       "max      401755.400475\n",
       "Name: days_employed, dtype: float64"
      ]
     },
     "execution_count": 7,
     "metadata": {},
     "output_type": "execute_result"
    }
   ],
   "source": [
    "df['days_employed'].describe()"
   ]
  },
  {
   "cell_type": "markdown",
   "metadata": {},
   "source": [
    "Явные проблемы, которые будут решены ниже (2.2  Замена типа данных)."
   ]
  },
  {
   "cell_type": "markdown",
   "metadata": {},
   "source": [
    "Проверим значения столбца `dob_years`."
   ]
  },
  {
   "cell_type": "code",
   "execution_count": 8,
   "metadata": {},
   "outputs": [
    {
     "name": "stdout",
     "output_type": "stream",
     "text": [
      "0 75\n"
     ]
    },
    {
     "data": {
      "text/plain": [
       "array([42, 36, 33, 32, 53, 27, 43, 50, 35, 41, 40, 65, 54, 56, 26, 48, 24,\n",
       "       21, 57, 67, 28, 63, 62, 47, 34, 68, 25, 31, 30, 20, 49, 37, 45, 61,\n",
       "       64, 44, 52, 46, 23, 38, 39, 51,  0, 59, 29, 60, 55, 58, 71, 22, 73,\n",
       "       66, 69, 19, 72, 70, 74, 75], dtype=int64)"
      ]
     },
     "execution_count": 8,
     "metadata": {},
     "output_type": "execute_result"
    }
   ],
   "source": [
    "print(df['dob_years'].min(), df['dob_years'].max())\n",
    "df['dob_years'].unique()"
   ]
  },
  {
   "cell_type": "markdown",
   "metadata": {},
   "source": [
    "Значения кажутся корректными, кроме клиентов с возрастом 0.\n",
    "<br>Предположим, что под этими значениями имелся ввиду минимальный возраст заемщика и заменим их на 18 лет."
   ]
  },
  {
   "cell_type": "code",
   "execution_count": 9,
   "metadata": {},
   "outputs": [
    {
     "name": "stdout",
     "output_type": "stream",
     "text": [
      "18 75\n"
     ]
    }
   ],
   "source": [
    "df['dob_years'] = df['dob_years'].replace(0 , 18)\n",
    "print(df['dob_years'].min(), df['dob_years'].max())"
   ]
  },
  {
   "cell_type": "markdown",
   "metadata": {},
   "source": [
    "Проверим значения столбца `education`."
   ]
  },
  {
   "cell_type": "code",
   "execution_count": 10,
   "metadata": {},
   "outputs": [
    {
     "data": {
      "text/plain": [
       "среднее                13750\n",
       "высшее                  4718\n",
       "СРЕДНЕЕ                  772\n",
       "Среднее                  711\n",
       "неоконченное высшее      668\n",
       "ВЫСШЕЕ                   274\n",
       "Высшее                   268\n",
       "начальное                250\n",
       "Неоконченное высшее       47\n",
       "НЕОКОНЧЕННОЕ ВЫСШЕЕ       29\n",
       "НАЧАЛЬНОЕ                 17\n",
       "Начальное                 15\n",
       "ученая степень             4\n",
       "УЧЕНАЯ СТЕПЕНЬ             1\n",
       "Ученая степень             1\n",
       "Name: education, dtype: int64"
      ]
     },
     "execution_count": 10,
     "metadata": {},
     "output_type": "execute_result"
    }
   ],
   "source": [
    "df['education'].value_counts()"
   ]
  },
  {
   "cell_type": "markdown",
   "metadata": {},
   "source": [
    "Привежем все строки столбца `education` к нижнему регистру."
   ]
  },
  {
   "cell_type": "code",
   "execution_count": 11,
   "metadata": {},
   "outputs": [
    {
     "data": {
      "text/plain": [
       "среднее                15233\n",
       "высшее                  5260\n",
       "неоконченное высшее      744\n",
       "начальное                282\n",
       "ученая степень             6\n",
       "Name: education, dtype: int64"
      ]
     },
     "execution_count": 11,
     "metadata": {},
     "output_type": "execute_result"
    }
   ],
   "source": [
    "df['education'] = df['education'].str.lower()\n",
    "df['education'].value_counts()"
   ]
  },
  {
   "cell_type": "markdown",
   "metadata": {},
   "source": [
    "Проверяем значения столбца `education_id`."
   ]
  },
  {
   "cell_type": "code",
   "execution_count": 12,
   "metadata": {},
   "outputs": [
    {
     "data": {
      "text/plain": [
       "1    15233\n",
       "0     5260\n",
       "2      744\n",
       "3      282\n",
       "4        6\n",
       "Name: education_id, dtype: int64"
      ]
     },
     "execution_count": 12,
     "metadata": {},
     "output_type": "execute_result"
    }
   ],
   "source": [
    "df['education_id'].value_counts()\n",
    "\n",
    "# С ним все в порядке - индексация соответсвует столбцу education."
   ]
  },
  {
   "cell_type": "markdown",
   "metadata": {},
   "source": [
    "Проверим значения столбца `family_status`."
   ]
  },
  {
   "cell_type": "code",
   "execution_count": 13,
   "metadata": {},
   "outputs": [
    {
     "data": {
      "text/plain": [
       "женат / замужем          12380\n",
       "гражданский брак          4177\n",
       "Не женат / не замужем     2813\n",
       "в разводе                 1195\n",
       "вдовец / вдова             960\n",
       "Name: family_status, dtype: int64"
      ]
     },
     "execution_count": 13,
     "metadata": {},
     "output_type": "execute_result"
    }
   ],
   "source": [
    "df['family_status'].value_counts()"
   ]
  },
  {
   "cell_type": "markdown",
   "metadata": {},
   "source": [
    "Ошибок нет, но стоит привести значения к нижнему регситру."
   ]
  },
  {
   "cell_type": "code",
   "execution_count": 14,
   "metadata": {},
   "outputs": [
    {
     "data": {
      "text/plain": [
       "женат / замужем          12380\n",
       "гражданский брак          4177\n",
       "не женат / не замужем     2813\n",
       "в разводе                 1195\n",
       "вдовец / вдова             960\n",
       "Name: family_status, dtype: int64"
      ]
     },
     "execution_count": 14,
     "metadata": {},
     "output_type": "execute_result"
    }
   ],
   "source": [
    "df['family_status'] = df['family_status'].str.lower()\n",
    "df['family_status'].value_counts()"
   ]
  },
  {
   "cell_type": "markdown",
   "metadata": {},
   "source": [
    "Проверяем значения столбца `family_status_id`."
   ]
  },
  {
   "cell_type": "code",
   "execution_count": 15,
   "metadata": {},
   "outputs": [
    {
     "data": {
      "text/plain": [
       "0    12380\n",
       "1     4177\n",
       "4     2813\n",
       "3     1195\n",
       "2      960\n",
       "Name: family_status_id, dtype: int64"
      ]
     },
     "execution_count": 15,
     "metadata": {},
     "output_type": "execute_result"
    }
   ],
   "source": [
    "df['family_status_id'].value_counts()"
   ]
  },
  {
   "cell_type": "markdown",
   "metadata": {},
   "source": [
    "С ним все в порядке - индексация соответсвует столбцу `family_status`."
   ]
  },
  {
   "cell_type": "markdown",
   "metadata": {},
   "source": [
    "Проверим значения столбца `gender`."
   ]
  },
  {
   "cell_type": "code",
   "execution_count": 16,
   "metadata": {},
   "outputs": [
    {
     "data": {
      "text/plain": [
       "F      14236\n",
       "M       7288\n",
       "XNA        1\n",
       "Name: gender, dtype: int64"
      ]
     },
     "execution_count": 16,
     "metadata": {},
     "output_type": "execute_result"
    }
   ],
   "source": [
    "df['gender'].value_counts()"
   ]
  },
  {
   "cell_type": "markdown",
   "metadata": {},
   "source": [
    "Заменим значение `XNA` на `M`, это не изменит статистику, но придаст данным однородность в анализе.\n",
    "<br>А также приведем все к нижнему регистру."
   ]
  },
  {
   "cell_type": "code",
   "execution_count": 17,
   "metadata": {},
   "outputs": [
    {
     "data": {
      "text/plain": [
       "f    14236\n",
       "m     7289\n",
       "Name: gender, dtype: int64"
      ]
     },
     "execution_count": 17,
     "metadata": {},
     "output_type": "execute_result"
    }
   ],
   "source": [
    "df['gender'] = df['gender'].replace('XNA', 'M')\n",
    "df['gender'] = df['gender'].str.lower()\n",
    "df['gender'].value_counts()"
   ]
  },
  {
   "cell_type": "markdown",
   "metadata": {},
   "source": [
    "Проверяем значения столбца `income_type`."
   ]
  },
  {
   "cell_type": "code",
   "execution_count": 18,
   "metadata": {},
   "outputs": [
    {
     "data": {
      "text/plain": [
       "сотрудник          11119\n",
       "компаньон           5085\n",
       "пенсионер           3856\n",
       "госслужащий         1459\n",
       "предприниматель        2\n",
       "безработный            2\n",
       "студент                1\n",
       "в декрете              1\n",
       "Name: income_type, dtype: int64"
      ]
     },
     "execution_count": 18,
     "metadata": {},
     "output_type": "execute_result"
    }
   ],
   "source": [
    "df['income_type'].value_counts()"
   ]
  },
  {
   "cell_type": "markdown",
   "metadata": {},
   "source": [
    "С ним все в порядке."
   ]
  },
  {
   "cell_type": "markdown",
   "metadata": {},
   "source": [
    "Проверим значения столбца `debt`."
   ]
  },
  {
   "cell_type": "code",
   "execution_count": 19,
   "metadata": {},
   "outputs": [
    {
     "data": {
      "text/plain": [
       "0    19784\n",
       "1     1741\n",
       "Name: debt, dtype: int64"
      ]
     },
     "execution_count": 19,
     "metadata": {},
     "output_type": "execute_result"
    }
   ],
   "source": [
    "df['debt'].value_counts()"
   ]
  },
  {
   "cell_type": "markdown",
   "metadata": {},
   "source": [
    "С ним все в порядке."
   ]
  },
  {
   "cell_type": "markdown",
   "metadata": {},
   "source": [
    "Проверим значения столбца `total_income`."
   ]
  },
  {
   "cell_type": "code",
   "execution_count": 20,
   "metadata": {},
   "outputs": [
    {
     "data": {
      "text/plain": [
       "112874.418757    1\n",
       "122421.963500    1\n",
       "109113.601678    1\n",
       "164320.213254    1\n",
       "91053.547017     1\n",
       "                ..\n",
       "66950.657779     1\n",
       "108775.641128    1\n",
       "225081.030374    1\n",
       "71919.479823     1\n",
       "150014.128510    1\n",
       "Name: total_income, Length: 19351, dtype: int64"
      ]
     },
     "execution_count": 20,
     "metadata": {},
     "output_type": "execute_result"
    }
   ],
   "source": [
    "df['total_income'].value_counts(ascending=False)"
   ]
  },
  {
   "cell_type": "markdown",
   "metadata": {},
   "source": [
    "С ним все в порядке."
   ]
  },
  {
   "cell_type": "code",
   "execution_count": 21,
   "metadata": {},
   "outputs": [
    {
     "data": {
      "text/plain": [
       "children               0\n",
       "days_employed       2174\n",
       "dob_years              0\n",
       "education              0\n",
       "education_id           0\n",
       "family_status          0\n",
       "family_status_id       0\n",
       "gender                 0\n",
       "income_type            0\n",
       "debt                   0\n",
       "total_income        2174\n",
       "purpose                0\n",
       "dtype: int64"
      ]
     },
     "execution_count": 21,
     "metadata": {},
     "output_type": "execute_result"
    }
   ],
   "source": [
    "df.isna().sum()"
   ]
  },
  {
   "cell_type": "markdown",
   "metadata": {},
   "source": [
    "Следующие колонки содержат строки с пропущенными значениями: days_employed, total_income.\n",
    "<br>В контексте данного кейса, эти пропуски принадлежат безработным (например, особенности информационной системы отмечать безработных таким образом)."
   ]
  },
  {
   "cell_type": "markdown",
   "metadata": {},
   "source": [
    "### 2.2. Замена типа данных"
   ]
  },
  {
   "cell_type": "markdown",
   "metadata": {},
   "source": [
    "Заполним отсутсвующие данные медианными значениями."
   ]
  },
  {
   "cell_type": "code",
   "execution_count": 22,
   "metadata": {},
   "outputs": [
    {
     "data": {
      "text/html": [
       "<div>\n",
       "<style scoped>\n",
       "    .dataframe tbody tr th:only-of-type {\n",
       "        vertical-align: middle;\n",
       "    }\n",
       "\n",
       "    .dataframe tbody tr th {\n",
       "        vertical-align: top;\n",
       "    }\n",
       "\n",
       "    .dataframe thead th {\n",
       "        text-align: right;\n",
       "    }\n",
       "</style>\n",
       "<table border=\"1\" class=\"dataframe\">\n",
       "  <thead>\n",
       "    <tr style=\"text-align: right;\">\n",
       "      <th></th>\n",
       "      <th>children</th>\n",
       "      <th>days_employed</th>\n",
       "      <th>dob_years</th>\n",
       "      <th>education</th>\n",
       "      <th>education_id</th>\n",
       "      <th>family_status</th>\n",
       "      <th>family_status_id</th>\n",
       "      <th>gender</th>\n",
       "      <th>income_type</th>\n",
       "      <th>debt</th>\n",
       "      <th>total_income</th>\n",
       "      <th>purpose</th>\n",
       "    </tr>\n",
       "  </thead>\n",
       "  <tbody>\n",
       "    <tr>\n",
       "      <th>0</th>\n",
       "      <td>1</td>\n",
       "      <td>8437.673028</td>\n",
       "      <td>42</td>\n",
       "      <td>высшее</td>\n",
       "      <td>0</td>\n",
       "      <td>женат / замужем</td>\n",
       "      <td>0</td>\n",
       "      <td>f</td>\n",
       "      <td>сотрудник</td>\n",
       "      <td>0</td>\n",
       "      <td>253876</td>\n",
       "      <td>покупка жилья</td>\n",
       "    </tr>\n",
       "    <tr>\n",
       "      <th>1</th>\n",
       "      <td>1</td>\n",
       "      <td>4024.803754</td>\n",
       "      <td>36</td>\n",
       "      <td>среднее</td>\n",
       "      <td>1</td>\n",
       "      <td>женат / замужем</td>\n",
       "      <td>0</td>\n",
       "      <td>f</td>\n",
       "      <td>сотрудник</td>\n",
       "      <td>0</td>\n",
       "      <td>112080</td>\n",
       "      <td>приобретение автомобиля</td>\n",
       "    </tr>\n",
       "    <tr>\n",
       "      <th>2</th>\n",
       "      <td>0</td>\n",
       "      <td>5623.422610</td>\n",
       "      <td>33</td>\n",
       "      <td>среднее</td>\n",
       "      <td>1</td>\n",
       "      <td>женат / замужем</td>\n",
       "      <td>0</td>\n",
       "      <td>m</td>\n",
       "      <td>сотрудник</td>\n",
       "      <td>0</td>\n",
       "      <td>145886</td>\n",
       "      <td>покупка жилья</td>\n",
       "    </tr>\n",
       "    <tr>\n",
       "      <th>3</th>\n",
       "      <td>3</td>\n",
       "      <td>4124.747207</td>\n",
       "      <td>32</td>\n",
       "      <td>среднее</td>\n",
       "      <td>1</td>\n",
       "      <td>женат / замужем</td>\n",
       "      <td>0</td>\n",
       "      <td>m</td>\n",
       "      <td>сотрудник</td>\n",
       "      <td>0</td>\n",
       "      <td>267629</td>\n",
       "      <td>дополнительное образование</td>\n",
       "    </tr>\n",
       "    <tr>\n",
       "      <th>4</th>\n",
       "      <td>0</td>\n",
       "      <td>340266.000000</td>\n",
       "      <td>53</td>\n",
       "      <td>среднее</td>\n",
       "      <td>1</td>\n",
       "      <td>гражданский брак</td>\n",
       "      <td>1</td>\n",
       "      <td>f</td>\n",
       "      <td>пенсионер</td>\n",
       "      <td>0</td>\n",
       "      <td>158616</td>\n",
       "      <td>сыграть свадьбу</td>\n",
       "    </tr>\n",
       "    <tr>\n",
       "      <th>5</th>\n",
       "      <td>0</td>\n",
       "      <td>926.185831</td>\n",
       "      <td>27</td>\n",
       "      <td>высшее</td>\n",
       "      <td>0</td>\n",
       "      <td>гражданский брак</td>\n",
       "      <td>1</td>\n",
       "      <td>m</td>\n",
       "      <td>компаньон</td>\n",
       "      <td>0</td>\n",
       "      <td>255764</td>\n",
       "      <td>покупка жилья</td>\n",
       "    </tr>\n",
       "    <tr>\n",
       "      <th>6</th>\n",
       "      <td>0</td>\n",
       "      <td>2879.202052</td>\n",
       "      <td>43</td>\n",
       "      <td>высшее</td>\n",
       "      <td>0</td>\n",
       "      <td>женат / замужем</td>\n",
       "      <td>0</td>\n",
       "      <td>f</td>\n",
       "      <td>компаньон</td>\n",
       "      <td>0</td>\n",
       "      <td>240526</td>\n",
       "      <td>операции с жильем</td>\n",
       "    </tr>\n",
       "    <tr>\n",
       "      <th>7</th>\n",
       "      <td>0</td>\n",
       "      <td>152.779569</td>\n",
       "      <td>50</td>\n",
       "      <td>среднее</td>\n",
       "      <td>1</td>\n",
       "      <td>женат / замужем</td>\n",
       "      <td>0</td>\n",
       "      <td>m</td>\n",
       "      <td>сотрудник</td>\n",
       "      <td>0</td>\n",
       "      <td>135824</td>\n",
       "      <td>образование</td>\n",
       "    </tr>\n",
       "    <tr>\n",
       "      <th>8</th>\n",
       "      <td>2</td>\n",
       "      <td>6929.865299</td>\n",
       "      <td>35</td>\n",
       "      <td>высшее</td>\n",
       "      <td>0</td>\n",
       "      <td>гражданский брак</td>\n",
       "      <td>1</td>\n",
       "      <td>f</td>\n",
       "      <td>сотрудник</td>\n",
       "      <td>0</td>\n",
       "      <td>95857</td>\n",
       "      <td>на проведение свадьбы</td>\n",
       "    </tr>\n",
       "    <tr>\n",
       "      <th>9</th>\n",
       "      <td>0</td>\n",
       "      <td>2188.756445</td>\n",
       "      <td>41</td>\n",
       "      <td>среднее</td>\n",
       "      <td>1</td>\n",
       "      <td>женат / замужем</td>\n",
       "      <td>0</td>\n",
       "      <td>m</td>\n",
       "      <td>сотрудник</td>\n",
       "      <td>0</td>\n",
       "      <td>144426</td>\n",
       "      <td>покупка жилья для семьи</td>\n",
       "    </tr>\n",
       "  </tbody>\n",
       "</table>\n",
       "</div>"
      ],
      "text/plain": [
       "   children  days_employed  dob_years education  education_id  \\\n",
       "0         1    8437.673028         42    высшее             0   \n",
       "1         1    4024.803754         36   среднее             1   \n",
       "2         0    5623.422610         33   среднее             1   \n",
       "3         3    4124.747207         32   среднее             1   \n",
       "4         0  340266.000000         53   среднее             1   \n",
       "5         0     926.185831         27    высшее             0   \n",
       "6         0    2879.202052         43    высшее             0   \n",
       "7         0     152.779569         50   среднее             1   \n",
       "8         2    6929.865299         35    высшее             0   \n",
       "9         0    2188.756445         41   среднее             1   \n",
       "\n",
       "      family_status  family_status_id gender income_type  debt  total_income  \\\n",
       "0   женат / замужем                 0      f   сотрудник     0        253876   \n",
       "1   женат / замужем                 0      f   сотрудник     0        112080   \n",
       "2   женат / замужем                 0      m   сотрудник     0        145886   \n",
       "3   женат / замужем                 0      m   сотрудник     0        267629   \n",
       "4  гражданский брак                 1      f   пенсионер     0        158616   \n",
       "5  гражданский брак                 1      m   компаньон     0        255764   \n",
       "6   женат / замужем                 0      f   компаньон     0        240526   \n",
       "7   женат / замужем                 0      m   сотрудник     0        135824   \n",
       "8  гражданский брак                 1      f   сотрудник     0         95857   \n",
       "9   женат / замужем                 0      m   сотрудник     0        144426   \n",
       "\n",
       "                      purpose  \n",
       "0               покупка жилья  \n",
       "1     приобретение автомобиля  \n",
       "2               покупка жилья  \n",
       "3  дополнительное образование  \n",
       "4             сыграть свадьбу  \n",
       "5               покупка жилья  \n",
       "6           операции с жильем  \n",
       "7                 образование  \n",
       "8       на проведение свадьбы  \n",
       "9     покупка жилья для семьи  "
      ]
     },
     "execution_count": 22,
     "metadata": {},
     "output_type": "execute_result"
    }
   ],
   "source": [
    "df['days_employed'] = df['days_employed'].fillna(df['days_employed'].median())\n",
    "df['total_income'] = df['total_income'].fillna(df['total_income'].median())\n",
    "\n",
    "\n",
    "# Предположим, что отрицательные значения на самом деле должны быть положительными.\n",
    "# Прогоним по строкам функцию, домножающую на -1 отрицатлеьные значения и округляющую вещественные значения.\n",
    "\n",
    "def to_positive_number(row):\n",
    "    if row < 0:\n",
    "        return row*(-1)\n",
    "    else:\n",
    "        return round(row)\n",
    "    row = row.astype('int')\n",
    "\n",
    "# Применяем функцию к каждой строке необходимых столбцов.\n",
    "\n",
    "df['days_employed'] = df['days_employed'].apply(to_positive_number)\n",
    "df['total_income'] = df['total_income'].apply(to_positive_number)\n",
    "\n",
    "df.head(10)"
   ]
  },
  {
   "cell_type": "code",
   "execution_count": 23,
   "metadata": {},
   "outputs": [
    {
     "data": {
      "text/plain": [
       "count     21525.000000\n",
       "mean      60277.957434\n",
       "std      133301.582080\n",
       "min          24.141633\n",
       "25%        1025.608174\n",
       "50%        1808.053434\n",
       "75%        4779.587738\n",
       "max      401755.000000\n",
       "Name: days_employed, dtype: float64"
      ]
     },
     "execution_count": 23,
     "metadata": {},
     "output_type": "execute_result"
    }
   ],
   "source": [
    "df['days_employed'].describe()"
   ]
  },
  {
   "cell_type": "markdown",
   "metadata": {},
   "source": [
    "Значения по-прежнему выглядят неправдоподобно. Найдем максимальное значение `days_employed`, приведенное к годам."
   ]
  },
  {
   "cell_type": "code",
   "execution_count": 24,
   "metadata": {},
   "outputs": [
    {
     "data": {
      "text/plain": [
       "1100.6986301369864"
      ]
     },
     "execution_count": 24,
     "metadata": {},
     "output_type": "execute_result"
    }
   ],
   "source": [
    "df['days_employed'].max() / 365"
   ]
  },
  {
   "cell_type": "markdown",
   "metadata": {},
   "source": [
    "1100 лет - неправдоподобное значение, так как максимально возможное число трудовых лет - 50 (трудовой возрас в РФ находится в диапазоне от 16 до 65).\n",
    "<br>Опрделим, как много значений более 65 лет в датасете."
   ]
  },
  {
   "cell_type": "code",
   "execution_count": 25,
   "metadata": {},
   "outputs": [
    {
     "data": {
      "text/plain": [
       "3445"
      ]
     },
     "execution_count": 25,
     "metadata": {},
     "output_type": "execute_result"
    }
   ],
   "source": [
    "df.loc[(df['days_employed'] / 365 > 65) == True]['days_employed'].count()"
   ]
  },
  {
   "cell_type": "markdown",
   "metadata": {},
   "source": [
    "Таких значений 3445. Заменим их на максимальное число лет трудового стажа - 65 и добавим столбец years_employed."
   ]
  },
  {
   "cell_type": "code",
   "execution_count": 26,
   "metadata": {},
   "outputs": [
    {
     "data": {
      "text/html": [
       "<div>\n",
       "<style scoped>\n",
       "    .dataframe tbody tr th:only-of-type {\n",
       "        vertical-align: middle;\n",
       "    }\n",
       "\n",
       "    .dataframe tbody tr th {\n",
       "        vertical-align: top;\n",
       "    }\n",
       "\n",
       "    .dataframe thead th {\n",
       "        text-align: right;\n",
       "    }\n",
       "</style>\n",
       "<table border=\"1\" class=\"dataframe\">\n",
       "  <thead>\n",
       "    <tr style=\"text-align: right;\">\n",
       "      <th></th>\n",
       "      <th>children</th>\n",
       "      <th>days_employed</th>\n",
       "      <th>dob_years</th>\n",
       "      <th>education</th>\n",
       "      <th>education_id</th>\n",
       "      <th>family_status</th>\n",
       "      <th>family_status_id</th>\n",
       "      <th>gender</th>\n",
       "      <th>income_type</th>\n",
       "      <th>debt</th>\n",
       "      <th>total_income</th>\n",
       "      <th>purpose</th>\n",
       "      <th>years_employed</th>\n",
       "    </tr>\n",
       "  </thead>\n",
       "  <tbody>\n",
       "    <tr>\n",
       "      <th>0</th>\n",
       "      <td>1</td>\n",
       "      <td>8437.673028</td>\n",
       "      <td>42</td>\n",
       "      <td>высшее</td>\n",
       "      <td>0</td>\n",
       "      <td>женат / замужем</td>\n",
       "      <td>0</td>\n",
       "      <td>f</td>\n",
       "      <td>сотрудник</td>\n",
       "      <td>0</td>\n",
       "      <td>253876</td>\n",
       "      <td>покупка жилья</td>\n",
       "      <td>23</td>\n",
       "    </tr>\n",
       "    <tr>\n",
       "      <th>1</th>\n",
       "      <td>1</td>\n",
       "      <td>4024.803754</td>\n",
       "      <td>36</td>\n",
       "      <td>среднее</td>\n",
       "      <td>1</td>\n",
       "      <td>женат / замужем</td>\n",
       "      <td>0</td>\n",
       "      <td>f</td>\n",
       "      <td>сотрудник</td>\n",
       "      <td>0</td>\n",
       "      <td>112080</td>\n",
       "      <td>приобретение автомобиля</td>\n",
       "      <td>11</td>\n",
       "    </tr>\n",
       "    <tr>\n",
       "      <th>2</th>\n",
       "      <td>0</td>\n",
       "      <td>5623.422610</td>\n",
       "      <td>33</td>\n",
       "      <td>среднее</td>\n",
       "      <td>1</td>\n",
       "      <td>женат / замужем</td>\n",
       "      <td>0</td>\n",
       "      <td>m</td>\n",
       "      <td>сотрудник</td>\n",
       "      <td>0</td>\n",
       "      <td>145886</td>\n",
       "      <td>покупка жилья</td>\n",
       "      <td>15</td>\n",
       "    </tr>\n",
       "    <tr>\n",
       "      <th>3</th>\n",
       "      <td>3</td>\n",
       "      <td>4124.747207</td>\n",
       "      <td>32</td>\n",
       "      <td>среднее</td>\n",
       "      <td>1</td>\n",
       "      <td>женат / замужем</td>\n",
       "      <td>0</td>\n",
       "      <td>m</td>\n",
       "      <td>сотрудник</td>\n",
       "      <td>0</td>\n",
       "      <td>267629</td>\n",
       "      <td>дополнительное образование</td>\n",
       "      <td>11</td>\n",
       "    </tr>\n",
       "    <tr>\n",
       "      <th>4</th>\n",
       "      <td>0</td>\n",
       "      <td>340266.000000</td>\n",
       "      <td>53</td>\n",
       "      <td>среднее</td>\n",
       "      <td>1</td>\n",
       "      <td>гражданский брак</td>\n",
       "      <td>1</td>\n",
       "      <td>f</td>\n",
       "      <td>пенсионер</td>\n",
       "      <td>0</td>\n",
       "      <td>158616</td>\n",
       "      <td>сыграть свадьбу</td>\n",
       "      <td>65</td>\n",
       "    </tr>\n",
       "    <tr>\n",
       "      <th>5</th>\n",
       "      <td>0</td>\n",
       "      <td>926.185831</td>\n",
       "      <td>27</td>\n",
       "      <td>высшее</td>\n",
       "      <td>0</td>\n",
       "      <td>гражданский брак</td>\n",
       "      <td>1</td>\n",
       "      <td>m</td>\n",
       "      <td>компаньон</td>\n",
       "      <td>0</td>\n",
       "      <td>255764</td>\n",
       "      <td>покупка жилья</td>\n",
       "      <td>2</td>\n",
       "    </tr>\n",
       "    <tr>\n",
       "      <th>6</th>\n",
       "      <td>0</td>\n",
       "      <td>2879.202052</td>\n",
       "      <td>43</td>\n",
       "      <td>высшее</td>\n",
       "      <td>0</td>\n",
       "      <td>женат / замужем</td>\n",
       "      <td>0</td>\n",
       "      <td>f</td>\n",
       "      <td>компаньон</td>\n",
       "      <td>0</td>\n",
       "      <td>240526</td>\n",
       "      <td>операции с жильем</td>\n",
       "      <td>7</td>\n",
       "    </tr>\n",
       "    <tr>\n",
       "      <th>7</th>\n",
       "      <td>0</td>\n",
       "      <td>152.779569</td>\n",
       "      <td>50</td>\n",
       "      <td>среднее</td>\n",
       "      <td>1</td>\n",
       "      <td>женат / замужем</td>\n",
       "      <td>0</td>\n",
       "      <td>m</td>\n",
       "      <td>сотрудник</td>\n",
       "      <td>0</td>\n",
       "      <td>135824</td>\n",
       "      <td>образование</td>\n",
       "      <td>0</td>\n",
       "    </tr>\n",
       "    <tr>\n",
       "      <th>8</th>\n",
       "      <td>2</td>\n",
       "      <td>6929.865299</td>\n",
       "      <td>35</td>\n",
       "      <td>высшее</td>\n",
       "      <td>0</td>\n",
       "      <td>гражданский брак</td>\n",
       "      <td>1</td>\n",
       "      <td>f</td>\n",
       "      <td>сотрудник</td>\n",
       "      <td>0</td>\n",
       "      <td>95857</td>\n",
       "      <td>на проведение свадьбы</td>\n",
       "      <td>18</td>\n",
       "    </tr>\n",
       "    <tr>\n",
       "      <th>9</th>\n",
       "      <td>0</td>\n",
       "      <td>2188.756445</td>\n",
       "      <td>41</td>\n",
       "      <td>среднее</td>\n",
       "      <td>1</td>\n",
       "      <td>женат / замужем</td>\n",
       "      <td>0</td>\n",
       "      <td>m</td>\n",
       "      <td>сотрудник</td>\n",
       "      <td>0</td>\n",
       "      <td>144426</td>\n",
       "      <td>покупка жилья для семьи</td>\n",
       "      <td>5</td>\n",
       "    </tr>\n",
       "    <tr>\n",
       "      <th>10</th>\n",
       "      <td>2</td>\n",
       "      <td>4171.483647</td>\n",
       "      <td>36</td>\n",
       "      <td>высшее</td>\n",
       "      <td>0</td>\n",
       "      <td>женат / замужем</td>\n",
       "      <td>0</td>\n",
       "      <td>m</td>\n",
       "      <td>компаньон</td>\n",
       "      <td>0</td>\n",
       "      <td>113943</td>\n",
       "      <td>покупка недвижимости</td>\n",
       "      <td>11</td>\n",
       "    </tr>\n",
       "    <tr>\n",
       "      <th>11</th>\n",
       "      <td>0</td>\n",
       "      <td>792.701887</td>\n",
       "      <td>40</td>\n",
       "      <td>среднее</td>\n",
       "      <td>1</td>\n",
       "      <td>женат / замужем</td>\n",
       "      <td>0</td>\n",
       "      <td>f</td>\n",
       "      <td>сотрудник</td>\n",
       "      <td>0</td>\n",
       "      <td>77069</td>\n",
       "      <td>покупка коммерческой недвижимости</td>\n",
       "      <td>2</td>\n",
       "    </tr>\n",
       "    <tr>\n",
       "      <th>12</th>\n",
       "      <td>0</td>\n",
       "      <td>1203.369529</td>\n",
       "      <td>65</td>\n",
       "      <td>среднее</td>\n",
       "      <td>1</td>\n",
       "      <td>гражданский брак</td>\n",
       "      <td>1</td>\n",
       "      <td>m</td>\n",
       "      <td>пенсионер</td>\n",
       "      <td>0</td>\n",
       "      <td>145018</td>\n",
       "      <td>сыграть свадьбу</td>\n",
       "      <td>3</td>\n",
       "    </tr>\n",
       "    <tr>\n",
       "      <th>13</th>\n",
       "      <td>0</td>\n",
       "      <td>1846.641941</td>\n",
       "      <td>54</td>\n",
       "      <td>неоконченное высшее</td>\n",
       "      <td>2</td>\n",
       "      <td>женат / замужем</td>\n",
       "      <td>0</td>\n",
       "      <td>f</td>\n",
       "      <td>сотрудник</td>\n",
       "      <td>0</td>\n",
       "      <td>130458</td>\n",
       "      <td>приобретение автомобиля</td>\n",
       "      <td>5</td>\n",
       "    </tr>\n",
       "    <tr>\n",
       "      <th>14</th>\n",
       "      <td>0</td>\n",
       "      <td>1844.956182</td>\n",
       "      <td>56</td>\n",
       "      <td>высшее</td>\n",
       "      <td>0</td>\n",
       "      <td>гражданский брак</td>\n",
       "      <td>1</td>\n",
       "      <td>f</td>\n",
       "      <td>компаньон</td>\n",
       "      <td>1</td>\n",
       "      <td>165128</td>\n",
       "      <td>покупка жилой недвижимости</td>\n",
       "      <td>5</td>\n",
       "    </tr>\n",
       "    <tr>\n",
       "      <th>15</th>\n",
       "      <td>1</td>\n",
       "      <td>972.364419</td>\n",
       "      <td>26</td>\n",
       "      <td>среднее</td>\n",
       "      <td>1</td>\n",
       "      <td>женат / замужем</td>\n",
       "      <td>0</td>\n",
       "      <td>f</td>\n",
       "      <td>сотрудник</td>\n",
       "      <td>0</td>\n",
       "      <td>116821</td>\n",
       "      <td>строительство собственной недвижимости</td>\n",
       "      <td>2</td>\n",
       "    </tr>\n",
       "    <tr>\n",
       "      <th>16</th>\n",
       "      <td>0</td>\n",
       "      <td>1719.934226</td>\n",
       "      <td>35</td>\n",
       "      <td>среднее</td>\n",
       "      <td>1</td>\n",
       "      <td>женат / замужем</td>\n",
       "      <td>0</td>\n",
       "      <td>f</td>\n",
       "      <td>сотрудник</td>\n",
       "      <td>0</td>\n",
       "      <td>289203</td>\n",
       "      <td>недвижимость</td>\n",
       "      <td>4</td>\n",
       "    </tr>\n",
       "    <tr>\n",
       "      <th>17</th>\n",
       "      <td>0</td>\n",
       "      <td>2369.999720</td>\n",
       "      <td>33</td>\n",
       "      <td>высшее</td>\n",
       "      <td>0</td>\n",
       "      <td>гражданский брак</td>\n",
       "      <td>1</td>\n",
       "      <td>m</td>\n",
       "      <td>сотрудник</td>\n",
       "      <td>0</td>\n",
       "      <td>90411</td>\n",
       "      <td>строительство недвижимости</td>\n",
       "      <td>6</td>\n",
       "    </tr>\n",
       "    <tr>\n",
       "      <th>18</th>\n",
       "      <td>0</td>\n",
       "      <td>400281.000000</td>\n",
       "      <td>53</td>\n",
       "      <td>среднее</td>\n",
       "      <td>1</td>\n",
       "      <td>вдовец / вдова</td>\n",
       "      <td>2</td>\n",
       "      <td>f</td>\n",
       "      <td>пенсионер</td>\n",
       "      <td>0</td>\n",
       "      <td>56824</td>\n",
       "      <td>на покупку подержанного автомобиля</td>\n",
       "      <td>65</td>\n",
       "    </tr>\n",
       "    <tr>\n",
       "      <th>19</th>\n",
       "      <td>0</td>\n",
       "      <td>10038.818549</td>\n",
       "      <td>48</td>\n",
       "      <td>среднее</td>\n",
       "      <td>1</td>\n",
       "      <td>в разводе</td>\n",
       "      <td>3</td>\n",
       "      <td>f</td>\n",
       "      <td>сотрудник</td>\n",
       "      <td>0</td>\n",
       "      <td>242831</td>\n",
       "      <td>на покупку своего автомобиля</td>\n",
       "      <td>27</td>\n",
       "    </tr>\n",
       "  </tbody>\n",
       "</table>\n",
       "</div>"
      ],
      "text/plain": [
       "    children  days_employed  dob_years            education  education_id  \\\n",
       "0          1    8437.673028         42               высшее             0   \n",
       "1          1    4024.803754         36              среднее             1   \n",
       "2          0    5623.422610         33              среднее             1   \n",
       "3          3    4124.747207         32              среднее             1   \n",
       "4          0  340266.000000         53              среднее             1   \n",
       "5          0     926.185831         27               высшее             0   \n",
       "6          0    2879.202052         43               высшее             0   \n",
       "7          0     152.779569         50              среднее             1   \n",
       "8          2    6929.865299         35               высшее             0   \n",
       "9          0    2188.756445         41              среднее             1   \n",
       "10         2    4171.483647         36               высшее             0   \n",
       "11         0     792.701887         40              среднее             1   \n",
       "12         0    1203.369529         65              среднее             1   \n",
       "13         0    1846.641941         54  неоконченное высшее             2   \n",
       "14         0    1844.956182         56               высшее             0   \n",
       "15         1     972.364419         26              среднее             1   \n",
       "16         0    1719.934226         35              среднее             1   \n",
       "17         0    2369.999720         33               высшее             0   \n",
       "18         0  400281.000000         53              среднее             1   \n",
       "19         0   10038.818549         48              среднее             1   \n",
       "\n",
       "       family_status  family_status_id gender income_type  debt  total_income  \\\n",
       "0    женат / замужем                 0      f   сотрудник     0        253876   \n",
       "1    женат / замужем                 0      f   сотрудник     0        112080   \n",
       "2    женат / замужем                 0      m   сотрудник     0        145886   \n",
       "3    женат / замужем                 0      m   сотрудник     0        267629   \n",
       "4   гражданский брак                 1      f   пенсионер     0        158616   \n",
       "5   гражданский брак                 1      m   компаньон     0        255764   \n",
       "6    женат / замужем                 0      f   компаньон     0        240526   \n",
       "7    женат / замужем                 0      m   сотрудник     0        135824   \n",
       "8   гражданский брак                 1      f   сотрудник     0         95857   \n",
       "9    женат / замужем                 0      m   сотрудник     0        144426   \n",
       "10   женат / замужем                 0      m   компаньон     0        113943   \n",
       "11   женат / замужем                 0      f   сотрудник     0         77069   \n",
       "12  гражданский брак                 1      m   пенсионер     0        145018   \n",
       "13   женат / замужем                 0      f   сотрудник     0        130458   \n",
       "14  гражданский брак                 1      f   компаньон     1        165128   \n",
       "15   женат / замужем                 0      f   сотрудник     0        116821   \n",
       "16   женат / замужем                 0      f   сотрудник     0        289203   \n",
       "17  гражданский брак                 1      m   сотрудник     0         90411   \n",
       "18    вдовец / вдова                 2      f   пенсионер     0         56824   \n",
       "19         в разводе                 3      f   сотрудник     0        242831   \n",
       "\n",
       "                                   purpose  years_employed  \n",
       "0                            покупка жилья              23  \n",
       "1                  приобретение автомобиля              11  \n",
       "2                            покупка жилья              15  \n",
       "3               дополнительное образование              11  \n",
       "4                          сыграть свадьбу              65  \n",
       "5                            покупка жилья               2  \n",
       "6                        операции с жильем               7  \n",
       "7                              образование               0  \n",
       "8                    на проведение свадьбы              18  \n",
       "9                  покупка жилья для семьи               5  \n",
       "10                    покупка недвижимости              11  \n",
       "11       покупка коммерческой недвижимости               2  \n",
       "12                         сыграть свадьбу               3  \n",
       "13                 приобретение автомобиля               5  \n",
       "14              покупка жилой недвижимости               5  \n",
       "15  строительство собственной недвижимости               2  \n",
       "16                            недвижимость               4  \n",
       "17              строительство недвижимости               6  \n",
       "18      на покупку подержанного автомобиля              65  \n",
       "19            на покупку своего автомобиля              27  "
      ]
     },
     "execution_count": 26,
     "metadata": {},
     "output_type": "execute_result"
    }
   ],
   "source": [
    "def days_to_years(value):\n",
    "        if value / 365 > 65:\n",
    "            return int(65)\n",
    "        elif value / 365 <= 0:\n",
    "            return int(1)\n",
    "        else:\n",
    "            return int(value / 365)\n",
    "        \n",
    "df['years_employed'] = df['days_employed'].apply(days_to_years)\n",
    "\n",
    "df.head(20)"
   ]
  },
  {
   "cell_type": "code",
   "execution_count": 27,
   "metadata": {},
   "outputs": [
    {
     "data": {
      "text/plain": [
       "3     3734\n",
       "65    3445\n",
       "1     2023\n",
       "2     1878\n",
       "0     1827\n",
       "4     1350\n",
       "5     1024\n",
       "6      965\n",
       "7      810\n",
       "8      748\n",
       "9      572\n",
       "10     455\n",
       "11     379\n",
       "12     345\n",
       "13     284\n",
       "14     251\n",
       "15     205\n",
       "16     134\n",
       "19     124\n",
       "17     117\n",
       "18      98\n",
       "20      90\n",
       "21      88\n",
       "22      81\n",
       "23      65\n",
       "24      53\n",
       "25      51\n",
       "26      50\n",
       "27      46\n",
       "30      34\n",
       "29      30\n",
       "32      28\n",
       "31      27\n",
       "28      25\n",
       "33      17\n",
       "34      12\n",
       "35      12\n",
       "36      10\n",
       "37       8\n",
       "38       7\n",
       "39       6\n",
       "40       4\n",
       "41       3\n",
       "43       3\n",
       "44       2\n",
       "42       2\n",
       "50       1\n",
       "48       1\n",
       "45       1\n",
       "Name: years_employed, dtype: int64"
      ]
     },
     "execution_count": 27,
     "metadata": {},
     "output_type": "execute_result"
    }
   ],
   "source": [
    "# Проверим, как теперь распределяется возраст.\n",
    "\n",
    "df['years_employed'].value_counts(ascending=False)"
   ]
  },
  {
   "cell_type": "markdown",
   "metadata": {},
   "source": [
    "Столбцы `days_employed` и `total_income` имели 10% строк с пропущенными значениями. Чтобы не терять из-за этого существенный объем данных (не удалять строки с отсутсвующими значениями этих столбцов), было принято решение заменить пропущенные значения на медианные по столбцу. Эта \"искуственная\" подстановка данных приведет к минимальным искжениям общей картины датасета.\n",
    "После подстановки медианного значения в `days_employed` имеем"
   ]
  },
  {
   "cell_type": "markdown",
   "metadata": {},
   "source": [
    "### 2.3. Обработка дубликатов"
   ]
  },
  {
   "cell_type": "markdown",
   "metadata": {},
   "source": [
    "Приведем строки к нижнему регистру."
   ]
  },
  {
   "cell_type": "code",
   "execution_count": 28,
   "metadata": {},
   "outputs": [
    {
     "name": "stdout",
     "output_type": "stream",
     "text": [
      "<class 'pandas.core.frame.DataFrame'>\n",
      "RangeIndex: 21525 entries, 0 to 21524\n",
      "Data columns (total 13 columns):\n",
      " #   Column            Non-Null Count  Dtype  \n",
      "---  ------            --------------  -----  \n",
      " 0   children          21525 non-null  int64  \n",
      " 1   days_employed     21525 non-null  float64\n",
      " 2   dob_years         21525 non-null  int64  \n",
      " 3   education         21525 non-null  object \n",
      " 4   education_id      21525 non-null  int64  \n",
      " 5   family_status     21525 non-null  object \n",
      " 6   family_status_id  21525 non-null  int64  \n",
      " 7   gender            21525 non-null  object \n",
      " 8   income_type       21525 non-null  object \n",
      " 9   debt              21525 non-null  int64  \n",
      " 10  total_income      21525 non-null  int64  \n",
      " 11  purpose           21525 non-null  object \n",
      " 12  years_employed    21525 non-null  int64  \n",
      "dtypes: float64(1), int64(7), object(5)\n",
      "memory usage: 2.1+ MB\n"
     ]
    }
   ],
   "source": [
    "df['education'] = df['education'].str.lower()\n",
    "df['family_status'] = df['family_status'].str.lower()\n",
    "df['gender'] = df['gender'].str.lower()\n",
    "df['income_type'] = df['income_type'].str.lower()\n",
    "df['purpose'] = df['purpose'].str.lower()\n",
    "\n",
    "\n",
    "df.drop_duplicates().reset_index(drop=True)\n",
    "df.info()"
   ]
  },
  {
   "cell_type": "code",
   "execution_count": 29,
   "metadata": {},
   "outputs": [
    {
     "name": "stdout",
     "output_type": "stream",
     "text": [
      "<class 'pandas.core.frame.DataFrame'>\n",
      "RangeIndex: 21454 entries, 0 to 21453\n",
      "Data columns (total 13 columns):\n",
      " #   Column            Non-Null Count  Dtype  \n",
      "---  ------            --------------  -----  \n",
      " 0   children          21454 non-null  int64  \n",
      " 1   days_employed     21454 non-null  float64\n",
      " 2   dob_years         21454 non-null  int64  \n",
      " 3   education         21454 non-null  object \n",
      " 4   education_id      21454 non-null  int64  \n",
      " 5   family_status     21454 non-null  object \n",
      " 6   family_status_id  21454 non-null  int64  \n",
      " 7   gender            21454 non-null  object \n",
      " 8   income_type       21454 non-null  object \n",
      " 9   debt              21454 non-null  int64  \n",
      " 10  total_income      21454 non-null  int64  \n",
      " 11  purpose           21454 non-null  object \n",
      " 12  years_employed    21454 non-null  int64  \n",
      "dtypes: float64(1), int64(7), object(5)\n",
      "memory usage: 2.1+ MB\n"
     ]
    }
   ],
   "source": [
    "# Проверим, есть ли в датасете явные дубликаты строк.\n",
    "\n",
    "df.duplicated().sum()\n",
    "\n",
    "# В датасете присутсвует 71 явный дубликат, избавимся от них.\n",
    "\n",
    "df = df.drop_duplicates().reset_index(drop=True)\n",
    "df.info()"
   ]
  },
  {
   "cell_type": "markdown",
   "metadata": {},
   "source": [
    "В столбцах со строковыми значенями дубликаты имеет только колонка `purpose`.\n",
    "Для поиска дубликатов все столбцы со строковыми значениями были приведены к нижнему регистру; далее в каждом столбце была опреелена частотность значений; значения"
   ]
  },
  {
   "cell_type": "markdown",
   "metadata": {},
   "source": [
    "### 2.4 Лемматизация целей кредитования"
   ]
  },
  {
   "cell_type": "markdown",
   "metadata": {},
   "source": [
    "Составим классификацию целей кредитования, исходя из неформализованного описания целей кредитования в колонке `purpose`.\n",
    "Для этого, выделим леммы."
   ]
  },
  {
   "cell_type": "code",
   "execution_count": 30,
   "metadata": {},
   "outputs": [
    {
     "name": "stderr",
     "output_type": "stream",
     "text": [
      "Installing mystem to C:\\Users\\Roman/.local/bin\\mystem.exe from http://download.cdn.yandex.net/mystem/mystem-3.1-win-64bit.zip\n"
     ]
    },
    {
     "name": "stdout",
     "output_type": "stream",
     "text": [
      "Counter({' ': 55023, 'недвижимость': 6351, 'покупка': 5897, 'жилье': 4460, 'автомобиль': 4306, 'образование': 4013, 'с': 2918, 'операция': 2604, 'свадьба': 2324, 'свой': 2230, 'на': 2222, 'строительство': 1878, 'высокий': 1374, 'получение': 1314, 'коммерческий': 1311, 'для': 1289, 'жилой': 1230, 'сделка': 941, 'дополнительный': 906, 'заниматься': 904, 'подержать': 853, 'проведение': 768, 'сыграть': 765, 'сдача': 651, 'семья': 638, 'собственный': 635, 'со': 627, 'ремонт': 607, 'приобретение': 461, 'профильный': 436, 'подержанный': 111, '\\n': 1})\n"
     ]
    }
   ],
   "source": [
    "m = Mystem()\n",
    "\n",
    "text = []\n",
    "for row in df['purpose']:\n",
    "    text.append(row)\n",
    "\n",
    "text = ' '.join(text)\n",
    "\n",
    "lemmas = m.lemmatize(text)\n",
    "print(Counter(lemmas))"
   ]
  },
  {
   "cell_type": "markdown",
   "metadata": {},
   "source": [
    "Встречается всего 4 цели кредитования:\n",
    "* недвижимость,\n",
    "* автомобиль,\n",
    "* образование,\n",
    "* свадьба."
   ]
  },
  {
   "cell_type": "markdown",
   "metadata": {},
   "source": [
    "Создадим столбец `purpose_category` и добавляем в него значение, соответсвующее найденному в списках вариантов описания цели кредита."
   ]
  },
  {
   "cell_type": "code",
   "execution_count": 31,
   "metadata": {
    "scrolled": false
   },
   "outputs": [
    {
     "data": {
      "text/html": [
       "<div>\n",
       "<style scoped>\n",
       "    .dataframe tbody tr th:only-of-type {\n",
       "        vertical-align: middle;\n",
       "    }\n",
       "\n",
       "    .dataframe tbody tr th {\n",
       "        vertical-align: top;\n",
       "    }\n",
       "\n",
       "    .dataframe thead th {\n",
       "        text-align: right;\n",
       "    }\n",
       "</style>\n",
       "<table border=\"1\" class=\"dataframe\">\n",
       "  <thead>\n",
       "    <tr style=\"text-align: right;\">\n",
       "      <th></th>\n",
       "      <th>children</th>\n",
       "      <th>days_employed</th>\n",
       "      <th>dob_years</th>\n",
       "      <th>education</th>\n",
       "      <th>education_id</th>\n",
       "      <th>family_status</th>\n",
       "      <th>family_status_id</th>\n",
       "      <th>gender</th>\n",
       "      <th>income_type</th>\n",
       "      <th>debt</th>\n",
       "      <th>total_income</th>\n",
       "      <th>purpose</th>\n",
       "      <th>years_employed</th>\n",
       "      <th>purpose_category</th>\n",
       "    </tr>\n",
       "  </thead>\n",
       "  <tbody>\n",
       "    <tr>\n",
       "      <th>0</th>\n",
       "      <td>1</td>\n",
       "      <td>8437.673028</td>\n",
       "      <td>42</td>\n",
       "      <td>высшее</td>\n",
       "      <td>0</td>\n",
       "      <td>женат / замужем</td>\n",
       "      <td>0</td>\n",
       "      <td>f</td>\n",
       "      <td>сотрудник</td>\n",
       "      <td>0</td>\n",
       "      <td>253876</td>\n",
       "      <td>покупка жилья</td>\n",
       "      <td>23</td>\n",
       "      <td>операции с недвижимостью</td>\n",
       "    </tr>\n",
       "    <tr>\n",
       "      <th>1</th>\n",
       "      <td>1</td>\n",
       "      <td>4024.803754</td>\n",
       "      <td>36</td>\n",
       "      <td>среднее</td>\n",
       "      <td>1</td>\n",
       "      <td>женат / замужем</td>\n",
       "      <td>0</td>\n",
       "      <td>f</td>\n",
       "      <td>сотрудник</td>\n",
       "      <td>0</td>\n",
       "      <td>112080</td>\n",
       "      <td>приобретение автомобиля</td>\n",
       "      <td>11</td>\n",
       "      <td>операции с автомобилем</td>\n",
       "    </tr>\n",
       "    <tr>\n",
       "      <th>2</th>\n",
       "      <td>0</td>\n",
       "      <td>5623.422610</td>\n",
       "      <td>33</td>\n",
       "      <td>среднее</td>\n",
       "      <td>1</td>\n",
       "      <td>женат / замужем</td>\n",
       "      <td>0</td>\n",
       "      <td>m</td>\n",
       "      <td>сотрудник</td>\n",
       "      <td>0</td>\n",
       "      <td>145886</td>\n",
       "      <td>покупка жилья</td>\n",
       "      <td>15</td>\n",
       "      <td>операции с недвижимостью</td>\n",
       "    </tr>\n",
       "    <tr>\n",
       "      <th>3</th>\n",
       "      <td>3</td>\n",
       "      <td>4124.747207</td>\n",
       "      <td>32</td>\n",
       "      <td>среднее</td>\n",
       "      <td>1</td>\n",
       "      <td>женат / замужем</td>\n",
       "      <td>0</td>\n",
       "      <td>m</td>\n",
       "      <td>сотрудник</td>\n",
       "      <td>0</td>\n",
       "      <td>267629</td>\n",
       "      <td>дополнительное образование</td>\n",
       "      <td>11</td>\n",
       "      <td>получение образования</td>\n",
       "    </tr>\n",
       "    <tr>\n",
       "      <th>4</th>\n",
       "      <td>0</td>\n",
       "      <td>340266.000000</td>\n",
       "      <td>53</td>\n",
       "      <td>среднее</td>\n",
       "      <td>1</td>\n",
       "      <td>гражданский брак</td>\n",
       "      <td>1</td>\n",
       "      <td>f</td>\n",
       "      <td>пенсионер</td>\n",
       "      <td>0</td>\n",
       "      <td>158616</td>\n",
       "      <td>сыграть свадьбу</td>\n",
       "      <td>65</td>\n",
       "      <td>проведение свадьбы</td>\n",
       "    </tr>\n",
       "    <tr>\n",
       "      <th>...</th>\n",
       "      <td>...</td>\n",
       "      <td>...</td>\n",
       "      <td>...</td>\n",
       "      <td>...</td>\n",
       "      <td>...</td>\n",
       "      <td>...</td>\n",
       "      <td>...</td>\n",
       "      <td>...</td>\n",
       "      <td>...</td>\n",
       "      <td>...</td>\n",
       "      <td>...</td>\n",
       "      <td>...</td>\n",
       "      <td>...</td>\n",
       "      <td>...</td>\n",
       "    </tr>\n",
       "    <tr>\n",
       "      <th>21449</th>\n",
       "      <td>1</td>\n",
       "      <td>4529.316663</td>\n",
       "      <td>43</td>\n",
       "      <td>среднее</td>\n",
       "      <td>1</td>\n",
       "      <td>гражданский брак</td>\n",
       "      <td>1</td>\n",
       "      <td>f</td>\n",
       "      <td>компаньон</td>\n",
       "      <td>0</td>\n",
       "      <td>224792</td>\n",
       "      <td>операции с жильем</td>\n",
       "      <td>12</td>\n",
       "      <td>операции с недвижимостью</td>\n",
       "    </tr>\n",
       "    <tr>\n",
       "      <th>21450</th>\n",
       "      <td>0</td>\n",
       "      <td>343937.000000</td>\n",
       "      <td>67</td>\n",
       "      <td>среднее</td>\n",
       "      <td>1</td>\n",
       "      <td>женат / замужем</td>\n",
       "      <td>0</td>\n",
       "      <td>f</td>\n",
       "      <td>пенсионер</td>\n",
       "      <td>0</td>\n",
       "      <td>156000</td>\n",
       "      <td>сделка с автомобилем</td>\n",
       "      <td>65</td>\n",
       "      <td>операции с автомобилем</td>\n",
       "    </tr>\n",
       "    <tr>\n",
       "      <th>21451</th>\n",
       "      <td>1</td>\n",
       "      <td>2113.346888</td>\n",
       "      <td>38</td>\n",
       "      <td>среднее</td>\n",
       "      <td>1</td>\n",
       "      <td>гражданский брак</td>\n",
       "      <td>1</td>\n",
       "      <td>m</td>\n",
       "      <td>сотрудник</td>\n",
       "      <td>1</td>\n",
       "      <td>89673</td>\n",
       "      <td>недвижимость</td>\n",
       "      <td>5</td>\n",
       "      <td>операции с недвижимостью</td>\n",
       "    </tr>\n",
       "    <tr>\n",
       "      <th>21452</th>\n",
       "      <td>3</td>\n",
       "      <td>3112.481705</td>\n",
       "      <td>38</td>\n",
       "      <td>среднее</td>\n",
       "      <td>1</td>\n",
       "      <td>женат / замужем</td>\n",
       "      <td>0</td>\n",
       "      <td>m</td>\n",
       "      <td>сотрудник</td>\n",
       "      <td>1</td>\n",
       "      <td>244093</td>\n",
       "      <td>на покупку своего автомобиля</td>\n",
       "      <td>8</td>\n",
       "      <td>операции с автомобилем</td>\n",
       "    </tr>\n",
       "    <tr>\n",
       "      <th>21453</th>\n",
       "      <td>2</td>\n",
       "      <td>1984.507589</td>\n",
       "      <td>40</td>\n",
       "      <td>среднее</td>\n",
       "      <td>1</td>\n",
       "      <td>женат / замужем</td>\n",
       "      <td>0</td>\n",
       "      <td>f</td>\n",
       "      <td>сотрудник</td>\n",
       "      <td>0</td>\n",
       "      <td>82047</td>\n",
       "      <td>на покупку автомобиля</td>\n",
       "      <td>5</td>\n",
       "      <td>операции с автомобилем</td>\n",
       "    </tr>\n",
       "  </tbody>\n",
       "</table>\n",
       "<p>21454 rows × 14 columns</p>\n",
       "</div>"
      ],
      "text/plain": [
       "       children  days_employed  dob_years education  education_id  \\\n",
       "0             1    8437.673028         42    высшее             0   \n",
       "1             1    4024.803754         36   среднее             1   \n",
       "2             0    5623.422610         33   среднее             1   \n",
       "3             3    4124.747207         32   среднее             1   \n",
       "4             0  340266.000000         53   среднее             1   \n",
       "...         ...            ...        ...       ...           ...   \n",
       "21449         1    4529.316663         43   среднее             1   \n",
       "21450         0  343937.000000         67   среднее             1   \n",
       "21451         1    2113.346888         38   среднее             1   \n",
       "21452         3    3112.481705         38   среднее             1   \n",
       "21453         2    1984.507589         40   среднее             1   \n",
       "\n",
       "          family_status  family_status_id gender income_type  debt  \\\n",
       "0       женат / замужем                 0      f   сотрудник     0   \n",
       "1       женат / замужем                 0      f   сотрудник     0   \n",
       "2       женат / замужем                 0      m   сотрудник     0   \n",
       "3       женат / замужем                 0      m   сотрудник     0   \n",
       "4      гражданский брак                 1      f   пенсионер     0   \n",
       "...                 ...               ...    ...         ...   ...   \n",
       "21449  гражданский брак                 1      f   компаньон     0   \n",
       "21450   женат / замужем                 0      f   пенсионер     0   \n",
       "21451  гражданский брак                 1      m   сотрудник     1   \n",
       "21452   женат / замужем                 0      m   сотрудник     1   \n",
       "21453   женат / замужем                 0      f   сотрудник     0   \n",
       "\n",
       "       total_income                       purpose  years_employed  \\\n",
       "0            253876                 покупка жилья              23   \n",
       "1            112080       приобретение автомобиля              11   \n",
       "2            145886                 покупка жилья              15   \n",
       "3            267629    дополнительное образование              11   \n",
       "4            158616               сыграть свадьбу              65   \n",
       "...             ...                           ...             ...   \n",
       "21449        224792             операции с жильем              12   \n",
       "21450        156000          сделка с автомобилем              65   \n",
       "21451         89673                  недвижимость               5   \n",
       "21452        244093  на покупку своего автомобиля               8   \n",
       "21453         82047         на покупку автомобиля               5   \n",
       "\n",
       "               purpose_category  \n",
       "0      операции с недвижимостью  \n",
       "1        операции с автомобилем  \n",
       "2      операции с недвижимостью  \n",
       "3         получение образования  \n",
       "4            проведение свадьбы  \n",
       "...                         ...  \n",
       "21449  операции с недвижимостью  \n",
       "21450    операции с автомобилем  \n",
       "21451  операции с недвижимостью  \n",
       "21452    операции с автомобилем  \n",
       "21453    операции с автомобилем  \n",
       "\n",
       "[21454 rows x 14 columns]"
      ]
     },
     "execution_count": 31,
     "metadata": {},
     "output_type": "execute_result"
    }
   ],
   "source": [
    "purpose_list = []\n",
    "\n",
    "purpose = list(df['purpose'].unique())\n",
    "\n",
    "for value in range(len(purpose)):\n",
    "    if 'недвиж' in purpose[value]:\n",
    "        purpose_list.append('операции с недвижимостью')\n",
    "    elif 'жиль' in purpose[value]:\n",
    "        purpose_list.append('операции с недвижимостью')\n",
    "    elif 'авто' in purpose[value]:\n",
    "        purpose_list.append('операции с автомобилем')\n",
    "    elif 'образован' in purpose[value]:\n",
    "        purpose_list.append('получение образования')\n",
    "    elif 'свадь' in purpose[value]:\n",
    "        purpose_list.append('проведение свадьбы')\n",
    "    else:\n",
    "        purpose_list.append('N/A')\n",
    "        \n",
    "        \n",
    "purpose_dict = dict(zip(purpose, purpose_list))\n",
    "df['purpose_category'] = df['purpose'].map(purpose_dict)\n",
    "\n",
    "df"
   ]
  },
  {
   "cell_type": "markdown",
   "metadata": {},
   "source": [
    "Посмотрим на долю каждлй цели кредитования в числе всех заявок на кредит."
   ]
  },
  {
   "cell_type": "code",
   "execution_count": 32,
   "metadata": {},
   "outputs": [
    {
     "name": "stdout",
     "output_type": "stream",
     "text": [
      "операции с недвижимостью    50.0\n",
      "операции с автомобилем      20.0\n",
      "получение образования       19.0\n",
      "проведение свадьбы          11.0\n",
      "Name: purpose_category, dtype: float64 2\n"
     ]
    }
   ],
   "source": [
    "print(round(df['purpose_category'].value_counts() / 21454 * 100), 2)"
   ]
  },
  {
   "cell_type": "markdown",
   "metadata": {},
   "source": [
    "Наибольшим спросом пользуются кредиты на недвижимость: 50% клиентов предпочитает брать их; около 20% - занимают деньги банка на покупку автомобиля или образование; 11% - на свадьбу. "
   ]
  },
  {
   "cell_type": "markdown",
   "metadata": {},
   "source": [
    "## 3. Анализ возврата кредита различными группами заемщиков"
   ]
  },
  {
   "cell_type": "markdown",
   "metadata": {},
   "source": [
    "На основе предобработанных данных, попытаемся ответить на следующие вопросы:\n",
    "\n",
    "* Есть ли зависимость между наличием детей и возвратом кредита в срок?\n",
    "* Есть ли зависимость между семейным положением и возвратом кредита в срок?\n",
    "* Есть ли зависимость между уровнем дохода и возвратом кредита в срок?"
   ]
  },
  {
   "cell_type": "markdown",
   "metadata": {},
   "source": [
    "Для определения зависимости между наличием детей и фактом возврата кредита, найдем долю клиентов, имеющих долг по внутри каждой группы клиентов по числу детей."
   ]
  },
  {
   "cell_type": "code",
   "execution_count": 33,
   "metadata": {},
   "outputs": [
    {
     "data": {
      "text/plain": [
       "children\n",
       "5    0.00\n",
       "0    7.54\n",
       "3    8.18\n",
       "1    9.17\n",
       "2    9.49\n",
       "4    9.76\n",
       "Name: debt, dtype: float64"
      ]
     },
     "execution_count": 33,
     "metadata": {},
     "output_type": "execute_result"
    }
   ],
   "source": [
    "children_rate = (df.groupby('children')['debt'].sum() / df.groupby('children')['debt'].count() * 100).round(2)\n",
    "children_rate.sort_values()"
   ]
  },
  {
   "cell_type": "markdown",
   "metadata": {},
   "source": [
    "Таким образом, наиболее надежными заемщиками являются клиенты с 5 детьми, однако в данной подгруппе всего 9 клиентов, что нерепрезентативно.\n",
    "Клиенты без детей, вероятнее, не будут иметь задолжность по воврату кредитов, однако, существенной завимости наличия задолженности от числа детей, не выявлено."
   ]
  },
  {
   "cell_type": "markdown",
   "metadata": {},
   "source": [
    "Для определения, есть ли зависимость между семейным положением и возвратом кредита в срок, найдем долю клиентов, имеющих долг по кредиту внутри каждой группы клиентов по семейному статусу."
   ]
  },
  {
   "cell_type": "code",
   "execution_count": 34,
   "metadata": {},
   "outputs": [
    {
     "data": {
      "text/plain": [
       "family_status\n",
       "вдовец / вдова           6.57\n",
       "в разводе                7.11\n",
       "женат / замужем          7.55\n",
       "гражданский брак         9.35\n",
       "не женат / не замужем    9.75\n",
       "Name: debt, dtype: float64"
      ]
     },
     "execution_count": 34,
     "metadata": {},
     "output_type": "execute_result"
    }
   ],
   "source": [
    "family_status_rate = (df.groupby('family_status')['debt'].sum() / df.groupby('family_status')['debt'].count() * 100).round(2)\n",
    "family_status_rate.sort_values()"
   ]
  },
  {
   "cell_type": "markdown",
   "metadata": {},
   "source": [
    "Из этих данных очевидно, вдовцы имеют наибольшую долю просроченых кредитов. Люди, не имеющие официальных отношений - наименьшую.\n",
    "Вероятно, они более дисциплинированы и лучше контролируют свой бюджет."
   ]
  },
  {
   "cell_type": "markdown",
   "metadata": {},
   "source": [
    "Для определения зависимости между уровнем дохода и возвратом кредита в срок, сгруппируем доход по квантилям и рассплитим клиентов на 4 группы, добавив новый столбец в датасет."
   ]
  },
  {
   "cell_type": "code",
   "execution_count": 35,
   "metadata": {},
   "outputs": [
    {
     "data": {
      "text/plain": [
       "0.1     78721.8\n",
       "0.5    145018.0\n",
       "0.9    269798.1\n",
       "Name: total_income, dtype: float64"
      ]
     },
     "execution_count": 35,
     "metadata": {},
     "output_type": "execute_result"
    }
   ],
   "source": [
    "income_groups = df['total_income'].quantile([0.1, 0.5, 0.9])\n",
    "income_groups"
   ]
  },
  {
   "cell_type": "code",
   "execution_count": 36,
   "metadata": {},
   "outputs": [
    {
     "data": {
      "text/html": [
       "<div>\n",
       "<style scoped>\n",
       "    .dataframe tbody tr th:only-of-type {\n",
       "        vertical-align: middle;\n",
       "    }\n",
       "\n",
       "    .dataframe tbody tr th {\n",
       "        vertical-align: top;\n",
       "    }\n",
       "\n",
       "    .dataframe thead th {\n",
       "        text-align: right;\n",
       "    }\n",
       "</style>\n",
       "<table border=\"1\" class=\"dataframe\">\n",
       "  <thead>\n",
       "    <tr style=\"text-align: right;\">\n",
       "      <th></th>\n",
       "      <th>children</th>\n",
       "      <th>days_employed</th>\n",
       "      <th>dob_years</th>\n",
       "      <th>education</th>\n",
       "      <th>education_id</th>\n",
       "      <th>family_status</th>\n",
       "      <th>family_status_id</th>\n",
       "      <th>gender</th>\n",
       "      <th>income_type</th>\n",
       "      <th>debt</th>\n",
       "      <th>total_income</th>\n",
       "      <th>purpose</th>\n",
       "      <th>years_employed</th>\n",
       "      <th>purpose_category</th>\n",
       "      <th>total_income_group</th>\n",
       "    </tr>\n",
       "  </thead>\n",
       "  <tbody>\n",
       "    <tr>\n",
       "      <th>0</th>\n",
       "      <td>1</td>\n",
       "      <td>8437.673028</td>\n",
       "      <td>42</td>\n",
       "      <td>высшее</td>\n",
       "      <td>0</td>\n",
       "      <td>женат / замужем</td>\n",
       "      <td>0</td>\n",
       "      <td>f</td>\n",
       "      <td>сотрудник</td>\n",
       "      <td>0</td>\n",
       "      <td>253876</td>\n",
       "      <td>покупка жилья</td>\n",
       "      <td>23</td>\n",
       "      <td>операции с недвижимостью</td>\n",
       "      <td>Высокий</td>\n",
       "    </tr>\n",
       "    <tr>\n",
       "      <th>1</th>\n",
       "      <td>1</td>\n",
       "      <td>4024.803754</td>\n",
       "      <td>36</td>\n",
       "      <td>среднее</td>\n",
       "      <td>1</td>\n",
       "      <td>женат / замужем</td>\n",
       "      <td>0</td>\n",
       "      <td>f</td>\n",
       "      <td>сотрудник</td>\n",
       "      <td>0</td>\n",
       "      <td>112080</td>\n",
       "      <td>приобретение автомобиля</td>\n",
       "      <td>11</td>\n",
       "      <td>операции с автомобилем</td>\n",
       "      <td>Средний</td>\n",
       "    </tr>\n",
       "    <tr>\n",
       "      <th>2</th>\n",
       "      <td>0</td>\n",
       "      <td>5623.422610</td>\n",
       "      <td>33</td>\n",
       "      <td>среднее</td>\n",
       "      <td>1</td>\n",
       "      <td>женат / замужем</td>\n",
       "      <td>0</td>\n",
       "      <td>m</td>\n",
       "      <td>сотрудник</td>\n",
       "      <td>0</td>\n",
       "      <td>145886</td>\n",
       "      <td>покупка жилья</td>\n",
       "      <td>15</td>\n",
       "      <td>операции с недвижимостью</td>\n",
       "      <td>Высокий</td>\n",
       "    </tr>\n",
       "    <tr>\n",
       "      <th>3</th>\n",
       "      <td>3</td>\n",
       "      <td>4124.747207</td>\n",
       "      <td>32</td>\n",
       "      <td>среднее</td>\n",
       "      <td>1</td>\n",
       "      <td>женат / замужем</td>\n",
       "      <td>0</td>\n",
       "      <td>m</td>\n",
       "      <td>сотрудник</td>\n",
       "      <td>0</td>\n",
       "      <td>267629</td>\n",
       "      <td>дополнительное образование</td>\n",
       "      <td>11</td>\n",
       "      <td>получение образования</td>\n",
       "      <td>Высокий</td>\n",
       "    </tr>\n",
       "    <tr>\n",
       "      <th>4</th>\n",
       "      <td>0</td>\n",
       "      <td>340266.000000</td>\n",
       "      <td>53</td>\n",
       "      <td>среднее</td>\n",
       "      <td>1</td>\n",
       "      <td>гражданский брак</td>\n",
       "      <td>1</td>\n",
       "      <td>f</td>\n",
       "      <td>пенсионер</td>\n",
       "      <td>0</td>\n",
       "      <td>158616</td>\n",
       "      <td>сыграть свадьбу</td>\n",
       "      <td>65</td>\n",
       "      <td>проведение свадьбы</td>\n",
       "      <td>Высокий</td>\n",
       "    </tr>\n",
       "  </tbody>\n",
       "</table>\n",
       "</div>"
      ],
      "text/plain": [
       "   children  days_employed  dob_years education  education_id  \\\n",
       "0         1    8437.673028         42    высшее             0   \n",
       "1         1    4024.803754         36   среднее             1   \n",
       "2         0    5623.422610         33   среднее             1   \n",
       "3         3    4124.747207         32   среднее             1   \n",
       "4         0  340266.000000         53   среднее             1   \n",
       "\n",
       "      family_status  family_status_id gender income_type  debt  total_income  \\\n",
       "0   женат / замужем                 0      f   сотрудник     0        253876   \n",
       "1   женат / замужем                 0      f   сотрудник     0        112080   \n",
       "2   женат / замужем                 0      m   сотрудник     0        145886   \n",
       "3   женат / замужем                 0      m   сотрудник     0        267629   \n",
       "4  гражданский брак                 1      f   пенсионер     0        158616   \n",
       "\n",
       "                      purpose  years_employed          purpose_category  \\\n",
       "0               покупка жилья              23  операции с недвижимостью   \n",
       "1     приобретение автомобиля              11    операции с автомобилем   \n",
       "2               покупка жилья              15  операции с недвижимостью   \n",
       "3  дополнительное образование              11     получение образования   \n",
       "4             сыграть свадьбу              65        проведение свадьбы   \n",
       "\n",
       "  total_income_group  \n",
       "0            Высокий  \n",
       "1            Средний  \n",
       "2            Высокий  \n",
       "3            Высокий  \n",
       "4            Высокий  "
      ]
     },
     "execution_count": 36,
     "metadata": {},
     "output_type": "execute_result"
    }
   ],
   "source": [
    "# Функция для рассплитовки клиентов по доходу.\n",
    "\n",
    "def income_groupping(total_income):\n",
    "    if total_income < 78812.2:\n",
    "        return 'Низкий'\n",
    "    elif total_income < 145018.0:\n",
    "        return 'Средний'\n",
    "    elif total_income < 269535.4:\n",
    "        return 'Высокий'\n",
    "    else:\n",
    "        return 'Очень высокий'\n",
    "\n",
    "df['total_income_group'] = df['total_income'].apply(income_groupping)\n",
    "df.head()"
   ]
  },
  {
   "cell_type": "code",
   "execution_count": 37,
   "metadata": {},
   "outputs": [
    {
     "data": {
      "text/plain": [
       "total_income_group\n",
       "Высокий          9626\n",
       "Низкий           2153\n",
       "Очень высокий    2153\n",
       "Средний          7522\n",
       "Name: debt, dtype: int64"
      ]
     },
     "execution_count": 37,
     "metadata": {},
     "output_type": "execute_result"
    }
   ],
   "source": [
    "# Распределение числа клиентов по данным группам.\n",
    "\n",
    "df['total_income'].mean()\n",
    "df.groupby('total_income_group')['debt'].count()"
   ]
  },
  {
   "cell_type": "code",
   "execution_count": 38,
   "metadata": {},
   "outputs": [
    {
     "data": {
      "text/plain": [
       "total_income_group\n",
       "Очень высокий    7.01\n",
       "Низкий           7.34\n",
       "Высокий          8.17\n",
       "Средний          8.59\n",
       "Name: debt, dtype: float64"
      ]
     },
     "execution_count": 38,
     "metadata": {},
     "output_type": "execute_result"
    }
   ],
   "source": [
    "# Определим долю клиентов, имеющих долг по кредиту внутри каждой группы клиентов по уровню дохода.\n",
    "\n",
    "total_income_rate = (df.groupby('total_income_group')['debt'].sum() / df.groupby('total_income_group')['debt'].count() * 100).round(2)\n",
    "total_income_rate.sort_values()"
   ]
  },
  {
   "cell_type": "markdown",
   "metadata": {},
   "source": [
    "Таким образом, наименьшая задолженность наблюдается среди клиентов с уровнем дохода выше 0,9 процентиля (очень высокий доход).\n",
    "Наибольшая задолженность - среди клиентов с уровнем дохоов выше 0,1 процентиля, но ниже медианы (средний доход).\n",
    "\n",
    "Если для людей с очень высоким доходом, низкая доля задолжности по возврату очевидна, то для клиентов с низким уровнем дохода\n",
    "она может объясняться небольшими суммами кредита (соответсвенно, относительной легкостью их выплаты), однако в датасете нет тикетов кредита, чтобы проверить эту гипотезу.\n",
    "Аналогично: высокая доля задолженности среди клиентов среднего и высокого дохода также объясняется более высокими суммами тикета."
   ]
  },
  {
   "cell_type": "markdown",
   "metadata": {},
   "source": [
    "Для определения того, как разные цели кредита влияют на его возврат в срок, найдем долю клиентов, имеющих долг по кредиту внутри каждой группы клиентов по сгруппированным целям кредита."
   ]
  },
  {
   "cell_type": "code",
   "execution_count": 39,
   "metadata": {},
   "outputs": [
    {
     "data": {
      "text/plain": [
       "purpose_category\n",
       "операции с автомобилем      9.36\n",
       "получение образования       9.22\n",
       "проведение свадьбы          8.00\n",
       "операции с недвижимостью    7.23\n",
       "Name: debt, dtype: float64"
      ]
     },
     "execution_count": 39,
     "metadata": {},
     "output_type": "execute_result"
    }
   ],
   "source": [
    "purpose_rate = (df.groupby('purpose_category')['debt'].sum() / df.groupby('purpose_category')['debt'].count() * 100).round(2)\n",
    "purpose_rate.sort_values(ascending=False)"
   ]
  },
  {
   "cell_type": "markdown",
   "metadata": {},
   "source": [
    "Наибольшую задолженность по кредиту имеют клиенты, бравшие его для покупки автомобиля и получения образования, наименьшую - клиенты, заимствовавшие деньги для операций с недвижимостью. Это может объясняться большей величиной тела крдита и более серьезными обязательствами заемщика (покупка не является спонтанной), а также более жестким скорингом клиента на этапе подготовки предложения."
   ]
  },
  {
   "cell_type": "markdown",
   "metadata": {},
   "source": [
    "## 4. Итоги исследования"
   ]
  },
  {
   "cell_type": "markdown",
   "metadata": {},
   "source": [
    "Зависимость возврата кредита существует со следующими параметрами:\n",
    "1. Семейным положением: вдовцы имеют наибольшую долю просроченых кредитов. Люди, не имеющие официальных отношений - наименьшую.\n",
    "2. Уровненем дохода: наименьшая задолженность - среди клиентов с очень высоким уровнем дохода выше 0,9 процентиля; наибольшая  - среди клиентов со средним (выше 0,1 процентиля, ниже медианы).\n",
    "3. Целью кредита: заимствования на приобретение недвижимости имеют наименьший риск просро\n",
    "\n",
    "Зависимости между количеством детей у заемщика и рисками кредитования не выявлено, тем не менее, исходя из данных, клиенты без детей, вероятнее, не будут иметь задолжности по воврату кредитов.\n",
    "\n",
    "Стоит обратить внимание на улучшение информационной системы сбора данных о заемщиках для устранения проблемы с форматом данных (трудовой стаж в днях изменить на месяцы, например и ввести автоматическую проверку данных); ограничить уровень образование и цели кредита набором из выпадающего списка; добавить информацию у сумме и частоте просрочек платежей, чтобы дальнейшие исследовали были более точными (например, техническая и минимальная задержка искажают картину платежеспособности групп клиентов)."
   ]
  }
 ],
 "metadata": {
  "ExecuteTimeLog": [
   {
    "duration": 638,
    "start_time": "2022-01-18T18:15:30.951Z"
   },
   {
    "duration": 8,
    "start_time": "2022-01-18T18:21:28.103Z"
   },
   {
    "duration": 17,
    "start_time": "2022-01-18T18:21:35.443Z"
   },
   {
    "duration": 12,
    "start_time": "2022-01-18T18:21:50.076Z"
   },
   {
    "duration": 10,
    "start_time": "2022-01-18T18:22:44.172Z"
   },
   {
    "duration": 386,
    "start_time": "2022-01-18T18:32:28.843Z"
   },
   {
    "duration": 362,
    "start_time": "2022-01-18T18:32:50.964Z"
   },
   {
    "duration": 327,
    "start_time": "2022-01-18T18:33:52.211Z"
   },
   {
    "duration": 11,
    "start_time": "2022-01-18T18:34:10.284Z"
   },
   {
    "duration": 331,
    "start_time": "2022-01-18T18:34:49.394Z"
   },
   {
    "duration": 13,
    "start_time": "2022-01-18T18:42:41.239Z"
   },
   {
    "duration": 19,
    "start_time": "2022-01-18T18:49:52.991Z"
   },
   {
    "duration": 55,
    "start_time": "2022-01-18T18:50:21.059Z"
   },
   {
    "duration": 12,
    "start_time": "2022-01-18T18:50:21.663Z"
   },
   {
    "duration": 11,
    "start_time": "2022-01-18T18:50:25.307Z"
   },
   {
    "duration": 314,
    "start_time": "2022-01-18T18:50:55.536Z"
   },
   {
    "duration": 18,
    "start_time": "2022-01-18T18:51:02.898Z"
   },
   {
    "duration": 52,
    "start_time": "2022-01-18T18:51:11.147Z"
   },
   {
    "duration": 12,
    "start_time": "2022-01-18T18:51:11.508Z"
   },
   {
    "duration": 9,
    "start_time": "2022-01-18T18:51:13.468Z"
   },
   {
    "duration": 18,
    "start_time": "2022-01-18T18:51:16.348Z"
   },
   {
    "duration": 313,
    "start_time": "2022-01-18T18:51:37.399Z"
   },
   {
    "duration": 17,
    "start_time": "2022-01-18T18:51:53.195Z"
   },
   {
    "duration": 23,
    "start_time": "2022-01-18T18:52:10.897Z"
   },
   {
    "duration": 15,
    "start_time": "2022-01-18T18:52:19.043Z"
   },
   {
    "duration": 54,
    "start_time": "2022-01-18T18:52:28.494Z"
   },
   {
    "duration": 12,
    "start_time": "2022-01-18T18:52:28.635Z"
   },
   {
    "duration": 9,
    "start_time": "2022-01-18T18:52:29.930Z"
   },
   {
    "duration": 16,
    "start_time": "2022-01-18T18:52:32.166Z"
   },
   {
    "duration": 11,
    "start_time": "2022-01-18T18:52:49.666Z"
   },
   {
    "duration": 7,
    "start_time": "2022-01-18T18:52:59.015Z"
   },
   {
    "duration": 56,
    "start_time": "2022-01-18T18:53:02.135Z"
   },
   {
    "duration": 11,
    "start_time": "2022-01-18T18:53:02.271Z"
   },
   {
    "duration": 9,
    "start_time": "2022-01-18T18:53:03.272Z"
   },
   {
    "duration": 10,
    "start_time": "2022-01-18T18:53:05.808Z"
   },
   {
    "duration": 17,
    "start_time": "2022-01-18T18:53:22.731Z"
   },
   {
    "duration": 11,
    "start_time": "2022-01-18T18:53:44.706Z"
   },
   {
    "duration": 53,
    "start_time": "2022-01-18T18:53:50.698Z"
   },
   {
    "duration": 12,
    "start_time": "2022-01-18T18:53:50.838Z"
   },
   {
    "duration": 9,
    "start_time": "2022-01-18T18:53:55.843Z"
   },
   {
    "duration": 18,
    "start_time": "2022-01-18T18:53:59.404Z"
   },
   {
    "duration": 11,
    "start_time": "2022-01-18T18:54:16.958Z"
   },
   {
    "duration": 10,
    "start_time": "2022-01-18T18:54:26.800Z"
   },
   {
    "duration": 51,
    "start_time": "2022-01-18T18:54:55.719Z"
   },
   {
    "duration": 11,
    "start_time": "2022-01-18T18:54:55.849Z"
   },
   {
    "duration": 9,
    "start_time": "2022-01-18T18:54:57.615Z"
   },
   {
    "duration": 11,
    "start_time": "2022-01-18T18:54:59.748Z"
   },
   {
    "duration": 348,
    "start_time": "2022-01-18T18:55:07.560Z"
   },
   {
    "duration": 1647,
    "start_time": "2022-01-18T18:55:40.304Z"
   },
   {
    "duration": 1468,
    "start_time": "2022-01-18T18:55:46.810Z"
   },
   {
    "duration": 1490,
    "start_time": "2022-01-18T18:56:30.886Z"
   },
   {
    "duration": 1469,
    "start_time": "2022-01-18T18:58:46.076Z"
   },
   {
    "duration": 15,
    "start_time": "2022-01-18T18:59:13.855Z"
   },
   {
    "duration": 9,
    "start_time": "2022-01-18T18:59:27.517Z"
   },
   {
    "duration": 1508,
    "start_time": "2022-01-18T18:59:34.202Z"
   },
   {
    "duration": 11,
    "start_time": "2022-01-18T18:59:51.172Z"
   },
   {
    "duration": 10,
    "start_time": "2022-01-18T18:59:56.110Z"
   },
   {
    "duration": 11,
    "start_time": "2022-01-18T19:00:12.571Z"
   },
   {
    "duration": 19,
    "start_time": "2022-01-18T19:00:20.020Z"
   },
   {
    "duration": 15,
    "start_time": "2022-01-18T19:00:36.351Z"
   },
   {
    "duration": 322,
    "start_time": "2022-01-18T19:00:54.785Z"
   },
   {
    "duration": 1807,
    "start_time": "2022-01-18T19:01:15.332Z"
   },
   {
    "duration": 355,
    "start_time": "2022-01-18T19:01:58.967Z"
   },
   {
    "duration": 1460,
    "start_time": "2022-01-18T19:06:16.184Z"
   },
   {
    "duration": 358,
    "start_time": "2022-01-18T19:07:49.274Z"
   },
   {
    "duration": 151,
    "start_time": "2022-01-18T19:08:25.193Z"
   },
   {
    "duration": 490,
    "start_time": "2022-01-18T19:25:30.620Z"
   },
   {
    "duration": 110,
    "start_time": "2022-01-18T19:29:24.099Z"
   },
   {
    "duration": 504,
    "start_time": "2022-01-18T19:29:32.681Z"
   },
   {
    "duration": 146,
    "start_time": "2022-01-18T19:29:46.893Z"
   },
   {
    "duration": 469,
    "start_time": "2022-01-18T19:30:10.197Z"
   },
   {
    "duration": 148,
    "start_time": "2022-01-18T19:30:18.446Z"
   },
   {
    "duration": 16,
    "start_time": "2022-01-18T19:33:04.688Z"
   },
   {
    "duration": 13,
    "start_time": "2022-01-18T19:33:22.034Z"
   },
   {
    "duration": 16,
    "start_time": "2022-01-18T19:34:16.001Z"
   },
   {
    "duration": 14,
    "start_time": "2022-01-18T19:34:23.034Z"
   },
   {
    "duration": 22,
    "start_time": "2022-01-18T19:34:37.009Z"
   },
   {
    "duration": 14,
    "start_time": "2022-01-18T19:35:27.685Z"
   },
   {
    "duration": 15,
    "start_time": "2022-01-18T19:35:37.637Z"
   },
   {
    "duration": 15,
    "start_time": "2022-01-18T19:35:50.669Z"
   },
   {
    "duration": 14,
    "start_time": "2022-01-18T19:38:33.255Z"
   },
   {
    "duration": 55,
    "start_time": "2022-01-18T19:38:36.078Z"
   },
   {
    "duration": 11,
    "start_time": "2022-01-18T19:38:36.463Z"
   },
   {
    "duration": 10,
    "start_time": "2022-01-18T19:38:38.497Z"
   },
   {
    "duration": 1588,
    "start_time": "2022-01-18T19:38:40.639Z"
   },
   {
    "duration": 1683,
    "start_time": "2022-01-18T19:38:53.538Z"
   },
   {
    "duration": 53,
    "start_time": "2022-01-18T19:39:14.468Z"
   },
   {
    "duration": 12,
    "start_time": "2022-01-18T19:39:14.616Z"
   },
   {
    "duration": 9,
    "start_time": "2022-01-18T19:39:15.919Z"
   },
   {
    "duration": 1517,
    "start_time": "2022-01-18T19:39:17.935Z"
   },
   {
    "duration": 18,
    "start_time": "2022-01-18T19:40:40.429Z"
   },
   {
    "duration": 28,
    "start_time": "2022-01-18T19:58:16.681Z"
   },
   {
    "duration": 25,
    "start_time": "2022-01-18T19:58:29.490Z"
   },
   {
    "duration": 52,
    "start_time": "2022-01-18T19:58:47.727Z"
   },
   {
    "duration": 12,
    "start_time": "2022-01-18T19:58:48.127Z"
   },
   {
    "duration": 10,
    "start_time": "2022-01-18T19:58:50.039Z"
   },
   {
    "duration": 9,
    "start_time": "2022-01-18T19:58:51.700Z"
   },
   {
    "duration": 16,
    "start_time": "2022-01-18T19:58:56.503Z"
   },
   {
    "duration": 57,
    "start_time": "2022-01-18T19:58:59.622Z"
   },
   {
    "duration": 10,
    "start_time": "2022-01-18T19:58:59.778Z"
   },
   {
    "duration": 9,
    "start_time": "2022-01-18T19:59:00.610Z"
   },
   {
    "duration": 10,
    "start_time": "2022-01-18T19:59:01.560Z"
   },
   {
    "duration": 8,
    "start_time": "2022-01-18T19:59:23.845Z"
   },
   {
    "duration": 12,
    "start_time": "2022-01-18T19:59:34.369Z"
   },
   {
    "duration": 54,
    "start_time": "2022-01-18T20:01:39.045Z"
   },
   {
    "duration": 12,
    "start_time": "2022-01-18T20:01:39.185Z"
   },
   {
    "duration": 10,
    "start_time": "2022-01-18T20:01:40.041Z"
   },
   {
    "duration": 341,
    "start_time": "2022-01-18T20:01:42.890Z"
   },
   {
    "duration": 29,
    "start_time": "2022-01-18T20:02:06.231Z"
   },
   {
    "duration": 56,
    "start_time": "2022-01-18T20:02:35.998Z"
   },
   {
    "duration": 11,
    "start_time": "2022-01-18T20:02:36.139Z"
   },
   {
    "duration": 9,
    "start_time": "2022-01-18T20:02:37.079Z"
   },
   {
    "duration": 27,
    "start_time": "2022-01-18T20:02:40.445Z"
   },
   {
    "duration": 378,
    "start_time": "2022-01-18T20:05:49.326Z"
   },
   {
    "duration": 327,
    "start_time": "2022-01-18T20:05:57.456Z"
   },
   {
    "duration": 1342,
    "start_time": "2022-01-18T20:06:20.844Z"
   },
   {
    "duration": 1670,
    "start_time": "2022-01-18T20:06:30.354Z"
   },
   {
    "duration": 27,
    "start_time": "2022-01-18T20:06:52.235Z"
   },
   {
    "duration": 49,
    "start_time": "2022-01-18T20:09:04.738Z"
   },
   {
    "duration": 28,
    "start_time": "2022-01-18T20:10:22.508Z"
   },
   {
    "duration": 32,
    "start_time": "2022-01-18T20:10:36.708Z"
   },
   {
    "duration": 32,
    "start_time": "2022-01-18T20:10:40.449Z"
   },
   {
    "duration": 54,
    "start_time": "2022-01-18T20:10:43.963Z"
   },
   {
    "duration": 12,
    "start_time": "2022-01-18T20:10:44.119Z"
   },
   {
    "duration": 10,
    "start_time": "2022-01-18T20:10:45.625Z"
   },
   {
    "duration": 34,
    "start_time": "2022-01-18T20:10:50.814Z"
   },
   {
    "duration": 14,
    "start_time": "2022-01-18T20:11:24.890Z"
   },
   {
    "duration": 14,
    "start_time": "2022-01-18T20:11:37.832Z"
   },
   {
    "duration": 14,
    "start_time": "2022-01-18T20:11:42.538Z"
   },
   {
    "duration": 312,
    "start_time": "2022-01-18T20:16:12.331Z"
   },
   {
    "duration": 4313,
    "start_time": "2022-01-18T20:16:57.073Z"
   },
   {
    "duration": 343,
    "start_time": "2022-01-18T20:17:11.342Z"
   },
   {
    "duration": 2252,
    "start_time": "2022-01-18T20:17:16.418Z"
   },
   {
    "duration": 311,
    "start_time": "2022-01-18T20:17:27.894Z"
   },
   {
    "duration": 8302,
    "start_time": "2022-01-18T20:17:43.026Z"
   },
   {
    "duration": 8976,
    "start_time": "2022-01-18T20:17:54.817Z"
   },
   {
    "duration": 348,
    "start_time": "2022-01-18T20:18:54.904Z"
   },
   {
    "duration": 320,
    "start_time": "2022-01-18T20:19:05.688Z"
   },
   {
    "duration": 25,
    "start_time": "2022-01-18T20:19:33.867Z"
   },
   {
    "duration": 327,
    "start_time": "2022-01-18T20:19:43.665Z"
   },
   {
    "duration": 1092,
    "start_time": "2022-01-18T20:20:31.639Z"
   },
   {
    "duration": 410,
    "start_time": "2022-01-18T20:20:38.432Z"
   },
   {
    "duration": 8154,
    "start_time": "2022-01-18T20:20:47.893Z"
   },
   {
    "duration": 666,
    "start_time": "2022-01-18T20:22:40.409Z"
   },
   {
    "duration": 321,
    "start_time": "2022-01-18T20:23:03.222Z"
   },
   {
    "duration": 32,
    "start_time": "2022-01-18T20:23:36.568Z"
   },
   {
    "duration": 32,
    "start_time": "2022-01-18T20:23:48.037Z"
   },
   {
    "duration": 46,
    "start_time": "2022-01-18T20:24:21.621Z"
   },
   {
    "duration": 45,
    "start_time": "2022-01-18T20:24:32.484Z"
   },
   {
    "duration": 45,
    "start_time": "2022-01-18T20:25:13.191Z"
   },
   {
    "duration": 407,
    "start_time": "2022-01-18T20:25:20.565Z"
   },
   {
    "duration": 47,
    "start_time": "2022-01-18T20:25:26.999Z"
   },
   {
    "duration": 569,
    "start_time": "2022-01-18T20:30:35.976Z"
   },
   {
    "duration": 1363,
    "start_time": "2022-01-18T20:30:47.326Z"
   },
   {
    "duration": 10,
    "start_time": "2022-01-18T20:36:03.391Z"
   },
   {
    "duration": 28,
    "start_time": "2022-01-18T20:36:11.628Z"
   },
   {
    "duration": 48,
    "start_time": "2022-01-18T20:36:56.782Z"
   },
   {
    "duration": 53,
    "start_time": "2022-01-18T20:37:20.589Z"
   },
   {
    "duration": 50,
    "start_time": "2022-01-18T20:38:47.009Z"
   },
   {
    "duration": 51,
    "start_time": "2022-01-18T20:39:36.935Z"
   },
   {
    "duration": 87,
    "start_time": "2022-01-18T20:39:47.963Z"
   },
   {
    "duration": 87,
    "start_time": "2022-01-18T20:39:56.879Z"
   },
   {
    "duration": 49,
    "start_time": "2022-01-18T20:40:04.683Z"
   },
   {
    "duration": 58,
    "start_time": "2022-01-18T20:44:57.329Z"
   },
   {
    "duration": 61,
    "start_time": "2022-01-18T20:45:05.129Z"
   },
   {
    "duration": 364,
    "start_time": "2022-01-18T20:45:23.277Z"
   },
   {
    "duration": 369,
    "start_time": "2022-01-18T20:45:32.383Z"
   },
   {
    "duration": 64,
    "start_time": "2022-01-18T20:45:42.884Z"
   },
   {
    "duration": 74,
    "start_time": "2022-01-18T20:45:51.614Z"
   },
   {
    "duration": 70,
    "start_time": "2022-01-18T20:46:46.971Z"
   },
   {
    "duration": 81,
    "start_time": "2022-01-18T21:11:50.773Z"
   },
   {
    "duration": 73,
    "start_time": "2022-01-18T21:12:06.841Z"
   },
   {
    "duration": 331,
    "start_time": "2022-01-18T21:14:22.516Z"
   },
   {
    "duration": 5,
    "start_time": "2022-01-18T21:14:30.927Z"
   },
   {
    "duration": 6,
    "start_time": "2022-01-18T21:14:35.060Z"
   },
   {
    "duration": 676,
    "start_time": "2022-01-18T21:14:47.158Z"
   },
   {
    "duration": 9,
    "start_time": "2022-01-18T21:14:53.512Z"
   },
   {
    "duration": 7,
    "start_time": "2022-01-18T21:14:58.941Z"
   },
   {
    "duration": 429,
    "start_time": "2022-01-18T21:15:23.651Z"
   },
   {
    "duration": 350,
    "start_time": "2022-01-18T21:15:45.472Z"
   },
   {
    "duration": 423,
    "start_time": "2022-01-18T21:16:43.179Z"
   },
   {
    "duration": 331,
    "start_time": "2022-01-18T21:17:42.542Z"
   },
   {
    "duration": 378,
    "start_time": "2022-01-18T21:21:36.849Z"
   },
   {
    "duration": 109,
    "start_time": "2022-01-18T21:21:50.420Z"
   },
   {
    "duration": 5160,
    "start_time": "2022-01-18T21:22:32.979Z"
   },
   {
    "duration": 349,
    "start_time": "2022-01-18T21:25:03.764Z"
   },
   {
    "duration": 97,
    "start_time": "2022-01-18T21:25:16.708Z"
   },
   {
    "duration": 342,
    "start_time": "2022-01-18T21:26:38.658Z"
   },
   {
    "duration": 21,
    "start_time": "2022-01-18T21:27:18.040Z"
   },
   {
    "duration": 524,
    "start_time": "2022-01-18T21:27:51.058Z"
   },
   {
    "duration": 409,
    "start_time": "2022-01-18T21:30:19.368Z"
   },
   {
    "duration": 119,
    "start_time": "2022-01-18T21:31:36.058Z"
   },
   {
    "duration": 15,
    "start_time": "2022-01-18T21:31:49.217Z"
   },
   {
    "duration": 7,
    "start_time": "2022-01-18T21:33:27.721Z"
   },
   {
    "duration": 15,
    "start_time": "2022-01-18T21:33:35.217Z"
   },
   {
    "duration": 20,
    "start_time": "2022-01-18T21:33:45.104Z"
   },
   {
    "duration": 359,
    "start_time": "2022-01-18T21:33:56.192Z"
   },
   {
    "duration": 341,
    "start_time": "2022-01-18T21:34:10.586Z"
   },
   {
    "duration": 364,
    "start_time": "2022-01-18T21:34:24.072Z"
   },
   {
    "duration": 562,
    "start_time": "2022-01-18T21:35:39.822Z"
   },
   {
    "duration": 9,
    "start_time": "2022-01-18T21:35:51.512Z"
   },
   {
    "duration": 9,
    "start_time": "2022-01-18T21:36:03.104Z"
   },
   {
    "duration": 360,
    "start_time": "2022-01-18T21:36:18.428Z"
   },
   {
    "duration": 8,
    "start_time": "2022-01-18T21:37:13.816Z"
   },
   {
    "duration": 15,
    "start_time": "2022-01-18T21:37:23.326Z"
   },
   {
    "duration": 368,
    "start_time": "2022-01-18T21:37:31.960Z"
   },
   {
    "duration": 355,
    "start_time": "2022-01-18T21:37:44.100Z"
   },
   {
    "duration": 131,
    "start_time": "2022-01-18T21:38:04.044Z"
   },
   {
    "duration": 377,
    "start_time": "2022-01-18T21:38:11.684Z"
   },
   {
    "duration": 330,
    "start_time": "2022-01-18T21:38:42.834Z"
   },
   {
    "duration": 363,
    "start_time": "2022-01-18T21:39:06.110Z"
   },
   {
    "duration": 393,
    "start_time": "2022-01-18T21:39:19.406Z"
   },
   {
    "duration": 650,
    "start_time": "2022-01-18T21:40:12.559Z"
   },
   {
    "duration": 2476,
    "start_time": "2022-01-18T21:40:17.970Z"
   },
   {
    "duration": 372,
    "start_time": "2022-01-18T21:40:44.608Z"
   },
   {
    "duration": 2810,
    "start_time": "2022-01-18T21:41:07.775Z"
   },
   {
    "duration": 335,
    "start_time": "2022-01-19T18:18:26.181Z"
   },
   {
    "duration": 678,
    "start_time": "2022-01-19T18:18:30.257Z"
   },
   {
    "duration": 16,
    "start_time": "2022-01-19T18:18:30.937Z"
   },
   {
    "duration": 9,
    "start_time": "2022-01-19T18:18:33.256Z"
   },
   {
    "duration": 32,
    "start_time": "2022-01-19T18:18:34.278Z"
   },
   {
    "duration": 73,
    "start_time": "2022-01-19T18:18:36.905Z"
   },
   {
    "duration": 2592,
    "start_time": "2022-01-19T18:18:38.950Z"
   },
   {
    "duration": 8,
    "start_time": "2022-01-19T18:18:45.408Z"
   },
   {
    "duration": 4,
    "start_time": "2022-01-19T18:20:13.480Z"
   },
   {
    "duration": 4,
    "start_time": "2022-01-19T18:20:17.927Z"
   },
   {
    "duration": 10,
    "start_time": "2022-01-19T18:22:29.645Z"
   },
   {
    "duration": 9,
    "start_time": "2022-01-19T18:22:46.670Z"
   },
   {
    "duration": 9,
    "start_time": "2022-01-19T18:26:36.458Z"
   },
   {
    "duration": 10,
    "start_time": "2022-01-19T18:27:34.044Z"
   },
   {
    "duration": 11,
    "start_time": "2022-01-19T18:28:01.424Z"
   },
   {
    "duration": 11,
    "start_time": "2022-01-19T18:28:22.449Z"
   },
   {
    "duration": 11,
    "start_time": "2022-01-19T18:34:11.872Z"
   },
   {
    "duration": 22,
    "start_time": "2022-01-19T18:34:41.267Z"
   },
   {
    "duration": 21,
    "start_time": "2022-01-19T18:34:48.483Z"
   },
   {
    "duration": 20,
    "start_time": "2022-01-19T18:34:56.265Z"
   },
   {
    "duration": 11,
    "start_time": "2022-01-19T18:35:04.235Z"
   },
   {
    "duration": 15,
    "start_time": "2022-01-19T18:35:20.970Z"
   },
   {
    "duration": 370,
    "start_time": "2022-01-19T18:41:02.927Z"
   },
   {
    "duration": 332,
    "start_time": "2022-01-19T18:41:16.293Z"
   },
   {
    "duration": 108,
    "start_time": "2022-01-19T18:41:38.946Z"
   },
   {
    "duration": 15,
    "start_time": "2022-01-19T18:41:43.394Z"
   },
   {
    "duration": 354,
    "start_time": "2022-01-19T18:42:04.287Z"
   },
   {
    "duration": 14,
    "start_time": "2022-01-19T18:42:13.217Z"
   },
   {
    "duration": 105,
    "start_time": "2022-01-19T18:42:25.307Z"
   },
   {
    "duration": 9,
    "start_time": "2022-01-19T18:42:32.027Z"
   },
   {
    "duration": 9,
    "start_time": "2022-01-19T18:42:43.781Z"
   },
   {
    "duration": 10268,
    "start_time": "2022-01-19T18:53:17.959Z"
   },
   {
    "duration": 23,
    "start_time": "2022-01-19T18:57:29.581Z"
   },
   {
    "duration": 367,
    "start_time": "2022-01-19T18:58:15.429Z"
   },
   {
    "duration": 315,
    "start_time": "2022-01-19T18:58:20.462Z"
   },
   {
    "duration": 409,
    "start_time": "2022-01-19T18:58:29.937Z"
   },
   {
    "duration": 78,
    "start_time": "2022-01-19T18:58:40.163Z"
   },
   {
    "duration": 17,
    "start_time": "2022-01-19T18:58:40.343Z"
   },
   {
    "duration": 13,
    "start_time": "2022-01-19T18:58:41.089Z"
   },
   {
    "duration": 50,
    "start_time": "2022-01-19T18:58:41.748Z"
   },
   {
    "duration": 117,
    "start_time": "2022-01-19T18:58:43.671Z"
   },
   {
    "duration": 10656,
    "start_time": "2022-01-19T18:58:46.003Z"
   },
   {
    "duration": 337,
    "start_time": "2022-01-19T19:06:33.471Z"
   },
   {
    "duration": 392,
    "start_time": "2022-01-19T19:06:37.279Z"
   },
   {
    "duration": 448,
    "start_time": "2022-01-19T19:06:57.391Z"
   },
   {
    "duration": 56,
    "start_time": "2022-01-19T19:07:02.384Z"
   },
   {
    "duration": 11,
    "start_time": "2022-01-19T19:07:02.538Z"
   },
   {
    "duration": 9,
    "start_time": "2022-01-19T19:07:03.266Z"
   },
   {
    "duration": 31,
    "start_time": "2022-01-19T19:07:04.582Z"
   },
   {
    "duration": 75,
    "start_time": "2022-01-19T19:07:06.544Z"
   },
   {
    "duration": 2784,
    "start_time": "2022-01-19T19:07:08.503Z"
   },
   {
    "duration": 3359,
    "start_time": "2022-01-19T19:08:18.169Z"
   },
   {
    "duration": 3507,
    "start_time": "2022-01-19T19:09:14.631Z"
   },
   {
    "duration": 351,
    "start_time": "2022-01-19T19:09:25.883Z"
   },
   {
    "duration": 59,
    "start_time": "2022-01-19T19:09:31.003Z"
   },
   {
    "duration": 13,
    "start_time": "2022-01-19T19:09:31.163Z"
   },
   {
    "duration": 10,
    "start_time": "2022-01-19T19:09:31.849Z"
   },
   {
    "duration": 36,
    "start_time": "2022-01-19T19:09:32.928Z"
   },
   {
    "duration": 86,
    "start_time": "2022-01-19T19:09:34.340Z"
   },
   {
    "duration": 326,
    "start_time": "2022-01-19T19:09:36.265Z"
   },
   {
    "duration": 651,
    "start_time": "2022-01-19T19:10:46.700Z"
   },
   {
    "duration": 10039,
    "start_time": "2022-01-19T19:10:54.219Z"
   },
   {
    "duration": 315,
    "start_time": "2022-01-19T19:11:16.654Z"
   },
   {
    "duration": 2597,
    "start_time": "2022-01-19T19:19:34.791Z"
   },
   {
    "duration": 2640,
    "start_time": "2022-01-19T19:19:45.907Z"
   },
   {
    "duration": 5,
    "start_time": "2022-01-19T19:27:53.756Z"
   },
   {
    "duration": 9,
    "start_time": "2022-01-19T19:29:03.849Z"
   },
   {
    "duration": 8,
    "start_time": "2022-01-19T19:29:14.311Z"
   },
   {
    "duration": 7,
    "start_time": "2022-01-19T19:29:36.415Z"
   },
   {
    "duration": 6,
    "start_time": "2022-01-19T19:29:44.932Z"
   },
   {
    "duration": 7,
    "start_time": "2022-01-19T19:30:17.208Z"
   },
   {
    "duration": 7,
    "start_time": "2022-01-19T19:31:07.072Z"
   },
   {
    "duration": 320,
    "start_time": "2022-01-19T19:33:53.713Z"
   },
   {
    "duration": 9,
    "start_time": "2022-01-19T19:34:02.057Z"
   },
   {
    "duration": 11,
    "start_time": "2022-01-19T19:34:05.754Z"
   },
   {
    "duration": 7,
    "start_time": "2022-01-19T19:34:14.387Z"
   },
   {
    "duration": 308,
    "start_time": "2022-01-19T19:34:47.377Z"
   },
   {
    "duration": 331,
    "start_time": "2022-01-19T19:34:50.599Z"
   },
   {
    "duration": 10,
    "start_time": "2022-01-19T19:35:09.106Z"
   },
   {
    "duration": 5,
    "start_time": "2022-01-19T19:36:54.884Z"
   },
   {
    "duration": 7,
    "start_time": "2022-01-19T19:44:52.461Z"
   },
   {
    "duration": 4,
    "start_time": "2022-01-19T19:45:29.377Z"
   },
   {
    "duration": 5,
    "start_time": "2022-01-19T19:45:32.273Z"
   },
   {
    "duration": 6,
    "start_time": "2022-01-19T19:45:43.071Z"
   },
   {
    "duration": 6,
    "start_time": "2022-01-19T19:47:17.187Z"
   },
   {
    "duration": 7,
    "start_time": "2022-01-19T19:49:52.827Z"
   },
   {
    "duration": 3,
    "start_time": "2022-01-19T19:49:58.851Z"
   },
   {
    "duration": 4,
    "start_time": "2022-01-19T19:50:14.328Z"
   },
   {
    "duration": 5,
    "start_time": "2022-01-19T19:50:24.383Z"
   },
   {
    "duration": 4,
    "start_time": "2022-01-19T20:05:01.417Z"
   },
   {
    "duration": 4,
    "start_time": "2022-01-19T20:05:15.909Z"
   },
   {
    "duration": 8,
    "start_time": "2022-01-19T20:05:28.932Z"
   },
   {
    "duration": 8,
    "start_time": "2022-01-19T20:05:42.975Z"
   },
   {
    "duration": 330,
    "start_time": "2022-01-19T20:06:02.282Z"
   },
   {
    "duration": 6,
    "start_time": "2022-01-19T20:06:06.935Z"
   },
   {
    "duration": 178,
    "start_time": "2022-01-19T20:09:56.379Z"
   },
   {
    "duration": 518,
    "start_time": "2022-01-19T20:10:55.103Z"
   },
   {
    "duration": 975,
    "start_time": "2022-01-19T20:11:03.533Z"
   },
   {
    "duration": 130,
    "start_time": "2022-01-19T20:11:11.010Z"
   },
   {
    "duration": 178,
    "start_time": "2022-01-19T20:11:16.354Z"
   },
   {
    "duration": 7,
    "start_time": "2022-01-19T20:12:46.398Z"
   },
   {
    "duration": 7,
    "start_time": "2022-01-19T20:13:13.838Z"
   },
   {
    "duration": 177,
    "start_time": "2022-01-19T20:13:32.914Z"
   },
   {
    "duration": 180,
    "start_time": "2022-01-19T20:13:36.632Z"
   },
   {
    "duration": 8,
    "start_time": "2022-01-19T20:13:59.185Z"
   },
   {
    "duration": 6,
    "start_time": "2022-01-19T20:14:37.703Z"
   },
   {
    "duration": 5,
    "start_time": "2022-01-19T20:14:47.761Z"
   },
   {
    "duration": 6,
    "start_time": "2022-01-19T20:14:59.444Z"
   },
   {
    "duration": 5,
    "start_time": "2022-01-19T20:15:13.995Z"
   },
   {
    "duration": 7,
    "start_time": "2022-01-19T20:15:22.593Z"
   },
   {
    "duration": 314,
    "start_time": "2022-01-19T20:15:38.540Z"
   },
   {
    "duration": 339,
    "start_time": "2022-01-19T20:15:45.531Z"
   },
   {
    "duration": 7,
    "start_time": "2022-01-19T20:15:51.917Z"
   },
   {
    "duration": 183,
    "start_time": "2022-01-19T20:16:24.677Z"
   },
   {
    "duration": 8,
    "start_time": "2022-01-19T20:16:56.919Z"
   },
   {
    "duration": 8,
    "start_time": "2022-01-19T20:17:04.121Z"
   },
   {
    "duration": 5,
    "start_time": "2022-01-19T20:17:22.076Z"
   },
   {
    "duration": 4,
    "start_time": "2022-01-19T20:18:16.309Z"
   },
   {
    "duration": 25,
    "start_time": "2022-01-19T20:20:33.092Z"
   },
   {
    "duration": 442,
    "start_time": "2022-01-19T20:21:29.923Z"
   },
   {
    "duration": 6,
    "start_time": "2022-01-19T20:21:38.207Z"
   },
   {
    "duration": 50,
    "start_time": "2022-01-19T20:21:43.963Z"
   },
   {
    "duration": 12,
    "start_time": "2022-01-19T20:21:44.115Z"
   },
   {
    "duration": 6,
    "start_time": "2022-01-19T20:21:44.811Z"
   },
   {
    "duration": 7,
    "start_time": "2022-01-19T20:21:44.967Z"
   },
   {
    "duration": 6,
    "start_time": "2022-01-19T20:21:45.127Z"
   },
   {
    "duration": 5,
    "start_time": "2022-01-19T20:21:45.729Z"
   },
   {
    "duration": 5,
    "start_time": "2022-01-19T20:21:59.094Z"
   },
   {
    "duration": 5,
    "start_time": "2022-01-19T20:22:01.912Z"
   },
   {
    "duration": 117,
    "start_time": "2022-01-19T20:25:04.377Z"
   },
   {
    "duration": 6,
    "start_time": "2022-01-19T20:25:09.020Z"
   },
   {
    "duration": 307,
    "start_time": "2022-01-19T20:25:59.723Z"
   },
   {
    "duration": 19,
    "start_time": "2022-01-19T20:26:18.625Z"
   },
   {
    "duration": 27,
    "start_time": "2022-01-19T20:26:24.750Z"
   },
   {
    "duration": 22,
    "start_time": "2022-01-19T20:26:31.739Z"
   },
   {
    "duration": 6,
    "start_time": "2022-01-19T20:28:22.629Z"
   },
   {
    "duration": 7,
    "start_time": "2022-01-19T20:30:05.542Z"
   },
   {
    "duration": 12,
    "start_time": "2022-01-19T20:31:37.696Z"
   },
   {
    "duration": 21,
    "start_time": "2022-01-19T20:31:51.854Z"
   },
   {
    "duration": 6,
    "start_time": "2022-01-19T20:32:47.768Z"
   },
   {
    "duration": 111,
    "start_time": "2022-01-19T20:33:45.113Z"
   },
   {
    "duration": 6,
    "start_time": "2022-01-19T20:33:49.643Z"
   },
   {
    "duration": 14,
    "start_time": "2022-01-19T20:38:34.355Z"
   },
   {
    "duration": 6,
    "start_time": "2022-01-19T20:38:58.402Z"
   },
   {
    "duration": 6,
    "start_time": "2022-01-19T20:39:11.492Z"
   },
   {
    "duration": 6,
    "start_time": "2022-01-19T20:39:15.780Z"
   },
   {
    "duration": 6,
    "start_time": "2022-01-19T20:39:23.174Z"
   },
   {
    "duration": 6,
    "start_time": "2022-01-19T20:39:39.095Z"
   },
   {
    "duration": 5,
    "start_time": "2022-01-19T20:39:44.413Z"
   },
   {
    "duration": 5,
    "start_time": "2022-01-19T20:39:53.293Z"
   },
   {
    "duration": 6,
    "start_time": "2022-01-19T20:40:33.136Z"
   },
   {
    "duration": 5,
    "start_time": "2022-01-19T20:44:05.007Z"
   },
   {
    "duration": 369,
    "start_time": "2022-01-19T20:44:54.378Z"
   },
   {
    "duration": 9,
    "start_time": "2022-01-19T20:46:05.353Z"
   },
   {
    "duration": 358,
    "start_time": "2022-01-19T20:49:16.062Z"
   },
   {
    "duration": 8,
    "start_time": "2022-01-19T20:50:01.873Z"
   },
   {
    "duration": 11,
    "start_time": "2022-01-19T20:50:52.062Z"
   },
   {
    "duration": 8,
    "start_time": "2022-01-19T20:55:34.982Z"
   },
   {
    "duration": 9,
    "start_time": "2022-01-19T20:58:08.837Z"
   },
   {
    "duration": 31,
    "start_time": "2022-01-19T20:58:15.018Z"
   },
   {
    "duration": 8,
    "start_time": "2022-01-19T20:58:16.913Z"
   },
   {
    "duration": 7,
    "start_time": "2022-01-19T20:58:35.674Z"
   },
   {
    "duration": 4,
    "start_time": "2022-01-19T20:58:51.014Z"
   },
   {
    "duration": 4,
    "start_time": "2022-01-19T20:58:54.958Z"
   },
   {
    "duration": 8,
    "start_time": "2022-01-19T20:59:04.924Z"
   },
   {
    "duration": 929,
    "start_time": "2022-01-20T19:11:46.067Z"
   },
   {
    "duration": 29,
    "start_time": "2022-01-20T19:11:46.999Z"
   },
   {
    "duration": 10,
    "start_time": "2022-01-20T19:11:55.141Z"
   },
   {
    "duration": 11,
    "start_time": "2022-01-20T19:11:55.713Z"
   },
   {
    "duration": 12,
    "start_time": "2022-01-20T19:11:56.484Z"
   },
   {
    "duration": 4,
    "start_time": "2022-01-20T19:11:56.987Z"
   },
   {
    "duration": 8,
    "start_time": "2022-01-20T19:11:57.284Z"
   },
   {
    "duration": 7,
    "start_time": "2022-01-20T19:12:02.386Z"
   },
   {
    "duration": 10,
    "start_time": "2022-01-20T19:12:02.874Z"
   },
   {
    "duration": 25,
    "start_time": "2022-01-20T19:12:03.432Z"
   },
   {
    "duration": 8,
    "start_time": "2022-01-20T19:12:03.918Z"
   },
   {
    "duration": 9,
    "start_time": "2022-01-20T19:12:04.256Z"
   },
   {
    "duration": 25,
    "start_time": "2022-01-20T19:12:04.718Z"
   },
   {
    "duration": 8,
    "start_time": "2022-01-20T19:12:05.142Z"
   },
   {
    "duration": 10,
    "start_time": "2022-01-20T19:12:05.525Z"
   },
   {
    "duration": 24,
    "start_time": "2022-01-20T19:12:05.982Z"
   },
   {
    "duration": 10,
    "start_time": "2022-01-20T19:12:06.462Z"
   },
   {
    "duration": 8,
    "start_time": "2022-01-20T19:12:06.956Z"
   },
   {
    "duration": 12,
    "start_time": "2022-01-20T19:12:07.482Z"
   },
   {
    "duration": 14,
    "start_time": "2022-01-20T19:12:08.485Z"
   },
   {
    "duration": 52,
    "start_time": "2022-01-20T19:12:12.452Z"
   },
   {
    "duration": 12,
    "start_time": "2022-01-20T19:12:12.779Z"
   },
   {
    "duration": 11,
    "start_time": "2022-01-20T19:12:13.247Z"
   },
   {
    "duration": 78,
    "start_time": "2022-01-20T19:26:52.034Z"
   },
   {
    "duration": 113,
    "start_time": "2022-01-20T19:27:03.947Z"
   },
   {
    "duration": 3572,
    "start_time": "2022-01-20T19:27:05.933Z"
   },
   {
    "duration": 14,
    "start_time": "2022-01-20T19:27:11.589Z"
   },
   {
    "duration": 9,
    "start_time": "2022-01-20T19:27:14.238Z"
   },
   {
    "duration": 9,
    "start_time": "2022-01-20T19:27:19.878Z"
   },
   {
    "duration": 11,
    "start_time": "2022-01-20T19:29:55.872Z"
   },
   {
    "duration": 9,
    "start_time": "2022-01-20T19:32:36.401Z"
   },
   {
    "duration": 11,
    "start_time": "2022-01-20T19:32:40.217Z"
   },
   {
    "duration": 13,
    "start_time": "2022-01-20T19:36:11.634Z"
   },
   {
    "duration": 12,
    "start_time": "2022-01-20T20:06:11.596Z"
   },
   {
    "duration": 16,
    "start_time": "2022-01-20T20:06:56.399Z"
   },
   {
    "duration": 20,
    "start_time": "2022-01-20T20:07:17.938Z"
   },
   {
    "duration": 16,
    "start_time": "2022-01-20T20:07:30.038Z"
   },
   {
    "duration": 14,
    "start_time": "2022-01-20T20:08:15.344Z"
   },
   {
    "duration": 17,
    "start_time": "2022-01-20T20:10:08.352Z"
   },
   {
    "duration": 13,
    "start_time": "2022-01-20T20:10:21.095Z"
   },
   {
    "duration": 19,
    "start_time": "2022-01-20T20:10:29.373Z"
   },
   {
    "duration": 445,
    "start_time": "2022-01-20T20:13:13.351Z"
   },
   {
    "duration": 12,
    "start_time": "2022-01-20T20:13:29.901Z"
   },
   {
    "duration": 12,
    "start_time": "2022-01-20T20:13:37.988Z"
   },
   {
    "duration": 6,
    "start_time": "2022-01-20T20:20:01.409Z"
   },
   {
    "duration": 26,
    "start_time": "2022-01-20T20:20:15.462Z"
   },
   {
    "duration": 25,
    "start_time": "2022-01-20T20:20:25.112Z"
   },
   {
    "duration": 386,
    "start_time": "2022-01-20T20:20:39.601Z"
   },
   {
    "duration": 6925,
    "start_time": "2022-01-20T20:21:01.852Z"
   },
   {
    "duration": 410,
    "start_time": "2022-01-20T20:21:20.358Z"
   },
   {
    "duration": 27,
    "start_time": "2022-01-20T20:21:25.238Z"
   },
   {
    "duration": 13,
    "start_time": "2022-01-20T20:25:54.628Z"
   },
   {
    "duration": 11,
    "start_time": "2022-01-20T20:26:06.792Z"
   },
   {
    "duration": 12659,
    "start_time": "2022-01-20T20:31:22.575Z"
   },
   {
    "duration": 26,
    "start_time": "2022-01-20T20:31:44.705Z"
   },
   {
    "duration": 680,
    "start_time": "2022-01-20T20:32:38.931Z"
   },
   {
    "duration": 957,
    "start_time": "2022-01-20T20:32:56.257Z"
   },
   {
    "duration": 814,
    "start_time": "2022-01-20T20:33:00.448Z"
   },
   {
    "duration": 83,
    "start_time": "2022-01-20T20:33:07.801Z"
   },
   {
    "duration": 28,
    "start_time": "2022-01-20T20:33:07.944Z"
   },
   {
    "duration": 9,
    "start_time": "2022-01-20T20:33:08.663Z"
   },
   {
    "duration": 12,
    "start_time": "2022-01-20T20:33:08.832Z"
   },
   {
    "duration": 13,
    "start_time": "2022-01-20T20:33:08.961Z"
   },
   {
    "duration": 3,
    "start_time": "2022-01-20T20:33:09.104Z"
   },
   {
    "duration": 8,
    "start_time": "2022-01-20T20:33:09.262Z"
   },
   {
    "duration": 7,
    "start_time": "2022-01-20T20:33:09.393Z"
   },
   {
    "duration": 10,
    "start_time": "2022-01-20T20:33:09.541Z"
   },
   {
    "duration": 23,
    "start_time": "2022-01-20T20:33:09.700Z"
   },
   {
    "duration": 7,
    "start_time": "2022-01-20T20:33:09.864Z"
   },
   {
    "duration": 10,
    "start_time": "2022-01-20T20:33:10.019Z"
   },
   {
    "duration": 25,
    "start_time": "2022-01-20T20:33:10.162Z"
   },
   {
    "duration": 8,
    "start_time": "2022-01-20T20:33:10.333Z"
   },
   {
    "duration": 9,
    "start_time": "2022-01-20T20:33:10.500Z"
   },
   {
    "duration": 21,
    "start_time": "2022-01-20T20:33:10.656Z"
   },
   {
    "duration": 9,
    "start_time": "2022-01-20T20:33:10.798Z"
   },
   {
    "duration": 9,
    "start_time": "2022-01-20T20:33:10.961Z"
   },
   {
    "duration": 13,
    "start_time": "2022-01-20T20:33:11.275Z"
   },
   {
    "duration": 15,
    "start_time": "2022-01-20T20:33:11.423Z"
   },
   {
    "duration": 53,
    "start_time": "2022-01-20T20:33:12.414Z"
   },
   {
    "duration": 12,
    "start_time": "2022-01-20T20:33:12.879Z"
   },
   {
    "duration": 12,
    "start_time": "2022-01-20T20:33:13.095Z"
   },
   {
    "duration": 107,
    "start_time": "2022-01-20T20:33:14.507Z"
   },
   {
    "duration": 4043,
    "start_time": "2022-01-20T20:33:16.460Z"
   },
   {
    "duration": 14,
    "start_time": "2022-01-20T20:33:20.507Z"
   },
   {
    "duration": 35,
    "start_time": "2022-01-20T20:33:20.524Z"
   },
   {
    "duration": 18,
    "start_time": "2022-01-20T20:33:20.931Z"
   },
   {
    "duration": 6,
    "start_time": "2022-01-20T20:33:26.006Z"
   },
   {
    "duration": 10,
    "start_time": "2022-01-20T20:33:34.822Z"
   },
   {
    "duration": 294,
    "start_time": "2022-01-20T20:34:08.464Z"
   },
   {
    "duration": 7,
    "start_time": "2022-01-20T20:34:50.744Z"
   },
   {
    "duration": 10,
    "start_time": "2022-01-20T20:34:53.276Z"
   },
   {
    "duration": 1953,
    "start_time": "2022-01-20T20:35:10.488Z"
   },
   {
    "duration": 530,
    "start_time": "2022-01-20T20:35:50.009Z"
   },
   {
    "duration": 34,
    "start_time": "2022-01-20T20:37:00.215Z"
   },
   {
    "duration": 30,
    "start_time": "2022-01-20T20:39:36.364Z"
   },
   {
    "duration": 115,
    "start_time": "2022-01-20T20:40:02.422Z"
   },
   {
    "duration": 20,
    "start_time": "2022-01-20T20:40:10.123Z"
   },
   {
    "duration": 408,
    "start_time": "2022-01-20T20:41:09.606Z"
   },
   {
    "duration": 5,
    "start_time": "2022-01-20T20:41:26.177Z"
   },
   {
    "duration": 357,
    "start_time": "2022-01-20T20:41:42.437Z"
   },
   {
    "duration": 5,
    "start_time": "2022-01-20T20:41:51.518Z"
   },
   {
    "duration": 10,
    "start_time": "2022-01-20T20:42:12.789Z"
   },
   {
    "duration": 9,
    "start_time": "2022-01-20T20:42:40.461Z"
   },
   {
    "duration": 429,
    "start_time": "2022-01-20T20:43:50.105Z"
   },
   {
    "duration": 24,
    "start_time": "2022-01-20T20:44:14.162Z"
   },
   {
    "duration": 13,
    "start_time": "2022-01-20T20:44:23.606Z"
   },
   {
    "duration": 11,
    "start_time": "2022-01-20T20:51:10.705Z"
   },
   {
    "duration": 30,
    "start_time": "2022-01-20T20:51:33.356Z"
   },
   {
    "duration": 12,
    "start_time": "2022-01-20T20:51:35.356Z"
   },
   {
    "duration": 165,
    "start_time": "2022-01-20T20:52:57.186Z"
   },
   {
    "duration": 13,
    "start_time": "2022-01-20T20:53:00.746Z"
   },
   {
    "duration": 16,
    "start_time": "2022-01-20T20:53:12.384Z"
   },
   {
    "duration": 6,
    "start_time": "2022-01-20T20:53:32.373Z"
   },
   {
    "duration": 10,
    "start_time": "2022-01-20T20:53:37.448Z"
   },
   {
    "duration": 34,
    "start_time": "2022-01-20T20:55:19.537Z"
   },
   {
    "duration": 95,
    "start_time": "2022-01-20T20:55:41.150Z"
   },
   {
    "duration": 20,
    "start_time": "2022-01-20T20:55:41.293Z"
   },
   {
    "duration": 8,
    "start_time": "2022-01-20T20:55:42.035Z"
   },
   {
    "duration": 12,
    "start_time": "2022-01-20T20:55:42.191Z"
   },
   {
    "duration": 13,
    "start_time": "2022-01-20T20:55:42.341Z"
   },
   {
    "duration": 3,
    "start_time": "2022-01-20T20:55:42.514Z"
   },
   {
    "duration": 14,
    "start_time": "2022-01-20T20:55:42.677Z"
   },
   {
    "duration": 8,
    "start_time": "2022-01-20T20:55:42.819Z"
   },
   {
    "duration": 11,
    "start_time": "2022-01-20T20:55:42.976Z"
   },
   {
    "duration": 40,
    "start_time": "2022-01-20T20:55:43.126Z"
   },
   {
    "duration": 9,
    "start_time": "2022-01-20T20:55:44.682Z"
   },
   {
    "duration": 10,
    "start_time": "2022-01-20T20:55:44.694Z"
   },
   {
    "duration": 26,
    "start_time": "2022-01-20T20:55:44.708Z"
   },
   {
    "duration": 23,
    "start_time": "2022-01-20T20:55:44.737Z"
   },
   {
    "duration": 11,
    "start_time": "2022-01-20T20:55:44.763Z"
   },
   {
    "duration": 24,
    "start_time": "2022-01-20T20:55:44.777Z"
   },
   {
    "duration": 13,
    "start_time": "2022-01-20T20:55:44.804Z"
   },
   {
    "duration": 8,
    "start_time": "2022-01-20T20:55:45.572Z"
   },
   {
    "duration": 14,
    "start_time": "2022-01-20T20:55:46.079Z"
   },
   {
    "duration": 16,
    "start_time": "2022-01-20T20:55:46.442Z"
   },
   {
    "duration": 50,
    "start_time": "2022-01-20T20:55:47.462Z"
   },
   {
    "duration": 12,
    "start_time": "2022-01-20T20:55:48.011Z"
   },
   {
    "duration": 12,
    "start_time": "2022-01-20T20:55:48.417Z"
   },
   {
    "duration": 114,
    "start_time": "2022-01-20T20:55:50.230Z"
   },
   {
    "duration": 3367,
    "start_time": "2022-01-20T20:55:51.695Z"
   },
   {
    "duration": 14,
    "start_time": "2022-01-20T20:55:55.064Z"
   },
   {
    "duration": 15,
    "start_time": "2022-01-20T20:55:55.892Z"
   },
   {
    "duration": 20,
    "start_time": "2022-01-20T20:55:57.610Z"
   },
   {
    "duration": 10,
    "start_time": "2022-01-20T20:55:59.477Z"
   },
   {
    "duration": 32,
    "start_time": "2022-01-20T20:56:00.188Z"
   },
   {
    "duration": 18,
    "start_time": "2022-01-20T20:57:48.560Z"
   },
   {
    "duration": 6,
    "start_time": "2022-01-20T20:57:53.272Z"
   },
   {
    "duration": 10,
    "start_time": "2022-01-20T20:57:58.580Z"
   },
   {
    "duration": 15,
    "start_time": "2022-01-20T21:00:12.385Z"
   },
   {
    "duration": 12,
    "start_time": "2022-01-20T21:24:40.854Z"
   },
   {
    "duration": 20,
    "start_time": "2022-01-20T21:25:19.435Z"
   },
   {
    "duration": 12,
    "start_time": "2022-01-20T21:29:19.297Z"
   },
   {
    "duration": 7,
    "start_time": "2022-01-20T21:29:42.289Z"
   },
   {
    "duration": 9,
    "start_time": "2022-01-20T21:30:12.549Z"
   },
   {
    "duration": 10,
    "start_time": "2022-01-20T21:30:24.256Z"
   },
   {
    "duration": 436,
    "start_time": "2022-01-20T21:33:07.222Z"
   },
   {
    "duration": 3398,
    "start_time": "2022-01-20T21:33:17.137Z"
   },
   {
    "duration": 806,
    "start_time": "2022-01-20T21:37:55.945Z"
   },
   {
    "duration": 131,
    "start_time": "2022-01-20T21:38:12.062Z"
   },
   {
    "duration": 144,
    "start_time": "2022-01-20T21:38:20.972Z"
   },
   {
    "duration": 413,
    "start_time": "2022-01-20T21:38:36.769Z"
   },
   {
    "duration": 19,
    "start_time": "2022-01-20T21:38:47.123Z"
   },
   {
    "duration": 8,
    "start_time": "2022-01-20T21:40:30.277Z"
   },
   {
    "duration": 10,
    "start_time": "2022-01-20T21:40:33.913Z"
   },
   {
    "duration": 101,
    "start_time": "2022-01-20T21:41:57.885Z"
   },
   {
    "duration": 378,
    "start_time": "2022-01-20T21:43:29.561Z"
   },
   {
    "duration": 388,
    "start_time": "2022-01-20T21:44:01.438Z"
   },
   {
    "duration": 410,
    "start_time": "2022-01-20T21:44:05.905Z"
   },
   {
    "duration": 387,
    "start_time": "2022-01-20T21:44:14.372Z"
   },
   {
    "duration": 80,
    "start_time": "2022-01-20T21:44:23.811Z"
   },
   {
    "duration": 19,
    "start_time": "2022-01-20T21:44:23.952Z"
   },
   {
    "duration": 9,
    "start_time": "2022-01-20T21:44:24.686Z"
   },
   {
    "duration": 12,
    "start_time": "2022-01-20T21:44:24.836Z"
   },
   {
    "duration": 12,
    "start_time": "2022-01-20T21:44:24.986Z"
   },
   {
    "duration": 4,
    "start_time": "2022-01-20T21:44:25.136Z"
   },
   {
    "duration": 9,
    "start_time": "2022-01-20T21:44:25.300Z"
   },
   {
    "duration": 7,
    "start_time": "2022-01-20T21:44:25.450Z"
   },
   {
    "duration": 10,
    "start_time": "2022-01-20T21:44:25.606Z"
   },
   {
    "duration": 25,
    "start_time": "2022-01-20T21:44:25.754Z"
   },
   {
    "duration": 8,
    "start_time": "2022-01-20T21:44:25.920Z"
   },
   {
    "duration": 13,
    "start_time": "2022-01-20T21:44:26.075Z"
   },
   {
    "duration": 26,
    "start_time": "2022-01-20T21:44:26.241Z"
   },
   {
    "duration": 8,
    "start_time": "2022-01-20T21:44:26.414Z"
   },
   {
    "duration": 10,
    "start_time": "2022-01-20T21:44:26.560Z"
   },
   {
    "duration": 24,
    "start_time": "2022-01-20T21:44:26.742Z"
   },
   {
    "duration": 11,
    "start_time": "2022-01-20T21:44:26.891Z"
   },
   {
    "duration": 10,
    "start_time": "2022-01-20T21:44:27.220Z"
   },
   {
    "duration": 13,
    "start_time": "2022-01-20T21:44:27.387Z"
   },
   {
    "duration": 17,
    "start_time": "2022-01-20T21:44:27.534Z"
   },
   {
    "duration": 51,
    "start_time": "2022-01-20T21:44:28.523Z"
   },
   {
    "duration": 11,
    "start_time": "2022-01-20T21:44:28.906Z"
   },
   {
    "duration": 12,
    "start_time": "2022-01-20T21:44:29.166Z"
   },
   {
    "duration": 134,
    "start_time": "2022-01-20T21:44:30.976Z"
   },
   {
    "duration": 3894,
    "start_time": "2022-01-20T21:44:32.788Z"
   },
   {
    "duration": 15,
    "start_time": "2022-01-20T21:44:37.809Z"
   },
   {
    "duration": 109,
    "start_time": "2022-01-20T21:44:37.963Z"
   },
   {
    "duration": 12518,
    "start_time": "2022-01-20T21:46:02.691Z"
   },
   {
    "duration": 26,
    "start_time": "2022-01-20T21:46:23.248Z"
   },
   {
    "duration": 370,
    "start_time": "2022-01-20T21:47:40.447Z"
   },
   {
    "duration": 363,
    "start_time": "2022-01-20T21:48:07.819Z"
   },
   {
    "duration": 363,
    "start_time": "2022-01-20T21:48:47.832Z"
   },
   {
    "duration": 359,
    "start_time": "2022-01-20T21:50:04.306Z"
   },
   {
    "duration": 377,
    "start_time": "2022-01-20T21:50:30.047Z"
   },
   {
    "duration": 132,
    "start_time": "2022-01-20T21:51:18.263Z"
   },
   {
    "duration": 143,
    "start_time": "2022-01-20T21:51:28.066Z"
   },
   {
    "duration": 114,
    "start_time": "2022-01-20T21:51:37.000Z"
   },
   {
    "duration": 16,
    "start_time": "2022-01-20T21:51:47.656Z"
   },
   {
    "duration": 54,
    "start_time": "2022-01-20T21:51:55.516Z"
   },
   {
    "duration": 19,
    "start_time": "2022-01-20T21:55:33.307Z"
   },
   {
    "duration": 22,
    "start_time": "2022-01-20T21:55:47.820Z"
   },
   {
    "duration": 20,
    "start_time": "2022-01-20T21:56:18.130Z"
   },
   {
    "duration": 11,
    "start_time": "2022-01-20T21:59:55.933Z"
   },
   {
    "duration": 28,
    "start_time": "2022-01-20T22:00:01.977Z"
   },
   {
    "duration": 12,
    "start_time": "2022-01-20T22:00:49.292Z"
   },
   {
    "duration": 12,
    "start_time": "2022-01-20T22:00:54.152Z"
   },
   {
    "duration": 11,
    "start_time": "2022-01-20T22:01:05.207Z"
   },
   {
    "duration": 11,
    "start_time": "2022-01-20T22:01:36.182Z"
   },
   {
    "duration": 12,
    "start_time": "2022-01-20T22:01:41.925Z"
   },
   {
    "duration": 30,
    "start_time": "2022-01-20T22:02:19.056Z"
   },
   {
    "duration": 18,
    "start_time": "2022-01-20T22:03:39.150Z"
   },
   {
    "duration": 12,
    "start_time": "2022-01-20T22:03:54.778Z"
   },
   {
    "duration": 10,
    "start_time": "2022-01-20T22:03:58.814Z"
   },
   {
    "duration": 16,
    "start_time": "2022-01-20T22:04:39.304Z"
   },
   {
    "duration": 21,
    "start_time": "2022-01-20T22:04:51.372Z"
   },
   {
    "duration": 4743,
    "start_time": "2022-01-20T22:06:51.156Z"
   },
   {
    "duration": 9162,
    "start_time": "2022-01-20T22:08:36.855Z"
   },
   {
    "duration": 4402,
    "start_time": "2022-01-20T22:24:35.294Z"
   },
   {
    "duration": 4290,
    "start_time": "2022-01-20T22:26:08.642Z"
   },
   {
    "duration": 4740,
    "start_time": "2022-01-20T22:26:32.094Z"
   },
   {
    "duration": 86255,
    "start_time": "2022-01-20T22:28:57.475Z"
   },
   {
    "duration": 338,
    "start_time": "2022-01-20T22:32:11.741Z"
   },
   {
    "duration": 613,
    "start_time": "2022-01-20T22:32:57.345Z"
   },
   {
    "duration": 105,
    "start_time": "2022-01-20T22:33:09.947Z"
   },
   {
    "duration": 30,
    "start_time": "2022-01-20T22:33:10.103Z"
   },
   {
    "duration": 11,
    "start_time": "2022-01-20T22:33:10.825Z"
   },
   {
    "duration": 15,
    "start_time": "2022-01-20T22:33:10.981Z"
   },
   {
    "duration": 13,
    "start_time": "2022-01-20T22:33:11.137Z"
   },
   {
    "duration": 3,
    "start_time": "2022-01-20T22:33:11.294Z"
   },
   {
    "duration": 9,
    "start_time": "2022-01-20T22:33:11.459Z"
   },
   {
    "duration": 7,
    "start_time": "2022-01-20T22:33:11.617Z"
   },
   {
    "duration": 10,
    "start_time": "2022-01-20T22:33:11.772Z"
   },
   {
    "duration": 22,
    "start_time": "2022-01-20T22:33:11.953Z"
   },
   {
    "duration": 8,
    "start_time": "2022-01-20T22:33:12.156Z"
   },
   {
    "duration": 10,
    "start_time": "2022-01-20T22:33:12.321Z"
   },
   {
    "duration": 27,
    "start_time": "2022-01-20T22:33:12.611Z"
   },
   {
    "duration": 7,
    "start_time": "2022-01-20T22:33:12.777Z"
   },
   {
    "duration": 11,
    "start_time": "2022-01-20T22:33:14.643Z"
   },
   {
    "duration": 22,
    "start_time": "2022-01-20T22:33:14.657Z"
   },
   {
    "duration": 8,
    "start_time": "2022-01-20T22:33:14.682Z"
   },
   {
    "duration": 7,
    "start_time": "2022-01-20T22:33:14.693Z"
   },
   {
    "duration": 11,
    "start_time": "2022-01-20T22:33:14.732Z"
   },
   {
    "duration": 14,
    "start_time": "2022-01-20T22:33:15.137Z"
   },
   {
    "duration": 55,
    "start_time": "2022-01-20T22:33:16.950Z"
   },
   {
    "duration": 11,
    "start_time": "2022-01-20T22:33:17.671Z"
   },
   {
    "duration": 11,
    "start_time": "2022-01-20T22:33:18.385Z"
   },
   {
    "duration": 129,
    "start_time": "2022-01-20T22:33:20.799Z"
   },
   {
    "duration": 3344,
    "start_time": "2022-01-20T22:33:22.815Z"
   },
   {
    "duration": 15,
    "start_time": "2022-01-20T22:33:26.164Z"
   },
   {
    "duration": 54072,
    "start_time": "2022-01-20T22:33:26.183Z"
   },
   {
    "duration": 69,
    "start_time": "2022-01-20T22:35:26.867Z"
   },
   {
    "duration": 21,
    "start_time": "2022-01-20T22:35:26.939Z"
   },
   {
    "duration": 7,
    "start_time": "2022-01-20T22:35:26.963Z"
   },
   {
    "duration": 10,
    "start_time": "2022-01-20T22:35:26.973Z"
   },
   {
    "duration": 14,
    "start_time": "2022-01-20T22:35:26.985Z"
   },
   {
    "duration": 3,
    "start_time": "2022-01-20T22:35:27.001Z"
   },
   {
    "duration": 10,
    "start_time": "2022-01-20T22:35:27.006Z"
   },
   {
    "duration": 8,
    "start_time": "2022-01-20T22:35:27.018Z"
   },
   {
    "duration": 9,
    "start_time": "2022-01-20T22:35:27.031Z"
   },
   {
    "duration": 32,
    "start_time": "2022-01-20T22:35:27.043Z"
   },
   {
    "duration": 7,
    "start_time": "2022-01-20T22:35:27.078Z"
   },
   {
    "duration": 9,
    "start_time": "2022-01-20T22:35:27.087Z"
   },
   {
    "duration": 27,
    "start_time": "2022-01-20T22:35:27.098Z"
   },
   {
    "duration": 7,
    "start_time": "2022-01-20T22:35:27.127Z"
   },
   {
    "duration": 25,
    "start_time": "2022-01-20T22:35:27.137Z"
   },
   {
    "duration": 23,
    "start_time": "2022-01-20T22:35:27.164Z"
   },
   {
    "duration": 9,
    "start_time": "2022-01-20T22:35:27.189Z"
   },
   {
    "duration": 8,
    "start_time": "2022-01-20T22:35:27.200Z"
   },
   {
    "duration": 10,
    "start_time": "2022-01-20T22:35:27.210Z"
   },
   {
    "duration": 14,
    "start_time": "2022-01-20T22:35:27.223Z"
   },
   {
    "duration": 66,
    "start_time": "2022-01-20T22:35:27.239Z"
   },
   {
    "duration": 9,
    "start_time": "2022-01-20T22:35:27.308Z"
   },
   {
    "duration": 10,
    "start_time": "2022-01-20T22:35:27.319Z"
   },
   {
    "duration": 122,
    "start_time": "2022-01-20T22:35:27.331Z"
   },
   {
    "duration": 3804,
    "start_time": "2022-01-20T22:35:27.455Z"
   },
   {
    "duration": 14,
    "start_time": "2022-01-20T22:35:34.042Z"
   },
   {
    "duration": 79721,
    "start_time": "2022-01-20T22:35:34.058Z"
   },
   {
    "duration": 69,
    "start_time": "2022-01-20T22:40:44.771Z"
   },
   {
    "duration": 21,
    "start_time": "2022-01-20T22:40:44.843Z"
   },
   {
    "duration": 10,
    "start_time": "2022-01-20T22:40:44.868Z"
   },
   {
    "duration": 14,
    "start_time": "2022-01-20T22:40:44.881Z"
   },
   {
    "duration": 13,
    "start_time": "2022-01-20T22:40:44.920Z"
   },
   {
    "duration": 4,
    "start_time": "2022-01-20T22:40:45.080Z"
   },
   {
    "duration": 9,
    "start_time": "2022-01-20T22:40:45.244Z"
   },
   {
    "duration": 7,
    "start_time": "2022-01-20T22:40:45.433Z"
   },
   {
    "duration": 10,
    "start_time": "2022-01-20T22:40:45.599Z"
   },
   {
    "duration": 24,
    "start_time": "2022-01-20T22:40:45.779Z"
   },
   {
    "duration": 8,
    "start_time": "2022-01-20T22:40:45.942Z"
   },
   {
    "duration": 10,
    "start_time": "2022-01-20T22:40:46.390Z"
   },
   {
    "duration": 44,
    "start_time": "2022-01-20T22:40:46.681Z"
   },
   {
    "duration": 8,
    "start_time": "2022-01-20T22:40:46.876Z"
   },
   {
    "duration": 11,
    "start_time": "2022-01-20T22:40:47.040Z"
   },
   {
    "duration": 37,
    "start_time": "2022-01-20T22:40:47.213Z"
   },
   {
    "duration": 15,
    "start_time": "2022-01-20T22:40:47.363Z"
   },
   {
    "duration": 11,
    "start_time": "2022-01-20T22:40:47.590Z"
   },
   {
    "duration": 16,
    "start_time": "2022-01-20T22:40:47.926Z"
   },
   {
    "duration": 15,
    "start_time": "2022-01-20T22:40:48.289Z"
   },
   {
    "duration": 55,
    "start_time": "2022-01-20T22:40:49.677Z"
   },
   {
    "duration": 12,
    "start_time": "2022-01-20T22:40:49.856Z"
   },
   {
    "duration": 13,
    "start_time": "2022-01-20T22:40:50.462Z"
   },
   {
    "duration": 110,
    "start_time": "2022-01-20T22:40:52.265Z"
   },
   {
    "duration": 3804,
    "start_time": "2022-01-20T22:40:54.015Z"
   },
   {
    "duration": 14,
    "start_time": "2022-01-20T22:40:57.822Z"
   },
   {
    "duration": 87769,
    "start_time": "2022-01-20T22:41:03.623Z"
   },
   {
    "duration": 134,
    "start_time": "2022-01-20T22:45:18.432Z"
   },
   {
    "duration": 71,
    "start_time": "2022-01-20T22:45:50.775Z"
   },
   {
    "duration": 19,
    "start_time": "2022-01-20T22:45:50.929Z"
   },
   {
    "duration": 9,
    "start_time": "2022-01-20T22:45:51.655Z"
   },
   {
    "duration": 11,
    "start_time": "2022-01-20T22:45:51.811Z"
   },
   {
    "duration": 12,
    "start_time": "2022-01-20T22:45:51.967Z"
   },
   {
    "duration": 4,
    "start_time": "2022-01-20T22:45:52.139Z"
   },
   {
    "duration": 10,
    "start_time": "2022-01-20T22:45:52.289Z"
   },
   {
    "duration": 8,
    "start_time": "2022-01-20T22:45:52.437Z"
   },
   {
    "duration": 11,
    "start_time": "2022-01-20T22:45:52.595Z"
   },
   {
    "duration": 24,
    "start_time": "2022-01-20T22:45:52.759Z"
   },
   {
    "duration": 9,
    "start_time": "2022-01-20T22:45:52.909Z"
   },
   {
    "duration": 10,
    "start_time": "2022-01-20T22:45:53.066Z"
   },
   {
    "duration": 25,
    "start_time": "2022-01-20T22:45:53.229Z"
   },
   {
    "duration": 11,
    "start_time": "2022-01-20T22:45:53.403Z"
   },
   {
    "duration": 10,
    "start_time": "2022-01-20T22:45:53.551Z"
   },
   {
    "duration": 22,
    "start_time": "2022-01-20T22:45:53.686Z"
   },
   {
    "duration": 10,
    "start_time": "2022-01-20T22:45:54.015Z"
   },
   {
    "duration": 8,
    "start_time": "2022-01-20T22:45:54.163Z"
   },
   {
    "duration": 12,
    "start_time": "2022-01-20T22:45:54.595Z"
   },
   {
    "duration": 14,
    "start_time": "2022-01-20T22:45:54.735Z"
   },
   {
    "duration": 53,
    "start_time": "2022-01-20T22:45:55.412Z"
   },
   {
    "duration": 11,
    "start_time": "2022-01-20T22:45:56.016Z"
   },
   {
    "duration": 12,
    "start_time": "2022-01-20T22:45:56.164Z"
   },
   {
    "duration": 134,
    "start_time": "2022-01-20T22:45:57.858Z"
   },
   {
    "duration": 3494,
    "start_time": "2022-01-20T22:45:59.052Z"
   },
   {
    "duration": 85159,
    "start_time": "2022-01-20T22:46:03.461Z"
   },
   {
    "duration": 129,
    "start_time": "2022-01-20T22:47:37.507Z"
   },
   {
    "duration": 828,
    "start_time": "2022-01-24T04:56:23.557Z"
   },
   {
    "duration": 29,
    "start_time": "2022-01-24T04:56:24.388Z"
   },
   {
    "duration": 9,
    "start_time": "2022-01-24T04:56:29.591Z"
   },
   {
    "duration": 12,
    "start_time": "2022-01-24T04:56:33.623Z"
   },
   {
    "duration": 12,
    "start_time": "2022-01-24T04:56:34.463Z"
   },
   {
    "duration": 3,
    "start_time": "2022-01-24T04:56:34.911Z"
   },
   {
    "duration": 10,
    "start_time": "2022-01-24T04:56:35.473Z"
   },
   {
    "duration": 8,
    "start_time": "2022-01-24T04:56:35.783Z"
   },
   {
    "duration": 11,
    "start_time": "2022-01-24T04:56:36.379Z"
   },
   {
    "duration": 24,
    "start_time": "2022-01-24T04:56:38.271Z"
   },
   {
    "duration": 8,
    "start_time": "2022-01-24T04:56:38.767Z"
   },
   {
    "duration": 10,
    "start_time": "2022-01-24T04:56:39.221Z"
   },
   {
    "duration": 26,
    "start_time": "2022-01-24T04:56:39.645Z"
   },
   {
    "duration": 8,
    "start_time": "2022-01-24T04:56:39.959Z"
   },
   {
    "duration": 10,
    "start_time": "2022-01-24T04:56:40.369Z"
   },
   {
    "duration": 22,
    "start_time": "2022-01-24T04:56:40.729Z"
   },
   {
    "duration": 10,
    "start_time": "2022-01-24T04:56:41.011Z"
   },
   {
    "duration": 8,
    "start_time": "2022-01-24T04:56:41.293Z"
   },
   {
    "duration": 12,
    "start_time": "2022-01-24T04:56:41.805Z"
   },
   {
    "duration": 14,
    "start_time": "2022-01-24T04:56:42.189Z"
   },
   {
    "duration": 50,
    "start_time": "2022-01-24T04:56:48.410Z"
   },
   {
    "duration": 11,
    "start_time": "2022-01-24T04:56:51.514Z"
   },
   {
    "duration": 11,
    "start_time": "2022-01-24T04:56:53.341Z"
   },
   {
    "duration": 155,
    "start_time": "2022-01-24T04:57:12.898Z"
   },
   {
    "duration": 3668,
    "start_time": "2022-01-24T04:57:15.034Z"
   },
   {
    "duration": 74003,
    "start_time": "2022-01-24T04:57:30.981Z"
   },
   {
    "duration": 180,
    "start_time": "2022-01-24T04:58:44.987Z"
   },
   {
    "duration": 32,
    "start_time": "2022-01-24T04:58:45.171Z"
   },
   {
    "duration": 27,
    "start_time": "2022-01-24T04:58:45.206Z"
   },
   {
    "duration": 43,
    "start_time": "2022-01-24T04:58:45.236Z"
   },
   {
    "duration": 9,
    "start_time": "2022-01-24T04:58:45.282Z"
   },
   {
    "duration": 31,
    "start_time": "2022-01-24T04:58:45.293Z"
   },
   {
    "duration": 19,
    "start_time": "2022-01-24T04:58:45.363Z"
   },
   {
    "duration": 14,
    "start_time": "2022-01-24T04:58:45.384Z"
   },
   {
    "duration": 242947,
    "start_time": "2022-01-24T05:08:38.928Z"
   },
   {
    "duration": 836,
    "start_time": "2022-01-24T05:12:49.380Z"
   },
   {
    "duration": 72,
    "start_time": "2022-01-24T05:12:56.196Z"
   },
   {
    "duration": 19,
    "start_time": "2022-01-24T05:12:56.356Z"
   },
   {
    "duration": 8,
    "start_time": "2022-01-24T05:12:57.122Z"
   },
   {
    "duration": 11,
    "start_time": "2022-01-24T05:12:57.256Z"
   },
   {
    "duration": 13,
    "start_time": "2022-01-24T05:12:57.413Z"
   },
   {
    "duration": 3,
    "start_time": "2022-01-24T05:12:57.562Z"
   },
   {
    "duration": 8,
    "start_time": "2022-01-24T05:12:57.712Z"
   },
   {
    "duration": 7,
    "start_time": "2022-01-24T05:12:57.860Z"
   },
   {
    "duration": 11,
    "start_time": "2022-01-24T05:12:58.026Z"
   },
   {
    "duration": 23,
    "start_time": "2022-01-24T05:12:58.181Z"
   },
   {
    "duration": 9,
    "start_time": "2022-01-24T05:12:58.332Z"
   },
   {
    "duration": 10,
    "start_time": "2022-01-24T05:12:58.498Z"
   },
   {
    "duration": 25,
    "start_time": "2022-01-24T05:12:58.652Z"
   },
   {
    "duration": 9,
    "start_time": "2022-01-24T05:12:58.809Z"
   },
   {
    "duration": 11,
    "start_time": "2022-01-24T05:12:58.960Z"
   },
   {
    "duration": 22,
    "start_time": "2022-01-24T05:12:59.124Z"
   },
   {
    "duration": 10,
    "start_time": "2022-01-24T05:12:59.270Z"
   },
   {
    "duration": 8,
    "start_time": "2022-01-24T05:12:59.430Z"
   },
   {
    "duration": 13,
    "start_time": "2022-01-24T05:12:59.593Z"
   },
   {
    "duration": 14,
    "start_time": "2022-01-24T05:12:59.744Z"
   },
   {
    "duration": 53,
    "start_time": "2022-01-24T05:13:00.435Z"
   },
   {
    "duration": 11,
    "start_time": "2022-01-24T05:13:00.590Z"
   },
   {
    "duration": 11,
    "start_time": "2022-01-24T05:13:00.740Z"
   },
   {
    "duration": 127,
    "start_time": "2022-01-24T05:13:01.368Z"
   },
   {
    "duration": 3403,
    "start_time": "2022-01-24T05:13:02.146Z"
   },
   {
    "duration": 78491,
    "start_time": "2022-01-24T05:13:05.552Z"
   },
   {
    "duration": 38,
    "start_time": "2022-01-24T05:14:24.046Z"
   },
   {
    "duration": 151,
    "start_time": "2022-01-24T05:15:55.814Z"
   },
   {
    "duration": 177,
    "start_time": "2022-01-31T08:22:38.336Z"
   },
   {
    "duration": 635,
    "start_time": "2022-01-31T20:26:41.303Z"
   },
   {
    "duration": 20,
    "start_time": "2022-01-31T20:26:41.940Z"
   },
   {
    "duration": 7,
    "start_time": "2022-01-31T20:26:42.423Z"
   },
   {
    "duration": 9,
    "start_time": "2022-01-31T20:26:42.579Z"
   },
   {
    "duration": 10,
    "start_time": "2022-01-31T20:26:42.893Z"
   },
   {
    "duration": 3,
    "start_time": "2022-01-31T20:26:43.065Z"
   },
   {
    "duration": 7,
    "start_time": "2022-01-31T20:26:43.209Z"
   },
   {
    "duration": 5,
    "start_time": "2022-01-31T20:26:43.373Z"
   },
   {
    "duration": 7,
    "start_time": "2022-01-31T20:26:43.539Z"
   },
   {
    "duration": 18,
    "start_time": "2022-01-31T20:26:43.701Z"
   },
   {
    "duration": 7,
    "start_time": "2022-01-31T20:26:44.030Z"
   },
   {
    "duration": 7,
    "start_time": "2022-01-31T20:26:44.183Z"
   },
   {
    "duration": 19,
    "start_time": "2022-01-31T20:26:44.474Z"
   },
   {
    "duration": 7,
    "start_time": "2022-01-31T20:26:44.949Z"
   },
   {
    "duration": 8,
    "start_time": "2022-01-31T20:26:46.191Z"
   },
   {
    "duration": 17,
    "start_time": "2022-01-31T20:26:46.417Z"
   },
   {
    "duration": 7,
    "start_time": "2022-01-31T20:26:47.211Z"
   },
   {
    "duration": 6,
    "start_time": "2022-01-31T20:26:47.573Z"
   },
   {
    "duration": 9,
    "start_time": "2022-01-31T20:26:48.113Z"
   },
   {
    "duration": 15,
    "start_time": "2022-01-31T20:26:48.617Z"
   },
   {
    "duration": 45,
    "start_time": "2022-01-31T20:26:53.524Z"
   },
   {
    "duration": 8,
    "start_time": "2022-01-31T20:26:53.814Z"
   },
   {
    "duration": 8,
    "start_time": "2022-01-31T20:26:54.519Z"
   },
   {
    "duration": 89,
    "start_time": "2022-01-31T20:27:00.182Z"
   },
   {
    "duration": 18,
    "start_time": "2022-01-31T20:27:03.368Z"
   },
   {
    "duration": 40,
    "start_time": "2022-01-31T20:28:25.373Z"
   },
   {
    "duration": 44,
    "start_time": "2022-01-31T20:30:11.720Z"
   },
   {
    "duration": 58,
    "start_time": "2022-01-31T20:30:55.396Z"
   },
   {
    "duration": 65,
    "start_time": "2022-01-31T20:32:24.090Z"
   },
   {
    "duration": 39,
    "start_time": "2022-01-31T20:32:53.394Z"
   },
   {
    "duration": 2473,
    "start_time": "2022-01-31T20:32:57.825Z"
   },
   {
    "duration": 55305,
    "start_time": "2022-01-31T20:36:25.540Z"
   },
   {
    "duration": 4,
    "start_time": "2022-01-31T20:52:35.328Z"
   },
   {
    "duration": 4,
    "start_time": "2022-01-31T20:53:06.685Z"
   },
   {
    "duration": 5,
    "start_time": "2022-01-31T20:54:21.612Z"
   },
   {
    "duration": 6,
    "start_time": "2022-01-31T20:54:31.006Z"
   },
   {
    "duration": 55,
    "start_time": "2022-01-31T21:10:33.930Z"
   },
   {
    "duration": 13,
    "start_time": "2022-01-31T21:10:39.089Z"
   },
   {
    "duration": 5,
    "start_time": "2022-01-31T21:10:57.983Z"
   },
   {
    "duration": 7,
    "start_time": "2022-01-31T21:11:07.033Z"
   },
   {
    "duration": 57,
    "start_time": "2022-01-31T21:11:39.141Z"
   },
   {
    "duration": 62,
    "start_time": "2022-01-31T21:11:44.956Z"
   },
   {
    "duration": 6,
    "start_time": "2022-01-31T21:11:53.590Z"
   },
   {
    "duration": 240,
    "start_time": "2022-01-31T21:12:35.211Z"
   },
   {
    "duration": 173,
    "start_time": "2022-01-31T21:13:16.396Z"
   },
   {
    "duration": 23,
    "start_time": "2022-01-31T21:13:27.856Z"
   },
   {
    "duration": 8,
    "start_time": "2022-01-31T21:13:43.611Z"
   },
   {
    "duration": 7,
    "start_time": "2022-01-31T21:21:00.972Z"
   },
   {
    "duration": 19,
    "start_time": "2022-01-31T21:21:11.409Z"
   },
   {
    "duration": 15,
    "start_time": "2022-01-31T21:21:39.025Z"
   },
   {
    "duration": 15,
    "start_time": "2022-01-31T21:21:42.273Z"
   },
   {
    "duration": 16,
    "start_time": "2022-01-31T21:23:09.121Z"
   },
   {
    "duration": 216,
    "start_time": "2022-01-31T21:26:50.832Z"
   },
   {
    "duration": 302,
    "start_time": "2022-02-01T18:47:23.084Z"
   },
   {
    "duration": 664,
    "start_time": "2022-02-01T18:47:29.132Z"
   },
   {
    "duration": 21,
    "start_time": "2022-02-01T18:47:29.799Z"
   },
   {
    "duration": 7,
    "start_time": "2022-02-01T18:47:30.321Z"
   },
   {
    "duration": 9,
    "start_time": "2022-02-01T18:47:31.462Z"
   },
   {
    "duration": 19,
    "start_time": "2022-02-01T18:47:31.474Z"
   },
   {
    "duration": 9,
    "start_time": "2022-02-01T18:47:31.495Z"
   },
   {
    "duration": 26,
    "start_time": "2022-02-01T18:47:31.506Z"
   },
   {
    "duration": 9,
    "start_time": "2022-02-01T18:47:31.534Z"
   },
   {
    "duration": 29,
    "start_time": "2022-02-01T18:47:31.545Z"
   },
   {
    "duration": 19,
    "start_time": "2022-02-01T18:47:31.643Z"
   },
   {
    "duration": 7,
    "start_time": "2022-02-01T18:47:32.169Z"
   },
   {
    "duration": 9,
    "start_time": "2022-02-01T18:47:32.373Z"
   },
   {
    "duration": 21,
    "start_time": "2022-02-01T18:47:32.561Z"
   },
   {
    "duration": 8,
    "start_time": "2022-02-01T18:47:32.727Z"
   },
   {
    "duration": 9,
    "start_time": "2022-02-01T18:47:32.915Z"
   },
   {
    "duration": 18,
    "start_time": "2022-02-01T18:47:33.291Z"
   },
   {
    "duration": 9,
    "start_time": "2022-02-01T18:47:34.026Z"
   },
   {
    "duration": 7,
    "start_time": "2022-02-01T18:47:34.265Z"
   },
   {
    "duration": 11,
    "start_time": "2022-02-01T18:47:34.420Z"
   },
   {
    "duration": 11,
    "start_time": "2022-02-01T18:47:34.986Z"
   },
   {
    "duration": 38,
    "start_time": "2022-02-01T18:47:40.380Z"
   },
   {
    "duration": 8,
    "start_time": "2022-02-01T18:47:41.023Z"
   },
   {
    "duration": 5,
    "start_time": "2022-02-01T18:47:42.357Z"
   },
   {
    "duration": 14,
    "start_time": "2022-02-01T18:47:42.687Z"
   },
   {
    "duration": 269,
    "start_time": "2022-02-01T18:47:43.329Z"
   },
   {
    "duration": 497,
    "start_time": "2022-02-01T18:47:54.577Z"
   },
   {
    "duration": 600,
    "start_time": "2022-02-01T18:48:08.257Z"
   },
   {
    "duration": 4461,
    "start_time": "2022-02-01T18:48:23.040Z"
   },
   {
    "duration": 20,
    "start_time": "2022-02-01T18:48:42.412Z"
   },
   {
    "duration": 6721,
    "start_time": "2022-02-01T18:50:10.330Z"
   },
   {
    "duration": 416,
    "start_time": "2022-02-01T18:50:24.168Z"
   },
   {
    "duration": 406,
    "start_time": "2022-02-01T18:50:45.907Z"
   },
   {
    "duration": 389,
    "start_time": "2022-02-01T18:50:58.074Z"
   },
   {
    "duration": 429,
    "start_time": "2022-02-01T18:51:03.355Z"
   },
   {
    "duration": 508,
    "start_time": "2022-02-01T18:51:17.765Z"
   },
   {
    "duration": 6349,
    "start_time": "2022-02-01T18:52:52.771Z"
   },
   {
    "duration": 6829,
    "start_time": "2022-02-01T18:53:25.424Z"
   },
   {
    "duration": 1156,
    "start_time": "2022-02-01T18:57:15.714Z"
   },
   {
    "duration": 91,
    "start_time": "2022-02-01T18:58:01.087Z"
   },
   {
    "duration": 1254,
    "start_time": "2022-02-01T18:58:10.147Z"
   },
   {
    "duration": 1202,
    "start_time": "2022-02-01T18:58:46.216Z"
   },
   {
    "duration": 1286,
    "start_time": "2022-02-01T18:58:55.404Z"
   },
   {
    "duration": 1250,
    "start_time": "2022-02-01T19:00:28.512Z"
   },
   {
    "duration": 29,
    "start_time": "2022-02-01T19:04:02.445Z"
   },
   {
    "duration": 29,
    "start_time": "2022-02-01T19:04:36.747Z"
   },
   {
    "duration": 35,
    "start_time": "2022-02-01T19:05:08.224Z"
   },
   {
    "duration": 56,
    "start_time": "2022-02-01T19:05:41.061Z"
   },
   {
    "duration": 34,
    "start_time": "2022-02-01T19:05:50.605Z"
   },
   {
    "duration": 28,
    "start_time": "2022-02-01T19:06:08.566Z"
   },
   {
    "duration": 33,
    "start_time": "2022-02-01T19:06:29.062Z"
   },
   {
    "duration": 272,
    "start_time": "2022-02-01T19:07:06.801Z"
   },
   {
    "duration": 7,
    "start_time": "2022-02-01T19:07:40.449Z"
   },
   {
    "duration": 5,
    "start_time": "2022-02-01T19:07:55.602Z"
   },
   {
    "duration": 61,
    "start_time": "2022-02-01T19:08:07.214Z"
   },
   {
    "duration": 13,
    "start_time": "2022-02-01T19:08:07.378Z"
   },
   {
    "duration": 9,
    "start_time": "2022-02-01T19:08:08.340Z"
   },
   {
    "duration": 8,
    "start_time": "2022-02-01T19:08:08.517Z"
   },
   {
    "duration": 11,
    "start_time": "2022-02-01T19:08:08.860Z"
   },
   {
    "duration": 3,
    "start_time": "2022-02-01T19:08:09.034Z"
   },
   {
    "duration": 7,
    "start_time": "2022-02-01T19:08:09.237Z"
   },
   {
    "duration": 6,
    "start_time": "2022-02-01T19:08:09.424Z"
   },
   {
    "duration": 8,
    "start_time": "2022-02-01T19:08:09.686Z"
   },
   {
    "duration": 20,
    "start_time": "2022-02-01T19:08:10.022Z"
   },
   {
    "duration": 8,
    "start_time": "2022-02-01T19:08:10.650Z"
   },
   {
    "duration": 8,
    "start_time": "2022-02-01T19:08:10.848Z"
   },
   {
    "duration": 20,
    "start_time": "2022-02-01T19:08:11.136Z"
   },
   {
    "duration": 8,
    "start_time": "2022-02-01T19:08:11.613Z"
   },
   {
    "duration": 9,
    "start_time": "2022-02-01T19:08:11.910Z"
   },
   {
    "duration": 18,
    "start_time": "2022-02-01T19:08:12.243Z"
   },
   {
    "duration": 8,
    "start_time": "2022-02-01T19:08:12.964Z"
   },
   {
    "duration": 6,
    "start_time": "2022-02-01T19:08:13.381Z"
   },
   {
    "duration": 10,
    "start_time": "2022-02-01T19:08:13.882Z"
   },
   {
    "duration": 11,
    "start_time": "2022-02-01T19:08:14.178Z"
   },
   {
    "duration": 46,
    "start_time": "2022-02-01T19:08:16.507Z"
   },
   {
    "duration": 8,
    "start_time": "2022-02-01T19:08:22.165Z"
   },
   {
    "duration": 4,
    "start_time": "2022-02-01T19:08:22.769Z"
   },
   {
    "duration": 9,
    "start_time": "2022-02-01T19:08:23.267Z"
   },
   {
    "duration": 37,
    "start_time": "2022-02-01T19:08:24.497Z"
   },
   {
    "duration": 31,
    "start_time": "2022-02-01T19:08:29.823Z"
   },
   {
    "duration": 5,
    "start_time": "2022-02-01T19:08:34.426Z"
   },
   {
    "duration": 29,
    "start_time": "2022-02-01T19:09:18.627Z"
   },
   {
    "duration": 8,
    "start_time": "2022-02-01T19:10:13.906Z"
   },
   {
    "duration": 28,
    "start_time": "2022-02-01T19:15:11.086Z"
   },
   {
    "duration": 5,
    "start_time": "2022-02-01T19:15:23.148Z"
   },
   {
    "duration": 5,
    "start_time": "2022-02-01T19:15:27.664Z"
   },
   {
    "duration": 28,
    "start_time": "2022-02-01T19:18:15.453Z"
   },
   {
    "duration": 5,
    "start_time": "2022-02-01T19:18:22.244Z"
   },
   {
    "duration": 5,
    "start_time": "2022-02-01T19:19:22.676Z"
   },
   {
    "duration": 92,
    "start_time": "2022-02-01T19:20:14.545Z"
   },
   {
    "duration": 46,
    "start_time": "2022-02-01T19:20:20.472Z"
   },
   {
    "duration": 5,
    "start_time": "2022-02-01T19:20:26.912Z"
   },
   {
    "duration": 29,
    "start_time": "2022-02-01T19:20:47.009Z"
   },
   {
    "duration": 27,
    "start_time": "2022-02-01T19:20:59.519Z"
   },
   {
    "duration": 4,
    "start_time": "2022-02-01T19:21:13.429Z"
   },
   {
    "duration": 6840,
    "start_time": "2022-02-01T19:21:43.132Z"
   },
   {
    "duration": 28,
    "start_time": "2022-02-01T19:22:02.734Z"
   },
   {
    "duration": 5,
    "start_time": "2022-02-01T19:22:02.884Z"
   },
   {
    "duration": 10,
    "start_time": "2022-02-01T19:22:03.190Z"
   },
   {
    "duration": 99,
    "start_time": "2022-02-01T19:22:04.140Z"
   },
   {
    "duration": 47,
    "start_time": "2022-02-01T19:22:04.814Z"
   },
   {
    "duration": 2439,
    "start_time": "2022-02-01T19:22:06.868Z"
   },
   {
    "duration": 67174,
    "start_time": "2022-02-01T19:22:14.578Z"
   },
   {
    "duration": 6,
    "start_time": "2022-02-01T19:23:43.038Z"
   },
   {
    "duration": 27,
    "start_time": "2022-02-01T19:32:17.002Z"
   },
   {
    "duration": 29,
    "start_time": "2022-02-01T19:32:55.003Z"
   },
   {
    "duration": 25,
    "start_time": "2022-02-01T19:33:11.461Z"
   },
   {
    "duration": 28,
    "start_time": "2022-02-01T19:33:27.315Z"
   },
   {
    "duration": 5,
    "start_time": "2022-02-01T19:34:01.186Z"
   },
   {
    "duration": 68,
    "start_time": "2022-02-01T19:34:10.326Z"
   },
   {
    "duration": 14,
    "start_time": "2022-02-01T19:34:10.482Z"
   },
   {
    "duration": 7,
    "start_time": "2022-02-01T19:34:11.488Z"
   },
   {
    "duration": 10,
    "start_time": "2022-02-01T19:34:11.652Z"
   },
   {
    "duration": 12,
    "start_time": "2022-02-01T19:34:12.012Z"
   },
   {
    "duration": 3,
    "start_time": "2022-02-01T19:34:12.200Z"
   },
   {
    "duration": 6,
    "start_time": "2022-02-01T19:34:12.436Z"
   },
   {
    "duration": 6,
    "start_time": "2022-02-01T19:34:12.828Z"
   },
   {
    "duration": 8,
    "start_time": "2022-02-01T19:34:13.088Z"
   },
   {
    "duration": 21,
    "start_time": "2022-02-01T19:34:13.292Z"
   },
   {
    "duration": 7,
    "start_time": "2022-02-01T19:34:13.872Z"
   },
   {
    "duration": 8,
    "start_time": "2022-02-01T19:34:14.052Z"
   },
   {
    "duration": 19,
    "start_time": "2022-02-01T19:34:14.328Z"
   },
   {
    "duration": 7,
    "start_time": "2022-02-01T19:34:14.552Z"
   },
   {
    "duration": 9,
    "start_time": "2022-02-01T19:34:15.010Z"
   },
   {
    "duration": 18,
    "start_time": "2022-02-01T19:34:15.340Z"
   },
   {
    "duration": 9,
    "start_time": "2022-02-01T19:34:16.163Z"
   },
   {
    "duration": 6,
    "start_time": "2022-02-01T19:34:16.854Z"
   },
   {
    "duration": 10,
    "start_time": "2022-02-01T19:34:17.576Z"
   },
   {
    "duration": 11,
    "start_time": "2022-02-01T19:34:17.880Z"
   },
   {
    "duration": 37,
    "start_time": "2022-02-01T19:34:19.529Z"
   },
   {
    "duration": 9,
    "start_time": "2022-02-01T19:34:20.424Z"
   },
   {
    "duration": 5,
    "start_time": "2022-02-01T19:34:20.910Z"
   },
   {
    "duration": 12,
    "start_time": "2022-02-01T19:34:21.504Z"
   },
   {
    "duration": 26,
    "start_time": "2022-02-01T19:34:22.290Z"
   },
   {
    "duration": 5,
    "start_time": "2022-02-01T19:34:26.086Z"
   },
   {
    "duration": 9,
    "start_time": "2022-02-01T19:34:30.408Z"
   },
   {
    "duration": 99,
    "start_time": "2022-02-01T19:34:33.679Z"
   },
   {
    "duration": 45,
    "start_time": "2022-02-01T19:34:34.048Z"
   },
   {
    "duration": 2556,
    "start_time": "2022-02-01T19:34:36.223Z"
   },
   {
    "duration": 25,
    "start_time": "2022-02-01T19:35:00.619Z"
   },
   {
    "duration": 10,
    "start_time": "2022-02-01T19:35:23.505Z"
   },
   {
    "duration": 9,
    "start_time": "2022-02-01T19:36:01.114Z"
   },
   {
    "duration": 9,
    "start_time": "2022-02-01T19:36:12.072Z"
   },
   {
    "duration": 9,
    "start_time": "2022-02-01T19:36:18.555Z"
   },
   {
    "duration": 9,
    "start_time": "2022-02-01T19:36:22.615Z"
   },
   {
    "duration": 43,
    "start_time": "2022-02-01T19:37:08.057Z"
   },
   {
    "duration": 38,
    "start_time": "2022-02-01T19:37:11.358Z"
   },
   {
    "duration": 58,
    "start_time": "2022-02-01T19:37:18.180Z"
   },
   {
    "duration": 14,
    "start_time": "2022-02-01T19:37:18.326Z"
   },
   {
    "duration": 7,
    "start_time": "2022-02-01T19:37:19.906Z"
   },
   {
    "duration": 8,
    "start_time": "2022-02-01T19:37:20.215Z"
   },
   {
    "duration": 9,
    "start_time": "2022-02-01T19:37:20.808Z"
   },
   {
    "duration": 3,
    "start_time": "2022-02-01T19:37:21.050Z"
   },
   {
    "duration": 8,
    "start_time": "2022-02-01T19:37:21.649Z"
   },
   {
    "duration": 5,
    "start_time": "2022-02-01T19:37:22.110Z"
   },
   {
    "duration": 8,
    "start_time": "2022-02-01T19:37:22.456Z"
   },
   {
    "duration": 19,
    "start_time": "2022-02-01T19:37:22.895Z"
   },
   {
    "duration": 7,
    "start_time": "2022-02-01T19:37:23.726Z"
   },
   {
    "duration": 9,
    "start_time": "2022-02-01T19:37:24.306Z"
   },
   {
    "duration": 20,
    "start_time": "2022-02-01T19:37:24.804Z"
   },
   {
    "duration": 7,
    "start_time": "2022-02-01T19:37:25.336Z"
   },
   {
    "duration": 8,
    "start_time": "2022-02-01T19:37:25.836Z"
   },
   {
    "duration": 19,
    "start_time": "2022-02-01T19:37:26.322Z"
   },
   {
    "duration": 8,
    "start_time": "2022-02-01T19:37:27.265Z"
   },
   {
    "duration": 7,
    "start_time": "2022-02-01T19:37:27.656Z"
   },
   {
    "duration": 10,
    "start_time": "2022-02-01T19:37:27.932Z"
   },
   {
    "duration": 13,
    "start_time": "2022-02-01T19:37:28.246Z"
   },
   {
    "duration": 42,
    "start_time": "2022-02-01T19:37:32.239Z"
   },
   {
    "duration": 10,
    "start_time": "2022-02-01T19:37:35.604Z"
   },
   {
    "duration": 5,
    "start_time": "2022-02-01T19:37:35.996Z"
   },
   {
    "duration": 10,
    "start_time": "2022-02-01T19:37:36.516Z"
   },
   {
    "duration": 27,
    "start_time": "2022-02-01T19:37:45.403Z"
   },
   {
    "duration": 12,
    "start_time": "2022-02-01T19:37:47.746Z"
   },
   {
    "duration": 28,
    "start_time": "2022-02-01T19:38:37.809Z"
   },
   {
    "duration": 31,
    "start_time": "2022-02-01T19:39:05.925Z"
   },
   {
    "duration": 37,
    "start_time": "2022-02-01T19:39:29.857Z"
   },
   {
    "duration": 10,
    "start_time": "2022-02-01T19:39:34.411Z"
   },
   {
    "duration": 9,
    "start_time": "2022-02-01T19:39:46.622Z"
   },
   {
    "duration": 32,
    "start_time": "2022-02-01T19:40:07.414Z"
   },
   {
    "duration": 11,
    "start_time": "2022-02-01T19:40:09.398Z"
   },
   {
    "duration": 31,
    "start_time": "2022-02-01T19:40:13.972Z"
   },
   {
    "duration": 33,
    "start_time": "2022-02-01T19:40:16.766Z"
   },
   {
    "duration": 10,
    "start_time": "2022-02-01T19:40:17.424Z"
   },
   {
    "duration": 6,
    "start_time": "2022-02-01T19:40:31.448Z"
   },
   {
    "duration": 8,
    "start_time": "2022-02-01T19:41:38.056Z"
   },
   {
    "duration": 7,
    "start_time": "2022-02-01T19:42:08.860Z"
   },
   {
    "duration": 80,
    "start_time": "2022-02-01T19:42:14.597Z"
   },
   {
    "duration": 133,
    "start_time": "2022-02-01T19:42:22.424Z"
   },
   {
    "duration": 8,
    "start_time": "2022-02-01T19:42:28.293Z"
   },
   {
    "duration": 8,
    "start_time": "2022-02-01T19:42:36.623Z"
   },
   {
    "duration": 8,
    "start_time": "2022-02-01T19:42:54.231Z"
   },
   {
    "duration": 13,
    "start_time": "2022-02-01T19:42:57.833Z"
   },
   {
    "duration": 9,
    "start_time": "2022-02-01T19:43:20.258Z"
   },
   {
    "duration": 7,
    "start_time": "2022-02-01T19:43:39.642Z"
   },
   {
    "duration": 7,
    "start_time": "2022-02-01T19:44:05.731Z"
   },
   {
    "duration": 7,
    "start_time": "2022-02-01T19:44:10.187Z"
   },
   {
    "duration": 6,
    "start_time": "2022-02-01T19:48:04.086Z"
   },
   {
    "duration": 9,
    "start_time": "2022-02-01T19:48:30.333Z"
   },
   {
    "duration": 9,
    "start_time": "2022-02-01T19:49:03.638Z"
   },
   {
    "duration": 13,
    "start_time": "2022-02-01T19:49:16.268Z"
   },
   {
    "duration": 9,
    "start_time": "2022-02-01T19:49:25.586Z"
   },
   {
    "duration": 10,
    "start_time": "2022-02-01T19:50:14.353Z"
   },
   {
    "duration": 9,
    "start_time": "2022-02-01T19:50:31.729Z"
   },
   {
    "duration": 49,
    "start_time": "2022-02-01T20:03:49.706Z"
   },
   {
    "duration": 3408,
    "start_time": "2022-02-01T20:04:23.922Z"
   },
   {
    "duration": 65916,
    "start_time": "2022-02-01T20:45:31.623Z"
   },
   {
    "duration": 6,
    "start_time": "2022-02-01T20:46:47.269Z"
   },
   {
    "duration": 3348,
    "start_time": "2022-02-01T20:46:56.699Z"
   },
   {
    "duration": 86,
    "start_time": "2022-02-01T20:48:20.314Z"
   },
   {
    "duration": 3259,
    "start_time": "2022-02-01T20:50:17.692Z"
   },
   {
    "duration": 90,
    "start_time": "2022-02-01T20:50:30.945Z"
   },
   {
    "duration": 3389,
    "start_time": "2022-02-01T20:50:38.054Z"
   },
   {
    "duration": 85,
    "start_time": "2022-02-01T20:50:54.317Z"
   },
   {
    "duration": 6,
    "start_time": "2022-02-01T20:50:57.265Z"
   },
   {
    "duration": 60933,
    "start_time": "2022-02-01T20:54:57.614Z"
   },
   {
    "duration": 61896,
    "start_time": "2022-02-01T21:11:23.983Z"
   },
   {
    "duration": 41,
    "start_time": "2022-02-01T21:12:40.180Z"
   },
   {
    "duration": 62130,
    "start_time": "2022-02-01T21:13:31.979Z"
   },
   {
    "duration": 63578,
    "start_time": "2022-02-01T21:15:23.772Z"
   },
   {
    "duration": 38,
    "start_time": "2022-02-01T21:16:33.112Z"
   },
   {
    "duration": 6,
    "start_time": "2022-02-01T21:16:37.545Z"
   },
   {
    "duration": 61631,
    "start_time": "2022-02-01T21:18:15.915Z"
   },
   {
    "duration": 39,
    "start_time": "2022-02-01T21:19:31.527Z"
   },
   {
    "duration": 6,
    "start_time": "2022-02-01T21:19:40.481Z"
   },
   {
    "duration": 64,
    "start_time": "2022-02-01T21:19:46.869Z"
   },
   {
    "duration": 16,
    "start_time": "2022-02-01T21:19:47.480Z"
   },
   {
    "duration": 7,
    "start_time": "2022-02-01T21:19:49.457Z"
   },
   {
    "duration": 9,
    "start_time": "2022-02-01T21:19:49.621Z"
   },
   {
    "duration": 10,
    "start_time": "2022-02-01T21:19:49.960Z"
   },
   {
    "duration": 3,
    "start_time": "2022-02-01T21:19:50.180Z"
   },
   {
    "duration": 6,
    "start_time": "2022-02-01T21:19:50.352Z"
   },
   {
    "duration": 5,
    "start_time": "2022-02-01T21:19:50.526Z"
   },
   {
    "duration": 8,
    "start_time": "2022-02-01T21:19:50.690Z"
   },
   {
    "duration": 19,
    "start_time": "2022-02-01T21:19:50.862Z"
   },
   {
    "duration": 7,
    "start_time": "2022-02-01T21:19:51.208Z"
   },
   {
    "duration": 8,
    "start_time": "2022-02-01T21:19:51.506Z"
   },
   {
    "duration": 26,
    "start_time": "2022-02-01T21:19:51.664Z"
   },
   {
    "duration": 6,
    "start_time": "2022-02-01T21:19:51.828Z"
   },
   {
    "duration": 8,
    "start_time": "2022-02-01T21:19:52.000Z"
   },
   {
    "duration": 19,
    "start_time": "2022-02-01T21:19:52.174Z"
   },
   {
    "duration": 10,
    "start_time": "2022-02-01T21:19:52.510Z"
   },
   {
    "duration": 7,
    "start_time": "2022-02-01T21:19:52.692Z"
   },
   {
    "duration": 8,
    "start_time": "2022-02-01T21:19:52.856Z"
   },
   {
    "duration": 11,
    "start_time": "2022-02-01T21:19:53.036Z"
   },
   {
    "duration": 38,
    "start_time": "2022-02-01T21:19:53.954Z"
   },
   {
    "duration": 9,
    "start_time": "2022-02-01T21:19:54.732Z"
   },
   {
    "duration": 5,
    "start_time": "2022-02-01T21:19:55.414Z"
   },
   {
    "duration": 8,
    "start_time": "2022-02-01T21:19:55.846Z"
   },
   {
    "duration": 31,
    "start_time": "2022-02-01T21:19:56.524Z"
   },
   {
    "duration": 7,
    "start_time": "2022-02-01T21:19:56.818Z"
   },
   {
    "duration": 98,
    "start_time": "2022-02-01T21:20:00.210Z"
   },
   {
    "duration": 44,
    "start_time": "2022-02-01T21:20:01.198Z"
   },
   {
    "duration": 2469,
    "start_time": "2022-02-01T21:20:03.958Z"
   },
   {
    "duration": 61179,
    "start_time": "2022-02-01T21:20:08.255Z"
   },
   {
    "duration": 41,
    "start_time": "2022-02-01T21:23:42.461Z"
   },
   {
    "duration": 9,
    "start_time": "2022-02-01T21:27:58.721Z"
   },
   {
    "duration": 255,
    "start_time": "2022-02-01T21:28:10.593Z"
   },
   {
    "duration": 9,
    "start_time": "2022-02-01T21:28:21.080Z"
   },
   {
    "duration": 7,
    "start_time": "2022-02-01T21:28:49.793Z"
   },
   {
    "duration": 8061,
    "start_time": "2022-02-01T21:29:04.809Z"
   },
   {
    "duration": 7053,
    "start_time": "2022-02-01T21:29:16.650Z"
   },
   {
    "duration": 6467,
    "start_time": "2022-02-01T21:29:53.700Z"
   },
   {
    "duration": 34,
    "start_time": "2022-02-01T21:30:23.420Z"
   },
   {
    "duration": 33,
    "start_time": "2022-02-01T21:33:12.833Z"
   },
   {
    "duration": 32,
    "start_time": "2022-02-01T21:33:21.697Z"
   },
   {
    "duration": 31,
    "start_time": "2022-02-01T21:33:33.802Z"
   },
   {
    "duration": 253,
    "start_time": "2022-02-01T21:33:48.920Z"
   },
   {
    "duration": 34,
    "start_time": "2022-02-01T21:34:08.876Z"
   },
   {
    "duration": 34,
    "start_time": "2022-02-01T21:34:17.451Z"
   },
   {
    "duration": 32,
    "start_time": "2022-02-01T21:34:45.656Z"
   },
   {
    "duration": 59,
    "start_time": "2022-02-01T21:34:53.959Z"
   },
   {
    "duration": 13,
    "start_time": "2022-02-01T21:34:54.125Z"
   },
   {
    "duration": 7,
    "start_time": "2022-02-01T21:34:55.125Z"
   },
   {
    "duration": 9,
    "start_time": "2022-02-01T21:34:55.277Z"
   },
   {
    "duration": 10,
    "start_time": "2022-02-01T21:34:55.623Z"
   },
   {
    "duration": 2,
    "start_time": "2022-02-01T21:34:55.787Z"
   },
   {
    "duration": 8,
    "start_time": "2022-02-01T21:34:55.955Z"
   },
   {
    "duration": 7,
    "start_time": "2022-02-01T21:34:56.117Z"
   },
   {
    "duration": 9,
    "start_time": "2022-02-01T21:34:56.271Z"
   },
   {
    "duration": 19,
    "start_time": "2022-02-01T21:34:56.423Z"
   },
   {
    "duration": 6,
    "start_time": "2022-02-01T21:34:56.753Z"
   },
   {
    "duration": 9,
    "start_time": "2022-02-01T21:34:56.917Z"
   },
   {
    "duration": 23,
    "start_time": "2022-02-01T21:34:57.075Z"
   },
   {
    "duration": 7,
    "start_time": "2022-02-01T21:34:57.254Z"
   },
   {
    "duration": 8,
    "start_time": "2022-02-01T21:34:57.419Z"
   },
   {
    "duration": 17,
    "start_time": "2022-02-01T21:34:57.593Z"
   },
   {
    "duration": 9,
    "start_time": "2022-02-01T21:34:57.929Z"
   },
   {
    "duration": 7,
    "start_time": "2022-02-01T21:34:58.103Z"
   },
   {
    "duration": 9,
    "start_time": "2022-02-01T21:34:58.266Z"
   },
   {
    "duration": 13,
    "start_time": "2022-02-01T21:34:58.431Z"
   },
   {
    "duration": 35,
    "start_time": "2022-02-01T21:34:59.296Z"
   },
   {
    "duration": 9,
    "start_time": "2022-02-01T21:34:59.459Z"
   },
   {
    "duration": 5,
    "start_time": "2022-02-01T21:34:59.631Z"
   },
   {
    "duration": 10,
    "start_time": "2022-02-01T21:35:00.171Z"
   },
   {
    "duration": 32,
    "start_time": "2022-02-01T21:35:00.393Z"
   },
   {
    "duration": 9,
    "start_time": "2022-02-01T21:35:00.713Z"
   },
   {
    "duration": 117,
    "start_time": "2022-02-01T21:35:02.895Z"
   },
   {
    "duration": 59,
    "start_time": "2022-02-01T21:35:03.671Z"
   },
   {
    "duration": 2918,
    "start_time": "2022-02-01T21:35:05.837Z"
   },
   {
    "duration": 41,
    "start_time": "2022-02-01T21:35:26.904Z"
   },
   {
    "duration": 4,
    "start_time": "2022-02-01T21:35:47.344Z"
   },
   {
    "duration": 4,
    "start_time": "2022-02-01T21:35:55.073Z"
   },
   {
    "duration": 35,
    "start_time": "2022-02-01T21:36:42.978Z"
   },
   {
    "duration": 59,
    "start_time": "2022-02-01T21:38:45.366Z"
   },
   {
    "duration": 14,
    "start_time": "2022-02-01T21:38:45.532Z"
   },
   {
    "duration": 7,
    "start_time": "2022-02-01T21:38:47.494Z"
   },
   {
    "duration": 9,
    "start_time": "2022-02-01T21:38:47.978Z"
   },
   {
    "duration": 10,
    "start_time": "2022-02-01T21:38:48.896Z"
   },
   {
    "duration": 3,
    "start_time": "2022-02-01T21:38:49.532Z"
   },
   {
    "duration": 7,
    "start_time": "2022-02-01T21:38:50.091Z"
   },
   {
    "duration": 5,
    "start_time": "2022-02-01T21:38:50.584Z"
   },
   {
    "duration": 8,
    "start_time": "2022-02-01T21:38:51.055Z"
   },
   {
    "duration": 18,
    "start_time": "2022-02-01T21:38:51.519Z"
   },
   {
    "duration": 7,
    "start_time": "2022-02-01T21:38:52.891Z"
   },
   {
    "duration": 9,
    "start_time": "2022-02-01T21:38:53.425Z"
   },
   {
    "duration": 23,
    "start_time": "2022-02-01T21:38:54.087Z"
   },
   {
    "duration": 7,
    "start_time": "2022-02-01T21:38:54.327Z"
   },
   {
    "duration": 9,
    "start_time": "2022-02-01T21:38:54.490Z"
   },
   {
    "duration": 18,
    "start_time": "2022-02-01T21:38:54.664Z"
   },
   {
    "duration": 8,
    "start_time": "2022-02-01T21:38:54.987Z"
   },
   {
    "duration": 6,
    "start_time": "2022-02-01T21:38:55.167Z"
   },
   {
    "duration": 9,
    "start_time": "2022-02-01T21:38:55.346Z"
   },
   {
    "duration": 13,
    "start_time": "2022-02-01T21:38:55.535Z"
   },
   {
    "duration": 37,
    "start_time": "2022-02-01T21:38:56.423Z"
   },
   {
    "duration": 10,
    "start_time": "2022-02-01T21:38:56.611Z"
   },
   {
    "duration": 4,
    "start_time": "2022-02-01T21:38:56.799Z"
   },
   {
    "duration": 9,
    "start_time": "2022-02-01T21:38:57.293Z"
   },
   {
    "duration": 33,
    "start_time": "2022-02-01T21:38:57.530Z"
   },
   {
    "duration": 7,
    "start_time": "2022-02-01T21:38:58.509Z"
   },
   {
    "duration": 108,
    "start_time": "2022-02-01T21:39:01.490Z"
   },
   {
    "duration": 59,
    "start_time": "2022-02-01T21:39:02.331Z"
   },
   {
    "duration": 2765,
    "start_time": "2022-02-01T21:39:31.728Z"
   },
   {
    "duration": 41,
    "start_time": "2022-02-01T21:39:42.887Z"
   },
   {
    "duration": 37,
    "start_time": "2022-02-01T21:53:31.948Z"
   },
   {
    "duration": 36,
    "start_time": "2022-02-01T21:54:07.667Z"
   },
   {
    "duration": 6,
    "start_time": "2022-02-01T21:54:16.055Z"
   },
   {
    "duration": 8,
    "start_time": "2022-02-01T21:54:29.953Z"
   },
   {
    "duration": 40,
    "start_time": "2022-02-01T21:56:24.227Z"
   },
   {
    "duration": 39,
    "start_time": "2022-02-01T22:00:04.848Z"
   },
   {
    "duration": 36,
    "start_time": "2022-02-01T22:00:10.680Z"
   },
   {
    "duration": 62,
    "start_time": "2022-02-01T22:00:14.981Z"
   },
   {
    "duration": 15,
    "start_time": "2022-02-01T22:00:15.126Z"
   },
   {
    "duration": 8,
    "start_time": "2022-02-01T22:00:16.022Z"
   },
   {
    "duration": 9,
    "start_time": "2022-02-01T22:00:16.180Z"
   },
   {
    "duration": 11,
    "start_time": "2022-02-01T22:00:16.479Z"
   },
   {
    "duration": 2,
    "start_time": "2022-02-01T22:00:16.637Z"
   },
   {
    "duration": 8,
    "start_time": "2022-02-01T22:00:16.784Z"
   },
   {
    "duration": 6,
    "start_time": "2022-02-01T22:00:16.925Z"
   },
   {
    "duration": 17,
    "start_time": "2022-02-01T22:00:17.087Z"
   },
   {
    "duration": 23,
    "start_time": "2022-02-01T22:00:17.230Z"
   },
   {
    "duration": 7,
    "start_time": "2022-02-01T22:00:17.542Z"
   },
   {
    "duration": 8,
    "start_time": "2022-02-01T22:00:17.711Z"
   },
   {
    "duration": 24,
    "start_time": "2022-02-01T22:00:17.867Z"
   },
   {
    "duration": 7,
    "start_time": "2022-02-01T22:00:18.025Z"
   },
   {
    "duration": 9,
    "start_time": "2022-02-01T22:00:18.180Z"
   },
   {
    "duration": 19,
    "start_time": "2022-02-01T22:00:18.353Z"
   },
   {
    "duration": 8,
    "start_time": "2022-02-01T22:00:18.675Z"
   },
   {
    "duration": 7,
    "start_time": "2022-02-01T22:00:18.848Z"
   },
   {
    "duration": 9,
    "start_time": "2022-02-01T22:00:19.004Z"
   },
   {
    "duration": 15,
    "start_time": "2022-02-01T22:00:19.169Z"
   },
   {
    "duration": 38,
    "start_time": "2022-02-01T22:00:19.986Z"
   },
   {
    "duration": 10,
    "start_time": "2022-02-01T22:00:20.151Z"
   },
   {
    "duration": 5,
    "start_time": "2022-02-01T22:00:20.314Z"
   },
   {
    "duration": 10,
    "start_time": "2022-02-01T22:00:20.487Z"
   },
   {
    "duration": 31,
    "start_time": "2022-02-01T22:00:20.653Z"
   },
   {
    "duration": 7,
    "start_time": "2022-02-01T22:00:20.825Z"
   },
   {
    "duration": 114,
    "start_time": "2022-02-01T22:00:21.805Z"
   },
   {
    "duration": 57,
    "start_time": "2022-02-01T22:00:22.142Z"
   },
   {
    "duration": 2688,
    "start_time": "2022-02-01T22:00:23.139Z"
   },
   {
    "duration": 39,
    "start_time": "2022-02-01T22:00:25.830Z"
   },
   {
    "duration": 8,
    "start_time": "2022-02-01T22:00:25.872Z"
   },
   {
    "duration": 744,
    "start_time": "2022-02-01T22:01:37.948Z"
   },
   {
    "duration": 9,
    "start_time": "2022-02-01T22:01:43.676Z"
   },
   {
    "duration": 17,
    "start_time": "2022-02-01T22:04:43.123Z"
   },
   {
    "duration": 270,
    "start_time": "2022-02-01T22:04:58.231Z"
   },
   {
    "duration": 264,
    "start_time": "2022-02-01T22:05:08.087Z"
   },
   {
    "duration": 7145,
    "start_time": "2022-02-01T22:05:11.871Z"
   },
   {
    "duration": 29,
    "start_time": "2022-02-01T22:05:21.010Z"
   },
   {
    "duration": 34,
    "start_time": "2022-02-01T22:05:38.258Z"
   },
   {
    "duration": 22,
    "start_time": "2022-02-01T22:05:52.220Z"
   },
   {
    "duration": 8,
    "start_time": "2022-02-01T22:06:11.441Z"
   },
   {
    "duration": 20,
    "start_time": "2022-02-01T22:09:39.234Z"
   },
   {
    "duration": 10,
    "start_time": "2022-02-01T22:10:44.793Z"
   },
   {
    "duration": 14,
    "start_time": "2022-02-01T22:10:46.197Z"
   },
   {
    "duration": 8,
    "start_time": "2022-02-01T22:10:47.349Z"
   },
   {
    "duration": 29,
    "start_time": "2022-02-01T22:10:47.569Z"
   },
   {
    "duration": 16,
    "start_time": "2022-02-01T22:10:47.907Z"
   },
   {
    "duration": 12,
    "start_time": "2022-02-01T22:10:48.119Z"
   },
   {
    "duration": 14,
    "start_time": "2022-02-01T22:13:14.527Z"
   },
   {
    "duration": 13,
    "start_time": "2022-02-01T22:13:53.193Z"
   },
   {
    "duration": 99,
    "start_time": "2022-02-01T22:14:25.087Z"
   },
   {
    "duration": 83,
    "start_time": "2022-02-01T22:26:20.055Z"
   },
   {
    "duration": 63,
    "start_time": "2022-02-01T22:29:54.632Z"
   },
   {
    "duration": 15,
    "start_time": "2022-02-01T22:29:54.776Z"
   },
   {
    "duration": 7,
    "start_time": "2022-02-01T22:29:55.644Z"
   },
   {
    "duration": 9,
    "start_time": "2022-02-01T22:29:55.804Z"
   },
   {
    "duration": 10,
    "start_time": "2022-02-01T22:29:56.107Z"
   },
   {
    "duration": 2,
    "start_time": "2022-02-01T22:29:56.258Z"
   },
   {
    "duration": 8,
    "start_time": "2022-02-01T22:29:56.408Z"
   },
   {
    "duration": 6,
    "start_time": "2022-02-01T22:29:56.534Z"
   },
   {
    "duration": 8,
    "start_time": "2022-02-01T22:29:56.674Z"
   },
   {
    "duration": 20,
    "start_time": "2022-02-01T22:29:56.808Z"
   },
   {
    "duration": 6,
    "start_time": "2022-02-01T22:29:57.096Z"
   },
   {
    "duration": 7,
    "start_time": "2022-02-01T22:29:57.240Z"
   },
   {
    "duration": 24,
    "start_time": "2022-02-01T22:29:57.396Z"
   },
   {
    "duration": 7,
    "start_time": "2022-02-01T22:29:57.568Z"
   },
   {
    "duration": 8,
    "start_time": "2022-02-01T22:29:57.732Z"
   },
   {
    "duration": 18,
    "start_time": "2022-02-01T22:29:57.907Z"
   },
   {
    "duration": 8,
    "start_time": "2022-02-01T22:29:58.210Z"
   },
   {
    "duration": 6,
    "start_time": "2022-02-01T22:29:58.366Z"
   },
   {
    "duration": 9,
    "start_time": "2022-02-01T22:29:58.518Z"
   },
   {
    "duration": 16,
    "start_time": "2022-02-01T22:29:58.690Z"
   },
   {
    "duration": 38,
    "start_time": "2022-02-01T22:29:59.523Z"
   },
   {
    "duration": 9,
    "start_time": "2022-02-01T22:29:59.686Z"
   },
   {
    "duration": 5,
    "start_time": "2022-02-01T22:29:59.858Z"
   },
   {
    "duration": 10,
    "start_time": "2022-02-01T22:30:00.024Z"
   },
   {
    "duration": 33,
    "start_time": "2022-02-01T22:30:00.204Z"
   },
   {
    "duration": 7,
    "start_time": "2022-02-01T22:30:00.360Z"
   },
   {
    "duration": 117,
    "start_time": "2022-02-01T22:30:01.352Z"
   },
   {
    "duration": 62,
    "start_time": "2022-02-01T22:30:01.656Z"
   },
   {
    "duration": 2734,
    "start_time": "2022-02-01T22:30:02.642Z"
   },
   {
    "duration": 51,
    "start_time": "2022-02-01T22:30:05.379Z"
   },
   {
    "duration": 8,
    "start_time": "2022-02-01T22:30:05.432Z"
   },
   {
    "duration": 23,
    "start_time": "2022-02-01T22:30:05.584Z"
   },
   {
    "duration": 15,
    "start_time": "2022-02-01T22:30:06.542Z"
   },
   {
    "duration": 8,
    "start_time": "2022-02-01T22:30:07.530Z"
   },
   {
    "duration": 23,
    "start_time": "2022-02-01T22:30:08.075Z"
   },
   {
    "duration": 18,
    "start_time": "2022-02-01T22:30:08.237Z"
   },
   {
    "duration": 12,
    "start_time": "2022-02-01T22:30:08.848Z"
   },
   {
    "duration": 13,
    "start_time": "2022-02-01T22:30:10.505Z"
   }
  ],
  "kernelspec": {
   "display_name": "Python 3",
   "language": "python",
   "name": "python3"
  },
  "language_info": {
   "codemirror_mode": {
    "name": "ipython",
    "version": 3
   },
   "file_extension": ".py",
   "mimetype": "text/x-python",
   "name": "python",
   "nbconvert_exporter": "python",
   "pygments_lexer": "ipython3",
   "version": "3.8.5"
  },
  "toc": {
   "base_numbering": 1,
   "nav_menu": {},
   "number_sections": true,
   "sideBar": true,
   "skip_h1_title": true,
   "title_cell": "Table of Contents",
   "title_sidebar": "Contents",
   "toc_cell": false,
   "toc_position": {},
   "toc_section_display": true,
   "toc_window_display": false
  }
 },
 "nbformat": 4,
 "nbformat_minor": 2
}
