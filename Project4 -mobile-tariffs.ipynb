{
 "cells": [
  {
   "cell_type": "markdown",
   "metadata": {},
   "source": [
    "## Формулировка задачи"
   ]
  },
  {
   "cell_type": "markdown",
   "metadata": {},
   "source": [
    "В датасете представлена статистика активности клиентов оператора мобильной связи. Признаками являются количество совершенных звонков, общее число минут разговора, отправленныз СМС и Мб Интернет-сессий за период времени. Целевым признаком является используемый тариф Ultra или Smart.\n",
    "<p>Необходимо подобрать модель, наиболее точно предсказывающую склонность того или иного клиента к тарифному плану Ultra, либо Smart."
   ]
  },
  {
   "cell_type": "markdown",
   "metadata": {},
   "source": [
    "Описание исходных данных:\n",
    "<p>\n",
    "    \n",
    "Датасет <b>`users`</b>:\n",
    "* `user_id` — уникальный идентификатор пользователя\n",
    "* `first_name` — имя пользователя\n",
    "* `last_name` — фамилия пользователя\n",
    "* `age` — возраст пользователя (годы)\n",
    "* `reg_date` — дата подключения тарифа (день, месяц, год)\n",
    "* `churn_date` — дата прекращения пользования тарифом (если значение пропущено, то тариф ещё действовал на момент выгрузки данных)\n",
    "* `city` — город проживания пользователя\n",
    "* `tariff` — название тарифного плана.\n",
    "    \n",
    "</p>\n",
    "<br>\n",
    "<p>\n",
    "    \n",
    "Датасет <b>`calls`</b>:\n",
    "* `id` — уникальный номер звонка\n",
    "* `call_date` — дата звонка\n",
    "* `duration` — длительность звонка в минутах\n",
    "* `user_id` — идентификатор пользователя, сделавшего звонок.\n",
    "\n",
    "</p>\n",
    "<br>\n",
    "<p>\n",
    "    \n",
    "Датасет <b>`messages`</b>:\n",
    "* `id` — уникальный номер сообщения\n",
    "* `message_date` — дата сообщения\n",
    "* `user_id` — идентификатор пользователя, отправившего сообщение.\n",
    "\n",
    "</p>\n",
    "<br>\n",
    "<p>\n",
    "\n",
    "Датасет <b>`internet`</b>:\n",
    "* `id` — уникальный номер сессии\n",
    "* `mb_used` — объём потраченного за сессию интернет-трафика (в Mb)\n",
    "* `session_date` — дата интернет-сессии\n",
    "* `user_id` — идентификатор пользователя.\n",
    "\n",
    "</p>\n",
    "<br>\n",
    "<p>\n",
    "\n",
    "Датасет <b>`tariffs`</b>:\n",
    "* `tariff_name` — название тарифа\n",
    "* `rub_monthly_fee` — ежемесячная абонентская плата в рублях\n",
    "* `minutes_included` — количество минут разговора в месяц, включённых в абонентскую плату\n",
    "* `messages_included` — количество сообщений в месяц, включённых в абонентскую плату\n",
    "* `mb_per_month_included` — объём интернет-трафика, включённого в абонентскую плату (в Mb)\n",
    "* `rub_per_minute` — стоимость минуты разговора сверх тарифного пакета (например, если в тарифе 100 минут разговора в месяц, то со 101 минуты будет взиматься плата)\n",
    "* `rub_per_message` — стоимость отправки сообщения сверх тарифного пакета\n",
    "* `rub_per_gb` — стоимость дополнительного гигабайта интернет-трафика сверх тарифного пакета."
   ]
  },
  {
   "cell_type": "markdown",
   "metadata": {},
   "source": [
    "## 1. Обзор данных"
   ]
  },
  {
   "cell_type": "code",
   "execution_count": 31,
   "metadata": {},
   "outputs": [],
   "source": [
    "import pandas as pd\n",
    "import numpy as np\n",
    "import math\n",
    "from scipy import stats as st"
   ]
  },
  {
   "cell_type": "code",
   "execution_count": 6,
   "metadata": {},
   "outputs": [],
   "source": [
    "calls = pd.read_csv('datasets/calls.csv')\n",
    "messages = pd.read_csv('datasets/messages.csv')\n",
    "internet = pd.read_csv('datasets/internet.csv')\n",
    "tariffs = pd.read_csv('datasets/tariffs.csv')\n",
    "users = pd.read_csv('datasets/users.csv')"
   ]
  },
  {
   "cell_type": "markdown",
   "metadata": {},
   "source": [
    "<b>Проверка датасета `calls`.</b>"
   ]
  },
  {
   "cell_type": "code",
   "execution_count": 10,
   "metadata": {},
   "outputs": [
    {
     "name": "stdout",
     "output_type": "stream",
     "text": [
      "<class 'pandas.core.frame.DataFrame'>\n",
      "RangeIndex: 202607 entries, 0 to 202606\n",
      "Data columns (total 4 columns):\n",
      " #   Column     Non-Null Count   Dtype  \n",
      "---  ------     --------------   -----  \n",
      " 0   id         202607 non-null  object \n",
      " 1   call_date  202607 non-null  object \n",
      " 2   duration   202607 non-null  float64\n",
      " 3   user_id    202607 non-null  int64  \n",
      "dtypes: float64(1), int64(1), object(2)\n",
      "memory usage: 6.2+ MB\n"
     ]
    }
   ],
   "source": [
    "calls.info()"
   ]
  },
  {
   "cell_type": "code",
   "execution_count": 12,
   "metadata": {},
   "outputs": [
    {
     "data": {
      "text/plain": [
       "count    202607.000000\n",
       "mean          6.755887\n",
       "std           5.843365\n",
       "min           0.000000\n",
       "25%           1.300000\n",
       "50%           6.000000\n",
       "75%          10.700000\n",
       "max          38.000000\n",
       "Name: duration, dtype: float64"
      ]
     },
     "execution_count": 12,
     "metadata": {},
     "output_type": "execute_result"
    }
   ],
   "source": [
    "calls['duration'].describe()"
   ]
  },
  {
   "cell_type": "code",
   "execution_count": 13,
   "metadata": {},
   "outputs": [
    {
     "name": "stdout",
     "output_type": "stream",
     "text": [
      "2018-01-01\n",
      "2018-12-31\n"
     ]
    }
   ],
   "source": [
    "print(calls['call_date'].min())\n",
    "print(calls['call_date'].max())"
   ]
  },
  {
   "cell_type": "markdown",
   "metadata": {},
   "source": [
    "Датасет `calls` содержит 202 607 строк и является самым большим из 5 датасетов.\n",
    "Пропущенных значений нет.\n",
    "`call_date` необходимо будет привести к формату DateTime.\n",
    "Средняя продолжительность звонков около 7 мин., максимальная - 38 мин.\n",
    "Даты корректны: датасет покрывает с первого по последний день 2018 года."
   ]
  },
  {
   "cell_type": "markdown",
   "metadata": {},
   "source": [
    "<b>Проверка датасета `messages`.</b>"
   ]
  },
  {
   "cell_type": "code",
   "execution_count": 15,
   "metadata": {},
   "outputs": [
    {
     "name": "stdout",
     "output_type": "stream",
     "text": [
      "<class 'pandas.core.frame.DataFrame'>\n",
      "RangeIndex: 123036 entries, 0 to 123035\n",
      "Data columns (total 3 columns):\n",
      " #   Column        Non-Null Count   Dtype \n",
      "---  ------        --------------   ----- \n",
      " 0   id            123036 non-null  object\n",
      " 1   message_date  123036 non-null  object\n",
      " 2   user_id       123036 non-null  int64 \n",
      "dtypes: int64(1), object(2)\n",
      "memory usage: 2.8+ MB\n"
     ]
    }
   ],
   "source": [
    "messages.info()"
   ]
  },
  {
   "cell_type": "code",
   "execution_count": 19,
   "metadata": {},
   "outputs": [
    {
     "name": "stdout",
     "output_type": "stream",
     "text": [
      "2018-01-02\n",
      "2018-12-31\n"
     ]
    }
   ],
   "source": [
    "print(messages['message_date'].min())\n",
    "print(messages['message_date'].max())"
   ]
  },
  {
   "cell_type": "markdown",
   "metadata": {},
   "source": [
    "Датасет `messages` содержит 123 036 строк.\n",
    "Пропущенных значений нет.\n",
    "message_date необходимо будет привести к формату DateTime.\n",
    "Даты корректны: датасет покрывает с первого по последний день 2018 года."
   ]
  },
  {
   "cell_type": "markdown",
   "metadata": {},
   "source": [
    "<b>Проверка датасета `internet`.</b>"
   ]
  },
  {
   "cell_type": "code",
   "execution_count": 20,
   "metadata": {},
   "outputs": [
    {
     "name": "stdout",
     "output_type": "stream",
     "text": [
      "<class 'pandas.core.frame.DataFrame'>\n",
      "RangeIndex: 149396 entries, 0 to 149395\n",
      "Data columns (total 5 columns):\n",
      " #   Column        Non-Null Count   Dtype  \n",
      "---  ------        --------------   -----  \n",
      " 0   Unnamed: 0    149396 non-null  int64  \n",
      " 1   id            149396 non-null  object \n",
      " 2   mb_used       149396 non-null  float64\n",
      " 3   session_date  149396 non-null  object \n",
      " 4   user_id       149396 non-null  int64  \n",
      "dtypes: float64(1), int64(2), object(2)\n",
      "memory usage: 5.7+ MB\n"
     ]
    }
   ],
   "source": [
    "internet.info()"
   ]
  },
  {
   "cell_type": "code",
   "execution_count": 21,
   "metadata": {},
   "outputs": [
    {
     "data": {
      "text/plain": [
       "count    149396.000000\n",
       "mean        370.192426\n",
       "std         278.300951\n",
       "min           0.000000\n",
       "25%         138.187500\n",
       "50%         348.015000\n",
       "75%         559.552500\n",
       "max        1724.830000\n",
       "Name: mb_used, dtype: float64"
      ]
     },
     "execution_count": 21,
     "metadata": {},
     "output_type": "execute_result"
    }
   ],
   "source": [
    "internet['mb_used'].describe()"
   ]
  },
  {
   "cell_type": "code",
   "execution_count": 22,
   "metadata": {},
   "outputs": [
    {
     "name": "stdout",
     "output_type": "stream",
     "text": [
      "2018-01-01\n",
      "2018-12-31\n"
     ]
    }
   ],
   "source": [
    "print(internet['session_date'].min())\n",
    "print(internet['session_date'].max())"
   ]
  },
  {
   "cell_type": "markdown",
   "metadata": {},
   "source": [
    "Датасет `internet` содержит 149 396 строк.\n",
    "Пропущенных значений нет.\n",
    "session_date необходимо будет привести к формату DateTime.\n",
    "Средний расход пользователя за 1 сессию - 370 Мб, максимальный - 1 725 Мб.\n",
    "Даты корректны: датасет покрывает с первого по последний день 2018 года."
   ]
  },
  {
   "cell_type": "markdown",
   "metadata": {},
   "source": [
    "<b>Проверка датасета `tariffs`.</b>"
   ]
  },
  {
   "cell_type": "code",
   "execution_count": 25,
   "metadata": {},
   "outputs": [
    {
     "name": "stdout",
     "output_type": "stream",
     "text": [
      "<class 'pandas.core.frame.DataFrame'>\n",
      "RangeIndex: 2 entries, 0 to 1\n",
      "Data columns (total 8 columns):\n",
      " #   Column                 Non-Null Count  Dtype \n",
      "---  ------                 --------------  ----- \n",
      " 0   messages_included      2 non-null      int64 \n",
      " 1   mb_per_month_included  2 non-null      int64 \n",
      " 2   minutes_included       2 non-null      int64 \n",
      " 3   rub_monthly_fee        2 non-null      int64 \n",
      " 4   rub_per_gb             2 non-null      int64 \n",
      " 5   rub_per_message        2 non-null      int64 \n",
      " 6   rub_per_minute         2 non-null      int64 \n",
      " 7   tariff_name            2 non-null      object\n",
      "dtypes: int64(7), object(1)\n",
      "memory usage: 256.0+ bytes\n"
     ]
    }
   ],
   "source": [
    "tariffs.info()"
   ]
  },
  {
   "cell_type": "markdown",
   "metadata": {},
   "source": [
    "Датасет `tariffs` содержит 2 строки.\n",
    "Пропущенных значений нет."
   ]
  },
  {
   "cell_type": "markdown",
   "metadata": {},
   "source": [
    "<b>Проверка датасета `users`.</b>"
   ]
  },
  {
   "cell_type": "code",
   "execution_count": 26,
   "metadata": {},
   "outputs": [
    {
     "name": "stdout",
     "output_type": "stream",
     "text": [
      "<class 'pandas.core.frame.DataFrame'>\n",
      "RangeIndex: 500 entries, 0 to 499\n",
      "Data columns (total 8 columns):\n",
      " #   Column      Non-Null Count  Dtype \n",
      "---  ------      --------------  ----- \n",
      " 0   user_id     500 non-null    int64 \n",
      " 1   age         500 non-null    int64 \n",
      " 2   churn_date  38 non-null     object\n",
      " 3   city        500 non-null    object\n",
      " 4   first_name  500 non-null    object\n",
      " 5   last_name   500 non-null    object\n",
      " 6   reg_date    500 non-null    object\n",
      " 7   tariff      500 non-null    object\n",
      "dtypes: int64(2), object(6)\n",
      "memory usage: 31.4+ KB\n"
     ]
    }
   ],
   "source": [
    "users.info()"
   ]
  },
  {
   "cell_type": "code",
   "execution_count": 27,
   "metadata": {},
   "outputs": [
    {
     "data": {
      "text/plain": [
       "count    500.00000\n",
       "mean      46.58800\n",
       "std       16.66763\n",
       "min       18.00000\n",
       "25%       32.00000\n",
       "50%       46.00000\n",
       "75%       62.00000\n",
       "max       75.00000\n",
       "Name: age, dtype: float64"
      ]
     },
     "execution_count": 27,
     "metadata": {},
     "output_type": "execute_result"
    }
   ],
   "source": [
    "users['age'].describe()"
   ]
  },
  {
   "cell_type": "code",
   "execution_count": 28,
   "metadata": {},
   "outputs": [
    {
     "name": "stdout",
     "output_type": "stream",
     "text": [
      "2018-01-01\n",
      "2018-12-31\n"
     ]
    }
   ],
   "source": [
    "print(users['reg_date'].min())\n",
    "print(users['reg_date'].max())"
   ]
  },
  {
   "cell_type": "markdown",
   "metadata": {},
   "source": [
    "Датасет `users` содержит 500 строк.\n",
    "Пропущенных значений (кроме столбца churn_date) нет.\n",
    "churn_date необходимо будет привести к формату DateTime.\n",
    "reg_date необходимо будет привести к формату DateTime.\n",
    "Средний возраст пользователей - 46 лет, минимальный - 18 лет, максимальный - 75 лет.\n",
    "Даты корректны: датасет покрывает с первого по последний день 2018 года.\n",
    "\n",
    "Пропусков и ошибок в данных не обнаружено.\n",
    "Столбцы, содежащие даты требуют приведения к корректному формату."
   ]
  },
  {
   "cell_type": "markdown",
   "metadata": {},
   "source": [
    "## 2. Предобработка данных"
   ]
  },
  {
   "cell_type": "markdown",
   "metadata": {},
   "source": [
    "### 2.1. Приведение данных к необходимым форматам"
   ]
  },
  {
   "cell_type": "markdown",
   "metadata": {},
   "source": [
    "Приведем к dateTime столбцы датасетов, содержащие даты (иначе не удастся достать месяц и сгруппировать по нему)."
   ]
  },
  {
   "cell_type": "code",
   "execution_count": 29,
   "metadata": {},
   "outputs": [],
   "source": [
    "calls['call_date'] = pd.to_datetime(calls['call_date'], format='%Y-%m-%d')\n",
    "messages['message_date'] = pd.to_datetime(messages['message_date'], format='%Y-%m-%d')\n",
    "internet['session_date'] = pd.to_datetime(internet['session_date'], format='%Y-%m-%d')\n",
    "users['churn_date'] = pd.to_datetime(users['churn_date'], format='%Y-%m-%d')\n",
    "users['reg_date'] = pd.to_datetime(users['reg_date'], format='%Y-%m-%d')"
   ]
  },
  {
   "cell_type": "markdown",
   "metadata": {},
   "source": [
    "### 2.2. Округление времени звонков"
   ]
  },
  {
   "cell_type": "markdown",
   "metadata": {},
   "source": [
    "Согласно тарификации оператора, каждый звонок округляется отдельно: даже если он длился всего 1 секунду, будет засчитан как 1 минута."
   ]
  },
  {
   "cell_type": "code",
   "execution_count": 32,
   "metadata": {},
   "outputs": [],
   "source": [
    "calls['duration'] = calls['duration'].apply(math.ceil)"
   ]
  },
  {
   "cell_type": "markdown",
   "metadata": {},
   "source": [
    "### 2.3. Группировка данных"
   ]
  },
  {
   "cell_type": "markdown",
   "metadata": {},
   "source": [
    "Сгруппируем данные датасетов по `user_id` и месяцам."
   ]
  },
  {
   "cell_type": "code",
   "execution_count": 33,
   "metadata": {},
   "outputs": [
    {
     "data": {
      "text/html": [
       "<div>\n",
       "<style scoped>\n",
       "    .dataframe tbody tr th:only-of-type {\n",
       "        vertical-align: middle;\n",
       "    }\n",
       "\n",
       "    .dataframe tbody tr th {\n",
       "        vertical-align: top;\n",
       "    }\n",
       "\n",
       "    .dataframe thead th {\n",
       "        text-align: right;\n",
       "    }\n",
       "</style>\n",
       "<table border=\"1\" class=\"dataframe\">\n",
       "  <thead>\n",
       "    <tr style=\"text-align: right;\">\n",
       "      <th></th>\n",
       "      <th>user_id</th>\n",
       "      <th>month</th>\n",
       "      <th>calls_count_month</th>\n",
       "      <th>calls_duration_month</th>\n",
       "    </tr>\n",
       "  </thead>\n",
       "  <tbody>\n",
       "    <tr>\n",
       "      <th>0</th>\n",
       "      <td>1000</td>\n",
       "      <td>August</td>\n",
       "      <td>52</td>\n",
       "      <td>408</td>\n",
       "    </tr>\n",
       "    <tr>\n",
       "      <th>1</th>\n",
       "      <td>1000</td>\n",
       "      <td>December</td>\n",
       "      <td>46</td>\n",
       "      <td>333</td>\n",
       "    </tr>\n",
       "    <tr>\n",
       "      <th>2</th>\n",
       "      <td>1000</td>\n",
       "      <td>July</td>\n",
       "      <td>47</td>\n",
       "      <td>340</td>\n",
       "    </tr>\n",
       "    <tr>\n",
       "      <th>3</th>\n",
       "      <td>1000</td>\n",
       "      <td>June</td>\n",
       "      <td>43</td>\n",
       "      <td>172</td>\n",
       "    </tr>\n",
       "    <tr>\n",
       "      <th>4</th>\n",
       "      <td>1000</td>\n",
       "      <td>May</td>\n",
       "      <td>22</td>\n",
       "      <td>159</td>\n",
       "    </tr>\n",
       "  </tbody>\n",
       "</table>\n",
       "</div>"
      ],
      "text/plain": [
       "   user_id     month  calls_count_month  calls_duration_month\n",
       "0     1000    August                 52                   408\n",
       "1     1000  December                 46                   333\n",
       "2     1000      July                 47                   340\n",
       "3     1000      June                 43                   172\n",
       "4     1000       May                 22                   159"
      ]
     },
     "execution_count": 33,
     "metadata": {},
     "output_type": "execute_result"
    }
   ],
   "source": [
    "# Данные датасета со звонками.\n",
    "\n",
    "calls['month'] = calls['call_date'].dt.month_name()\n",
    "\n",
    "calls = calls.groupby(['user_id', 'month'])\\\n",
    "                .agg({'id':'count', 'duration':'sum'})\\\n",
    "                .rename(columns={'id':'calls_count_month',\n",
    "                                 'duration':'calls_duration_month'})\\\n",
    "                .reset_index()\n",
    "calls.head(5)"
   ]
  },
  {
   "cell_type": "code",
   "execution_count": 34,
   "metadata": {},
   "outputs": [
    {
     "data": {
      "text/html": [
       "<div>\n",
       "<style scoped>\n",
       "    .dataframe tbody tr th:only-of-type {\n",
       "        vertical-align: middle;\n",
       "    }\n",
       "\n",
       "    .dataframe tbody tr th {\n",
       "        vertical-align: top;\n",
       "    }\n",
       "\n",
       "    .dataframe thead th {\n",
       "        text-align: right;\n",
       "    }\n",
       "</style>\n",
       "<table border=\"1\" class=\"dataframe\">\n",
       "  <thead>\n",
       "    <tr style=\"text-align: right;\">\n",
       "      <th></th>\n",
       "      <th>user_id</th>\n",
       "      <th>month</th>\n",
       "      <th>messages_count_month</th>\n",
       "    </tr>\n",
       "  </thead>\n",
       "  <tbody>\n",
       "    <tr>\n",
       "      <th>0</th>\n",
       "      <td>1000</td>\n",
       "      <td>August</td>\n",
       "      <td>81</td>\n",
       "    </tr>\n",
       "    <tr>\n",
       "      <th>1</th>\n",
       "      <td>1000</td>\n",
       "      <td>December</td>\n",
       "      <td>70</td>\n",
       "    </tr>\n",
       "    <tr>\n",
       "      <th>2</th>\n",
       "      <td>1000</td>\n",
       "      <td>July</td>\n",
       "      <td>75</td>\n",
       "    </tr>\n",
       "    <tr>\n",
       "      <th>3</th>\n",
       "      <td>1000</td>\n",
       "      <td>June</td>\n",
       "      <td>60</td>\n",
       "    </tr>\n",
       "    <tr>\n",
       "      <th>4</th>\n",
       "      <td>1000</td>\n",
       "      <td>May</td>\n",
       "      <td>22</td>\n",
       "    </tr>\n",
       "  </tbody>\n",
       "</table>\n",
       "</div>"
      ],
      "text/plain": [
       "   user_id     month  messages_count_month\n",
       "0     1000    August                    81\n",
       "1     1000  December                    70\n",
       "2     1000      July                    75\n",
       "3     1000      June                    60\n",
       "4     1000       May                    22"
      ]
     },
     "execution_count": 34,
     "metadata": {},
     "output_type": "execute_result"
    }
   ],
   "source": [
    "# Данные датасета с сообщениями.\n",
    "\n",
    "messages['month'] = messages['message_date'].dt.month_name()\n",
    "\n",
    "messages = messages.groupby(['user_id', 'month'])\\\n",
    "                .agg({'id':'count'})\\\n",
    "                .rename(columns={'id':'messages_count_month'})\\\n",
    "                .reset_index()\n",
    "\n",
    "messages.head(5)"
   ]
  },
  {
   "cell_type": "code",
   "execution_count": 35,
   "metadata": {},
   "outputs": [
    {
     "data": {
      "text/html": [
       "<div>\n",
       "<style scoped>\n",
       "    .dataframe tbody tr th:only-of-type {\n",
       "        vertical-align: middle;\n",
       "    }\n",
       "\n",
       "    .dataframe tbody tr th {\n",
       "        vertical-align: top;\n",
       "    }\n",
       "\n",
       "    .dataframe thead th {\n",
       "        text-align: right;\n",
       "    }\n",
       "</style>\n",
       "<table border=\"1\" class=\"dataframe\">\n",
       "  <thead>\n",
       "    <tr style=\"text-align: right;\">\n",
       "      <th></th>\n",
       "      <th>user_id</th>\n",
       "      <th>month</th>\n",
       "      <th>sessions_count_month</th>\n",
       "      <th>mb_used_month</th>\n",
       "    </tr>\n",
       "  </thead>\n",
       "  <tbody>\n",
       "    <tr>\n",
       "      <th>0</th>\n",
       "      <td>1000</td>\n",
       "      <td>August</td>\n",
       "      <td>29</td>\n",
       "      <td>14055.93</td>\n",
       "    </tr>\n",
       "    <tr>\n",
       "      <th>1</th>\n",
       "      <td>1000</td>\n",
       "      <td>December</td>\n",
       "      <td>21</td>\n",
       "      <td>9817.61</td>\n",
       "    </tr>\n",
       "    <tr>\n",
       "      <th>2</th>\n",
       "      <td>1000</td>\n",
       "      <td>July</td>\n",
       "      <td>29</td>\n",
       "      <td>14003.64</td>\n",
       "    </tr>\n",
       "    <tr>\n",
       "      <th>3</th>\n",
       "      <td>1000</td>\n",
       "      <td>June</td>\n",
       "      <td>49</td>\n",
       "      <td>23233.77</td>\n",
       "    </tr>\n",
       "    <tr>\n",
       "      <th>4</th>\n",
       "      <td>1000</td>\n",
       "      <td>May</td>\n",
       "      <td>5</td>\n",
       "      <td>2253.49</td>\n",
       "    </tr>\n",
       "  </tbody>\n",
       "</table>\n",
       "</div>"
      ],
      "text/plain": [
       "   user_id     month  sessions_count_month  mb_used_month\n",
       "0     1000    August                    29       14055.93\n",
       "1     1000  December                    21        9817.61\n",
       "2     1000      July                    29       14003.64\n",
       "3     1000      June                    49       23233.77\n",
       "4     1000       May                     5        2253.49"
      ]
     },
     "execution_count": 35,
     "metadata": {},
     "output_type": "execute_result"
    }
   ],
   "source": [
    "# Данные датасета с Интернет-траффиком.\n",
    "\n",
    "internet['month'] = internet['session_date'].dt.month_name()\n",
    "\n",
    "internet = internet.groupby(['user_id', 'month'])\\\n",
    "                .agg({'id':'count', 'mb_used':'sum'})\\\n",
    "                .rename(columns={'id':'sessions_count_month',\n",
    "                                'mb_used':'mb_used_month'})\\\n",
    "                .reset_index()              \n",
    "internet.head(5)"
   ]
  },
  {
   "cell_type": "markdown",
   "metadata": {},
   "source": [
    "### 2.4. Округление интернет-траффика"
   ]
  },
  {
   "cell_type": "code",
   "execution_count": 36,
   "metadata": {},
   "outputs": [
    {
     "data": {
      "text/html": [
       "<div>\n",
       "<style scoped>\n",
       "    .dataframe tbody tr th:only-of-type {\n",
       "        vertical-align: middle;\n",
       "    }\n",
       "\n",
       "    .dataframe tbody tr th {\n",
       "        vertical-align: top;\n",
       "    }\n",
       "\n",
       "    .dataframe thead th {\n",
       "        text-align: right;\n",
       "    }\n",
       "</style>\n",
       "<table border=\"1\" class=\"dataframe\">\n",
       "  <thead>\n",
       "    <tr style=\"text-align: right;\">\n",
       "      <th></th>\n",
       "      <th>user_id</th>\n",
       "      <th>month</th>\n",
       "      <th>sessions_count_month</th>\n",
       "      <th>mb_used_month</th>\n",
       "      <th>gb_used_month</th>\n",
       "    </tr>\n",
       "  </thead>\n",
       "  <tbody>\n",
       "    <tr>\n",
       "      <th>1450</th>\n",
       "      <td>1227</td>\n",
       "      <td>January</td>\n",
       "      <td>50</td>\n",
       "      <td>16626.17</td>\n",
       "      <td>17</td>\n",
       "    </tr>\n",
       "    <tr>\n",
       "      <th>1351</th>\n",
       "      <td>1211</td>\n",
       "      <td>December</td>\n",
       "      <td>51</td>\n",
       "      <td>16900.63</td>\n",
       "      <td>17</td>\n",
       "    </tr>\n",
       "    <tr>\n",
       "      <th>2991</th>\n",
       "      <td>1468</td>\n",
       "      <td>April</td>\n",
       "      <td>30</td>\n",
       "      <td>11204.56</td>\n",
       "      <td>11</td>\n",
       "    </tr>\n",
       "    <tr>\n",
       "      <th>2377</th>\n",
       "      <td>1376</td>\n",
       "      <td>October</td>\n",
       "      <td>58</td>\n",
       "      <td>21214.67</td>\n",
       "      <td>21</td>\n",
       "    </tr>\n",
       "    <tr>\n",
       "      <th>316</th>\n",
       "      <td>1051</td>\n",
       "      <td>July</td>\n",
       "      <td>59</td>\n",
       "      <td>20882.89</td>\n",
       "      <td>21</td>\n",
       "    </tr>\n",
       "  </tbody>\n",
       "</table>\n",
       "</div>"
      ],
      "text/plain": [
       "      user_id     month  sessions_count_month  mb_used_month  gb_used_month\n",
       "1450     1227   January                    50       16626.17             17\n",
       "1351     1211  December                    51       16900.63             17\n",
       "2991     1468     April                    30       11204.56             11\n",
       "2377     1376   October                    58       21214.67             21\n",
       "316      1051      July                    59       20882.89             21"
      ]
     },
     "execution_count": 36,
     "metadata": {},
     "output_type": "execute_result"
    }
   ],
   "source": [
    "def mb_to_gb(item):\n",
    "    if item > 1024:\n",
    "        return math.ceil(item / 1024)\n",
    "    else:\n",
    "        return 1\n",
    "\n",
    "internet['gb_used_month'] = internet['mb_used_month'].apply(mb_to_gb)\n",
    "\n",
    "internet.sample(5)"
   ]
  },
  {
   "cell_type": "markdown",
   "metadata": {},
   "source": [
    "### 2.5. Расчет выручки"
   ]
  },
  {
   "cell_type": "markdown",
   "metadata": {},
   "source": [
    "Сджойним таблицы со звонками, сообщениями и траффиком.\n",
    "Джойним к таблице calls, поскольку она является наиболее объемной."
   ]
  },
  {
   "cell_type": "code",
   "execution_count": 37,
   "metadata": {},
   "outputs": [],
   "source": [
    "df = calls.merge(messages, on=['user_id','month'], how='outer')\n",
    "df = df.merge(internet, on=['user_id','month'], how='outer')\n",
    "df = df.merge(users, on='user_id', how='left')"
   ]
  },
  {
   "cell_type": "markdown",
   "metadata": {},
   "source": [
    "Перед тем как джойнить df с таблицей tariffs, переименуем столбец tariff."
   ]
  },
  {
   "cell_type": "code",
   "execution_count": 39,
   "metadata": {},
   "outputs": [
    {
     "data": {
      "text/plain": [
       "Index(['user_id', 'month', 'calls_count_month', 'calls_duration_month',\n",
       "       'messages_count_month', 'sessions_count_month', 'mb_used_month',\n",
       "       'gb_used_month', 'age', 'churn_date', 'city', 'first_name', 'last_name',\n",
       "       'reg_date', 'tariff_name', 'messages_included', 'mb_per_month_included',\n",
       "       'minutes_included', 'rub_monthly_fee', 'rub_per_gb', 'rub_per_message',\n",
       "       'rub_per_minute'],\n",
       "      dtype='object')"
      ]
     },
     "execution_count": 39,
     "metadata": {},
     "output_type": "execute_result"
    }
   ],
   "source": [
    "df = df.rename(columns = {\n",
    "    'tariff': 'tariff_name'})\n",
    "\n",
    "df = df.merge(tariffs, on='tariff_name', how='left')\n",
    "\n",
    "df.columns"
   ]
  },
  {
   "cell_type": "markdown",
   "metadata": {},
   "source": [
    "Расположим столбцы полученного датасета более логично."
   ]
  },
  {
   "cell_type": "code",
   "execution_count": 40,
   "metadata": {},
   "outputs": [
    {
     "data": {
      "text/html": [
       "<div>\n",
       "<style scoped>\n",
       "    .dataframe tbody tr th:only-of-type {\n",
       "        vertical-align: middle;\n",
       "    }\n",
       "\n",
       "    .dataframe tbody tr th {\n",
       "        vertical-align: top;\n",
       "    }\n",
       "\n",
       "    .dataframe thead th {\n",
       "        text-align: right;\n",
       "    }\n",
       "</style>\n",
       "<table border=\"1\" class=\"dataframe\">\n",
       "  <thead>\n",
       "    <tr style=\"text-align: right;\">\n",
       "      <th></th>\n",
       "      <th>user_id</th>\n",
       "      <th>first_name</th>\n",
       "      <th>last_name</th>\n",
       "      <th>city</th>\n",
       "      <th>age</th>\n",
       "      <th>tariff_name</th>\n",
       "      <th>reg_date</th>\n",
       "      <th>churn_date</th>\n",
       "      <th>month</th>\n",
       "      <th>calls_count_month</th>\n",
       "      <th>...</th>\n",
       "      <th>sessions_count_month</th>\n",
       "      <th>mb_used_month</th>\n",
       "      <th>gb_used_month</th>\n",
       "      <th>messages_included</th>\n",
       "      <th>mb_per_month_included</th>\n",
       "      <th>minutes_included</th>\n",
       "      <th>rub_monthly_fee</th>\n",
       "      <th>rub_per_gb</th>\n",
       "      <th>rub_per_message</th>\n",
       "      <th>rub_per_minute</th>\n",
       "    </tr>\n",
       "  </thead>\n",
       "  <tbody>\n",
       "    <tr>\n",
       "      <th>2366</th>\n",
       "      <td>1377</td>\n",
       "      <td>Альфред</td>\n",
       "      <td>Семин</td>\n",
       "      <td>Брянск</td>\n",
       "      <td>59</td>\n",
       "      <td>ultra</td>\n",
       "      <td>2018-02-25</td>\n",
       "      <td>NaT</td>\n",
       "      <td>November</td>\n",
       "      <td>164.0</td>\n",
       "      <td>...</td>\n",
       "      <td>10.0</td>\n",
       "      <td>5998.50</td>\n",
       "      <td>6.0</td>\n",
       "      <td>1000</td>\n",
       "      <td>30720</td>\n",
       "      <td>3000</td>\n",
       "      <td>1950</td>\n",
       "      <td>150</td>\n",
       "      <td>1</td>\n",
       "      <td>1</td>\n",
       "    </tr>\n",
       "    <tr>\n",
       "      <th>64</th>\n",
       "      <td>1009</td>\n",
       "      <td>Василиса</td>\n",
       "      <td>Блинова</td>\n",
       "      <td>Пермь</td>\n",
       "      <td>24</td>\n",
       "      <td>smart</td>\n",
       "      <td>2018-03-22</td>\n",
       "      <td>NaT</td>\n",
       "      <td>August</td>\n",
       "      <td>33.0</td>\n",
       "      <td>...</td>\n",
       "      <td>65.0</td>\n",
       "      <td>23708.41</td>\n",
       "      <td>24.0</td>\n",
       "      <td>50</td>\n",
       "      <td>15360</td>\n",
       "      <td>500</td>\n",
       "      <td>550</td>\n",
       "      <td>200</td>\n",
       "      <td>3</td>\n",
       "      <td>3</td>\n",
       "    </tr>\n",
       "    <tr>\n",
       "      <th>2548</th>\n",
       "      <td>1402</td>\n",
       "      <td>Мариетта</td>\n",
       "      <td>Измайлова</td>\n",
       "      <td>Пенза</td>\n",
       "      <td>23</td>\n",
       "      <td>ultra</td>\n",
       "      <td>2018-03-09</td>\n",
       "      <td>NaT</td>\n",
       "      <td>August</td>\n",
       "      <td>90.0</td>\n",
       "      <td>...</td>\n",
       "      <td>62.0</td>\n",
       "      <td>31566.08</td>\n",
       "      <td>31.0</td>\n",
       "      <td>1000</td>\n",
       "      <td>30720</td>\n",
       "      <td>3000</td>\n",
       "      <td>1950</td>\n",
       "      <td>150</td>\n",
       "      <td>1</td>\n",
       "      <td>1</td>\n",
       "    </tr>\n",
       "    <tr>\n",
       "      <th>2971</th>\n",
       "      <td>1467</td>\n",
       "      <td>Исак</td>\n",
       "      <td>Александрюк</td>\n",
       "      <td>Киров</td>\n",
       "      <td>66</td>\n",
       "      <td>ultra</td>\n",
       "      <td>2018-11-24</td>\n",
       "      <td>NaT</td>\n",
       "      <td>December</td>\n",
       "      <td>244.0</td>\n",
       "      <td>...</td>\n",
       "      <td>22.0</td>\n",
       "      <td>9756.90</td>\n",
       "      <td>10.0</td>\n",
       "      <td>1000</td>\n",
       "      <td>30720</td>\n",
       "      <td>3000</td>\n",
       "      <td>1950</td>\n",
       "      <td>150</td>\n",
       "      <td>1</td>\n",
       "      <td>1</td>\n",
       "    </tr>\n",
       "    <tr>\n",
       "      <th>1676</th>\n",
       "      <td>1269</td>\n",
       "      <td>Аким</td>\n",
       "      <td>Ахмадулин</td>\n",
       "      <td>Омск</td>\n",
       "      <td>31</td>\n",
       "      <td>smart</td>\n",
       "      <td>2018-07-17</td>\n",
       "      <td>NaT</td>\n",
       "      <td>December</td>\n",
       "      <td>45.0</td>\n",
       "      <td>...</td>\n",
       "      <td>56.0</td>\n",
       "      <td>17969.07</td>\n",
       "      <td>18.0</td>\n",
       "      <td>50</td>\n",
       "      <td>15360</td>\n",
       "      <td>500</td>\n",
       "      <td>550</td>\n",
       "      <td>200</td>\n",
       "      <td>3</td>\n",
       "      <td>3</td>\n",
       "    </tr>\n",
       "  </tbody>\n",
       "</table>\n",
       "<p>5 rows × 22 columns</p>\n",
       "</div>"
      ],
      "text/plain": [
       "      user_id first_name    last_name    city  age tariff_name   reg_date  \\\n",
       "2366     1377    Альфред        Семин  Брянск   59       ultra 2018-02-25   \n",
       "64       1009   Василиса      Блинова   Пермь   24       smart 2018-03-22   \n",
       "2548     1402   Мариетта    Измайлова   Пенза   23       ultra 2018-03-09   \n",
       "2971     1467       Исак  Александрюк   Киров   66       ultra 2018-11-24   \n",
       "1676     1269       Аким    Ахмадулин    Омск   31       smart 2018-07-17   \n",
       "\n",
       "     churn_date     month  calls_count_month  ...  sessions_count_month  \\\n",
       "2366        NaT  November              164.0  ...                  10.0   \n",
       "64          NaT    August               33.0  ...                  65.0   \n",
       "2548        NaT    August               90.0  ...                  62.0   \n",
       "2971        NaT  December              244.0  ...                  22.0   \n",
       "1676        NaT  December               45.0  ...                  56.0   \n",
       "\n",
       "      mb_used_month  gb_used_month  messages_included  mb_per_month_included  \\\n",
       "2366        5998.50            6.0               1000                  30720   \n",
       "64         23708.41           24.0                 50                  15360   \n",
       "2548       31566.08           31.0               1000                  30720   \n",
       "2971        9756.90           10.0               1000                  30720   \n",
       "1676       17969.07           18.0                 50                  15360   \n",
       "\n",
       "      minutes_included  rub_monthly_fee  rub_per_gb  rub_per_message  \\\n",
       "2366              3000             1950         150                1   \n",
       "64                 500              550         200                3   \n",
       "2548              3000             1950         150                1   \n",
       "2971              3000             1950         150                1   \n",
       "1676               500              550         200                3   \n",
       "\n",
       "      rub_per_minute  \n",
       "2366               1  \n",
       "64                 3  \n",
       "2548               1  \n",
       "2971               1  \n",
       "1676               3  \n",
       "\n",
       "[5 rows x 22 columns]"
      ]
     },
     "execution_count": 40,
     "metadata": {},
     "output_type": "execute_result"
    }
   ],
   "source": [
    "df = df[['user_id',\n",
    "         'first_name',\n",
    "         'last_name',\n",
    "         'city',\n",
    "         'age',\n",
    "         'tariff_name',\n",
    "         'reg_date',\n",
    "         'churn_date',\n",
    "         'month',\n",
    "         'calls_count_month',\n",
    "         'calls_duration_month',\n",
    "         'messages_count_month',\n",
    "         'sessions_count_month',\n",
    "         'mb_used_month',\n",
    "         'gb_used_month',\n",
    "         'messages_included',\n",
    "         'mb_per_month_included',\n",
    "         'minutes_included',\n",
    "         'rub_monthly_fee',\n",
    "         'rub_per_gb',\n",
    "         'rub_per_message',\n",
    "         'rub_per_minute']]\n",
    "\n",
    "df.sample(5)"
   ]
  },
  {
   "cell_type": "markdown",
   "metadata": {},
   "source": [
    "Проверим датасет на наличие дубликатов."
   ]
  },
  {
   "cell_type": "code",
   "execution_count": 41,
   "metadata": {},
   "outputs": [
    {
     "data": {
      "text/plain": [
       "0"
      ]
     },
     "execution_count": 41,
     "metadata": {},
     "output_type": "execute_result"
    }
   ],
   "source": [
    "df.duplicated().sum()"
   ]
  },
  {
   "cell_type": "markdown",
   "metadata": {},
   "source": [
    "Проверим датасет на наличие пропусков."
   ]
  },
  {
   "cell_type": "code",
   "execution_count": 42,
   "metadata": {},
   "outputs": [
    {
     "data": {
      "text/plain": [
       "user_id                     0\n",
       "first_name                  0\n",
       "last_name                   0\n",
       "city                        0\n",
       "age                         0\n",
       "tariff_name                 0\n",
       "reg_date                    0\n",
       "churn_date               3027\n",
       "month                       0\n",
       "calls_count_month          40\n",
       "calls_duration_month       40\n",
       "messages_count_month      497\n",
       "sessions_count_month       11\n",
       "mb_used_month              11\n",
       "gb_used_month              11\n",
       "messages_included           0\n",
       "mb_per_month_included       0\n",
       "minutes_included            0\n",
       "rub_monthly_fee             0\n",
       "rub_per_gb                  0\n",
       "rub_per_message             0\n",
       "rub_per_minute              0\n",
       "dtype: int64"
      ]
     },
     "execution_count": 42,
     "metadata": {},
     "output_type": "execute_result"
    }
   ],
   "source": [
    "df.isnull().sum()"
   ]
  },
  {
   "cell_type": "markdown",
   "metadata": {},
   "source": [
    "Заполним пропущенные значения нулями (кроме churn_date), предполагая, что клиенты не пользовались данными сервисами."
   ]
  },
  {
   "cell_type": "code",
   "execution_count": 43,
   "metadata": {},
   "outputs": [],
   "source": [
    "df['calls_count_month'] = df['calls_count_month'].fillna(0)\n",
    "df['calls_duration_month'] = df['calls_duration_month'].fillna(0)\n",
    "df['messages_count_month'] = df['messages_count_month'].fillna(0)\n",
    "df['sessions_count_month'] = df['sessions_count_month'].fillna(0)\n",
    "df['mb_used_month'] = df['mb_used_month'].fillna(0)\n",
    "df['gb_used_month'] = df['gb_used_month'].fillna(0)"
   ]
  },
  {
   "cell_type": "code",
   "execution_count": 44,
   "metadata": {},
   "outputs": [
    {
     "data": {
      "text/plain": [
       "user_id                     0\n",
       "first_name                  0\n",
       "last_name                   0\n",
       "city                        0\n",
       "age                         0\n",
       "tariff_name                 0\n",
       "reg_date                    0\n",
       "churn_date               3027\n",
       "month                       0\n",
       "calls_count_month           0\n",
       "calls_duration_month        0\n",
       "messages_count_month        0\n",
       "sessions_count_month        0\n",
       "mb_used_month               0\n",
       "gb_used_month               0\n",
       "messages_included           0\n",
       "mb_per_month_included       0\n",
       "minutes_included            0\n",
       "rub_monthly_fee             0\n",
       "rub_per_gb                  0\n",
       "rub_per_message             0\n",
       "rub_per_minute              0\n",
       "dtype: int64"
      ]
     },
     "execution_count": 44,
     "metadata": {},
     "output_type": "execute_result"
    }
   ],
   "source": [
    "df.isnull().sum()"
   ]
  },
  {
   "cell_type": "markdown",
   "metadata": {},
   "source": [
    "Рассчитаем помесячную выручку с каждого пользователя.\n",
    "Сначала инкрементальную (за превышение лимитов тарифа)."
   ]
  },
  {
   "cell_type": "code",
   "execution_count": 46,
   "metadata": {},
   "outputs": [],
   "source": [
    "def over_tariff(row):\n",
    "        cls = (row['calls_duration_month'] - row['minutes_included']) * row['rub_per_minute']\n",
    "        msg = (row['messages_count_month'] - row['messages_included']) * row['rub_per_message']\n",
    "        gb = (row['gb_used_month'] - math.ceil(row['mb_per_month_included']/1024)) * row['rub_per_gb']\n",
    "        \n",
    "        incr_revenue = 0\n",
    "        \n",
    "        for i in [cls, msg, gb]:\n",
    "            if i>0:\n",
    "                incr_revenue += i\n",
    "        return incr_revenue\n",
    "\n",
    "df['incr_revenue'] = df.apply(lambda x: over_tariff(x), axis=1)"
   ]
  },
  {
   "cell_type": "markdown",
   "metadata": {},
   "source": [
    "Сложим инкрементальную выручку с абонентской платой"
   ]
  },
  {
   "cell_type": "code",
   "execution_count": 47,
   "metadata": {},
   "outputs": [
    {
     "data": {
      "text/html": [
       "<div>\n",
       "<style scoped>\n",
       "    .dataframe tbody tr th:only-of-type {\n",
       "        vertical-align: middle;\n",
       "    }\n",
       "\n",
       "    .dataframe tbody tr th {\n",
       "        vertical-align: top;\n",
       "    }\n",
       "\n",
       "    .dataframe thead th {\n",
       "        text-align: right;\n",
       "    }\n",
       "</style>\n",
       "<table border=\"1\" class=\"dataframe\">\n",
       "  <thead>\n",
       "    <tr style=\"text-align: right;\">\n",
       "      <th></th>\n",
       "      <th>user_id</th>\n",
       "      <th>first_name</th>\n",
       "      <th>last_name</th>\n",
       "      <th>city</th>\n",
       "      <th>age</th>\n",
       "      <th>tariff_name</th>\n",
       "      <th>reg_date</th>\n",
       "      <th>churn_date</th>\n",
       "      <th>month</th>\n",
       "      <th>calls_count_month</th>\n",
       "      <th>...</th>\n",
       "      <th>gb_used_month</th>\n",
       "      <th>messages_included</th>\n",
       "      <th>mb_per_month_included</th>\n",
       "      <th>minutes_included</th>\n",
       "      <th>rub_monthly_fee</th>\n",
       "      <th>rub_per_gb</th>\n",
       "      <th>rub_per_message</th>\n",
       "      <th>rub_per_minute</th>\n",
       "      <th>incr_revenue</th>\n",
       "      <th>total_revenue</th>\n",
       "    </tr>\n",
       "  </thead>\n",
       "  <tbody>\n",
       "    <tr>\n",
       "      <th>1835</th>\n",
       "      <td>1292</td>\n",
       "      <td>Веселина</td>\n",
       "      <td>Алексеенко</td>\n",
       "      <td>Красноярск</td>\n",
       "      <td>63</td>\n",
       "      <td>ultra</td>\n",
       "      <td>2018-02-21</td>\n",
       "      <td>NaT</td>\n",
       "      <td>September</td>\n",
       "      <td>31.0</td>\n",
       "      <td>...</td>\n",
       "      <td>34.0</td>\n",
       "      <td>1000</td>\n",
       "      <td>30720</td>\n",
       "      <td>3000</td>\n",
       "      <td>1950</td>\n",
       "      <td>150</td>\n",
       "      <td>1</td>\n",
       "      <td>1</td>\n",
       "      <td>600.0</td>\n",
       "      <td>2550.0</td>\n",
       "    </tr>\n",
       "    <tr>\n",
       "      <th>1918</th>\n",
       "      <td>1307</td>\n",
       "      <td>Симона</td>\n",
       "      <td>Авсейкина</td>\n",
       "      <td>Самара</td>\n",
       "      <td>53</td>\n",
       "      <td>smart</td>\n",
       "      <td>2018-05-04</td>\n",
       "      <td>NaT</td>\n",
       "      <td>June</td>\n",
       "      <td>76.0</td>\n",
       "      <td>...</td>\n",
       "      <td>18.0</td>\n",
       "      <td>50</td>\n",
       "      <td>15360</td>\n",
       "      <td>500</td>\n",
       "      <td>550</td>\n",
       "      <td>200</td>\n",
       "      <td>3</td>\n",
       "      <td>3</td>\n",
       "      <td>1074.0</td>\n",
       "      <td>1624.0</td>\n",
       "    </tr>\n",
       "    <tr>\n",
       "      <th>2911</th>\n",
       "      <td>1458</td>\n",
       "      <td>Роберт</td>\n",
       "      <td>Азаров</td>\n",
       "      <td>Барнаул</td>\n",
       "      <td>36</td>\n",
       "      <td>ultra</td>\n",
       "      <td>2018-02-13</td>\n",
       "      <td>NaT</td>\n",
       "      <td>August</td>\n",
       "      <td>117.0</td>\n",
       "      <td>...</td>\n",
       "      <td>14.0</td>\n",
       "      <td>1000</td>\n",
       "      <td>30720</td>\n",
       "      <td>3000</td>\n",
       "      <td>1950</td>\n",
       "      <td>150</td>\n",
       "      <td>1</td>\n",
       "      <td>1</td>\n",
       "      <td>0.0</td>\n",
       "      <td>1950.0</td>\n",
       "    </tr>\n",
       "    <tr>\n",
       "      <th>225</th>\n",
       "      <td>1035</td>\n",
       "      <td>Розалия</td>\n",
       "      <td>Аракина</td>\n",
       "      <td>Тюмень</td>\n",
       "      <td>37</td>\n",
       "      <td>smart</td>\n",
       "      <td>2018-04-03</td>\n",
       "      <td>NaT</td>\n",
       "      <td>July</td>\n",
       "      <td>60.0</td>\n",
       "      <td>...</td>\n",
       "      <td>14.0</td>\n",
       "      <td>50</td>\n",
       "      <td>15360</td>\n",
       "      <td>500</td>\n",
       "      <td>550</td>\n",
       "      <td>200</td>\n",
       "      <td>3</td>\n",
       "      <td>3</td>\n",
       "      <td>39.0</td>\n",
       "      <td>589.0</td>\n",
       "    </tr>\n",
       "    <tr>\n",
       "      <th>1480</th>\n",
       "      <td>1238</td>\n",
       "      <td>Радислав</td>\n",
       "      <td>Наумов</td>\n",
       "      <td>Ростов-на-Дону</td>\n",
       "      <td>57</td>\n",
       "      <td>smart</td>\n",
       "      <td>2018-01-08</td>\n",
       "      <td>NaT</td>\n",
       "      <td>June</td>\n",
       "      <td>4.0</td>\n",
       "      <td>...</td>\n",
       "      <td>13.0</td>\n",
       "      <td>50</td>\n",
       "      <td>15360</td>\n",
       "      <td>500</td>\n",
       "      <td>550</td>\n",
       "      <td>200</td>\n",
       "      <td>3</td>\n",
       "      <td>3</td>\n",
       "      <td>0.0</td>\n",
       "      <td>550.0</td>\n",
       "    </tr>\n",
       "  </tbody>\n",
       "</table>\n",
       "<p>5 rows × 24 columns</p>\n",
       "</div>"
      ],
      "text/plain": [
       "      user_id first_name   last_name            city  age tariff_name  \\\n",
       "1835     1292   Веселина  Алексеенко      Красноярск   63       ultra   \n",
       "1918     1307     Симона   Авсейкина          Самара   53       smart   \n",
       "2911     1458     Роберт      Азаров         Барнаул   36       ultra   \n",
       "225      1035    Розалия     Аракина          Тюмень   37       smart   \n",
       "1480     1238   Радислав      Наумов  Ростов-на-Дону   57       smart   \n",
       "\n",
       "       reg_date churn_date      month  calls_count_month  ...  gb_used_month  \\\n",
       "1835 2018-02-21        NaT  September               31.0  ...           34.0   \n",
       "1918 2018-05-04        NaT       June               76.0  ...           18.0   \n",
       "2911 2018-02-13        NaT     August              117.0  ...           14.0   \n",
       "225  2018-04-03        NaT       July               60.0  ...           14.0   \n",
       "1480 2018-01-08        NaT       June                4.0  ...           13.0   \n",
       "\n",
       "      messages_included  mb_per_month_included  minutes_included  \\\n",
       "1835               1000                  30720              3000   \n",
       "1918                 50                  15360               500   \n",
       "2911               1000                  30720              3000   \n",
       "225                  50                  15360               500   \n",
       "1480                 50                  15360               500   \n",
       "\n",
       "      rub_monthly_fee  rub_per_gb  rub_per_message  rub_per_minute  \\\n",
       "1835             1950         150                1               1   \n",
       "1918              550         200                3               3   \n",
       "2911             1950         150                1               1   \n",
       "225               550         200                3               3   \n",
       "1480              550         200                3               3   \n",
       "\n",
       "      incr_revenue  total_revenue  \n",
       "1835         600.0         2550.0  \n",
       "1918        1074.0         1624.0  \n",
       "2911           0.0         1950.0  \n",
       "225           39.0          589.0  \n",
       "1480           0.0          550.0  \n",
       "\n",
       "[5 rows x 24 columns]"
      ]
     },
     "execution_count": 47,
     "metadata": {},
     "output_type": "execute_result"
    }
   ],
   "source": [
    "df['total_revenue'] = df['incr_revenue'] + df['rub_monthly_fee']\n",
    "df.sample(5)"
   ]
  },
  {
   "cell_type": "code",
   "execution_count": 48,
   "metadata": {},
   "outputs": [
    {
     "data": {
      "text/html": [
       "<div>\n",
       "<style scoped>\n",
       "    .dataframe tbody tr th:only-of-type {\n",
       "        vertical-align: middle;\n",
       "    }\n",
       "\n",
       "    .dataframe tbody tr th {\n",
       "        vertical-align: top;\n",
       "    }\n",
       "\n",
       "    .dataframe thead tr th {\n",
       "        text-align: left;\n",
       "    }\n",
       "\n",
       "    .dataframe thead tr:last-of-type th {\n",
       "        text-align: right;\n",
       "    }\n",
       "</style>\n",
       "<table border=\"1\" class=\"dataframe\">\n",
       "  <thead>\n",
       "    <tr>\n",
       "      <th></th>\n",
       "      <th colspan=\"3\" halign=\"left\">count</th>\n",
       "      <th colspan=\"3\" halign=\"left\">sum</th>\n",
       "    </tr>\n",
       "    <tr>\n",
       "      <th></th>\n",
       "      <th>incr_revenue</th>\n",
       "      <th>rub_monthly_fee</th>\n",
       "      <th>total_revenue</th>\n",
       "      <th>incr_revenue</th>\n",
       "      <th>rub_monthly_fee</th>\n",
       "      <th>total_revenue</th>\n",
       "    </tr>\n",
       "    <tr>\n",
       "      <th>tariff_name</th>\n",
       "      <th></th>\n",
       "      <th></th>\n",
       "      <th></th>\n",
       "      <th></th>\n",
       "      <th></th>\n",
       "      <th></th>\n",
       "    </tr>\n",
       "  </thead>\n",
       "  <tbody>\n",
       "    <tr>\n",
       "      <th>smart</th>\n",
       "      <td>2229</td>\n",
       "      <td>2229</td>\n",
       "      <td>2229</td>\n",
       "      <td>1649401.0</td>\n",
       "      <td>1225950</td>\n",
       "      <td>2875351.0</td>\n",
       "    </tr>\n",
       "    <tr>\n",
       "      <th>ultra</th>\n",
       "      <td>985</td>\n",
       "      <td>985</td>\n",
       "      <td>985</td>\n",
       "      <td>118350.0</td>\n",
       "      <td>1920750</td>\n",
       "      <td>2039100.0</td>\n",
       "    </tr>\n",
       "  </tbody>\n",
       "</table>\n",
       "</div>"
      ],
      "text/plain": [
       "                   count                                        sum  \\\n",
       "            incr_revenue rub_monthly_fee total_revenue incr_revenue   \n",
       "tariff_name                                                           \n",
       "smart               2229            2229          2229    1649401.0   \n",
       "ultra                985             985           985     118350.0   \n",
       "\n",
       "                                           \n",
       "            rub_monthly_fee total_revenue  \n",
       "tariff_name                                \n",
       "smart               1225950     2875351.0  \n",
       "ultra               1920750     2039100.0  "
      ]
     },
     "execution_count": 48,
     "metadata": {},
     "output_type": "execute_result"
    }
   ],
   "source": [
    "df.pivot_table(index = ['tariff_name'],\n",
    "                     values = ['rub_monthly_fee', 'incr_revenue', 'total_revenue'],\n",
    "                     aggfunc = ['count', 'sum']) "
   ]
  },
  {
   "cell_type": "markdown",
   "metadata": {},
   "source": [
    "Тариф `Smart` используют 69% клиентов, он генерирует 58% всей выручки, 57% от которой приходится на услуги сверх абонентской платы.\n",
    "\n",
    "Тариф `Ultra` использует 31% клиентов, он генерирует 42% всей выручки, услуги сверх абонентской платы приносят около 6% инкрементальной прибыли."
   ]
  },
  {
   "cell_type": "markdown",
   "metadata": {},
   "source": [
    "Данные были приведены к необходимым форматам (dateTime, округление времени разговора до минут и траффика до Гб, сообразно тарифам оператора), осуществлена проверка дубликатов строк (не выявлено) и наличие пробелов (заменены на 0, где приемлемо).\n",
    "Собран единый датасет из 5 таблиц, упорядоченный по абоненту и отчетному месяцу.\n",
    "Добавлены столбцы с инкрементальной (за превышение лимитов тарифа абонентом) и общей выручки для каждого абонента.\n",
    "Проведено сравнение двух тарифных планов оператора, из которого следет, что бОльшая часть выручки Smart формирует инкрементальная плата абонента за услуги выше тарифных лимитов."
   ]
  },
  {
   "cell_type": "markdown",
   "metadata": {},
   "source": [
    "## 3. Анализ использования тарифных планов клиентами"
   ]
  },
  {
   "cell_type": "markdown",
   "metadata": {},
   "source": [
    "### 3.1. Минуты разговора"
   ]
  },
  {
   "cell_type": "code",
   "execution_count": 50,
   "metadata": {},
   "outputs": [
    {
     "data": {
      "text/html": [
       "<style  type=\"text/css\" >\n",
       "</style><table id=\"T_8cd401d5_f4be_11ec_80fe_c16e841d009e\" ><thead>    <tr>        <th class=\"blank level0\" ></th>        <th class=\"col_heading level0 col0\" colspan=4>calls_duration_month</th>    </tr>    <tr>        <th class=\"blank level1\" ></th>        <th class=\"col_heading level1 col0\" >mean</th>        <th class=\"col_heading level1 col1\" >median</th>        <th class=\"col_heading level1 col2\" >var</th>        <th class=\"col_heading level1 col3\" >std</th>    </tr>    <tr>        <th class=\"index_name level0\" >tariff_name</th>        <th class=\"blank\" ></th>        <th class=\"blank\" ></th>        <th class=\"blank\" ></th>        <th class=\"blank\" ></th>    </tr></thead><tbody>\n",
       "                <tr>\n",
       "                        <th id=\"T_8cd401d5_f4be_11ec_80fe_c16e841d009elevel0_row0\" class=\"row_heading level0 row0\" >smart</th>\n",
       "                        <td id=\"T_8cd401d5_f4be_11ec_80fe_c16e841d009erow0_col0\" class=\"data row0 col0\" >417.93</td>\n",
       "                        <td id=\"T_8cd401d5_f4be_11ec_80fe_c16e841d009erow0_col1\" class=\"data row0 col1\" >422.00</td>\n",
       "                        <td id=\"T_8cd401d5_f4be_11ec_80fe_c16e841d009erow0_col2\" class=\"data row0 col2\" >36219.32</td>\n",
       "                        <td id=\"T_8cd401d5_f4be_11ec_80fe_c16e841d009erow0_col3\" class=\"data row0 col3\" >190.31</td>\n",
       "            </tr>\n",
       "            <tr>\n",
       "                        <th id=\"T_8cd401d5_f4be_11ec_80fe_c16e841d009elevel0_row1\" class=\"row_heading level0 row1\" >ultra</th>\n",
       "                        <td id=\"T_8cd401d5_f4be_11ec_80fe_c16e841d009erow1_col0\" class=\"data row1 col0\" >526.62</td>\n",
       "                        <td id=\"T_8cd401d5_f4be_11ec_80fe_c16e841d009erow1_col1\" class=\"data row1 col1\" >518.00</td>\n",
       "                        <td id=\"T_8cd401d5_f4be_11ec_80fe_c16e841d009erow1_col2\" class=\"data row1 col2\" >100873.63</td>\n",
       "                        <td id=\"T_8cd401d5_f4be_11ec_80fe_c16e841d009erow1_col3\" class=\"data row1 col3\" >317.61</td>\n",
       "            </tr>\n",
       "    </tbody></table>"
      ],
      "text/plain": [
       "<pandas.io.formats.style.Styler at 0x25df46dc730>"
      ]
     },
     "execution_count": 50,
     "metadata": {},
     "output_type": "execute_result"
    }
   ],
   "source": [
    "df_smart = df.loc[df['tariff_name'] == 'smart']\n",
    "df_ultra = df.loc[df['tariff_name'] == 'ultra']\n",
    "\n",
    "df.groupby('tariff_name')\\\n",
    "  .agg({'calls_duration_month':['mean','median','var','std']})\\\n",
    "  .style.format(\"{:.2f}\")"
   ]
  },
  {
   "cell_type": "markdown",
   "metadata": {},
   "source": [
    "В среднем, пользователи `Smart` разговаривают на 20% меньше пользователей `Ultra` (418 мин. vs 527 мин.)"
   ]
  },
  {
   "cell_type": "code",
   "execution_count": 51,
   "metadata": {},
   "outputs": [
    {
     "data": {
      "text/plain": [
       "<AxesSubplot:title={'center':'Распределение времени разговора клиентов, мин/мес'}, ylabel='Frequency'>"
      ]
     },
     "execution_count": 51,
     "metadata": {},
     "output_type": "execute_result"
    },
    {
     "data": {
      "image/png": "[encoded data removed]",
      "text/plain": [
       "<Figure size 1080x360 with 1 Axes>"
      ]
     },
     "metadata": {
      "needs_background": "light"
     },
     "output_type": "display_data"
    }
   ],
   "source": [
    "ax = df_smart['calls_duration_month'].plot(\n",
    "    kind='hist',\n",
    "    y='time_spent',\n",
    "    range=(0, 1700),\n",
    "    bins=20,\n",
    "    linewidth=5,\n",
    "    alpha=0.7,\n",
    "    label='Smart',\n",
    "    legend=True,\n",
    "    figsize=(15, 5),\n",
    "    title='Распределение времени разговора клиентов, мин/мес'\n",
    ")\n",
    "\n",
    "df_ultra['calls_duration_month'].plot(\n",
    "    kind='hist',\n",
    "    y='time_spent',\n",
    "    range=(0, 1700),\n",
    "    bins=20,\n",
    "    linewidth=5,\n",
    "    alpha=0.7,\n",
    "    label='Ultra',\n",
    "    ax=ax,\n",
    "    grid=True,\n",
    "    legend=True,\n",
    ")"
   ]
  },
  {
   "cell_type": "markdown",
   "metadata": {},
   "source": [
    "Польователи `Ultra` более равномерны в числе звонковых минут, в то время как у `Smart` набюдается нормальное распределение."
   ]
  },
  {
   "cell_type": "markdown",
   "metadata": {},
   "source": [
    "### 3.2. Анализ отправляемых сообщений"
   ]
  },
  {
   "cell_type": "code",
   "execution_count": 52,
   "metadata": {},
   "outputs": [
    {
     "data": {
      "text/html": [
       "<style  type=\"text/css\" >\n",
       "</style><table id=\"T_57881d19_f513_11ec_a819_c16e841d009e\" ><thead>    <tr>        <th class=\"blank level0\" ></th>        <th class=\"col_heading level0 col0\" colspan=4>messages_count_month</th>    </tr>    <tr>        <th class=\"blank level1\" ></th>        <th class=\"col_heading level1 col0\" >mean</th>        <th class=\"col_heading level1 col1\" >median</th>        <th class=\"col_heading level1 col2\" >var</th>        <th class=\"col_heading level1 col3\" >std</th>    </tr>    <tr>        <th class=\"index_name level0\" >tariff_name</th>        <th class=\"blank\" ></th>        <th class=\"blank\" ></th>        <th class=\"blank\" ></th>        <th class=\"blank\" ></th>    </tr></thead><tbody>\n",
       "                <tr>\n",
       "                        <th id=\"T_57881d19_f513_11ec_a819_c16e841d009elevel0_row0\" class=\"row_heading level0 row0\" >smart</th>\n",
       "                        <td id=\"T_57881d19_f513_11ec_a819_c16e841d009erow0_col0\" class=\"data row0 col0\" >33.38</td>\n",
       "                        <td id=\"T_57881d19_f513_11ec_a819_c16e841d009erow0_col1\" class=\"data row0 col1\" >28.00</td>\n",
       "                        <td id=\"T_57881d19_f513_11ec_a819_c16e841d009erow0_col2\" class=\"data row0 col2\" >796.81</td>\n",
       "                        <td id=\"T_57881d19_f513_11ec_a819_c16e841d009erow0_col3\" class=\"data row0 col3\" >28.23</td>\n",
       "            </tr>\n",
       "            <tr>\n",
       "                        <th id=\"T_57881d19_f513_11ec_a819_c16e841d009elevel0_row1\" class=\"row_heading level0 row1\" >ultra</th>\n",
       "                        <td id=\"T_57881d19_f513_11ec_a819_c16e841d009erow1_col0\" class=\"data row1 col0\" >49.36</td>\n",
       "                        <td id=\"T_57881d19_f513_11ec_a819_c16e841d009erow1_col1\" class=\"data row1 col1\" >38.00</td>\n",
       "                        <td id=\"T_57881d19_f513_11ec_a819_c16e841d009erow1_col2\" class=\"data row1 col2\" >2285.27</td>\n",
       "                        <td id=\"T_57881d19_f513_11ec_a819_c16e841d009erow1_col3\" class=\"data row1 col3\" >47.80</td>\n",
       "            </tr>\n",
       "    </tbody></table>"
      ],
      "text/plain": [
       "<pandas.io.formats.style.Styler at 0x25df68afc10>"
      ]
     },
     "execution_count": 52,
     "metadata": {},
     "output_type": "execute_result"
    }
   ],
   "source": [
    "df.groupby('tariff_name')\\\n",
    "  .agg({'messages_count_month':['mean','median','var','std']})\\\n",
    "  .style.format(\"{:.2f}\")"
   ]
  },
  {
   "cell_type": "code",
   "execution_count": 53,
   "metadata": {},
   "outputs": [
    {
     "data": {
      "text/plain": [
       "<AxesSubplot:title={'center':'Распределение числа SMS клиентов, SMS/мес'}, ylabel='Frequency'>"
      ]
     },
     "execution_count": 53,
     "metadata": {},
     "output_type": "execute_result"
    },
    {
     "data": {
      "image/png": "[encoded data removed]",
      "text/plain": [
       "<Figure size 1080x360 with 1 Axes>"
      ]
     },
     "metadata": {
      "needs_background": "light"
     },
     "output_type": "display_data"
    }
   ],
   "source": [
    "ax = df_smart['messages_count_month'].plot(\n",
    "    kind='hist',\n",
    "    y='time_spent',\n",
    "    range=(0, 250),\n",
    "    bins=20,\n",
    "    linewidth=5,\n",
    "    alpha=0.7,\n",
    "    label='Smart',\n",
    "    legend=True,\n",
    "    figsize=(15, 5),\n",
    "    title='Распределение числа SMS клиентов, SMS/мес'\n",
    ")\n",
    "\n",
    "df_ultra['messages_count_month'].plot(\n",
    "    kind='hist',\n",
    "    y='time_spent',\n",
    "    range=(0, 250),\n",
    "    bins=20,\n",
    "    linewidth=5,\n",
    "    alpha=0.7,\n",
    "    label='Ultra',\n",
    "    ax=ax,\n",
    "    grid=True,\n",
    "    legend=True,\n",
    ")"
   ]
  },
  {
   "cell_type": "markdown",
   "metadata": {},
   "source": [
    "Пользователи обоих тарифов отправляют примерно одинковое число СМС (28 - `Smart` , 38 - `Ultra`).\n",
    "По большому счету, они укладываются в 50 СМС и необходимости в пакете из 1 000 сообщений на `Ultra` нет"
   ]
  },
  {
   "cell_type": "markdown",
   "metadata": {},
   "source": [
    "### 3.3. Анализ Интернет-траффика"
   ]
  },
  {
   "cell_type": "code",
   "execution_count": 54,
   "metadata": {},
   "outputs": [
    {
     "data": {
      "text/html": [
       "<style  type=\"text/css\" >\n",
       "</style><table id=\"T_7e0eb356_f513_11ec_9b74_c16e841d009e\" ><thead>    <tr>        <th class=\"blank level0\" ></th>        <th class=\"col_heading level0 col0\" colspan=4>gb_used_month</th>    </tr>    <tr>        <th class=\"blank level1\" ></th>        <th class=\"col_heading level1 col0\" >mean</th>        <th class=\"col_heading level1 col1\" >median</th>        <th class=\"col_heading level1 col2\" >var</th>        <th class=\"col_heading level1 col3\" >std</th>    </tr>    <tr>        <th class=\"index_name level0\" >tariff_name</th>        <th class=\"blank\" ></th>        <th class=\"blank\" ></th>        <th class=\"blank\" ></th>        <th class=\"blank\" ></th>    </tr></thead><tbody>\n",
       "                <tr>\n",
       "                        <th id=\"T_7e0eb356_f513_11ec_9b74_c16e841d009elevel0_row0\" class=\"row_heading level0 row0\" >smart</th>\n",
       "                        <td id=\"T_7e0eb356_f513_11ec_9b74_c16e841d009erow0_col0\" class=\"data row0 col0\" >16.33</td>\n",
       "                        <td id=\"T_7e0eb356_f513_11ec_9b74_c16e841d009erow0_col1\" class=\"data row0 col1\" >17.00</td>\n",
       "                        <td id=\"T_7e0eb356_f513_11ec_9b74_c16e841d009erow0_col2\" class=\"data row0 col2\" >33.01</td>\n",
       "                        <td id=\"T_7e0eb356_f513_11ec_9b74_c16e841d009erow0_col3\" class=\"data row0 col3\" >5.75</td>\n",
       "            </tr>\n",
       "            <tr>\n",
       "                        <th id=\"T_7e0eb356_f513_11ec_9b74_c16e841d009elevel0_row1\" class=\"row_heading level0 row1\" >ultra</th>\n",
       "                        <td id=\"T_7e0eb356_f513_11ec_9b74_c16e841d009erow1_col0\" class=\"data row1 col0\" >19.50</td>\n",
       "                        <td id=\"T_7e0eb356_f513_11ec_9b74_c16e841d009erow1_col1\" class=\"data row1 col1\" >19.00</td>\n",
       "                        <td id=\"T_7e0eb356_f513_11ec_9b74_c16e841d009erow1_col2\" class=\"data row1 col2\" >97.05</td>\n",
       "                        <td id=\"T_7e0eb356_f513_11ec_9b74_c16e841d009erow1_col3\" class=\"data row1 col3\" >9.85</td>\n",
       "            </tr>\n",
       "    </tbody></table>"
      ],
      "text/plain": [
       "<pandas.io.formats.style.Styler at 0x25df3a1bca0>"
      ]
     },
     "execution_count": 54,
     "metadata": {},
     "output_type": "execute_result"
    }
   ],
   "source": [
    "df.groupby('tariff_name')\\\n",
    "  .agg({'gb_used_month':['mean','median','var','std']})\\\n",
    "  .style.format(\"{:.2f}\")"
   ]
  },
  {
   "cell_type": "code",
   "execution_count": 55,
   "metadata": {},
   "outputs": [
    {
     "data": {
      "text/plain": [
       "<AxesSubplot:title={'center':'Распределение Интернет-траффика клиентов, Гб/мес'}, ylabel='Frequency'>"
      ]
     },
     "execution_count": 55,
     "metadata": {},
     "output_type": "execute_result"
    },
    {
     "data": {
      "image/png": "[encoded data removed]",
      "text/plain": [
       "<Figure size 1080x360 with 1 Axes>"
      ]
     },
     "metadata": {
      "needs_background": "light"
     },
     "output_type": "display_data"
    }
   ],
   "source": [
    "ax = df_smart['gb_used_month'].plot(\n",
    "    kind='hist',\n",
    "    y='time_spent',\n",
    "    range=(0, 50),\n",
    "    bins=20,\n",
    "    linewidth=5,\n",
    "    alpha=0.7,\n",
    "    label='Smart',\n",
    "    legend=True,\n",
    "    figsize=(15, 5),\n",
    "    title='Распределение Интернет-траффика клиентов, Гб/мес'\n",
    ")\n",
    "\n",
    "df_ultra['gb_used_month'].plot(\n",
    "    kind='hist',\n",
    "    y='time_spent',\n",
    "    range=(0, 50),\n",
    "    bins=20,\n",
    "    linewidth=5,\n",
    "    alpha=0.7,\n",
    "    label='Ultra',\n",
    "    ax=ax,\n",
    "    grid=True,\n",
    "    legend=True,\n",
    ")"
   ]
  },
  {
   "cell_type": "markdown",
   "metadata": {},
   "source": [
    "Пользователи `Ultra` более активны в Интернете (расход траффика больше), большинство из них укладывается в педоставленные 30 Гб, чего нельзя сказать о клиентах на `Smart`, поскольку бОльшая часть из них выходит за рамки предоставленных 15 Гб."
   ]
  },
  {
   "cell_type": "markdown",
   "metadata": {},
   "source": [
    "## 4. Проверка гипотез"
   ]
  },
  {
   "cell_type": "markdown",
   "metadata": {},
   "source": [
    "### 4.1. Гипотеза о различии выручки тарифов"
   ]
  },
  {
   "cell_type": "markdown",
   "metadata": {},
   "source": [
    "Мы имеем следующие гипотезы:\n",
    "<br>H0: средняя выручка клиентов на тарифах Smart и Ultra не различается;\n",
    "<br>H1: средняя выручка клиентов на тарифах Smart и Ultra различается.\n",
    "\n",
    "<br>Для анализа тарифов используется t-критерий Стьюдента, так как сравниваемые выборки независимы друг от друга."
   ]
  },
  {
   "cell_type": "code",
   "execution_count": 56,
   "metadata": {},
   "outputs": [
    {
     "name": "stdout",
     "output_type": "stream",
     "text": [
      "p-значение:  1.4229814360764067e-160\n",
      "Отвергаем нулевую гипотезу\n"
     ]
    }
   ],
   "source": [
    "result = st.ttest_ind(df_smart['total_revenue'], df_ultra['total_revenue'])\n",
    "\n",
    "alpha = .05\n",
    "\n",
    "print('p-значение: ', result.pvalue)\n",
    "\n",
    "if result.pvalue < alpha:\n",
    "    print('Отвергаем нулевую гипотезу')\n",
    "else:\n",
    "    print('Не получилось отвергнуть нулевую гипотезу')"
   ]
  },
  {
   "cell_type": "markdown",
   "metadata": {},
   "source": [
    "Между выручкой от тарифа `Smart` и выручкой от тарифа `Ultra` имеются значимые различия."
   ]
  },
  {
   "cell_type": "markdown",
   "metadata": {},
   "source": [
    "### 4.2. Гипотеза о региональных различиях выручки"
   ]
  },
  {
   "cell_type": "code",
   "execution_count": 57,
   "metadata": {},
   "outputs": [
    {
     "data": {
      "text/plain": [
       "array(['Краснодар', 'Москва', 'Стерлитамак', 'Новокузнецк',\n",
       "       'Набережные Челны', 'Ульяновск', 'Челябинск', 'Пермь', 'Тюмень',\n",
       "       'Самара', 'Санкт-Петербург', 'Иваново', 'Чебоксары', 'Омск', 'Уфа',\n",
       "       'Томск', 'Чита', 'Мурманск', 'Петрозаводск', 'Тверь',\n",
       "       'Екатеринбург', 'Махачкала', 'Вологда', 'Череповец', 'Ярославль',\n",
       "       'Сочи', 'Хабаровск', 'Ставрополь', 'Рязань', 'Улан-Удэ', 'Тула',\n",
       "       'Саратов', 'Ростов-на-Дону', 'Казань', 'Иркутск', 'Курск',\n",
       "       'Калуга', 'Якутск', 'Астрахань', 'Химки', 'Владикавказ',\n",
       "       'Волгоград', 'Саранск', 'Ижевск', 'Новосибирск', 'Брянск',\n",
       "       'Тольятти', 'Нижний Тагил', 'Орёл', 'Белгород', 'Воронеж',\n",
       "       'Курган', 'Барнаул', 'Красноярск', 'Архангельск', 'Липецк',\n",
       "       'Кемерово', 'Киров', 'Сургут', 'Пенза', 'Волжский', 'Магнитогорск',\n",
       "       'Нижний Новгород', 'Кострома', 'Владивосток', 'Тамбов', 'Балашиха',\n",
       "       'Севастополь', 'Калининград', 'Оренбург', 'Смоленск',\n",
       "       'Нижневартовск', 'Владимир', 'Новороссийск', 'Грозный', 'Подольск'],\n",
       "      dtype=object)"
      ]
     },
     "execution_count": 57,
     "metadata": {},
     "output_type": "execute_result"
    }
   ],
   "source": [
    "df['city'].unique()"
   ]
  },
  {
   "cell_type": "code",
   "execution_count": 58,
   "metadata": {},
   "outputs": [
    {
     "name": "stdout",
     "output_type": "stream",
     "text": [
      "p-значение:  0.5440152911670224\n",
      "Не получилось отвергнуть нулевую гипотезу\n"
     ]
    }
   ],
   "source": [
    "msk = df_smart = df.loc[df['city'] == 'Москва']\n",
    "non_msk = df_smart = df.loc[df['city'] != 'Москва']\n",
    "\n",
    "results = st.ttest_ind(msk['total_revenue'], non_msk['total_revenue'])\n",
    "\n",
    "alpha = 0.05\n",
    "\n",
    "print('p-значение: ', results.pvalue)\n",
    "\n",
    "if results.pvalue < alpha:\n",
    "    print(\"Отвергаем нулевую гипотезу\")\n",
    "else:\n",
    "    print(\"Не получилось отвергнуть нулевую гипотезу\")"
   ]
  },
  {
   "cell_type": "markdown",
   "metadata": {},
   "source": [
    "Между выручкой от клиентов из Москвы и выручкой от клиентов из других регионов не имеется значимых различий."
   ]
  },
  {
   "cell_type": "markdown",
   "metadata": {},
   "source": [
    "## 5. Итоги исследования"
   ]
  },
  {
   "cell_type": "markdown",
   "metadata": {},
   "source": [
    "Нами получены следующие результаты сравнения активности пользователей на тарифах:\n",
    "\n",
    "* средняя выручка пользователей с тарифом Smart отличается от средней выручки пользователей с траифом Ultra за счет абонентской платы (а не оплаты сервисов сверх тарифа), несмотря на то, что пользователей тарифа Ultra вдвое больше, чем пользовтаелей тарифа Smart;\n",
    "* средняя выручка в Москве и других регионах значимо не различается, рекламу можно запускать по всей территории присутсвия оператора;\n",
    "* сообщения можно убрать из наполнения тарифов, поскольку они используются незначительно;\n",
    "* если косты оператора поволяют, следует наращивать базу клиентов Ultra, а не Smart, посколкьу данный тариф приносит больше ревенью и комфортнее для абонентов (выход за рамки тарифных лимитов менее вероятен на Ultra)."
   ]
  }
 ],
 "metadata": {
  "kernelspec": {
   "display_name": "Python 3",
   "language": "python",
   "name": "python3"
  },
  "language_info": {
   "codemirror_mode": {
    "name": "ipython",
    "version": 3
   },
   "file_extension": ".py",
   "mimetype": "text/x-python",
   "name": "python",
   "nbconvert_exporter": "python",
   "pygments_lexer": "ipython3",
   "version": "3.8.5"
  }
 },
 "nbformat": 4,
 "nbformat_minor": 4
}
