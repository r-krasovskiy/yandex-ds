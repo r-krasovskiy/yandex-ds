{
 "cells": [
  {
   "cell_type": "markdown",
   "metadata": {},
   "source": [
    "# Выбор локации для скважины"
   ]
  },
  {
   "cell_type": "markdown",
   "metadata": {},
   "source": [
    "Датасеты содержат данные о геологических разведках нети в трех регионах (строками представлены скважины). Необходимо построить модель для определения региона, где добыча принесёт наибольшую прибыль, исходя из данных разведки заданных экономчиских параметров.\n",
    "\n",
    "Условия выбора региона:\n",
    "- При разведке региона необходимо исследовать 500 точек, из которых с помощью машинного обучения выбрать 200 лучших для разработки.\n",
    "- Бюджет на разработку скважин в регионе — 10 млрд рублей.\n",
    "- Один баррель сырья приносит 450 рублей дохода. Доход с каждой единицы продукта составляет 450 тыс. рублей (т.к. объём указан в тысячах баррелей).\n",
    "- После оценки рисков нужно оставить лишь те регионы, в которых вероятность убытков меньше 2.5%. Среди них необходимо выбрать регион с наибольшей средней прибылью.\n",
    "\n",
    "Значения столбцов датасета:\n",
    "- `f0`, `f1`, `f2` — три технических признака точек;\n",
    "- `product` — объём запасов в скважине (тыс. баррелей)"
   ]
  },
  {
   "cell_type": "markdown",
   "metadata": {},
   "source": [
    "## 1. Обзор данных"
   ]
  },
  {
   "cell_type": "code",
   "execution_count": 1,
   "metadata": {},
   "outputs": [],
   "source": [
    "import numpy as np\n",
    "import pandas as pd\n",
    "import matplotlib.pyplot as plt\n",
    "\n",
    "from sklearn.model_selection import train_test_split\n",
    "from sklearn.preprocessing import StandardScaler #Для стандартизации признаков\n",
    "\n",
    "from sklearn.linear_model import LinearRegression\n",
    "\n",
    "from sklearn.metrics import mean_squared_error"
   ]
  },
  {
   "cell_type": "code",
   "execution_count": 2,
   "metadata": {},
   "outputs": [],
   "source": [
    "reg_1 = pd.read_csv('datasets/geo_data_0.csv')\n",
    "reg_2 = pd.read_csv('datasets/geo_data_1.csv')\n",
    "reg_3 = pd.read_csv('datasets/geo_data_2.csv')"
   ]
  },
  {
   "cell_type": "markdown",
   "metadata": {},
   "source": [
    "Проверим датасеты на структуру и наличие дубликатов."
   ]
  },
  {
   "cell_type": "code",
   "execution_count": 3,
   "metadata": {},
   "outputs": [],
   "source": [
    "# Функция для описания датасета.\n",
    "\n",
    "def show_info(df_name, df):\n",
    "    print('Датасет', df_name, '\\n')\n",
    "    print(df.info(), '\\n')\n",
    "    print('Датасет содержит', df.duplicated().sum(), 'дубликатов.\\n')\n",
    "    \n",
    "    for i in df.columns:\n",
    "        print('Колонка', i, 'содержит', df[i].isna().sum(), 'пропусков.')\n",
    "    \n",
    "    display(df.head(5))\n",
    "    display(df.describe())\n",
    "    \n",
    "    print('-'*100, '\\n\\n\\n')"
   ]
  },
  {
   "cell_type": "code",
   "execution_count": 4,
   "metadata": {},
   "outputs": [
    {
     "name": "stdout",
     "output_type": "stream",
     "text": [
      "Датасет 1 \n",
      "\n",
      "<class 'pandas.core.frame.DataFrame'>\n",
      "RangeIndex: 100000 entries, 0 to 99999\n",
      "Data columns (total 5 columns):\n",
      " #   Column   Non-Null Count   Dtype  \n",
      "---  ------   --------------   -----  \n",
      " 0   id       100000 non-null  object \n",
      " 1   f0       100000 non-null  float64\n",
      " 2   f1       100000 non-null  float64\n",
      " 3   f2       100000 non-null  float64\n",
      " 4   product  100000 non-null  float64\n",
      "dtypes: float64(4), object(1)\n",
      "memory usage: 3.8+ MB\n",
      "None \n",
      "\n",
      "Датасет содержит 0 дубликатов.\n",
      "\n",
      "Колонка id содержит 0 пропусков.\n",
      "Колонка f0 содержит 0 пропусков.\n",
      "Колонка f1 содержит 0 пропусков.\n",
      "Колонка f2 содержит 0 пропусков.\n",
      "Колонка product содержит 0 пропусков.\n"
     ]
    },
    {
     "data": {
      "text/html": [
       "<div>\n",
       "<style scoped>\n",
       "    .dataframe tbody tr th:only-of-type {\n",
       "        vertical-align: middle;\n",
       "    }\n",
       "\n",
       "    .dataframe tbody tr th {\n",
       "        vertical-align: top;\n",
       "    }\n",
       "\n",
       "    .dataframe thead th {\n",
       "        text-align: right;\n",
       "    }\n",
       "</style>\n",
       "<table border=\"1\" class=\"dataframe\">\n",
       "  <thead>\n",
       "    <tr style=\"text-align: right;\">\n",
       "      <th></th>\n",
       "      <th>id</th>\n",
       "      <th>f0</th>\n",
       "      <th>f1</th>\n",
       "      <th>f2</th>\n",
       "      <th>product</th>\n",
       "    </tr>\n",
       "  </thead>\n",
       "  <tbody>\n",
       "    <tr>\n",
       "      <th>0</th>\n",
       "      <td>txEyH</td>\n",
       "      <td>0.705745</td>\n",
       "      <td>-0.497823</td>\n",
       "      <td>1.221170</td>\n",
       "      <td>105.280062</td>\n",
       "    </tr>\n",
       "    <tr>\n",
       "      <th>1</th>\n",
       "      <td>2acmU</td>\n",
       "      <td>1.334711</td>\n",
       "      <td>-0.340164</td>\n",
       "      <td>4.365080</td>\n",
       "      <td>73.037750</td>\n",
       "    </tr>\n",
       "    <tr>\n",
       "      <th>2</th>\n",
       "      <td>409Wp</td>\n",
       "      <td>1.022732</td>\n",
       "      <td>0.151990</td>\n",
       "      <td>1.419926</td>\n",
       "      <td>85.265647</td>\n",
       "    </tr>\n",
       "    <tr>\n",
       "      <th>3</th>\n",
       "      <td>iJLyR</td>\n",
       "      <td>-0.032172</td>\n",
       "      <td>0.139033</td>\n",
       "      <td>2.978566</td>\n",
       "      <td>168.620776</td>\n",
       "    </tr>\n",
       "    <tr>\n",
       "      <th>4</th>\n",
       "      <td>Xdl7t</td>\n",
       "      <td>1.988431</td>\n",
       "      <td>0.155413</td>\n",
       "      <td>4.751769</td>\n",
       "      <td>154.036647</td>\n",
       "    </tr>\n",
       "  </tbody>\n",
       "</table>\n",
       "</div>"
      ],
      "text/plain": [
       "      id        f0        f1        f2     product\n",
       "0  txEyH  0.705745 -0.497823  1.221170  105.280062\n",
       "1  2acmU  1.334711 -0.340164  4.365080   73.037750\n",
       "2  409Wp  1.022732  0.151990  1.419926   85.265647\n",
       "3  iJLyR -0.032172  0.139033  2.978566  168.620776\n",
       "4  Xdl7t  1.988431  0.155413  4.751769  154.036647"
      ]
     },
     "metadata": {},
     "output_type": "display_data"
    },
    {
     "data": {
      "text/html": [
       "<div>\n",
       "<style scoped>\n",
       "    .dataframe tbody tr th:only-of-type {\n",
       "        vertical-align: middle;\n",
       "    }\n",
       "\n",
       "    .dataframe tbody tr th {\n",
       "        vertical-align: top;\n",
       "    }\n",
       "\n",
       "    .dataframe thead th {\n",
       "        text-align: right;\n",
       "    }\n",
       "</style>\n",
       "<table border=\"1\" class=\"dataframe\">\n",
       "  <thead>\n",
       "    <tr style=\"text-align: right;\">\n",
       "      <th></th>\n",
       "      <th>f0</th>\n",
       "      <th>f1</th>\n",
       "      <th>f2</th>\n",
       "      <th>product</th>\n",
       "    </tr>\n",
       "  </thead>\n",
       "  <tbody>\n",
       "    <tr>\n",
       "      <th>count</th>\n",
       "      <td>100000.000000</td>\n",
       "      <td>100000.000000</td>\n",
       "      <td>100000.000000</td>\n",
       "      <td>100000.000000</td>\n",
       "    </tr>\n",
       "    <tr>\n",
       "      <th>mean</th>\n",
       "      <td>0.500419</td>\n",
       "      <td>0.250143</td>\n",
       "      <td>2.502647</td>\n",
       "      <td>92.500000</td>\n",
       "    </tr>\n",
       "    <tr>\n",
       "      <th>std</th>\n",
       "      <td>0.871832</td>\n",
       "      <td>0.504433</td>\n",
       "      <td>3.248248</td>\n",
       "      <td>44.288691</td>\n",
       "    </tr>\n",
       "    <tr>\n",
       "      <th>min</th>\n",
       "      <td>-1.408605</td>\n",
       "      <td>-0.848218</td>\n",
       "      <td>-12.088328</td>\n",
       "      <td>0.000000</td>\n",
       "    </tr>\n",
       "    <tr>\n",
       "      <th>25%</th>\n",
       "      <td>-0.072580</td>\n",
       "      <td>-0.200881</td>\n",
       "      <td>0.287748</td>\n",
       "      <td>56.497507</td>\n",
       "    </tr>\n",
       "    <tr>\n",
       "      <th>50%</th>\n",
       "      <td>0.502360</td>\n",
       "      <td>0.250252</td>\n",
       "      <td>2.515969</td>\n",
       "      <td>91.849972</td>\n",
       "    </tr>\n",
       "    <tr>\n",
       "      <th>75%</th>\n",
       "      <td>1.073581</td>\n",
       "      <td>0.700646</td>\n",
       "      <td>4.715088</td>\n",
       "      <td>128.564089</td>\n",
       "    </tr>\n",
       "    <tr>\n",
       "      <th>max</th>\n",
       "      <td>2.362331</td>\n",
       "      <td>1.343769</td>\n",
       "      <td>16.003790</td>\n",
       "      <td>185.364347</td>\n",
       "    </tr>\n",
       "  </tbody>\n",
       "</table>\n",
       "</div>"
      ],
      "text/plain": [
       "                  f0             f1             f2        product\n",
       "count  100000.000000  100000.000000  100000.000000  100000.000000\n",
       "mean        0.500419       0.250143       2.502647      92.500000\n",
       "std         0.871832       0.504433       3.248248      44.288691\n",
       "min        -1.408605      -0.848218     -12.088328       0.000000\n",
       "25%        -0.072580      -0.200881       0.287748      56.497507\n",
       "50%         0.502360       0.250252       2.515969      91.849972\n",
       "75%         1.073581       0.700646       4.715088     128.564089\n",
       "max         2.362331       1.343769      16.003790     185.364347"
      ]
     },
     "metadata": {},
     "output_type": "display_data"
    },
    {
     "name": "stdout",
     "output_type": "stream",
     "text": [
      "---------------------------------------------------------------------------------------------------- \n",
      "\n",
      "\n",
      "\n",
      "Датасет 2 \n",
      "\n",
      "<class 'pandas.core.frame.DataFrame'>\n",
      "RangeIndex: 100000 entries, 0 to 99999\n",
      "Data columns (total 5 columns):\n",
      " #   Column   Non-Null Count   Dtype  \n",
      "---  ------   --------------   -----  \n",
      " 0   id       100000 non-null  object \n",
      " 1   f0       100000 non-null  float64\n",
      " 2   f1       100000 non-null  float64\n",
      " 3   f2       100000 non-null  float64\n",
      " 4   product  100000 non-null  float64\n",
      "dtypes: float64(4), object(1)\n",
      "memory usage: 3.8+ MB\n",
      "None \n",
      "\n",
      "Датасет содержит 0 дубликатов.\n",
      "\n",
      "Колонка id содержит 0 пропусков.\n",
      "Колонка f0 содержит 0 пропусков.\n",
      "Колонка f1 содержит 0 пропусков.\n",
      "Колонка f2 содержит 0 пропусков.\n",
      "Колонка product содержит 0 пропусков.\n"
     ]
    },
    {
     "data": {
      "text/html": [
       "<div>\n",
       "<style scoped>\n",
       "    .dataframe tbody tr th:only-of-type {\n",
       "        vertical-align: middle;\n",
       "    }\n",
       "\n",
       "    .dataframe tbody tr th {\n",
       "        vertical-align: top;\n",
       "    }\n",
       "\n",
       "    .dataframe thead th {\n",
       "        text-align: right;\n",
       "    }\n",
       "</style>\n",
       "<table border=\"1\" class=\"dataframe\">\n",
       "  <thead>\n",
       "    <tr style=\"text-align: right;\">\n",
       "      <th></th>\n",
       "      <th>id</th>\n",
       "      <th>f0</th>\n",
       "      <th>f1</th>\n",
       "      <th>f2</th>\n",
       "      <th>product</th>\n",
       "    </tr>\n",
       "  </thead>\n",
       "  <tbody>\n",
       "    <tr>\n",
       "      <th>0</th>\n",
       "      <td>kBEdx</td>\n",
       "      <td>-15.001348</td>\n",
       "      <td>-8.276000</td>\n",
       "      <td>-0.005876</td>\n",
       "      <td>3.179103</td>\n",
       "    </tr>\n",
       "    <tr>\n",
       "      <th>1</th>\n",
       "      <td>62mP7</td>\n",
       "      <td>14.272088</td>\n",
       "      <td>-3.475083</td>\n",
       "      <td>0.999183</td>\n",
       "      <td>26.953261</td>\n",
       "    </tr>\n",
       "    <tr>\n",
       "      <th>2</th>\n",
       "      <td>vyE1P</td>\n",
       "      <td>6.263187</td>\n",
       "      <td>-5.948386</td>\n",
       "      <td>5.001160</td>\n",
       "      <td>134.766305</td>\n",
       "    </tr>\n",
       "    <tr>\n",
       "      <th>3</th>\n",
       "      <td>KcrkZ</td>\n",
       "      <td>-13.081196</td>\n",
       "      <td>-11.506057</td>\n",
       "      <td>4.999415</td>\n",
       "      <td>137.945408</td>\n",
       "    </tr>\n",
       "    <tr>\n",
       "      <th>4</th>\n",
       "      <td>AHL4O</td>\n",
       "      <td>12.702195</td>\n",
       "      <td>-8.147433</td>\n",
       "      <td>5.004363</td>\n",
       "      <td>134.766305</td>\n",
       "    </tr>\n",
       "  </tbody>\n",
       "</table>\n",
       "</div>"
      ],
      "text/plain": [
       "      id         f0         f1        f2     product\n",
       "0  kBEdx -15.001348  -8.276000 -0.005876    3.179103\n",
       "1  62mP7  14.272088  -3.475083  0.999183   26.953261\n",
       "2  vyE1P   6.263187  -5.948386  5.001160  134.766305\n",
       "3  KcrkZ -13.081196 -11.506057  4.999415  137.945408\n",
       "4  AHL4O  12.702195  -8.147433  5.004363  134.766305"
      ]
     },
     "metadata": {},
     "output_type": "display_data"
    },
    {
     "data": {
      "text/html": [
       "<div>\n",
       "<style scoped>\n",
       "    .dataframe tbody tr th:only-of-type {\n",
       "        vertical-align: middle;\n",
       "    }\n",
       "\n",
       "    .dataframe tbody tr th {\n",
       "        vertical-align: top;\n",
       "    }\n",
       "\n",
       "    .dataframe thead th {\n",
       "        text-align: right;\n",
       "    }\n",
       "</style>\n",
       "<table border=\"1\" class=\"dataframe\">\n",
       "  <thead>\n",
       "    <tr style=\"text-align: right;\">\n",
       "      <th></th>\n",
       "      <th>f0</th>\n",
       "      <th>f1</th>\n",
       "      <th>f2</th>\n",
       "      <th>product</th>\n",
       "    </tr>\n",
       "  </thead>\n",
       "  <tbody>\n",
       "    <tr>\n",
       "      <th>count</th>\n",
       "      <td>100000.000000</td>\n",
       "      <td>100000.000000</td>\n",
       "      <td>100000.000000</td>\n",
       "      <td>100000.000000</td>\n",
       "    </tr>\n",
       "    <tr>\n",
       "      <th>mean</th>\n",
       "      <td>1.141296</td>\n",
       "      <td>-4.796579</td>\n",
       "      <td>2.494541</td>\n",
       "      <td>68.825000</td>\n",
       "    </tr>\n",
       "    <tr>\n",
       "      <th>std</th>\n",
       "      <td>8.965932</td>\n",
       "      <td>5.119872</td>\n",
       "      <td>1.703572</td>\n",
       "      <td>45.944423</td>\n",
       "    </tr>\n",
       "    <tr>\n",
       "      <th>min</th>\n",
       "      <td>-31.609576</td>\n",
       "      <td>-26.358598</td>\n",
       "      <td>-0.018144</td>\n",
       "      <td>0.000000</td>\n",
       "    </tr>\n",
       "    <tr>\n",
       "      <th>25%</th>\n",
       "      <td>-6.298551</td>\n",
       "      <td>-8.267985</td>\n",
       "      <td>1.000021</td>\n",
       "      <td>26.953261</td>\n",
       "    </tr>\n",
       "    <tr>\n",
       "      <th>50%</th>\n",
       "      <td>1.153055</td>\n",
       "      <td>-4.813172</td>\n",
       "      <td>2.011479</td>\n",
       "      <td>57.085625</td>\n",
       "    </tr>\n",
       "    <tr>\n",
       "      <th>75%</th>\n",
       "      <td>8.621015</td>\n",
       "      <td>-1.332816</td>\n",
       "      <td>3.999904</td>\n",
       "      <td>107.813044</td>\n",
       "    </tr>\n",
       "    <tr>\n",
       "      <th>max</th>\n",
       "      <td>29.421755</td>\n",
       "      <td>18.734063</td>\n",
       "      <td>5.019721</td>\n",
       "      <td>137.945408</td>\n",
       "    </tr>\n",
       "  </tbody>\n",
       "</table>\n",
       "</div>"
      ],
      "text/plain": [
       "                  f0             f1             f2        product\n",
       "count  100000.000000  100000.000000  100000.000000  100000.000000\n",
       "mean        1.141296      -4.796579       2.494541      68.825000\n",
       "std         8.965932       5.119872       1.703572      45.944423\n",
       "min       -31.609576     -26.358598      -0.018144       0.000000\n",
       "25%        -6.298551      -8.267985       1.000021      26.953261\n",
       "50%         1.153055      -4.813172       2.011479      57.085625\n",
       "75%         8.621015      -1.332816       3.999904     107.813044\n",
       "max        29.421755      18.734063       5.019721     137.945408"
      ]
     },
     "metadata": {},
     "output_type": "display_data"
    },
    {
     "name": "stdout",
     "output_type": "stream",
     "text": [
      "---------------------------------------------------------------------------------------------------- \n",
      "\n",
      "\n",
      "\n",
      "Датасет 3 \n",
      "\n",
      "<class 'pandas.core.frame.DataFrame'>\n",
      "RangeIndex: 100000 entries, 0 to 99999\n",
      "Data columns (total 5 columns):\n",
      " #   Column   Non-Null Count   Dtype  \n",
      "---  ------   --------------   -----  \n",
      " 0   id       100000 non-null  object \n",
      " 1   f0       100000 non-null  float64\n",
      " 2   f1       100000 non-null  float64\n",
      " 3   f2       100000 non-null  float64\n",
      " 4   product  100000 non-null  float64\n",
      "dtypes: float64(4), object(1)\n",
      "memory usage: 3.8+ MB\n",
      "None \n",
      "\n",
      "Датасет содержит 0 дубликатов.\n",
      "\n",
      "Колонка id содержит 0 пропусков.\n",
      "Колонка f0 содержит 0 пропусков.\n",
      "Колонка f1 содержит 0 пропусков.\n",
      "Колонка f2 содержит 0 пропусков.\n",
      "Колонка product содержит 0 пропусков.\n"
     ]
    },
    {
     "data": {
      "text/html": [
       "<div>\n",
       "<style scoped>\n",
       "    .dataframe tbody tr th:only-of-type {\n",
       "        vertical-align: middle;\n",
       "    }\n",
       "\n",
       "    .dataframe tbody tr th {\n",
       "        vertical-align: top;\n",
       "    }\n",
       "\n",
       "    .dataframe thead th {\n",
       "        text-align: right;\n",
       "    }\n",
       "</style>\n",
       "<table border=\"1\" class=\"dataframe\">\n",
       "  <thead>\n",
       "    <tr style=\"text-align: right;\">\n",
       "      <th></th>\n",
       "      <th>id</th>\n",
       "      <th>f0</th>\n",
       "      <th>f1</th>\n",
       "      <th>f2</th>\n",
       "      <th>product</th>\n",
       "    </tr>\n",
       "  </thead>\n",
       "  <tbody>\n",
       "    <tr>\n",
       "      <th>0</th>\n",
       "      <td>fwXo0</td>\n",
       "      <td>-1.146987</td>\n",
       "      <td>0.963328</td>\n",
       "      <td>-0.828965</td>\n",
       "      <td>27.758673</td>\n",
       "    </tr>\n",
       "    <tr>\n",
       "      <th>1</th>\n",
       "      <td>WJtFt</td>\n",
       "      <td>0.262778</td>\n",
       "      <td>0.269839</td>\n",
       "      <td>-2.530187</td>\n",
       "      <td>56.069697</td>\n",
       "    </tr>\n",
       "    <tr>\n",
       "      <th>2</th>\n",
       "      <td>ovLUW</td>\n",
       "      <td>0.194587</td>\n",
       "      <td>0.289035</td>\n",
       "      <td>-5.586433</td>\n",
       "      <td>62.871910</td>\n",
       "    </tr>\n",
       "    <tr>\n",
       "      <th>3</th>\n",
       "      <td>q6cA6</td>\n",
       "      <td>2.236060</td>\n",
       "      <td>-0.553760</td>\n",
       "      <td>0.930038</td>\n",
       "      <td>114.572842</td>\n",
       "    </tr>\n",
       "    <tr>\n",
       "      <th>4</th>\n",
       "      <td>WPMUX</td>\n",
       "      <td>-0.515993</td>\n",
       "      <td>1.716266</td>\n",
       "      <td>5.899011</td>\n",
       "      <td>149.600746</td>\n",
       "    </tr>\n",
       "  </tbody>\n",
       "</table>\n",
       "</div>"
      ],
      "text/plain": [
       "      id        f0        f1        f2     product\n",
       "0  fwXo0 -1.146987  0.963328 -0.828965   27.758673\n",
       "1  WJtFt  0.262778  0.269839 -2.530187   56.069697\n",
       "2  ovLUW  0.194587  0.289035 -5.586433   62.871910\n",
       "3  q6cA6  2.236060 -0.553760  0.930038  114.572842\n",
       "4  WPMUX -0.515993  1.716266  5.899011  149.600746"
      ]
     },
     "metadata": {},
     "output_type": "display_data"
    },
    {
     "data": {
      "text/html": [
       "<div>\n",
       "<style scoped>\n",
       "    .dataframe tbody tr th:only-of-type {\n",
       "        vertical-align: middle;\n",
       "    }\n",
       "\n",
       "    .dataframe tbody tr th {\n",
       "        vertical-align: top;\n",
       "    }\n",
       "\n",
       "    .dataframe thead th {\n",
       "        text-align: right;\n",
       "    }\n",
       "</style>\n",
       "<table border=\"1\" class=\"dataframe\">\n",
       "  <thead>\n",
       "    <tr style=\"text-align: right;\">\n",
       "      <th></th>\n",
       "      <th>f0</th>\n",
       "      <th>f1</th>\n",
       "      <th>f2</th>\n",
       "      <th>product</th>\n",
       "    </tr>\n",
       "  </thead>\n",
       "  <tbody>\n",
       "    <tr>\n",
       "      <th>count</th>\n",
       "      <td>100000.000000</td>\n",
       "      <td>100000.000000</td>\n",
       "      <td>100000.000000</td>\n",
       "      <td>100000.000000</td>\n",
       "    </tr>\n",
       "    <tr>\n",
       "      <th>mean</th>\n",
       "      <td>0.002023</td>\n",
       "      <td>-0.002081</td>\n",
       "      <td>2.495128</td>\n",
       "      <td>95.000000</td>\n",
       "    </tr>\n",
       "    <tr>\n",
       "      <th>std</th>\n",
       "      <td>1.732045</td>\n",
       "      <td>1.730417</td>\n",
       "      <td>3.473445</td>\n",
       "      <td>44.749921</td>\n",
       "    </tr>\n",
       "    <tr>\n",
       "      <th>min</th>\n",
       "      <td>-8.760004</td>\n",
       "      <td>-7.084020</td>\n",
       "      <td>-11.970335</td>\n",
       "      <td>0.000000</td>\n",
       "    </tr>\n",
       "    <tr>\n",
       "      <th>25%</th>\n",
       "      <td>-1.162288</td>\n",
       "      <td>-1.174820</td>\n",
       "      <td>0.130359</td>\n",
       "      <td>59.450441</td>\n",
       "    </tr>\n",
       "    <tr>\n",
       "      <th>50%</th>\n",
       "      <td>0.009424</td>\n",
       "      <td>-0.009482</td>\n",
       "      <td>2.484236</td>\n",
       "      <td>94.925613</td>\n",
       "    </tr>\n",
       "    <tr>\n",
       "      <th>75%</th>\n",
       "      <td>1.158535</td>\n",
       "      <td>1.163678</td>\n",
       "      <td>4.858794</td>\n",
       "      <td>130.595027</td>\n",
       "    </tr>\n",
       "    <tr>\n",
       "      <th>max</th>\n",
       "      <td>7.238262</td>\n",
       "      <td>7.844801</td>\n",
       "      <td>16.739402</td>\n",
       "      <td>190.029838</td>\n",
       "    </tr>\n",
       "  </tbody>\n",
       "</table>\n",
       "</div>"
      ],
      "text/plain": [
       "                  f0             f1             f2        product\n",
       "count  100000.000000  100000.000000  100000.000000  100000.000000\n",
       "mean        0.002023      -0.002081       2.495128      95.000000\n",
       "std         1.732045       1.730417       3.473445      44.749921\n",
       "min        -8.760004      -7.084020     -11.970335       0.000000\n",
       "25%        -1.162288      -1.174820       0.130359      59.450441\n",
       "50%         0.009424      -0.009482       2.484236      94.925613\n",
       "75%         1.158535       1.163678       4.858794     130.595027\n",
       "max         7.238262       7.844801      16.739402     190.029838"
      ]
     },
     "metadata": {},
     "output_type": "display_data"
    },
    {
     "name": "stdout",
     "output_type": "stream",
     "text": [
      "---------------------------------------------------------------------------------------------------- \n",
      "\n",
      "\n",
      "\n"
     ]
    }
   ],
   "source": [
    "show_info(1, reg_1)\n",
    "show_info(2, reg_2)\n",
    "show_info(3, reg_3)"
   ]
  },
  {
   "cell_type": "markdown",
   "metadata": {},
   "source": [
    "Проверим распределенние данных в каждом столбце каждого датасета, чтобы определить, необходимо ли очищать их от выбросов."
   ]
  },
  {
   "cell_type": "code",
   "execution_count": 5,
   "metadata": {},
   "outputs": [],
   "source": [
    "# Функции для построения распределений и диаграм размаха.\n",
    "\n",
    "def boxplot_values(df, item):\n",
    "    upper_quartile = df[item].quantile(0.75)\n",
    "    lower_quartile = df[item].quantile(0.25)\n",
    "    median = df[item].median()\n",
    "    mean = df[item].mean()\n",
    "    iqr = upper_quartile - lower_quartile\n",
    "    upper_whisker = df[item][df[item] <= upper_quartile + 1.5 * iqr].max()\n",
    "    lower_whisker = df[item][df[item] >= lower_quartile - 1.5 * iqr].min()\n",
    "    print('25-й процентиль:', lower_quartile)\n",
    "    print('75-й процентиль:', upper_quartile)\n",
    "    print('Медиана: ', median)\n",
    "    print('Среднее: ', mean)\n",
    "    print('Нижний ус:', lower_whisker)\n",
    "    print('Верхний ус:', upper_whisker)\n",
    "\n",
    "def hist_boxplot(df, item):\n",
    "    df[item].hist(bins=200, figsize=(10, 4)).set(xlabel=item, ylabel='Запас скважины');\n",
    "    plt.title('Распределение скважин по объемам запасов')\n",
    "    plt.show()\n",
    "    df.boxplot(column=item, vert=False, figsize=(10,4)).set(xlabel='Запас скважины');\n",
    "    boxplot_values(df, item)"
   ]
  },
  {
   "cell_type": "markdown",
   "metadata": {},
   "source": [
    "Рассмотрим распределение продуктивности скважин в регионе 1."
   ]
  },
  {
   "cell_type": "code",
   "execution_count": 6,
   "metadata": {},
   "outputs": [
    {
     "data": {
      "image/png": "[encoded data removed]",
      "text/plain": [
       "<Figure size 720x288 with 1 Axes>"
      ]
     },
     "metadata": {
      "needs_background": "light"
     },
     "output_type": "display_data"
    },
    {
     "name": "stdout",
     "output_type": "stream",
     "text": [
      "25-й процентиль: 56.497506659858026\n",
      "75-й процентиль: 128.56408897150277\n",
      "Медиана:  91.84997204396296\n",
      "Среднее:  92.49999999999976\n",
      "Нижний ус: 0.0\n",
      "Верхний ус: 185.3643474222929\n"
     ]
    },
    {
     "data": {
      "image/png": "[encoded data removed]",
      "text/plain": [
       "<Figure size 720x288 with 1 Axes>"
      ]
     },
     "metadata": {
      "needs_background": "light"
     },
     "output_type": "display_data"
    }
   ],
   "source": [
    "hist_boxplot(reg_1, 'product')"
   ]
  },
  {
   "cell_type": "markdown",
   "metadata": {},
   "source": [
    "Рассмотрим распределение продуктивности скважин в регионе 2."
   ]
  },
  {
   "cell_type": "code",
   "execution_count": 7,
   "metadata": {},
   "outputs": [
    {
     "data": {
      "image/png": "[encoded data removed]",
      "text/plain": [
       "<Figure size 720x288 with 1 Axes>"
      ]
     },
     "metadata": {
      "needs_background": "light"
     },
     "output_type": "display_data"
    },
    {
     "name": "stdout",
     "output_type": "stream",
     "text": [
      "25-й процентиль: 26.953261031539693\n",
      "75-й процентиль: 107.81304412615877\n",
      "Медиана:  57.08562464628662\n",
      "Среднее:  68.82500000002561\n",
      "Нижний ус: 0.0\n",
      "Верхний ус: 137.94540774090564\n"
     ]
    },
    {
     "data": {
      "image/png": "[encoded data removed]",
      "text/plain": [
       "<Figure size 720x288 with 1 Axes>"
      ]
     },
     "metadata": {
      "needs_background": "light"
     },
     "output_type": "display_data"
    }
   ],
   "source": [
    "hist_boxplot(reg_2, 'product')"
   ]
  },
  {
   "cell_type": "markdown",
   "metadata": {},
   "source": [
    "Рассмотрим распределение продуктивности скважин в регионе 3."
   ]
  },
  {
   "cell_type": "code",
   "execution_count": 8,
   "metadata": {},
   "outputs": [
    {
     "data": {
      "image/png": "[encoded data removed]",
      "text/plain": [
       "<Figure size 720x288 with 1 Axes>"
      ]
     },
     "metadata": {
      "needs_background": "light"
     },
     "output_type": "display_data"
    },
    {
     "name": "stdout",
     "output_type": "stream",
     "text": [
      "25-й процентиль: 59.45044093843896\n",
      "75-й процентиль: 130.5950267155838\n",
      "Медиана:  94.92561258990246\n",
      "Среднее:  95.00000000000041\n",
      "Нижний ус: 0.0\n",
      "Верхний ус: 190.02983834335132\n"
     ]
    },
    {
     "data": {
      "image/png": "[encoded data removed]",
      "text/plain": [
       "<Figure size 720x288 with 1 Axes>"
      ]
     },
     "metadata": {
      "needs_background": "light"
     },
     "output_type": "display_data"
    }
   ],
   "source": [
    "hist_boxplot(reg_3, 'product')"
   ]
  },
  {
   "cell_type": "markdown",
   "metadata": {},
   "source": [
    "Распределение объема добычи скважин второго региона сильно отличается от первых двух и имеет самое низкое значение медианы (57 против >90) и других характеристик дескриптивной статистики."
   ]
  },
  {
   "cell_type": "markdown",
   "metadata": {},
   "source": [
    "## 2.  Обучение и проверка модели"
   ]
  },
  {
   "cell_type": "markdown",
   "metadata": {},
   "source": [
    "Создадим единую функцию для составления выборок, нормализации данных, формирования линейной регрессии, а также формирования списков таргетов и предсказаний."
   ]
  },
  {
   "cell_type": "code",
   "execution_count": 9,
   "metadata": {},
   "outputs": [],
   "source": [
    "# Вспомогательная функция для получения названия региона.\n",
    "def get_df_name(df):\n",
    "    name =[x for x in globals() if globals()[x] is df][0]\n",
    "    return name"
   ]
  },
  {
   "cell_type": "code",
   "execution_count": 10,
   "metadata": {},
   "outputs": [],
   "source": [
    "# Переменные для внесения таргетов.\n",
    "target_reg_1 = []\n",
    "target_reg_2 = []\n",
    "target_reg_3 = []\n",
    "\n",
    "# Переменные для внесения предсказаний.\n",
    "prediction_reg_1 = []\n",
    "prediction_reg_2 = []\n",
    "prediction_reg_3 = []"
   ]
  },
  {
   "cell_type": "code",
   "execution_count": 11,
   "metadata": {},
   "outputs": [],
   "source": [
    "# Функция, формирующая линейную регрессию.\n",
    "def linear_regression(df, target_list, result_list):\n",
    "    \n",
    "    df_name = get_df_name(df)\n",
    "    \n",
    "    # Выделим переменные и целевой признак.\n",
    "    features = df.drop(['product', 'id'], axis=1)\n",
    "    target = df['product']\n",
    "    \n",
    "    \n",
    "    # Разделим выборки на обучающую и ваоидационную.\n",
    "    (features_train,\n",
    "     features_valid,\n",
    "     target_train,\n",
    "     target_valid) = train_test_split(features, target, test_size=0.25, random_state=12345)\n",
    "    \n",
    "    \n",
    "    # Нормализуем переменные.\n",
    "    scaler = StandardScaler().fit(features_train)\n",
    "    features_train = pd.DataFrame(scaler.transform(features_train))\n",
    "    features_valid = pd.DataFrame(scaler.transform(features_valid))\n",
    "    \n",
    "    \n",
    "    # Запустим модель.\n",
    "    model = LinearRegression()\n",
    "    model.fit(features_train, target_train)\n",
    "    prediction = model.predict(features_valid)\n",
    "    \n",
    "    # Оценим предсказание модели.\n",
    "    mse = mean_squared_error(prediction, target_valid)\n",
    "    print('Результат линейной регрессии региона', df_name)\n",
    "    \n",
    "    \n",
    "    # Выведем сводку результатов модели.\n",
    "    print(pd.Series(prediction).describe())\n",
    "    print('\\nСредний запас предсказанного сырья =', prediction.mean().round(2))\n",
    "    print('MSE =', mse.round(2))\n",
    "    print('RMSE=', (mse ** 0.5).round(2), '\\n\\n', '---'*20)\n",
    "    \n",
    "    \n",
    "    # Для сохранения значений таргетов.\n",
    "    for i in target_valid:\n",
    "        target_list.append(i)\n",
    "    \n",
    "    # Для сохранения значений предсказания.\n",
    "    for i in prediction:\n",
    "        result_list.append(i)\n",
    "\n",
    "    \n",
    "    return "
   ]
  },
  {
   "cell_type": "markdown",
   "metadata": {},
   "source": [
    "Запустим функцию моделирования на 3 регионах."
   ]
  },
  {
   "cell_type": "code",
   "execution_count": 12,
   "metadata": {},
   "outputs": [
    {
     "name": "stdout",
     "output_type": "stream",
     "text": [
      "Результат линейной регрессии региона reg_1\n",
      "count    25000.000000\n",
      "mean        92.592568\n",
      "std         23.176994\n",
      "min         -9.367846\n",
      "25%         76.652232\n",
      "50%         92.661884\n",
      "75%        108.437632\n",
      "max        180.180713\n",
      "dtype: float64\n",
      "\n",
      "Средний запас предсказанного сырья = 92.59\n",
      "MSE = 1412.21\n",
      "RMSE= 37.58 \n",
      "\n",
      " ------------------------------------------------------------\n",
      "Результат линейной регрессии региона reg_2\n",
      "count    25000.000000\n",
      "mean        68.728547\n",
      "std         46.010225\n",
      "min         -1.893774\n",
      "25%         28.536661\n",
      "50%         57.851586\n",
      "75%        109.346485\n",
      "max        139.818970\n",
      "dtype: float64\n",
      "\n",
      "Средний запас предсказанного сырья = 68.73\n",
      "MSE = 0.8\n",
      "RMSE= 0.89 \n",
      "\n",
      " ------------------------------------------------------------\n",
      "Результат линейной регрессии региона reg_3\n",
      "count    25000.000000\n",
      "mean        94.965046\n",
      "std         19.853733\n",
      "min         17.131597\n",
      "25%         81.388500\n",
      "50%         95.031204\n",
      "75%        108.492663\n",
      "max        165.856833\n",
      "dtype: float64\n",
      "\n",
      "Средний запас предсказанного сырья = 94.97\n",
      "MSE = 1602.38\n",
      "RMSE= 40.03 \n",
      "\n",
      " ------------------------------------------------------------\n"
     ]
    }
   ],
   "source": [
    "linear_regression(reg_1, target_reg_1, prediction_reg_1)\n",
    "linear_regression(reg_2, target_reg_2, prediction_reg_2)\n",
    "linear_regression(reg_3, target_reg_3, prediction_reg_3)"
   ]
  },
  {
   "cell_type": "markdown",
   "metadata": {},
   "source": [
    "Согласно резульатам предсказания модели, регионы 1 и 3 имеют на 30% большие запасы, чем регион 2 однако, ошибка прогноза в них также в десятки раз больше, чем на данных региона 2."
   ]
  },
  {
   "cell_type": "markdown",
   "metadata": {},
   "source": [
    "## 3.  Подготовка к расчёту прибыли"
   ]
  },
  {
   "cell_type": "markdown",
   "metadata": {},
   "source": [
    "Найдем минимальный объем добычи из одной скважины при заданных параметрах."
   ]
  },
  {
   "cell_type": "code",
   "execution_count": 13,
   "metadata": {},
   "outputs": [
    {
     "name": "stdout",
     "output_type": "stream",
     "text": [
      "Минимальный необходимый объем добычи на одну скважину при заданном бюджете региона, тыс. баррелей: 111.11\n"
     ]
    }
   ],
   "source": [
    "# Общее число исследуемыех скважин в одном регионе\n",
    "UNITS = 500\n",
    "\n",
    "# Число скважин, которые нужно отобрать для разработки, в одном регионе\n",
    "TOP_UNITS = 200\n",
    "\n",
    "# Бюджет на разработку скважин одного региона\n",
    "TOTAL_BUDGET = 10*(1000**3)\n",
    "\n",
    "# Доход с тысячи баррелей, руб.\n",
    "PRICE_PER_BARREL = 450*1000\n",
    "\n",
    "# Допустимая вероятность убытка в регионе.\n",
    "DAMAGE_FRESHOLD = 0.025\n",
    "\n",
    "\n",
    "PROFITABLE_LIMIT = TOTAL_BUDGET/(TOP_UNITS*PRICE_PER_BARREL)\n",
    "print('Минимальный необходимый объем добычи на одну скважину при заданном бюджете региона, тыс. баррелей:',\n",
    "      round(PROFITABLE_LIMIT, 2))"
   ]
  },
  {
   "cell_type": "markdown",
   "metadata": {},
   "source": [
    "## 4.  Расчёт прибыли и рисков"
   ]
  },
  {
   "cell_type": "markdown",
   "metadata": {},
   "source": [
    "Создадим функцию расчета доходности от разработки скважин региона, исходя из полученной модели и экономических показателей предыдущих пунктов исследования."
   ]
  },
  {
   "cell_type": "code",
   "execution_count": 14,
   "metadata": {},
   "outputs": [],
   "source": [
    "def revenue_calc(target, prediction, count):\n",
    "    prediction = pd.Series(prediction)\n",
    "    \n",
    "    # Отбор топ-200 из предсказания по объему скважины.\n",
    "    prediction_sorted = prediction.sort_values(ascending=False)[:count]\n",
    "    \n",
    "    # Отбор топ-200 скважин среди реально разведанных.\n",
    "    top_units_target = target[prediction_sorted.index][:count]  \n",
    "    \n",
    "    # Доходность от топ-200 скважин региона минус бюджет.\n",
    "    return (PRICE_PER_BARREL * top_units_target.sum()) - TOTAL_BUDGET"
   ]
  },
  {
   "cell_type": "markdown",
   "metadata": {},
   "source": [
    "Создадим функцию рассчета средней прибыли, риска убытка от добычи и значений 95% доверительного интервала."
   ]
  },
  {
   "cell_type": "code",
   "execution_count": 15,
   "metadata": {},
   "outputs": [],
   "source": [
    "def bootstrap(target, prediction):\n",
    "    state = np.random.RandomState(12345)\n",
    "    values = []\n",
    "    \n",
    "    # Переменная для рассчета риска.\n",
    "    risk_count = 0\n",
    "    \n",
    "    for i in range(1000):\n",
    "        subset_target = target.sample(n=UNITS, replace=True, random_state=state)\n",
    "        subset_prediction = prediction.loc[subset_target.index]\n",
    "        \n",
    "        revenue = revenue_calc(subset_target, subset_prediction, TOP_UNITS)\n",
    "        values.append(revenue)\n",
    "        \n",
    "        if revenue<0:\n",
    "            risk_count += 1\n",
    "            \n",
    "    risk = risk_count / 1000\n",
    "    \n",
    "    values = pd.Series(values)\n",
    "    \n",
    "    lower = round(values.quantile(0.025), 2)\n",
    "    upper = round(values.quantile(0.975), 2)\n",
    "    \n",
    "    \n",
    "    print('Средняя прибыль составляет:', '{0:,}'.format(values.mean()),\n",
    "          'с риском в', round(risk * 100, 2), '%')\n",
    "    print('Доверительный интервал находится в диапазоне от', '{0:,}'.format(lower),\n",
    "          'до', '{0:,}'.format(upper))"
   ]
  },
  {
   "cell_type": "markdown",
   "metadata": {},
   "source": [
    "Рассчитаем среднюю прибыль, риски и 95% доверительный интервал для каждого региона."
   ]
  },
  {
   "cell_type": "code",
   "execution_count": 16,
   "metadata": {},
   "outputs": [
    {
     "name": "stdout",
     "output_type": "stream",
     "text": [
      "Средняя прибыль составляет: 425,938,526.910592 с риском в 6.0 %\n",
      "Доверительный интервал находится в диапазоне от -102,090,094.84 до 947,976,353.36\n"
     ]
    }
   ],
   "source": [
    "# Первый регион.\n",
    "bootstrap(pd.Series(target_reg_1), pd.Series(prediction_reg_1))"
   ]
  },
  {
   "cell_type": "code",
   "execution_count": 17,
   "metadata": {},
   "outputs": [
    {
     "name": "stdout",
     "output_type": "stream",
     "text": [
      "Средняя прибыль составляет: 515,222,773.44329005 с риском в 1.0 %\n",
      "Доверительный интервал находится в диапазоне от 68,873,225.37 до 931,547,591.26\n"
     ]
    }
   ],
   "source": [
    "# Второй регион.\n",
    "bootstrap(pd.Series(target_reg_2), pd.Series(prediction_reg_2))"
   ]
  },
  {
   "cell_type": "code",
   "execution_count": 18,
   "metadata": {},
   "outputs": [
    {
     "name": "stdout",
     "output_type": "stream",
     "text": [
      "Средняя прибыль составляет: 435,008,362.78275585 с риском в 6.4 %\n",
      "Доверительный интервал находится в диапазоне от -128,880,547.33 до 969,706,954.18\n"
     ]
    }
   ],
   "source": [
    "# Третий регион.\n",
    "bootstrap(pd.Series(target_reg_3), pd.Series(prediction_reg_3))"
   ]
  },
  {
   "cell_type": "markdown",
   "metadata": {},
   "source": [
    "**Вывод**\n",
    "\n",
    "Разработанная модель линейной регрессии указывает, что регион 1 имеет наименьшую потенциальную прибыль от вложений в разработку 200 наиболее продуктивных скважин: при достаточно большом риске (6%), средняя прибыль скважины составит 426 млн. руб.\n",
    "\n",
    "Регион 3 обладает потенциалом прибыли лишь на 2% выше, региона 1 (средняя прибыль от инвестиций в топ-200 скважин составляет 435 млн. руб.), риски при чуть больших рисках - убыточные скважины не привысят 6,4% от объема разработки.\n",
    "\n",
    "Регион 2 имеет самый выской потенциал в размере средней прибыли на скважину в 515 млн. руб. (на 21%, чем в регионах 1 и 3), однако. При этом, число скважин, которые не покроют расходы на разработку, достаточно низкое (1%).\n",
    "Распределение доходности скважин также выглядит привлекательней, чем двух других регионах: в нижнем 2,5-процентиле распределения, доходность положительна, что также говорит о меньших рисках разработки в регионе 2.\n",
    "\n",
    "Таким образом, с точки зрения рисков и ожидаемой доходности, регион 2 является наиболее привлекательным среди трех расмотренных."
   ]
  }
 ],
 "metadata": {
  "kernelspec": {
   "display_name": "Python 3",
   "language": "python",
   "name": "python3"
  },
  "language_info": {
   "codemirror_mode": {
    "name": "ipython",
    "version": 3
   },
   "file_extension": ".py",
   "mimetype": "text/x-python",
   "name": "python",
   "nbconvert_exporter": "python",
   "pygments_lexer": "ipython3",
   "version": "3.8.5"
  }
 },
 "nbformat": 4,
 "nbformat_minor": 4
}
