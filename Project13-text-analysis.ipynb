{
 "cells": [
  {
   "cell_type": "markdown",
   "metadata": {},
   "source": [
    "# Анализ комментариев интернет-магазина"
   ]
  },
  {
   "cell_type": "markdown",
   "metadata": {},
   "source": [
    "Интернет-магазин запускает новый сервис: могут редактировать и дополнять описания товаров, как в вики-сообществах (клиенты предлагают свои правки и комментируют изменения других). Необходимо разработать инструмент, который будет искать токсичные комментарии и отправлять их на модерацию.\n",
    "<br>Нужно обучить модель классифицировать комментарии на позитивные и негативные, на основании размеченного корпуса текста.\n",
    "<p>Успешной будет считаться модель со значением метрики качества F1 не меньше 0.75.</p>\n",
    "<br>\n",
    "<br>\n",
    "Значения столбцов датасета:\n",
    "\n",
    "- `Text` — текст комментария\n",
    "- `Toxic` — флаг токсичности комментария (1 - токсичный, 0 - не токсичный)."
   ]
  },
  {
   "cell_type": "markdown",
   "metadata": {},
   "source": [
    "## 1. Подготовка данных"
   ]
  },
  {
   "cell_type": "code",
   "execution_count": 1,
   "metadata": {},
   "outputs": [],
   "source": [
    "import time\n",
    "import numpy as np\n",
    "import pandas as pd\n",
    "import matplotlib.pyplot as plt\n",
    "import seaborn as sns\n",
    "\n",
    "# Импорты для работы с текстом.\n",
    "import re\n",
    "import nltk\n",
    "from nltk.corpus import stopwords as nltk_stopwords\n",
    "from nltk.stem import WordNetLemmatizer\n",
    "from sklearn.feature_extraction.text import TfidfVectorizer\n",
    "\n",
    "from sklearn.model_selection import train_test_split, GridSearchCV\n",
    "\n",
    "from sklearn.tree import DecisionTreeClassifier\n",
    "from sklearn.ensemble import RandomForestClassifier\n",
    "from sklearn.linear_model import LogisticRegression, SGDClassifier\n",
    "\n",
    "from sklearn.metrics import f1_score, confusion_matrix"
   ]
  },
  {
   "cell_type": "code",
   "execution_count": 2,
   "metadata": {},
   "outputs": [
    {
     "name": "stderr",
     "output_type": "stream",
     "text": [
      "[nltk_data] Downloading package wordnet to\n",
      "[nltk_data]     C:\\Users\\Roman\\AppData\\Roaming\\nltk_data...\n",
      "[nltk_data]   Package wordnet is already up-to-date!\n",
      "[nltk_data] Downloading package stopwords to\n",
      "[nltk_data]     C:\\Users\\Roman\\AppData\\Roaming\\nltk_data...\n",
      "[nltk_data]   Package stopwords is already up-to-date!\n"
     ]
    },
    {
     "data": {
      "text/plain": [
       "True"
      ]
     },
     "execution_count": 2,
     "metadata": {},
     "output_type": "execute_result"
    }
   ],
   "source": [
    "# Если не установлены библиотеки.\n",
    "nltk.download('wordnet')\n",
    "nltk.download('stopwords')"
   ]
  },
  {
   "cell_type": "code",
   "execution_count": 3,
   "metadata": {},
   "outputs": [],
   "source": [
    "df = pd.read_csv('datasets/toxic_comments.csv')"
   ]
  },
  {
   "cell_type": "code",
   "execution_count": 4,
   "metadata": {},
   "outputs": [
    {
     "name": "stdout",
     "output_type": "stream",
     "text": [
      "<class 'pandas.core.frame.DataFrame'>\n",
      "RangeIndex: 159571 entries, 0 to 159570\n",
      "Data columns (total 2 columns):\n",
      " #   Column  Non-Null Count   Dtype \n",
      "---  ------  --------------   ----- \n",
      " 0   text    159571 non-null  object\n",
      " 1   toxic   159571 non-null  int64 \n",
      "dtypes: int64(1), object(1)\n",
      "memory usage: 2.4+ MB\n"
     ]
    },
    {
     "data": {
      "text/html": [
       "<div>\n",
       "<style scoped>\n",
       "    .dataframe tbody tr th:only-of-type {\n",
       "        vertical-align: middle;\n",
       "    }\n",
       "\n",
       "    .dataframe tbody tr th {\n",
       "        vertical-align: top;\n",
       "    }\n",
       "\n",
       "    .dataframe thead th {\n",
       "        text-align: right;\n",
       "    }\n",
       "</style>\n",
       "<table border=\"1\" class=\"dataframe\">\n",
       "  <thead>\n",
       "    <tr style=\"text-align: right;\">\n",
       "      <th></th>\n",
       "      <th>text</th>\n",
       "      <th>toxic</th>\n",
       "    </tr>\n",
       "  </thead>\n",
       "  <tbody>\n",
       "    <tr>\n",
       "      <th>0</th>\n",
       "      <td>Explanation\\nWhy the edits made under my usern...</td>\n",
       "      <td>0</td>\n",
       "    </tr>\n",
       "    <tr>\n",
       "      <th>1</th>\n",
       "      <td>D'aww! He matches this background colour I'm s...</td>\n",
       "      <td>0</td>\n",
       "    </tr>\n",
       "    <tr>\n",
       "      <th>2</th>\n",
       "      <td>Hey man, I'm really not trying to edit war. It...</td>\n",
       "      <td>0</td>\n",
       "    </tr>\n",
       "    <tr>\n",
       "      <th>3</th>\n",
       "      <td>\"\\nMore\\nI can't make any real suggestions on ...</td>\n",
       "      <td>0</td>\n",
       "    </tr>\n",
       "    <tr>\n",
       "      <th>4</th>\n",
       "      <td>You, sir, are my hero. Any chance you remember...</td>\n",
       "      <td>0</td>\n",
       "    </tr>\n",
       "  </tbody>\n",
       "</table>\n",
       "</div>"
      ],
      "text/plain": [
       "                                                text  toxic\n",
       "0  Explanation\\nWhy the edits made under my usern...      0\n",
       "1  D'aww! He matches this background colour I'm s...      0\n",
       "2  Hey man, I'm really not trying to edit war. It...      0\n",
       "3  \"\\nMore\\nI can't make any real suggestions on ...      0\n",
       "4  You, sir, are my hero. Any chance you remember...      0"
      ]
     },
     "metadata": {},
     "output_type": "display_data"
    },
    {
     "name": "stdout",
     "output_type": "stream",
     "text": [
      "\n",
      "Явных дубликатов комментариев: 0\n"
     ]
    }
   ],
   "source": [
    "df.info()\n",
    "display(df.head())\n",
    "print('\\nЯвных дубликатов комментариев:', df['text'].duplicated().sum())"
   ]
  },
  {
   "cell_type": "markdown",
   "metadata": {},
   "source": [
    "Проверим пропуски и распределение токчных/не токсичных комментариев."
   ]
  },
  {
   "cell_type": "code",
   "execution_count": 5,
   "metadata": {},
   "outputs": [
    {
     "data": {
      "text/plain": [
       "0    0.898321\n",
       "1    0.101679\n",
       "Name: toxic, dtype: float64"
      ]
     },
     "execution_count": 5,
     "metadata": {},
     "output_type": "execute_result"
    }
   ],
   "source": [
    "df['toxic'].value_counts() /  df['toxic'].count()"
   ]
  },
  {
   "cell_type": "markdown",
   "metadata": {},
   "source": [
    "Посмотрим на распределение длины комментариев."
   ]
  },
  {
   "cell_type": "code",
   "execution_count": 6,
   "metadata": {},
   "outputs": [
    {
     "data": {
      "text/html": [
       "<div>\n",
       "<style scoped>\n",
       "    .dataframe tbody tr th:only-of-type {\n",
       "        vertical-align: middle;\n",
       "    }\n",
       "\n",
       "    .dataframe tbody tr th {\n",
       "        vertical-align: top;\n",
       "    }\n",
       "\n",
       "    .dataframe thead tr th {\n",
       "        text-align: left;\n",
       "    }\n",
       "\n",
       "    .dataframe thead tr:last-of-type th {\n",
       "        text-align: right;\n",
       "    }\n",
       "</style>\n",
       "<table border=\"1\" class=\"dataframe\">\n",
       "  <thead>\n",
       "    <tr>\n",
       "      <th></th>\n",
       "      <th colspan=\"5\" halign=\"left\">length</th>\n",
       "    </tr>\n",
       "    <tr>\n",
       "      <th></th>\n",
       "      <th>count</th>\n",
       "      <th>mean</th>\n",
       "      <th>median</th>\n",
       "      <th>min</th>\n",
       "      <th>max</th>\n",
       "    </tr>\n",
       "    <tr>\n",
       "      <th>toxic</th>\n",
       "      <th></th>\n",
       "      <th></th>\n",
       "      <th></th>\n",
       "      <th></th>\n",
       "      <th></th>\n",
       "    </tr>\n",
       "  </thead>\n",
       "  <tbody>\n",
       "    <tr>\n",
       "      <th>0</th>\n",
       "      <td>143346</td>\n",
       "      <td>404.347174</td>\n",
       "      <td>216</td>\n",
       "      <td>6</td>\n",
       "      <td>5000</td>\n",
       "    </tr>\n",
       "    <tr>\n",
       "      <th>1</th>\n",
       "      <td>16225</td>\n",
       "      <td>303.304037</td>\n",
       "      <td>128</td>\n",
       "      <td>8</td>\n",
       "      <td>5000</td>\n",
       "    </tr>\n",
       "  </tbody>\n",
       "</table>\n",
       "</div>"
      ],
      "text/plain": [
       "       length                             \n",
       "        count        mean median min   max\n",
       "toxic                                     \n",
       "0      143346  404.347174    216   6  5000\n",
       "1       16225  303.304037    128   8  5000"
      ]
     },
     "execution_count": 6,
     "metadata": {},
     "output_type": "execute_result"
    }
   ],
   "source": [
    "df_text_type = df.copy()\n",
    "df_text_type['length'] = df['text'].apply(len)\n",
    "df_text_type.groupby('toxic').agg({'length':['count','mean', 'median', 'min', 'max']})"
   ]
  },
  {
   "cell_type": "code",
   "execution_count": 7,
   "metadata": {},
   "outputs": [
    {
     "data": {
      "text/plain": [
       "[Text(0.5, 1.0, 'Распределение длины комментариев'),\n",
       " Text(0.5, 0, 'Длина комментария, символов'),\n",
       " Text(0, 0.5, 'Частота')]"
      ]
     },
     "execution_count": 7,
     "metadata": {},
     "output_type": "execute_result"
    },
    {
     "data": {
      "image/png": "[encoded data removed]",
      "text/plain": [
       "<Figure size 1080x360 with 1 Axes>"
      ]
     },
     "metadata": {
      "needs_background": "light"
     },
     "output_type": "display_data"
    }
   ],
   "source": [
    "df_text_type['length'].hist(bins=100, figsize=(15,5), color='r')\\\n",
    ".set(title='Распределение длины комментариев', xlabel='Длина комментария, символов', ylabel='Частота')"
   ]
  },
  {
   "cell_type": "code",
   "execution_count": 8,
   "metadata": {},
   "outputs": [
    {
     "data": {
      "text/plain": [
       "[Text(0.5, 1.0, 'Распределение длины токсичных комментариев'),\n",
       " Text(0.5, 0, 'Длина комментария, символов'),\n",
       " Text(0, 0.5, 'Частота')]"
      ]
     },
     "execution_count": 8,
     "metadata": {},
     "output_type": "execute_result"
    },
    {
     "data": {
      "image/png": "[encoded data removed]",
      "text/plain": [
       "<Figure size 1080x360 with 1 Axes>"
      ]
     },
     "metadata": {
      "needs_background": "light"
     },
     "output_type": "display_data"
    }
   ],
   "source": [
    "df[df['toxic'] == 1]['text'].apply(len).hist(bins=100, figsize=(15,5))\\\n",
    ".set(title='Распределение длины токсичных комментариев', xlabel='Длина комментария, символов', ylabel='Частота')"
   ]
  },
  {
   "cell_type": "code",
   "execution_count": 9,
   "metadata": {},
   "outputs": [
    {
     "data": {
      "text/plain": [
       "[Text(0.5, 1.0, 'Распределение длины нетоксичных комментариев'),\n",
       " Text(0.5, 0, 'Длина комментария, символов'),\n",
       " Text(0, 0.5, 'Частота')]"
      ]
     },
     "execution_count": 9,
     "metadata": {},
     "output_type": "execute_result"
    },
    {
     "data": {
      "image/png": "[encoded data removed]",
      "text/plain": [
       "<Figure size 1080x360 with 1 Axes>"
      ]
     },
     "metadata": {
      "needs_background": "light"
     },
     "output_type": "display_data"
    }
   ],
   "source": [
    "df[df['toxic'] == 0]['text'].apply(len).hist(bins=100, figsize=(15,5))\\\n",
    ".set(title='Распределение длины нетоксичных комментариев', xlabel='Длина комментария, символов', ylabel='Частота')"
   ]
  },
  {
   "cell_type": "markdown",
   "metadata": {},
   "source": [
    "**Выводы**\n",
    "\n",
    "- датасет содержит 159 571 комментариев 11% которых помечены как токсичные,\n",
    "- пропуски и дубликаты в датасете отсуствуют,\n",
    "- как общее распределение длины комментарием, так и распределение отдельно взятых токсчиных и нетоксичных комментариев - пуассоновские,\n",
    "- Медианная длинна токсичного комментария на 68% меньше, чем нетоксичного (128 против 216, соответственно)."
   ]
  },
  {
   "cell_type": "markdown",
   "metadata": {},
   "source": [
    "## 2. Обучение модей"
   ]
  },
  {
   "cell_type": "markdown",
   "metadata": {},
   "source": [
    "### 2.1. Подготовка признаков"
   ]
  },
  {
   "cell_type": "markdown",
   "metadata": {},
   "source": [
    "Подготовка текcта состоит из 2 этапов:\n",
    "- удаление специальных символов и чисел,\n",
    "- лемматизация."
   ]
  },
  {
   "cell_type": "code",
   "execution_count": 10,
   "metadata": {},
   "outputs": [],
   "source": [
    "wnl = WordNetLemmatizer()"
   ]
  },
  {
   "cell_type": "code",
   "execution_count": 11,
   "metadata": {},
   "outputs": [
    {
     "data": {
      "text/plain": [
       "0         explanation why the edits made under my userna...\n",
       "1         d aww  he match this background colour i m see...\n",
       "2         hey man  i m really not trying to edit war  it...\n",
       "3           more i can t make any real suggestion on imp...\n",
       "4         you  sir  are my hero  any chance you remember...\n",
       "                                ...                        \n",
       "159566          and for the second time of asking  when ...\n",
       "159567    you should be ashamed of yourself that is a ho...\n",
       "159568    spitzer umm  there no actual article for prost...\n",
       "159569    and it look like it wa actually you who put on...\n",
       "159570      and     i really don t think you understand ...\n",
       "Name: text, Length: 159571, dtype: object"
      ]
     },
     "execution_count": 11,
     "metadata": {},
     "output_type": "execute_result"
    }
   ],
   "source": [
    "target = df['toxic']\n",
    "features = df['text'].apply(lambda x: ' '.join([wnl.lemmatize(re.sub(r'[^a-zA-Z]', ' ', i).lower()) for i in x.split()]))\n",
    "\n",
    "features"
   ]
  },
  {
   "cell_type": "markdown",
   "metadata": {},
   "source": [
    "Выделим обучающую, валидационную и тестовую выборки."
   ]
  },
  {
   "cell_type": "code",
   "execution_count": 12,
   "metadata": {},
   "outputs": [
    {
     "name": "stdout",
     "output_type": "stream",
     "text": [
      "Датасет раздлен на выборки корректно.\n",
      "\n",
      "Исходный датасет включает: 159571 \n",
      "Обучающая выборка включает: 129251 или 81% датасета\n",
      "Валидационная выборка включает: 14362 или 9% датасета\n",
      "Тестовая выборка включает: 15958 или 10% датасета\n"
     ]
    }
   ],
   "source": [
    "# Выделяем из исходных данных тестовую выборку.\n",
    "(features_train,\n",
    " features_test,\n",
    " target_train,\n",
    " target_test) = train_test_split(features, target, test_size=0.1, random_state=12345, stratify=target)\n",
    "\n",
    "\n",
    "# Разделяем оставшиеся данные на обучающую и валидационную выборки.\n",
    "(features_train,\n",
    " features_valid,\n",
    " target_train,\n",
    " target_valid) = train_test_split(features_train, target_train, test_size=0.1, random_state=12345, )\n",
    "\n",
    "\n",
    "# Проверяем корерктность рассплитовки.\n",
    "if features_train.shape[0] + features_valid.shape[0] + features_test.shape[0] == df.shape[0]:\n",
    "    print('Датасет раздлен на выборки корректно.\\n')\n",
    "else:\n",
    "    print('Датасет раздлен на выборки некорректно.\\n')\n",
    "\n",
    "print('Исходный датасет включает:', df.shape[0],\n",
    "      '\\nОбучающая выборка включает:', features_train.shape[0], f'или {features_train.shape[0]/df.shape[0]:.0%} датасета'\n",
    "      '\\nВалидационная выборка включает:', features_valid.shape[0], f'или {features_valid.shape[0]/df.shape[0]:.0%} датасета'\n",
    "      '\\nТестовая выборка включает:', features_test.shape[0], f'или {features_test.shape[0]/df.shape[0]:.0%} датасета')"
   ]
  },
  {
   "cell_type": "markdown",
   "metadata": {},
   "source": [
    "Векторизируем текст."
   ]
  },
  {
   "cell_type": "code",
   "execution_count": 13,
   "metadata": {},
   "outputs": [],
   "source": [
    "# Инициализация векторайзера и стоп-слов.\n",
    "stopwords = set(nltk_stopwords.words('english'))\n",
    "tfv = TfidfVectorizer(stop_words=stopwords, ngram_range=(1,2))\n",
    "\n",
    "# Обучение векторайзера на обучающей выборке.\n",
    "features_vector_train = tfv.fit_transform(features_train)\n",
    "\n",
    "# Применение векторайзера к валидационной и тестовой выборкам.\n",
    "features_vector_valid = tfv.transform(features_valid)\n",
    "features_vector_test = tfv.transform(features_test)"
   ]
  },
  {
   "cell_type": "markdown",
   "metadata": {},
   "source": [
    "### 2.2. Обучение моделей"
   ]
  },
  {
   "cell_type": "code",
   "execution_count": 14,
   "metadata": {},
   "outputs": [],
   "source": [
    "# Словарь для хранения лучших параметров обученных моделей.\n",
    "model_best_params = {}\n",
    "\n",
    "# Словарь для хранения скорости обучения в секундах.\n",
    "model_speed_train = {}\n",
    "\n",
    "# Словарь для хранения F1 на тесте.\n",
    "model_score_train = {}\n",
    "\n",
    "# Словарь для хранения F1 на валидации.\n",
    "model_score_valid = {}\n",
    "\n",
    "\n",
    "\n",
    "# Функция для обучения и валидации моделей.\n",
    "def train_valid(model, params):\n",
    "    # Переменная для хранения имени модели.\n",
    "    name =[x for x in globals() if globals()[x] is model][0]\n",
    "    train_start = time.time()\n",
    "    \n",
    "    GSCV = GridSearchCV(model,\n",
    "                        params,\n",
    "                        scoring='f1_macro',\n",
    "                        cv=2)\n",
    "    \n",
    "    GSCV.fit(features_vector_train, target_train)\n",
    "    \n",
    "    train_time = time.time() - train_start\n",
    "    \n",
    "    \n",
    "    F1_train = GSCV.best_score_\n",
    "    valid_predictions = GSCV.predict(features_vector_valid)\n",
    "    F1_valid = f1_score(valid_predictions, target_valid)\n",
    "    \n",
    "    print('Время обучения модели, сек.:', np.round_(train_time))\n",
    "    print('F1 лучшей модели на обучающей выборке:', F1_train)\n",
    "    print('F1 лучшей модели на валидационной выборке:', F1_valid)\n",
    "    \n",
    "    model_best_params[name] = GSCV.best_estimator_\n",
    "    model_speed_train[name] = train_time\n",
    "    model_score_train[name] = F1_train\n",
    "    model_score_valid[name] = F1_valid"
   ]
  },
  {
   "cell_type": "markdown",
   "metadata": {},
   "source": [
    "Обучим модель <b><u>решающего дерева</u></b>."
   ]
  },
  {
   "cell_type": "code",
   "execution_count": 15,
   "metadata": {},
   "outputs": [],
   "source": [
    "# Список параметров модели:\n",
    "# list(LR_model.get_params().keys())"
   ]
  },
  {
   "cell_type": "code",
   "execution_count": 16,
   "metadata": {},
   "outputs": [],
   "source": [
    "DTC_model = DecisionTreeClassifier(random_state=12345)\n",
    "\n",
    "DTC_params = {'class_weight':['balanced'],\n",
    "             'max_depth':[10]}  "
   ]
  },
  {
   "cell_type": "code",
   "execution_count": 17,
   "metadata": {},
   "outputs": [
    {
     "name": "stdout",
     "output_type": "stream",
     "text": [
      "Время обучения модели, сек.: 360.0\n",
      "F1 лучшей модели на обучающей выборке: 0.6159900104027549\n",
      "F1 лучшей модели на валидационной выборке: 0.5678346810422283\n"
     ]
    }
   ],
   "source": [
    "train_valid(DTC_model, DTC_params)"
   ]
  },
  {
   "cell_type": "markdown",
   "metadata": {},
   "source": [
    "Обучим модель <b><u>случайного леса</u></b>."
   ]
  },
  {
   "cell_type": "code",
   "execution_count": 18,
   "metadata": {},
   "outputs": [],
   "source": [
    "RFC_model = RandomForestClassifier(random_state=12345)\n",
    "\n",
    "RFC_params = {'class_weight':['balanced'],\n",
    "             'n_estimators':[100],\n",
    "             'max_depth':[10]}  "
   ]
  },
  {
   "cell_type": "code",
   "execution_count": 19,
   "metadata": {},
   "outputs": [
    {
     "name": "stdout",
     "output_type": "stream",
     "text": [
      "Время обучения модели, сек.: 163.0\n",
      "F1 лучшей модели на обучающей выборке: 0.5211123551659969\n",
      "F1 лучшей модели на валидационной выборке: 0.3050807497347637\n"
     ]
    }
   ],
   "source": [
    "train_valid(RFC_model, RFC_params)"
   ]
  },
  {
   "cell_type": "markdown",
   "metadata": {},
   "source": [
    "Обучим модель <b><u>логистической регрессии</u></b>."
   ]
  },
  {
   "cell_type": "code",
   "execution_count": 20,
   "metadata": {},
   "outputs": [],
   "source": [
    "LR_model = LogisticRegression(random_state=12345)\n",
    "\n",
    "LR_params = {'class_weight':['balanced'],\n",
    "             'C':[3],\n",
    "             'max_iter':[100]}  "
   ]
  },
  {
   "cell_type": "code",
   "execution_count": 21,
   "metadata": {},
   "outputs": [
    {
     "name": "stdout",
     "output_type": "stream",
     "text": [
      "Время обучения модели, сек.: 117.0\n",
      "F1 лучшей модели на обучающей выборке: 0.867404537609827\n",
      "F1 лучшей модели на валидационной выборке: 0.7761006289308177\n"
     ]
    },
    {
     "name": "stderr",
     "output_type": "stream",
     "text": [
      "C:\\Users\\Roman\\anaconda3\\lib\\site-packages\\sklearn\\linear_model\\_logistic.py:444: ConvergenceWarning: lbfgs failed to converge (status=1):\n",
      "STOP: TOTAL NO. of ITERATIONS REACHED LIMIT.\n",
      "\n",
      "Increase the number of iterations (max_iter) or scale the data as shown in:\n",
      "    https://scikit-learn.org/stable/modules/preprocessing.html\n",
      "Please also refer to the documentation for alternative solver options:\n",
      "    https://scikit-learn.org/stable/modules/linear_model.html#logistic-regression\n",
      "  n_iter_i = _check_optimize_result(\n"
     ]
    }
   ],
   "source": [
    "train_valid(LR_model, LR_params)"
   ]
  },
  {
   "cell_type": "markdown",
   "metadata": {},
   "source": [
    "Обучим модель <b><u>стохастического градиентного спуска</u></b>."
   ]
  },
  {
   "cell_type": "code",
   "execution_count": 22,
   "metadata": {},
   "outputs": [],
   "source": [
    "SGD_model = SGDClassifier(random_state=12345)\n",
    "\n",
    "SGD_params = {\n",
    "        'class_weight':['balanced'],\n",
    "        'max_iter':[1000],\n",
    "        'shuffle':[True],\n",
    "        'penalty':['l1'],\n",
    "        'n_iter_no_change':[30]}"
   ]
  },
  {
   "cell_type": "code",
   "execution_count": 23,
   "metadata": {},
   "outputs": [
    {
     "name": "stdout",
     "output_type": "stream",
     "text": [
      "Время обучения модели, сек.: 18.0\n",
      "F1 лучшей модели на обучающей выборке: 0.8490143669276\n",
      "F1 лучшей модели на валидационной выборке: 0.725360576923077\n"
     ]
    }
   ],
   "source": [
    "train_valid(SGD_model, SGD_params)"
   ]
  },
  {
   "cell_type": "markdown",
   "metadata": {},
   "source": [
    "### 2.3. Тестирование моделей"
   ]
  },
  {
   "cell_type": "code",
   "execution_count": 24,
   "metadata": {},
   "outputs": [],
   "source": [
    "# Словарь для хранения F1 на тестовой выборке.\n",
    "model_score_test = {}\n",
    "\n",
    "# Функция для тестирования и вывода резульаттов.\n",
    "def test_model(model_name, model, features_test, target_test):\n",
    "    \n",
    "\n",
    "    predictions = model.predict(features_test)\n",
    "    F1_test = f1_score(predictions, target_test)\n",
    "    \n",
    "    model_score_test[model_name] = F1_test\n",
    "    \n",
    "    print('\\033[1m' + f'Значение F1 модели {model_name} на тестовой выборке:' + '\\033[0m', F1_test)\n",
    "    \n",
    "    \n",
    "    # Визуализация.\n",
    "    plt.figure(figsize=(4,3))\n",
    "    sns.heatmap(confusion_matrix(target_test, predictions, normalize='true'), annot=True,fmt='.0%')\n",
    "    plt.title(f'Матрица ошибок модели {model_name}', y=1.05, size=10)"
   ]
  },
  {
   "cell_type": "code",
   "execution_count": 25,
   "metadata": {},
   "outputs": [
    {
     "name": "stdout",
     "output_type": "stream",
     "text": [
      "\u001b[1mЗначение F1 модели DecisionTreeClassifier(DTC) на тестовой выборке:\u001b[0m 0.5505571605447792\n",
      "\u001b[1mЗначение F1 модели RandomForestClassifier(RFC) на тестовой выборке:\u001b[0m 0.2999139414802065\n",
      "\u001b[1mЗначение F1 модели LogisticRegression(LR) на тестовой выборке:\u001b[0m 0.776608187134503\n",
      "\u001b[1mЗначение F1 модели SGDClassifier(SGD) на тестовой выборке:\u001b[0m 0.7169392847241475\n"
     ]
    },
    {
     "data": {
      "image/png": "[encoded data removed]",
      "text/plain": [
       "<Figure size 288x216 with 2 Axes>"
      ]
     },
     "metadata": {
      "needs_background": "light"
     },
     "output_type": "display_data"
    },
    {
     "data": {
      "image/png": "[encoded data removed]",
      "text/plain": [
       "<Figure size 288x216 with 2 Axes>"
      ]
     },
     "metadata": {
      "needs_background": "light"
     },
     "output_type": "display_data"
    },
    {
     "data": {
      "image/png": "[encoded data removed]",
      "text/plain": [
       "<Figure size 288x216 with 2 Axes>"
      ]
     },
     "metadata": {
      "needs_background": "light"
     },
     "output_type": "display_data"
    },
    {
     "data": {
      "image/png": "[encoded data removed]",
      "text/plain": [
       "<Figure size 288x216 with 2 Axes>"
      ]
     },
     "metadata": {
      "needs_background": "light"
     },
     "output_type": "display_data"
    }
   ],
   "source": [
    "test_model('DecisionTreeClassifier(DTC)', model_best_params['DTC_model'], features_vector_test, target_test)\n",
    "test_model('RandomForestClassifier(RFC)', model_best_params['RFC_model'], features_vector_test, target_test)\n",
    "test_model('LogisticRegression(LR)', model_best_params['LR_model'], features_vector_test, target_test)\n",
    "test_model('SGDClassifier(SGD)', model_best_params['SGD_model'], features_vector_test, target_test)"
   ]
  },
  {
   "cell_type": "markdown",
   "metadata": {},
   "source": [
    "Сравним резульаты моделей."
   ]
  },
  {
   "cell_type": "code",
   "execution_count": 26,
   "metadata": {},
   "outputs": [
    {
     "data": {
      "text/html": [
       "<div>\n",
       "<style scoped>\n",
       "    .dataframe tbody tr th:only-of-type {\n",
       "        vertical-align: middle;\n",
       "    }\n",
       "\n",
       "    .dataframe tbody tr th {\n",
       "        vertical-align: top;\n",
       "    }\n",
       "\n",
       "    .dataframe thead th {\n",
       "        text-align: right;\n",
       "    }\n",
       "</style>\n",
       "<table border=\"1\" class=\"dataframe\">\n",
       "  <thead>\n",
       "    <tr style=\"text-align: right;\">\n",
       "      <th></th>\n",
       "      <th>LR_model</th>\n",
       "      <th>RFC_model</th>\n",
       "      <th>DTC_model</th>\n",
       "      <th>SGD_model</th>\n",
       "    </tr>\n",
       "  </thead>\n",
       "  <tbody>\n",
       "    <tr>\n",
       "      <th>Train time, sec.</th>\n",
       "      <td>116.857191</td>\n",
       "      <td>162.882752</td>\n",
       "      <td>359.855991</td>\n",
       "      <td>18.256557</td>\n",
       "    </tr>\n",
       "    <tr>\n",
       "      <th>F1 train</th>\n",
       "      <td>0.867405</td>\n",
       "      <td>0.521112</td>\n",
       "      <td>0.615990</td>\n",
       "      <td>0.849014</td>\n",
       "    </tr>\n",
       "    <tr>\n",
       "      <th>F1 valid</th>\n",
       "      <td>0.776101</td>\n",
       "      <td>0.305081</td>\n",
       "      <td>0.567835</td>\n",
       "      <td>0.725361</td>\n",
       "    </tr>\n",
       "    <tr>\n",
       "      <th>F1 test</th>\n",
       "      <td>0.550557</td>\n",
       "      <td>0.299914</td>\n",
       "      <td>0.776608</td>\n",
       "      <td>0.716939</td>\n",
       "    </tr>\n",
       "  </tbody>\n",
       "</table>\n",
       "</div>"
      ],
      "text/plain": [
       "                    LR_model   RFC_model   DTC_model  SGD_model\n",
       "Train time, sec.  116.857191  162.882752  359.855991  18.256557\n",
       "F1 train            0.867405    0.521112    0.615990   0.849014\n",
       "F1 valid            0.776101    0.305081    0.567835   0.725361\n",
       "F1 test             0.550557    0.299914    0.776608   0.716939"
      ]
     },
     "execution_count": 26,
     "metadata": {},
     "output_type": "execute_result"
    }
   ],
   "source": [
    "summary = pd.DataFrame(columns=['LR_model', 'RFC_model', 'DTC_model', 'SGD_model'],\n",
    "                           index=['Train time, sec.', 'F1 train', 'F1 valid', 'F1 test'],\n",
    "                           data=([model_speed_train['LR_model'], model_speed_train['RFC_model'], model_speed_train['DTC_model'], model_speed_train['SGD_model']],\n",
    "                                 [model_score_train['LR_model'], model_score_train['RFC_model'], model_score_train['DTC_model'], model_score_train['SGD_model']],\n",
    "                                 [model_score_valid['LR_model'], model_score_valid['RFC_model'], model_score_valid['DTC_model'], model_score_valid['SGD_model']],\n",
    "                                 [model_score_test['DecisionTreeClassifier(DTC)'], model_score_test['RandomForestClassifier(RFC)'], model_score_test['LogisticRegression(LR)'], model_score_test['SGDClassifier(SGD)']]\n",
    "                                ))\n",
    "\n",
    "summary"
   ]
  },
  {
   "cell_type": "markdown",
   "metadata": {},
   "source": [
    "**Выводы**\n",
    "\n",
    "- датасет был разделен на обучающую, валидационную и тестовую выборки в пропорции 81%/9%/10%. Проведена лемматизация целевого признака, а также удаление лишних символов и стоп-слов с последующей векторизацией,\n",
    "- проведено обучение 4 моделей классификации: решающего дерева, случайного леса, логистической регрессии и стохастического градиентного спуска, \n",
    "- построены матрицы ошибок на тестовой выборке,\n",
    "- результаты работы моделей (время обучения, F1 на обучающей, валидационной и тестовой выборках) представлны в сводной таблице."
   ]
  },
  {
   "cell_type": "markdown",
   "metadata": {},
   "source": [
    "## 3. Итоги исследования"
   ]
  },
  {
   "cell_type": "markdown",
   "metadata": {},
   "source": [
    "Среди 4 моделей наилучший результат на тестовой выборке показала логистическая регрессия (F1 = 0.78), что также отражено на матрице ошибок: True Positive 82%, True Negative 97%."
   ]
  }
 ],
 "metadata": {
  "kernelspec": {
   "display_name": "Python 3",
   "language": "python",
   "name": "python3"
  },
  "language_info": {
   "codemirror_mode": {
    "name": "ipython",
    "version": 3
   },
   "file_extension": ".py",
   "mimetype": "text/x-python",
   "name": "python",
   "nbconvert_exporter": "python",
   "pygments_lexer": "ipython3",
   "version": "3.8.5"
  }
 },
 "nbformat": 4,
 "nbformat_minor": 4
}
