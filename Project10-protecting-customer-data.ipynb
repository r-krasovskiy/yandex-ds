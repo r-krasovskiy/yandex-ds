{
 "cells": [
  {
   "cell_type": "markdown",
   "metadata": {},
   "source": [
    "# Защита персональных данных клиентов"
   ]
  },
  {
   "cell_type": "markdown",
   "metadata": {},
   "source": [
    "Необходимо защитить данные клиентов страховой компании, разработав такой метод преобразования данных, чтобы по ним было сложно восстановить персональную информацию и обосновав корректность его работы.\n",
    "Необходимо, чтобы при преобразовании качество моделей машинного обучения не ухудшилось."
   ]
  },
  {
   "cell_type": "markdown",
   "metadata": {},
   "source": [
    "## 1.  Загрузка данных"
   ]
  },
  {
   "cell_type": "code",
   "execution_count": 1,
   "metadata": {},
   "outputs": [],
   "source": [
    "import pandas as pd\n",
    "import numpy as np\n",
    "\n",
    "import matplotlib.pyplot as plt\n",
    "\n",
    "from sklearn.linear_model import LinearRegression\n",
    "from sklearn.metrics import r2_score"
   ]
  },
  {
   "cell_type": "code",
   "execution_count": 2,
   "metadata": {},
   "outputs": [],
   "source": [
    "df = pd.read_csv('datasets/insurance.csv')"
   ]
  },
  {
   "cell_type": "code",
   "execution_count": 3,
   "metadata": {},
   "outputs": [
    {
     "name": "stdout",
     "output_type": "stream",
     "text": [
      "<class 'pandas.core.frame.DataFrame'>\n",
      "RangeIndex: 5000 entries, 0 to 4999\n",
      "Data columns (total 5 columns):\n",
      " #   Column             Non-Null Count  Dtype  \n",
      "---  ------             --------------  -----  \n",
      " 0   Пол                5000 non-null   int64  \n",
      " 1   Возраст            5000 non-null   float64\n",
      " 2   Зарплата           5000 non-null   float64\n",
      " 3   Члены семьи        5000 non-null   int64  \n",
      " 4   Страховые выплаты  5000 non-null   int64  \n",
      "dtypes: float64(2), int64(3)\n",
      "memory usage: 195.4 KB\n"
     ]
    }
   ],
   "source": [
    "df.info()"
   ]
  },
  {
   "cell_type": "markdown",
   "metadata": {},
   "source": [
    "Датасет содержит 5 колонок и 5000 столбцов. Тип данных - числовой (float, int).\n",
    "<br>Преобразуем возраст и зарплату в целочисленные значения."
   ]
  },
  {
   "cell_type": "code",
   "execution_count": 4,
   "metadata": {},
   "outputs": [
    {
     "data": {
      "text/plain": [
       "0       49600\n",
       "1       38000\n",
       "2       21000\n",
       "3       41700\n",
       "4       26100\n",
       "        ...  \n",
       "4995    35700\n",
       "4996    52400\n",
       "4997    33900\n",
       "4998    32700\n",
       "4999    40600\n",
       "Name: Зарплата, Length: 5000, dtype: int32"
      ]
     },
     "execution_count": 4,
     "metadata": {},
     "output_type": "execute_result"
    }
   ],
   "source": [
    "df['Возраст'].astype('int')\n",
    "df['Зарплата'].astype('int')"
   ]
  },
  {
   "cell_type": "code",
   "execution_count": 5,
   "metadata": {},
   "outputs": [
    {
     "data": {
      "text/html": [
       "<div>\n",
       "<style scoped>\n",
       "    .dataframe tbody tr th:only-of-type {\n",
       "        vertical-align: middle;\n",
       "    }\n",
       "\n",
       "    .dataframe tbody tr th {\n",
       "        vertical-align: top;\n",
       "    }\n",
       "\n",
       "    .dataframe thead th {\n",
       "        text-align: right;\n",
       "    }\n",
       "</style>\n",
       "<table border=\"1\" class=\"dataframe\">\n",
       "  <thead>\n",
       "    <tr style=\"text-align: right;\">\n",
       "      <th></th>\n",
       "      <th>Пол</th>\n",
       "      <th>Возраст</th>\n",
       "      <th>Зарплата</th>\n",
       "      <th>Члены семьи</th>\n",
       "      <th>Страховые выплаты</th>\n",
       "    </tr>\n",
       "  </thead>\n",
       "  <tbody>\n",
       "    <tr>\n",
       "      <th>0</th>\n",
       "      <td>1</td>\n",
       "      <td>41.0</td>\n",
       "      <td>49600.0</td>\n",
       "      <td>1</td>\n",
       "      <td>0</td>\n",
       "    </tr>\n",
       "    <tr>\n",
       "      <th>1</th>\n",
       "      <td>0</td>\n",
       "      <td>46.0</td>\n",
       "      <td>38000.0</td>\n",
       "      <td>1</td>\n",
       "      <td>1</td>\n",
       "    </tr>\n",
       "    <tr>\n",
       "      <th>2</th>\n",
       "      <td>0</td>\n",
       "      <td>29.0</td>\n",
       "      <td>21000.0</td>\n",
       "      <td>0</td>\n",
       "      <td>0</td>\n",
       "    </tr>\n",
       "    <tr>\n",
       "      <th>3</th>\n",
       "      <td>0</td>\n",
       "      <td>21.0</td>\n",
       "      <td>41700.0</td>\n",
       "      <td>2</td>\n",
       "      <td>0</td>\n",
       "    </tr>\n",
       "    <tr>\n",
       "      <th>4</th>\n",
       "      <td>1</td>\n",
       "      <td>28.0</td>\n",
       "      <td>26100.0</td>\n",
       "      <td>0</td>\n",
       "      <td>0</td>\n",
       "    </tr>\n",
       "  </tbody>\n",
       "</table>\n",
       "</div>"
      ],
      "text/plain": [
       "   Пол  Возраст  Зарплата  Члены семьи  Страховые выплаты\n",
       "0    1     41.0   49600.0            1                  0\n",
       "1    0     46.0   38000.0            1                  1\n",
       "2    0     29.0   21000.0            0                  0\n",
       "3    0     21.0   41700.0            2                  0\n",
       "4    1     28.0   26100.0            0                  0"
      ]
     },
     "execution_count": 5,
     "metadata": {},
     "output_type": "execute_result"
    }
   ],
   "source": [
    "df.head()"
   ]
  },
  {
   "cell_type": "code",
   "execution_count": 6,
   "metadata": {},
   "outputs": [
    {
     "name": "stdout",
     "output_type": "stream",
     "text": [
      "Пропусков в колонке Пол 0\n",
      "0    2505\n",
      "1    2495\n",
      "Name: Пол, dtype: int64 \n",
      "\n",
      "Пропусков в колонке Возраст 0\n",
      "Пропусков в колонке Зарплата 0\n",
      "Пропусков в колонке Члены семьи 0\n",
      "1    1814\n",
      "0    1513\n",
      "2    1071\n",
      "3     439\n",
      "4     124\n",
      "5      32\n",
      "6       7\n",
      "Name: Члены семьи, dtype: int64 \n",
      "\n",
      "Пропусков в колонке Страховые выплаты 0\n",
      "0    4436\n",
      "1     423\n",
      "2     115\n",
      "3      18\n",
      "4       7\n",
      "5       1\n",
      "Name: Страховые выплаты, dtype: int64 \n",
      "\n",
      "Дубликатов строк: 153\n"
     ]
    }
   ],
   "source": [
    "# Проверим значения столбцов.\n",
    "\n",
    "for col in df.columns:\n",
    "    print('Пропусков в колонке', col, df[col].isna().sum())\n",
    "    if col != 'Зарплата' and col != 'Возраст':\n",
    "        print(df[col].value_counts(), '\\n')\n",
    "\n",
    "print('Дубликатов строк:', df.duplicated().sum())"
   ]
  },
  {
   "cell_type": "markdown",
   "metadata": {},
   "source": [
    "Пропущенных значений нет.\n",
    "<br>Выявлено 153 дубликата строк, что нормально для таких дискретных значений."
   ]
  },
  {
   "cell_type": "code",
   "execution_count": 7,
   "metadata": {},
   "outputs": [],
   "source": [
    "def boxplot_values(item):\n",
    "    upper_quartile = df[item].quantile(0.75)\n",
    "    lower_quartile = df[item].quantile(0.25)\n",
    "    median = df[item].median()\n",
    "    mean = df[item].mean()\n",
    "    iqr = upper_quartile - lower_quartile\n",
    "    upper_whisker = df[item][df[item] <= upper_quartile + 1.5 * iqr].max()\n",
    "    lower_whisker = df[item][df[item] >= lower_quartile - 1.5 * iqr].min()\n",
    "    print('25-й процентиль:', lower_quartile)\n",
    "    print('75-й процентиль:', upper_quartile)\n",
    "    print('Медиана: ', median)\n",
    "    print('Среднее: ', mean)\n",
    "    print('Нижний ус:', lower_whisker)\n",
    "    print('Верхний ус:', upper_whisker)\n",
    "\n",
    "def hist_boxplot(item):\n",
    "    df[item].hist(bins=200, figsize=(15, 5)).set(xlabel=item, ylabel='Частота');\n",
    "    plt.show()\n",
    "    df.boxplot(column=item, vert=False, figsize=(15,3)).set(xlabel='Частота');\n",
    "    boxplot_values(item)"
   ]
  },
  {
   "cell_type": "code",
   "execution_count": 8,
   "metadata": {},
   "outputs": [
    {
     "data": {
      "image/png": "[encoded data removed]",
      "text/plain": [
       "<Figure size 1080x360 with 1 Axes>"
      ]
     },
     "metadata": {
      "needs_background": "light"
     },
     "output_type": "display_data"
    },
    {
     "name": "stdout",
     "output_type": "stream",
     "text": [
      "25-й процентиль: 24.0\n",
      "75-й процентиль: 37.0\n",
      "Медиана:  30.0\n",
      "Среднее:  30.9528\n",
      "Нижний ус: 18.0\n",
      "Верхний ус: 56.0\n"
     ]
    },
    {
     "data": {
      "image/png": "[encoded data removed]",
      "text/plain": [
       "<Figure size 1080x216 with 1 Axes>"
      ]
     },
     "metadata": {
      "needs_background": "light"
     },
     "output_type": "display_data"
    }
   ],
   "source": [
    "hist_boxplot('Возраст')"
   ]
  },
  {
   "cell_type": "code",
   "execution_count": 9,
   "metadata": {},
   "outputs": [
    {
     "data": {
      "image/png": "[encoded data removed]",
      "text/plain": [
       "<Figure size 1080x360 with 1 Axes>"
      ]
     },
     "metadata": {
      "needs_background": "light"
     },
     "output_type": "display_data"
    },
    {
     "name": "stdout",
     "output_type": "stream",
     "text": [
      "25-й процентиль: 33300.0\n",
      "75-й процентиль: 46600.0\n",
      "Медиана:  40200.0\n",
      "Среднее:  39916.36\n",
      "Нижний ус: 13400.0\n",
      "Верхний ус: 66300.0\n"
     ]
    },
    {
     "data": {
      "image/png": "[encoded data removed]",
      "text/plain": [
       "<Figure size 1080x216 with 1 Axes>"
      ]
     },
     "metadata": {
      "needs_background": "light"
     },
     "output_type": "display_data"
    }
   ],
   "source": [
    "hist_boxplot('Зарплата')"
   ]
  },
  {
   "cell_type": "markdown",
   "metadata": {},
   "source": [
    "Распределение возраста - пуассоновское, распределение зарплат - нормальное. Аномалий не выявлено."
   ]
  },
  {
   "cell_type": "markdown",
   "metadata": {},
   "source": [
    "Данные получены, проверены и предобработанны (изменен тип столбцов возраста и зарплаты с float на int)"
   ]
  },
  {
   "cell_type": "markdown",
   "metadata": {},
   "source": [
    "## 2.  Умножение матриц"
   ]
  },
  {
   "cell_type": "markdown",
   "metadata": {},
   "source": [
    "Качество линейной регрессии не изменится при умножении призаков на обратимую матрицу.\n",
    "\n",
    "**Обоснование:**\n",
    "\n",
    "1. Пусть $P$ это обратимая матрица, обратная матрице признаков $X$.\n",
    "<br>\n",
    "\n",
    "2. Тогда формула предсказаний имеет вид:\n",
    "$$\n",
    "a' = XPw'\n",
    "$$\n",
    "<br>\n",
    "\n",
    "а формула обучения:\n",
    "$$\n",
    "w' = ((XP)^T(XP))^{-1}(XP)^Ty\n",
    "$$\n",
    "<br>\n",
    "\n",
    "3. Поскольку, $(AB)^T = B^TA^T$, преобразуем формулу обучения:\n",
    "$$\n",
    "w' = (P^T(X^TX)P)^{-1}P^TX^Ty\n",
    "$$\n",
    "<br>\n",
    "\n",
    "4. Поскольку $(AB)^{-1} = B^{-1}A^{-1}$, преобразуем формулу обучения:\n",
    "$$\n",
    "w' = P^{-1}(X^TX)^{-1}(P^T)^{-1}P^TX^Ty\n",
    "$$\n",
    "<br>\n",
    "\n",
    "5. Так как в получившемся выражении одно из произведений множителей дает единичную матрицу $(P^T)^{-1}P^T = E$, сократим его:\n",
    "$$\n",
    "w' = P^{-1}(X^TX)^{-1}EX^Ty = P^{-1}(X^TX)^{-1}X^Ty = P^{-1}w\n",
    "$$\n",
    "<br>\n",
    "\n",
    "6. При этом, значения предсказаний на признаках обратной матрицы:\n",
    "$$\n",
    "a' = XPw' = XPP^{-1}w = XEw = Xw = a\n",
    "$$\n",
    "\n",
    "Таким образом, при домножении признаков линейной регрессии на обратимую матрицу ее предсказания остаются неизменными, а качество модели не ухудшается."
   ]
  },
  {
   "cell_type": "markdown",
   "metadata": {},
   "source": [
    "## 3.  Алгоритм преобразования"
   ]
  },
  {
   "cell_type": "markdown",
   "metadata": {},
   "source": [
    "**Алгоритм**\n",
    "\n",
    "- Создадать случайную матрицу принзнаков модели размерность которой равна числу признаков датасета (4x4).\n",
    "- Умножить случайную матрицу на признаки.\n",
    "- Найти R2 обученной модели на исходных признаках.\n",
    "- Найти R2 обученной модели на преобразованных признаках.\n",
    "- Сравнить R2 обеих моделей."
   ]
  },
  {
   "cell_type": "markdown",
   "metadata": {},
   "source": [
    "**Обоснование**\n",
    "\n",
    "Матрица, обратная той, на которую будут домножаться признаки датасета, станет \"ключом\", без которой невозможно восстановить исходные данные."
   ]
  },
  {
   "cell_type": "markdown",
   "metadata": {},
   "source": [
    "## 4.  Проверка алгоритма"
   ]
  },
  {
   "cell_type": "markdown",
   "metadata": {},
   "source": [
    "Закодируем признаки."
   ]
  },
  {
   "cell_type": "code",
   "execution_count": 10,
   "metadata": {},
   "outputs": [],
   "source": [
    "# Выделим признаки и целевой признак.\n",
    "\n",
    "features = df.drop('Страховые выплаты', axis=1)\n",
    "target = df['Страховые выплаты']"
   ]
  },
  {
   "cell_type": "code",
   "execution_count": 11,
   "metadata": {},
   "outputs": [],
   "source": [
    "# Создадим матрицу размерностью 4x4 из случайных числел.\n",
    "\n",
    "r = np.random.RandomState(42)\n",
    "matrix = r.normal(size = (4,4))\n",
    "\n",
    "matrix = np.linalg.inv(matrix)"
   ]
  },
  {
   "cell_type": "code",
   "execution_count": 12,
   "metadata": {},
   "outputs": [],
   "source": [
    "# Умножим матрицу на признаки.\n",
    "\n",
    "features_trans = features @ matrix"
   ]
  },
  {
   "cell_type": "markdown",
   "metadata": {},
   "source": [
    "Построим модель на исходных признаках датасета и вычислим R2."
   ]
  },
  {
   "cell_type": "code",
   "execution_count": 13,
   "metadata": {},
   "outputs": [
    {
     "name": "stdout",
     "output_type": "stream",
     "text": [
      "R2 на исходных признаках: 0.4249455028666801\n"
     ]
    }
   ],
   "source": [
    "model = LinearRegression()\n",
    "model.fit(features, target)\n",
    "normal_predictions = model.predict(features)\n",
    "r2_score_normal = r2_score(target, normal_predictions)\n",
    "print('R2 на исходных признаках:', r2_score_normal)"
   ]
  },
  {
   "cell_type": "markdown",
   "metadata": {},
   "source": [
    "Построим модель на преобразованных признаках датасета и вычислим R2."
   ]
  },
  {
   "cell_type": "code",
   "execution_count": 14,
   "metadata": {},
   "outputs": [
    {
     "name": "stdout",
     "output_type": "stream",
     "text": [
      "R2 на преобразованных признаках: 0.42494550286668875\n"
     ]
    }
   ],
   "source": [
    "model.fit(features_trans, target)\n",
    "transform_predictions = model.predict(features_trans)\n",
    "r2_score_trans = r2_score(target, transform_predictions)\n",
    "print('R2 на преобразованных признаках:', r2_score_trans)"
   ]
  },
  {
   "cell_type": "markdown",
   "metadata": {},
   "source": [
    "## 5. Итоги исследования"
   ]
  },
  {
   "cell_type": "markdown",
   "metadata": {},
   "source": [
    "Разность R2 моделей находится на незначитеьном уровне, следовательно, качество обученной модели после преобразования признаков такое же как и при обучении без преобразования признаков."
   ]
  }
 ],
 "metadata": {
  "kernelspec": {
   "display_name": "Python 3",
   "language": "python",
   "name": "python3"
  },
  "language_info": {
   "codemirror_mode": {
    "name": "ipython",
    "version": 3
   },
   "file_extension": ".py",
   "mimetype": "text/x-python",
   "name": "python",
   "nbconvert_exporter": "python",
   "pygments_lexer": "ipython3",
   "version": "3.8.5"
  }
 },
 "nbformat": 4,
 "nbformat_minor": 4
}
