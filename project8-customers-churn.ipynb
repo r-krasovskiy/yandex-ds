{
 "cells": [
  {
   "cell_type": "markdown",
   "metadata": {},
   "source": [
    "# Отток клиентов"
   ]
  },
  {
   "cell_type": "markdown",
   "metadata": {},
   "source": [
    "Датасет содержит исторические данные о поведении клиентов и расторжении договоров с банком. Необходимо спрогнозировать, уйдёт клиент из банка в ближайшее время или нет.\n",
    "\n",
    "Успешным считается модель со значением F1-меры 0,59.\n",
    "\n",
    "Источник данных: [https://www.kaggle.com/barelydedicated/bank-customer-churn-modeling](https://www.kaggle.com/barelydedicated/bank-customer-churn-modeling)"
   ]
  },
  {
   "cell_type": "markdown",
   "metadata": {},
   "source": [
    "## 1. Подготовка данных"
   ]
  },
  {
   "cell_type": "code",
   "execution_count": 10,
   "metadata": {},
   "outputs": [],
   "source": [
    "import pandas as pd\n",
    "import matplotlib.pyplot as plt\n",
    "import random # Для генерации заполнения пропусков в данном распределениее у tenor\n",
    "\n",
    "\n",
    "# Модули моделей\n",
    "from sklearn.tree import DecisionTreeClassifier\n",
    "from sklearn.ensemble import RandomForestClassifier\n",
    "from sklearn.linear_model import LogisticRegression\n",
    "\n",
    "# Модули работы с выборкой\n",
    "from sklearn.model_selection import train_test_split\n",
    "from sklearn.utils import shuffle # Для апсамлинга/даунсамплинга.\n",
    "from sklearn.preprocessing import StandardScaler #Для стандартизации признаков\n",
    "\n",
    "# Модули проверки модели\n",
    "from sklearn.metrics import f1_score #Среднее гармоническое полноты и точности\n",
    "from sklearn.metrics import roc_curve #ROC-кривая \n",
    "from sklearn.metrics import roc_auc_score "
   ]
  },
  {
   "cell_type": "code",
   "execution_count": 11,
   "metadata": {},
   "outputs": [
    {
     "name": "stdout",
     "output_type": "stream",
     "text": [
      "<class 'pandas.core.frame.DataFrame'>\n",
      "RangeIndex: 10000 entries, 0 to 9999\n",
      "Data columns (total 14 columns):\n",
      " #   Column           Non-Null Count  Dtype  \n",
      "---  ------           --------------  -----  \n",
      " 0   RowNumber        10000 non-null  int64  \n",
      " 1   CustomerId       10000 non-null  int64  \n",
      " 2   Surname          10000 non-null  object \n",
      " 3   CreditScore      10000 non-null  int64  \n",
      " 4   Geography        10000 non-null  object \n",
      " 5   Gender           10000 non-null  object \n",
      " 6   Age              10000 non-null  int64  \n",
      " 7   Tenure           9091 non-null   float64\n",
      " 8   Balance          10000 non-null  float64\n",
      " 9   NumOfProducts    10000 non-null  int64  \n",
      " 10  HasCrCard        10000 non-null  int64  \n",
      " 11  IsActiveMember   10000 non-null  int64  \n",
      " 12  EstimatedSalary  10000 non-null  float64\n",
      " 13  Exited           10000 non-null  int64  \n",
      "dtypes: float64(3), int64(8), object(3)\n",
      "memory usage: 1.1+ MB\n"
     ]
    }
   ],
   "source": [
    "df = pd.read_csv('datasets/churn.csv')\n",
    "df.info()"
   ]
  },
  {
   "cell_type": "code",
   "execution_count": 12,
   "metadata": {},
   "outputs": [
    {
     "data": {
      "text/html": [
       "<div>\n",
       "<style scoped>\n",
       "    .dataframe tbody tr th:only-of-type {\n",
       "        vertical-align: middle;\n",
       "    }\n",
       "\n",
       "    .dataframe tbody tr th {\n",
       "        vertical-align: top;\n",
       "    }\n",
       "\n",
       "    .dataframe thead th {\n",
       "        text-align: right;\n",
       "    }\n",
       "</style>\n",
       "<table border=\"1\" class=\"dataframe\">\n",
       "  <thead>\n",
       "    <tr style=\"text-align: right;\">\n",
       "      <th></th>\n",
       "      <th>RowNumber</th>\n",
       "      <th>CustomerId</th>\n",
       "      <th>Surname</th>\n",
       "      <th>CreditScore</th>\n",
       "      <th>Geography</th>\n",
       "      <th>Gender</th>\n",
       "      <th>Age</th>\n",
       "      <th>Tenure</th>\n",
       "      <th>Balance</th>\n",
       "      <th>NumOfProducts</th>\n",
       "      <th>HasCrCard</th>\n",
       "      <th>IsActiveMember</th>\n",
       "      <th>EstimatedSalary</th>\n",
       "      <th>Exited</th>\n",
       "    </tr>\n",
       "  </thead>\n",
       "  <tbody>\n",
       "    <tr>\n",
       "      <th>0</th>\n",
       "      <td>1</td>\n",
       "      <td>15634602</td>\n",
       "      <td>Hargrave</td>\n",
       "      <td>619</td>\n",
       "      <td>France</td>\n",
       "      <td>Female</td>\n",
       "      <td>42</td>\n",
       "      <td>2.0</td>\n",
       "      <td>0.00</td>\n",
       "      <td>1</td>\n",
       "      <td>1</td>\n",
       "      <td>1</td>\n",
       "      <td>101348.88</td>\n",
       "      <td>1</td>\n",
       "    </tr>\n",
       "    <tr>\n",
       "      <th>1</th>\n",
       "      <td>2</td>\n",
       "      <td>15647311</td>\n",
       "      <td>Hill</td>\n",
       "      <td>608</td>\n",
       "      <td>Spain</td>\n",
       "      <td>Female</td>\n",
       "      <td>41</td>\n",
       "      <td>1.0</td>\n",
       "      <td>83807.86</td>\n",
       "      <td>1</td>\n",
       "      <td>0</td>\n",
       "      <td>1</td>\n",
       "      <td>112542.58</td>\n",
       "      <td>0</td>\n",
       "    </tr>\n",
       "    <tr>\n",
       "      <th>2</th>\n",
       "      <td>3</td>\n",
       "      <td>15619304</td>\n",
       "      <td>Onio</td>\n",
       "      <td>502</td>\n",
       "      <td>France</td>\n",
       "      <td>Female</td>\n",
       "      <td>42</td>\n",
       "      <td>8.0</td>\n",
       "      <td>159660.80</td>\n",
       "      <td>3</td>\n",
       "      <td>1</td>\n",
       "      <td>0</td>\n",
       "      <td>113931.57</td>\n",
       "      <td>1</td>\n",
       "    </tr>\n",
       "    <tr>\n",
       "      <th>3</th>\n",
       "      <td>4</td>\n",
       "      <td>15701354</td>\n",
       "      <td>Boni</td>\n",
       "      <td>699</td>\n",
       "      <td>France</td>\n",
       "      <td>Female</td>\n",
       "      <td>39</td>\n",
       "      <td>1.0</td>\n",
       "      <td>0.00</td>\n",
       "      <td>2</td>\n",
       "      <td>0</td>\n",
       "      <td>0</td>\n",
       "      <td>93826.63</td>\n",
       "      <td>0</td>\n",
       "    </tr>\n",
       "    <tr>\n",
       "      <th>4</th>\n",
       "      <td>5</td>\n",
       "      <td>15737888</td>\n",
       "      <td>Mitchell</td>\n",
       "      <td>850</td>\n",
       "      <td>Spain</td>\n",
       "      <td>Female</td>\n",
       "      <td>43</td>\n",
       "      <td>2.0</td>\n",
       "      <td>125510.82</td>\n",
       "      <td>1</td>\n",
       "      <td>1</td>\n",
       "      <td>1</td>\n",
       "      <td>79084.10</td>\n",
       "      <td>0</td>\n",
       "    </tr>\n",
       "  </tbody>\n",
       "</table>\n",
       "</div>"
      ],
      "text/plain": [
       "   RowNumber  CustomerId   Surname  CreditScore Geography  Gender  Age  \\\n",
       "0          1    15634602  Hargrave          619    France  Female   42   \n",
       "1          2    15647311      Hill          608     Spain  Female   41   \n",
       "2          3    15619304      Onio          502    France  Female   42   \n",
       "3          4    15701354      Boni          699    France  Female   39   \n",
       "4          5    15737888  Mitchell          850     Spain  Female   43   \n",
       "\n",
       "   Tenure    Balance  NumOfProducts  HasCrCard  IsActiveMember  \\\n",
       "0     2.0       0.00              1          1               1   \n",
       "1     1.0   83807.86              1          0               1   \n",
       "2     8.0  159660.80              3          1               0   \n",
       "3     1.0       0.00              2          0               0   \n",
       "4     2.0  125510.82              1          1               1   \n",
       "\n",
       "   EstimatedSalary  Exited  \n",
       "0        101348.88       1  \n",
       "1        112542.58       0  \n",
       "2        113931.57       1  \n",
       "3         93826.63       0  \n",
       "4         79084.10       0  "
      ]
     },
     "execution_count": 12,
     "metadata": {},
     "output_type": "execute_result"
    }
   ],
   "source": [
    "df.head(5)"
   ]
  },
  {
   "cell_type": "code",
   "execution_count": 13,
   "metadata": {},
   "outputs": [
    {
     "data": {
      "text/plain": [
       "0"
      ]
     },
     "execution_count": 13,
     "metadata": {},
     "output_type": "execute_result"
    }
   ],
   "source": [
    "# Проверим на дубликаты строк.\n",
    "\n",
    "df.duplicated().sum()"
   ]
  },
  {
   "cell_type": "code",
   "execution_count": 14,
   "metadata": {},
   "outputs": [
    {
     "data": {
      "text/plain": [
       "Index(['rownumber', 'customerid', 'surname', 'creditscore', 'geography',\n",
       "       'gender', 'age', 'tenure', 'balance', 'numofproducts', 'hascrcard',\n",
       "       'isactivemember', 'estimatedsalary', 'exited'],\n",
       "      dtype='object')"
      ]
     },
     "execution_count": 14,
     "metadata": {},
     "output_type": "execute_result"
    }
   ],
   "source": [
    "# Приведем названия столбцов к нижнему регистру.\n",
    "\n",
    "df.columns = df.columns.map(lambda x: x.lower())\n",
    "df.columns"
   ]
  },
  {
   "cell_type": "code",
   "execution_count": 15,
   "metadata": {},
   "outputs": [
    {
     "data": {
      "text/plain": [
       "0.0     1291\n",
       "1.0      952\n",
       "2.0      950\n",
       "8.0      933\n",
       "3.0      928\n",
       "5.0      927\n",
       "7.0      925\n",
       "4.0      885\n",
       "9.0      882\n",
       "6.0      881\n",
       "10.0     446\n",
       "Name: tenure, dtype: int64"
      ]
     },
     "execution_count": 15,
     "metadata": {},
     "output_type": "execute_result"
    }
   ],
   "source": [
    "# Значения пропущены только в столбце tenure, их около 10%, что много. Заменим их на случайные значения от 0 до 10. \n",
    " \n",
    "df['tenure'] = df['tenure'].fillna(random.randint(0, 10))\n",
    "df['tenure'].value_counts()"
   ]
  },
  {
   "cell_type": "code",
   "execution_count": 16,
   "metadata": {},
   "outputs": [],
   "source": [
    "# Для анализа данных некоторые столбцы можем удалить, так как они не являются предикаторами.\n",
    "# Удаляем rownumber, customerid и surname\n",
    "\n",
    "df = df.drop(['rownumber', 'customerid', 'surname'], axis=1)"
   ]
  },
  {
   "cell_type": "code",
   "execution_count": 17,
   "metadata": {},
   "outputs": [],
   "source": [
    "# Значения ряда столбцов являются категориальными, их можно заменить методом OHE.\n",
    "# К таким столбцам относятся: Geography, Gender.\n",
    "\n",
    "df = pd.get_dummies(df, drop_first=True)"
   ]
  },
  {
   "cell_type": "markdown",
   "metadata": {},
   "source": [
    "Выполнена предисследовательская обработка данных, дубликаты строк не отсутсвуют; имеющиеся пропуски столбца tenure заменены на медианные значения; удалены столбцы, не влияющие на результаты модели; категориальные переменные выделены в отдельеык столбцы через прямое кодирование (OHE)."
   ]
  },
  {
   "cell_type": "markdown",
   "metadata": {},
   "source": [
    "## 2. Исследование задачи"
   ]
  },
  {
   "cell_type": "code",
   "execution_count": 18,
   "metadata": {},
   "outputs": [],
   "source": [
    "# Выделим предикаторы и резульативный признак.\n",
    "\n",
    "features = df.drop(['exited'], axis=1)\n",
    "target = df['exited']"
   ]
  },
  {
   "cell_type": "code",
   "execution_count": 19,
   "metadata": {},
   "outputs": [],
   "source": [
    "# Приведем признаки датасета к одному масштабу.\n",
    "\n",
    "scaler = StandardScaler()\n",
    "scaler.fit(features)\n",
    "features = pd.DataFrame(scaler.transform(features))"
   ]
  },
  {
   "cell_type": "code",
   "execution_count": 20,
   "metadata": {},
   "outputs": [
    {
     "name": "stdout",
     "output_type": "stream",
     "text": [
      "Датасет раздлен на выборки корректно\n",
      "\n",
      "Исходный датасет включает: 10000 \n",
      "Обучающая выборка включает: 7200 или 72% датасета\n",
      "Валидационная выборка включает: 1800 или 18% датасета\n",
      "Тестовая выборка включает: 1000 или 10% датасета\n"
     ]
    }
   ],
   "source": [
    "# Выделим из исходных данных тестовую выборку.\n",
    "\n",
    "(features_train,\n",
    " features_test,\n",
    " target_train,\n",
    " target_test) = train_test_split(features, target, test_size=0.1, random_state=12345, stratify=target)\n",
    "\n",
    "\n",
    "# Раздедим оставшиеся данные на обучающую и валидационную выборки.\n",
    "\n",
    "(features_train,\n",
    " features_valid,\n",
    " target_train,\n",
    " target_valid) = train_test_split(features_train, target_train, test_size=0.2, random_state=12345, )\n",
    "\n",
    "\n",
    "# Проверим корерктность рассплитовки.\n",
    "if features_train.shape[0]+features_valid.shape[0]+features_test.shape[0] == df.shape[0]:\n",
    "    print('Датасет раздлен на выборки корректно\\n')\n",
    "else:\n",
    "    print('Датасет раздлен на выборки некорректно\\n')\n",
    "\n",
    "print('Исходный датасет включает:', df.shape[0],\n",
    "      '\\nОбучающая выборка включает:', features_train.shape[0], f'или {features_train.shape[0]/df.shape[0]:.0%} датасета'\n",
    "      '\\nВалидационная выборка включает:', features_valid.shape[0], f'или {features_valid.shape[0]/df.shape[0]:.0%} датасета'\n",
    "      '\\nТестовая выборка включает:', features_test.shape[0], f'или {features_test.shape[0]/df.shape[0]:.0%} датасета')"
   ]
  },
  {
   "cell_type": "code",
   "execution_count": 22,
   "metadata": {},
   "outputs": [
    {
     "name": "stdout",
     "output_type": "stream",
     "text": [
      "Исходный датасет:\n",
      " 0    0.8\n",
      "1    0.2\n",
      "Name: exited, dtype: float64\n",
      "Обучающая выборка:\n",
      " 0    0.8\n",
      "1    0.2\n",
      "Name: exited, dtype: float64\n",
      "Валидационная выборка:\n",
      " 0    0.79\n",
      "1    0.21\n",
      "Name: exited, dtype: float64\n",
      "Тестовая выборка:\n",
      " 0    0.8\n",
      "1    0.2\n",
      "Name: exited, dtype: float64\n"
     ]
    }
   ],
   "source": [
    "# Проверим стратификацию.\n",
    "\n",
    "print('Исходный датасет:\\n', (target.value_counts()/target.shape[0]).round(2))\n",
    "print('Обучающая выборка:\\n', (target_train.value_counts()/target_train.shape[0]).round(2))\n",
    "print('Валидационная выборка:\\n', (target_valid.value_counts()/target_valid.shape[0]).round(2))\n",
    "print('Тестовая выборка:\\n', (target_test.value_counts()/target_test.shape[0]).round(2))"
   ]
  },
  {
   "cell_type": "markdown",
   "metadata": {},
   "source": [
    "### 2.1 Дерево решений"
   ]
  },
  {
   "cell_type": "code",
   "execution_count": 23,
   "metadata": {},
   "outputs": [
    {
     "name": "stdout",
     "output_type": "stream",
     "text": [
      "\n",
      "F1 лучшей модели: 0.5401709401709401 \n",
      "Ее глубина: 7\n"
     ]
    }
   ],
   "source": [
    "dt_best_model = None\n",
    "dt_best_result_pure = 0\n",
    "best_depth = 0\n",
    "\n",
    "for depth in range(1, 100):\n",
    "    model = DecisionTreeClassifier(random_state=12345, max_depth=depth)\n",
    "    model.fit(features_train, target_train)\n",
    "    predictions = model.predict(features_valid)\n",
    "    result = f1_score(target_valid, predictions)\n",
    "    \n",
    "    if result > dt_best_result_pure:\n",
    "        dt_best_model = model\n",
    "        best_depth = depth\n",
    "        dt_best_result_pure = result\n",
    "\n",
    "print('\\nF1 лучшей модели:', dt_best_result_pure,\n",
    "      '\\nЕе глубина:', best_depth)"
   ]
  },
  {
   "cell_type": "markdown",
   "metadata": {},
   "source": [
    "### 2.2. Случайный лес"
   ]
  },
  {
   "cell_type": "code",
   "execution_count": 24,
   "metadata": {},
   "outputs": [
    {
     "name": "stdout",
     "output_type": "stream",
     "text": [
      "F1 лучшей модели: 0.5427135678391959 \n",
      "Число ее деревьев: 55\n"
     ]
    }
   ],
   "source": [
    "rf_best_model = None\n",
    "rf_best_result_pure = 0\n",
    "est = 0\n",
    "\n",
    "for est in range(1, 100):\n",
    "    model = RandomForestClassifier(random_state=12345, n_estimators=est)\n",
    "    model.fit(features_train, target_train)\n",
    "    predictions = model.predict(features_valid)\n",
    "    result = f1_score(target_valid, predictions)\n",
    "    \n",
    "    if result > rf_best_result_pure:\n",
    "        rf_best_model = model\n",
    "        best_est = est\n",
    "        rf_best_result_pure = result\n",
    "\n",
    "print('F1 лучшей модели:', rf_best_result_pure,\n",
    "          '\\nЧисло ее деревьев:', best_est)"
   ]
  },
  {
   "cell_type": "markdown",
   "metadata": {},
   "source": [
    "### 2.3. Логистическая регрессия"
   ]
  },
  {
   "cell_type": "code",
   "execution_count": 25,
   "metadata": {},
   "outputs": [
    {
     "name": "stdout",
     "output_type": "stream",
     "text": [
      "F1: 0.28346456692913385\n"
     ]
    }
   ],
   "source": [
    "model = LogisticRegression(random_state=12345, solver='liblinear')\n",
    "model.fit(features_train, target_train)\n",
    "prediction = model.predict(features_valid)\n",
    "\n",
    "lr_result_pure = f1_score(target_valid, prediction)\n",
    "print(\"F1:\", lr_result_pure)"
   ]
  },
  {
   "cell_type": "markdown",
   "metadata": {},
   "source": [
    "Датасет разбит на обучающую, валидационную и тестовую выборки, выполена проверка на корректность рассплитовки. Обучающая и валидационная выборки применены к моделям Дерева решений, Случайного леса и Логистической регрессии; в результате, метрика F1 оказывается ниже требуемого порога в 0,59 (лучший результат получен на Случайном лесу - 0,55, худший - у Логистической регрессии - 0,28)."
   ]
  },
  {
   "cell_type": "markdown",
   "metadata": {},
   "source": [
    "## 3. Борьба с дисбалансом"
   ]
  },
  {
   "cell_type": "markdown",
   "metadata": {},
   "source": [
    "Улучшим показатели моделей, ребалансировав данные."
   ]
  },
  {
   "cell_type": "markdown",
   "metadata": {},
   "source": [
    "### 3.1. Взвешивание классов"
   ]
  },
  {
   "cell_type": "markdown",
   "metadata": {},
   "source": [
    "Обучим модели, указав параметр взвешивания классов, чтобы более редкие классы, встречающиеся в выборках имели больший вес при принятии моделью решения об отнесении его к тому или иному классу."
   ]
  },
  {
   "cell_type": "code",
   "execution_count": 26,
   "metadata": {},
   "outputs": [
    {
     "name": "stdout",
     "output_type": "stream",
     "text": [
      "\n",
      "F1 лучшей модели: 0.5815899581589958 \n",
      "Ее глубина: 7\n"
     ]
    }
   ],
   "source": [
    "# Дерево решений со взвешенными классами.\n",
    "\n",
    "dt_best_model_weighted = None\n",
    "dt_best_result_weighted = 0\n",
    "best_depth = 0\n",
    "\n",
    "for depth in range(1, 100):\n",
    "    model = DecisionTreeClassifier(random_state=12345, max_depth=depth, class_weight='balanced')\n",
    "    model.fit(features_train, target_train)\n",
    "    predictions = model.predict(features_valid)\n",
    "    result = f1_score(target_valid, predictions)\n",
    "    \n",
    "    if result > dt_best_result_weighted:\n",
    "        dt_best_model_weighted = model\n",
    "        best_depth = depth\n",
    "        dt_best_result_weighted = result\n",
    "\n",
    "print('\\nF1 лучшей модели:', dt_best_result_weighted,\n",
    "      '\\nЕе глубина:', best_depth)"
   ]
  },
  {
   "cell_type": "markdown",
   "metadata": {},
   "source": [
    "Метрика F1 не достигла порогового значения (0,58 против 0,59). "
   ]
  },
  {
   "cell_type": "code",
   "execution_count": 27,
   "metadata": {},
   "outputs": [
    {
     "name": "stdout",
     "output_type": "stream",
     "text": [
      "F1 лучшей модели: 0.5491525423728815 \n",
      "Число ее деревьев: 35\n"
     ]
    }
   ],
   "source": [
    "# Случайный лес со взвешенными классами.\n",
    "\n",
    "rf_best_model_weighted = None\n",
    "rf_best_result_weighted = 0\n",
    "est = 0\n",
    "\n",
    "for est in range(1, 100):\n",
    "    model = RandomForestClassifier(random_state=12345, n_estimators=est, class_weight='balanced')\n",
    "    model.fit(features_train, target_train)\n",
    "    predictions = model.predict(features_valid)\n",
    "    result = f1_score(target_valid, predictions)\n",
    "    \n",
    "    if result > rf_best_result_weighted:\n",
    "        rf_best_model = model\n",
    "        best_est = est\n",
    "        rf_best_result_weighted = result\n",
    "\n",
    "print('F1 лучшей модели:', rf_best_result_weighted,\n",
    "      '\\nЧисло ее деревьев:', best_est)"
   ]
  },
  {
   "cell_type": "markdown",
   "metadata": {},
   "source": [
    "Метрика F1 не достигла порогового значения (0,54 против 0,59)."
   ]
  },
  {
   "cell_type": "code",
   "execution_count": 28,
   "metadata": {},
   "outputs": [
    {
     "name": "stdout",
     "output_type": "stream",
     "text": [
      "F1: 0.5076923076923077\n"
     ]
    }
   ],
   "source": [
    "# Логистическая регрессия со взвешенными классами.\n",
    "\n",
    "model = LogisticRegression(random_state=12345, solver='liblinear', class_weight='balanced')\n",
    "model.fit(features_train, target_train)\n",
    "prediction = model.predict(features_valid)\n",
    "\n",
    "lr_result_weighted = f1_score(target_valid, prediction)\n",
    "\n",
    "print(\"F1:\", lr_result_weighted)"
   ]
  },
  {
   "cell_type": "markdown",
   "metadata": {},
   "source": [
    "Метрика F1 составила 0,51, то есть по-прежнему ниже пороговых 0,59."
   ]
  },
  {
   "cell_type": "markdown",
   "metadata": {},
   "source": [
    "Все три модели - Деева решений, Случайного леса и Логистической регрессии - при испоьзовании параметра взвешивания классов, дали лучший результат, чем без него, однако, пороговое значение F1 не было достигнуто данным методом борьбы с дисбалансом в выборке."
   ]
  },
  {
   "cell_type": "markdown",
   "metadata": {},
   "source": [
    "### 3.2. Upsampling"
   ]
  },
  {
   "cell_type": "code",
   "execution_count": 30,
   "metadata": {},
   "outputs": [],
   "source": [
    "# Напишем функцию для апсмплинга, которая увеличит частотность редких классов в выборке.\n",
    "\n",
    "def upsample(features, target, repeat):\n",
    "    features_zeros = features[target == 0]\n",
    "    features_ones = features[target == 1]\n",
    "    target_zeros = target[target == 0]\n",
    "    target_ones = target[target == 1]\n",
    "\n",
    "    features_upsampled = pd.concat([features_zeros] + [features_ones] * repeat)\n",
    "    target_upsampled = pd.concat([target_zeros] + [target_ones] * repeat)\n",
    "    \n",
    "    features_upsampled, target_upsampled = shuffle(features_upsampled, target_upsampled, random_state=12345)\n",
    "    \n",
    "    return features_upsampled, target_upsampled"
   ]
  },
  {
   "cell_type": "code",
   "execution_count": 31,
   "metadata": {},
   "outputs": [],
   "source": [
    "# Применим функцию апсамплинга к обучающей выборке.\n",
    "# Число повторений дублирования классов (параметр repeat) возьмем как отношение классов 0 к классам 1.\n",
    "\n",
    "repeat = (target_train.value_counts()/target_train.shape[0])\n",
    "repeat = (repeat[0]/repeat[1]).astype('int')\n",
    "\n",
    "features_upsampled, target_upsampled = upsample(features_train, target_train, repeat)"
   ]
  },
  {
   "cell_type": "code",
   "execution_count": 32,
   "metadata": {},
   "outputs": [
    {
     "name": "stdout",
     "output_type": "stream",
     "text": [
      "F1: 0.5068493150684932\n"
     ]
    }
   ],
   "source": [
    "# Обучим Логистическую регрессию на преобразованных апсамплингом даных.\n",
    "\n",
    "model = LogisticRegression(random_state=12345, solver='liblinear')\n",
    "model.fit(features_upsampled, target_upsampled)\n",
    "predicted_valid = model.predict(features_valid)\n",
    "\n",
    "lr_result_upsampled = f1_score(target_valid, predicted_valid)\n",
    "\n",
    "print(\"F1:\", lr_result_upsampled)"
   ]
  },
  {
   "cell_type": "markdown",
   "metadata": {},
   "source": [
    "F-1 мера по-прежнему ниже порогового значения (0,51 против 0,59)."
   ]
  },
  {
   "cell_type": "code",
   "execution_count": 33,
   "metadata": {},
   "outputs": [
    {
     "name": "stdout",
     "output_type": "stream",
     "text": [
      "\n",
      "F1 лучшей модели: 0.6004784688995215 \n",
      "Ее глубина: 7\n"
     ]
    }
   ],
   "source": [
    "# Обучим Дерево решений на преобразованных апсамплингом даных.\n",
    "\n",
    "dt_best_model_upsampled = None\n",
    "dt_best_result_upsampled = 0\n",
    "best_depth = 0\n",
    "\n",
    "for depth in range(1, 100):\n",
    "    model = DecisionTreeClassifier(random_state=12345, max_depth=depth)\n",
    "    model.fit(features_upsampled, target_upsampled)\n",
    "    predictions = model.predict(features_valid)\n",
    "    result = f1_score(target_valid, predictions)\n",
    "    \n",
    "    if result > dt_best_result_upsampled:\n",
    "        dt_best_model_upsampled = model\n",
    "        best_depth = depth\n",
    "        dt_best_result_upsampled = result\n",
    "\n",
    "print('\\nF1 лучшей модели:', dt_best_result_upsampled,\n",
    "      '\\nЕе глубина:', best_depth)"
   ]
  },
  {
   "cell_type": "markdown",
   "metadata": {},
   "source": [
    "F1-мера на данных с upsampling получилась вышк порогового значения (0,6 против требуемых 0,59)."
   ]
  },
  {
   "cell_type": "code",
   "execution_count": 35,
   "metadata": {},
   "outputs": [
    {
     "name": "stdout",
     "output_type": "stream",
     "text": [
      "F1 лучшей модели: 0.5844346549192365 \n",
      "Число ее деревьев: 21\n"
     ]
    }
   ],
   "source": [
    "# Обучим Случайный лес на преобразованных апсамплингом даных.\n",
    "\n",
    "rf_best_model_upsampled = None\n",
    "rf_best_result_upsampled = 0\n",
    "est = 0\n",
    "\n",
    "for est in range(1, 100):\n",
    "    model = RandomForestClassifier(random_state=12345, n_estimators=est)\n",
    "    model.fit(features_upsampled, target_upsampled)\n",
    "    predictions = model.predict(features_valid)\n",
    "    result = f1_score(target_valid, predictions)\n",
    "    \n",
    "    if result > rf_best_result_upsampled:\n",
    "        rf_best_model_upsampled = model\n",
    "        best_est = est\n",
    "        rf_best_result_upsampled = result\n",
    "\n",
    "print('F1 лучшей модели:', rf_best_result_upsampled,\n",
    "      '\\nЧисло ее деревьев:', best_est)"
   ]
  },
  {
   "cell_type": "markdown",
   "metadata": {},
   "source": [
    "Метрика F1 получилась лучше, но все равно ниже поровых 0,59."
   ]
  },
  {
   "cell_type": "markdown",
   "metadata": {},
   "source": [
    "### 3.3. Downsampling"
   ]
  },
  {
   "cell_type": "code",
   "execution_count": 36,
   "metadata": {},
   "outputs": [],
   "source": [
    "# Напишем функцию для даунсамплинга, которая уменьшит частотность частых классов в выборке.\n",
    "\n",
    "def downsampling(features, target, fraction):\n",
    "    features_zeros = features[target == 0]\n",
    "    features_ones = features[target == 1]\n",
    "    target_zeros = target[target == 0]\n",
    "    target_ones = target[target == 1]\n",
    "    \n",
    "    features_downsampled = pd.concat([features_zeros.sample(frac=fraction, random_state=12345)] + [features_ones])\n",
    "    target_downsampled = pd.concat([target_zeros.sample(frac=fraction, random_state=12345)] + [target_ones])\n",
    "    \n",
    "    features_downsampled, target_downsampled = shuffle(features_downsampled, target_downsampled, random_state=12345)\n",
    "    \n",
    "    return features_downsampled, target_downsampled"
   ]
  },
  {
   "cell_type": "code",
   "execution_count": 37,
   "metadata": {},
   "outputs": [],
   "source": [
    "# Применим функцию апсамплинга к обучающей выборке.\n",
    "# Число сокращения частых классов (параметр fraction) возьмем как отношение редкого класса (1) к частому (0).\n",
    "\n",
    "repeat = (target_train.value_counts()/target_train.shape[0])\n",
    "repeat = (repeat[1]/repeat[0])\n",
    "\n",
    "\n",
    "features_downsampled, target_downsampled = downsampling(features_train, target_train, repeat)"
   ]
  },
  {
   "cell_type": "code",
   "execution_count": 38,
   "metadata": {},
   "outputs": [
    {
     "name": "stdout",
     "output_type": "stream",
     "text": [
      "\n",
      "F1 лучшей модели: 0.5687885010266941 \n",
      "Ее глубина: 6\n"
     ]
    }
   ],
   "source": [
    "# Обучим Дерево решений на преобразованных даунсамплингом даных.\n",
    "\n",
    "dt_best_model_downsampled = None\n",
    "dt_best_result_downsampled = 0\n",
    "best_depth = 0\n",
    "\n",
    "for depth in range(1, 100):\n",
    "    model = DecisionTreeClassifier(random_state=12345, max_depth=depth)\n",
    "    model.fit(features_downsampled, target_downsampled)\n",
    "    predictions = model.predict(features_valid)\n",
    "    result = f1_score(target_valid, predictions)\n",
    "    \n",
    "    if result > dt_best_result_downsampled:\n",
    "        dt_best_model_downsampled = model\n",
    "        best_depth = depth\n",
    "        dt_best_result_downsampled = result\n",
    "\n",
    "print('\\nF1 лучшей модели:', dt_best_result_downsampled,\n",
    "      '\\nЕе глубина:', best_depth)"
   ]
  },
  {
   "cell_type": "markdown",
   "metadata": {},
   "source": [
    "F-1 метрика по-прежнему недостаточно высокая (0,57 против 0,59)."
   ]
  },
  {
   "cell_type": "code",
   "execution_count": 39,
   "metadata": {},
   "outputs": [
    {
     "name": "stdout",
     "output_type": "stream",
     "text": [
      "F1 лучшей модели: 0.5806451612903225 \n",
      "Число ее деревьев: 84\n"
     ]
    }
   ],
   "source": [
    "# Обучим Случайный лес на преобразованных даунсамплингом даных.\n",
    "\n",
    "rf_best_model_downsampled = None\n",
    "rf_best_result_downsampled = 0\n",
    "est = 0\n",
    "\n",
    "for est in range(1, 100):\n",
    "    model = RandomForestClassifier(random_state=12345, n_estimators=est)\n",
    "    model.fit(features_downsampled, target_downsampled)\n",
    "    predictions = model.predict(features_valid)\n",
    "    result = f1_score(target_valid, predictions)\n",
    "    \n",
    "    if result > rf_best_result_downsampled:\n",
    "        rf_best_model_downsampled = model\n",
    "        best_est = est\n",
    "        rf_best_result_downsampled = result\n",
    "\n",
    "print('F1 лучшей модели:', rf_best_result_downsampled,\n",
    "      '\\nЧисло ее деревьев:', best_est)"
   ]
  },
  {
   "cell_type": "markdown",
   "metadata": {},
   "source": [
    "F1-метрика достигла порогового значения 0,59."
   ]
  },
  {
   "cell_type": "code",
   "execution_count": 40,
   "metadata": {},
   "outputs": [
    {
     "name": "stdout",
     "output_type": "stream",
     "text": [
      "F1: 0.5068493150684932\n"
     ]
    }
   ],
   "source": [
    "# Обучим Логистическую регрессию на преобразованных даунсамплингом даных.\n",
    "\n",
    "model = LogisticRegression(random_state=12345, solver='liblinear')\n",
    "model.fit(features_downsampled, target_downsampled)\n",
    "prediction = model.predict(features_valid)\n",
    "\n",
    "lr_result_downsampled = f1_score(target_valid, predicted_valid)\n",
    "\n",
    "print(\"F1:\", lr_result_downsampled)"
   ]
  },
  {
   "cell_type": "markdown",
   "metadata": {},
   "source": [
    "F1-метрика не достаточно высокая (0,51 против 0,59)."
   ]
  },
  {
   "cell_type": "code",
   "execution_count": 41,
   "metadata": {},
   "outputs": [
    {
     "name": "stdout",
     "output_type": "stream",
     "text": [
      "Метрика F1 до борьбы с дисбалансом:\n",
      "F1 Дерева решений: 0.54\n",
      "F1 Случайного леса: 0.54\n",
      "F1 Логистической регрессии: 0.28\n",
      "\n",
      "Метрика F1 после взвешивания классов:\n",
      "F1 Дерева решений: 0.58\n",
      "F1 Случайного леса: 0.55\n",
      "F1 Логистической регрессии: 0.51\n",
      "\n",
      "Метрика F1 после апсамплинга:\n",
      "F1 Дерева решений: 0.6\n",
      "F1 Случайного леса: 0.58\n",
      "F1 Случайного леса: 0.51\n",
      "\n",
      "Метрика F1 после даунсамплинга:\n",
      "F1 Дерева решений: 0.57\n",
      "F1 Случайного леса: 0.58\n",
      "F1 Случайного леса: 0.51\n"
     ]
    }
   ],
   "source": [
    "print('Метрика F1 до борьбы с дисбалансом:')\n",
    "print('F1 Дерева решений:', dt_best_result_pure.round(2))\n",
    "print('F1 Случайного леса:', rf_best_result_pure.round(2))\n",
    "print('F1 Логистической регрессии:', lr_result_pure.round(2))\n",
    "print('')\n",
    "\n",
    "print('Метрика F1 после взвешивания классов:')\n",
    "print('F1 Дерева решений:', dt_best_result_weighted.round(2))\n",
    "print('F1 Случайного леса:', rf_best_result_weighted.round(2))\n",
    "print('F1 Логистической регрессии:', lr_result_weighted.round(2))\n",
    "print('')\n",
    "\n",
    "print('Метрика F1 после апсамплинга:')\n",
    "print('F1 Дерева решений:', dt_best_result_upsampled.round(2))\n",
    "print('F1 Случайного леса:', rf_best_result_upsampled.round(2))\n",
    "print('F1 Случайного леса:', lr_result_upsampled.round(2))\n",
    "print('')\n",
    "\n",
    "print('Метрика F1 после даунсамплинга:')\n",
    "print('F1 Дерева решений:', dt_best_result_downsampled.round(2))\n",
    "print('F1 Случайного леса:', rf_best_result_downsampled.round(2))\n",
    "print('F1 Случайного леса:', lr_result_downsampled.round(2))"
   ]
  },
  {
   "cell_type": "markdown",
   "metadata": {},
   "source": [
    "Таким образом, в результате преобразований обучающих данных, удалось улучшить F1 на всех трех моделях.\n",
    "<br>Наилучший результат получился после апсамлинга Дерева решений (0,61) и даунсамплинга Случайного леса (0,6)."
   ]
  },
  {
   "cell_type": "markdown",
   "metadata": {},
   "source": [
    "## 4. Тестирование модели"
   ]
  },
  {
   "cell_type": "code",
   "execution_count": 42,
   "metadata": {},
   "outputs": [
    {
     "name": "stdout",
     "output_type": "stream",
     "text": [
      "F1 лучшей модели на тестовой выборке: 0.58\n"
     ]
    }
   ],
   "source": [
    "# Протестируем на модели Дерева решений, обученной на данных с апсамлингом.\n",
    "\n",
    "dt_upsampled_test = dt_best_model_upsampled.predict(features_test)\n",
    "print('F1 лучшей модели на тестовой выборке:', f1_score(target_test, dt_upsampled_test).round(2))"
   ]
  },
  {
   "cell_type": "code",
   "execution_count": 43,
   "metadata": {},
   "outputs": [
    {
     "name": "stdout",
     "output_type": "stream",
     "text": [
      "F1 лучшей модели на тестовой выборке: 0.59\n"
     ]
    }
   ],
   "source": [
    "# Протестируем на модели Случайного леса, обученной на данных с даунсамплингом.\n",
    "\n",
    "rf_downsampled_test = rf_best_model_downsampled.predict(features_test)\n",
    "print('F1 лучшей модели на тестовой выборке:', f1_score(target_test, rf_downsampled_test).round(2))"
   ]
  },
  {
   "cell_type": "markdown",
   "metadata": {},
   "source": [
    "Модель Случайного леса, обученная на данных с даунсамплингом показала себя лучше на тестовых данных, нежеди модель Дерева решений, обученная на данных с апсамплингом.\n",
    "<pr>Признаем ее лучшей модейлью."
   ]
  },
  {
   "cell_type": "code",
   "execution_count": 44,
   "metadata": {},
   "outputs": [
    {
     "data": {
      "image/png": "[encoded data removed]",
      "text/plain": [
       "<Figure size 432x288 with 1 Axes>"
      ]
     },
     "metadata": {
      "needs_background": "light"
     },
     "output_type": "display_data"
    },
    {
     "name": "stdout",
     "output_type": "stream",
     "text": [
      "ROC-score модели: 0.8586129175288206\n"
     ]
    }
   ],
   "source": [
    "# Построим ROC-кривую модели.\n",
    "\n",
    "probabilities_test = rf_best_model_downsampled.predict_proba(features_test)\n",
    "probabilities_one_test = probabilities_test[:, 1]\n",
    "\n",
    "fpr, tpr, thresholds = roc_curve(target_test, probabilities_one_test)\n",
    " \n",
    "plt.figure()\n",
    "plt.plot(fpr, tpr)\n",
    " \n",
    "plt.plot([0, 1], [0, 1], linestyle='--')\n",
    " \n",
    "\n",
    "plt.ylim([0.0, 1.0])\n",
    "plt.xlim([0.0, 1.0])\n",
    "\n",
    "plt.xlabel('False Positive Rate')\n",
    "plt.ylabel('True Positive Rate')\n",
    "\n",
    "plt.title('ROC-кривая')\n",
    "plt.show()\n",
    "\n",
    "auc_roc = roc_auc_score(target_test, probabilities_one_test)\n",
    "print('ROC-score модели:', auc_roc)"
   ]
  },
  {
   "cell_type": "markdown",
   "metadata": {},
   "source": [
    "Таким образом, данные были проверены и обработаны (чек наличия дубликатов, подстановка медианных значений в пропуски, прямое кодирование количественных признаков).\n",
    "<br>Модели Дерева решений, Случайного леса и Линейной регрессии на несбалансированных данных показали низкое значение F1-меры, в результате было принято решение о балансировке данных через взвешивание класов, upsampling, downsampling.\n",
    "<br>Пороговой метретрики F1 при обучении удалось добиться модели Дерева решений после апсамплинга данных и модели Случайного деса после даунсамплинга данных.\n",
    "<br>Однако, при проверке этих моделей на тестовой выборке, Дерево решений показало худший результат и модель Случайного леса, обученная на данных с даунсамплингом оказалась единственной, способной добиться значения F1 более 0,59."
   ]
  }
 ],
 "metadata": {
  "kernelspec": {
   "display_name": "Python 3",
   "language": "python",
   "name": "python3"
  },
  "language_info": {
   "codemirror_mode": {
    "name": "ipython",
    "version": 3
   },
   "file_extension": ".py",
   "mimetype": "text/x-python",
   "name": "python",
   "nbconvert_exporter": "python",
   "pygments_lexer": "ipython3",
   "version": "3.8.5"
  }
 },
 "nbformat": 4,
 "nbformat_minor": 4
}
