{
 "cells": [
  {
   "cell_type": "markdown",
   "metadata": {},
   "source": [
    "## Анализ музыкальных предпочтений пользователей Яндекс.Музыка"
   ]
  },
  {
   "cell_type": "markdown",
   "metadata": {},
   "source": [
    "Датасет содержит информацию о пользователях стримингового сервиса \"Яндекс. Музыка\" в Москве и Санкт-Петербурге.\n",
    "<p>Необходимо осуществить предобработку данных и проверить гипотезы:\n",
    "    <br>1. Активность пользователей зависит от дня недели. Причём в Москве и Петербурге это проявляется по-разному.\n",
    "    <br>2. В понедельник утром в Москве преобладают одни жанры, а в Петербурге — другие. Так же и вечером пятницы преобладают разные жанры — в зависимости от города. \n",
    "    <br>3. Москва и Петербург предпочитают разные жанры музыки. В Москве чаще слушают поп-музыку, в Петербурге — русский рэп.\n",
    "</p>\n",
    "\n",
    "Значения столбцов датасета:\n",
    "* `userID` — идентификатор пользователя;\n",
    "* `Track` — название трека;  \n",
    "* `artist` — имя исполнителя;\n",
    "* `genre` — название жанра;\n",
    "* `City` — город пользователя;\n",
    "* `time` — время начала прослушивания;\n",
    "* `Day` — день недели."
   ]
  },
  {
   "cell_type": "markdown",
   "metadata": {
    "id": "Ml1hmfXC_Zcs"
   },
   "source": [
    "## 1. Обзор данных"
   ]
  },
  {
   "cell_type": "code",
   "execution_count": 1,
   "metadata": {
    "id": "AXN7PHPN_Zcs"
   },
   "outputs": [],
   "source": [
    "import pandas as pd"
   ]
  },
  {
   "cell_type": "code",
   "execution_count": 2,
   "metadata": {
    "id": "fFVu7vqh_Zct"
   },
   "outputs": [
    {
     "data": {
      "text/html": [
       "<div>\n",
       "<style scoped>\n",
       "    .dataframe tbody tr th:only-of-type {\n",
       "        vertical-align: middle;\n",
       "    }\n",
       "\n",
       "    .dataframe tbody tr th {\n",
       "        vertical-align: top;\n",
       "    }\n",
       "\n",
       "    .dataframe thead th {\n",
       "        text-align: right;\n",
       "    }\n",
       "</style>\n",
       "<table border=\"1\" class=\"dataframe\">\n",
       "  <thead>\n",
       "    <tr style=\"text-align: right;\">\n",
       "      <th></th>\n",
       "      <th>userID</th>\n",
       "      <th>Track</th>\n",
       "      <th>artist</th>\n",
       "      <th>genre</th>\n",
       "      <th>City</th>\n",
       "      <th>time</th>\n",
       "      <th>Day</th>\n",
       "    </tr>\n",
       "  </thead>\n",
       "  <tbody>\n",
       "    <tr>\n",
       "      <th>0</th>\n",
       "      <td>FFB692EC</td>\n",
       "      <td>Kamigata To Boots</td>\n",
       "      <td>The Mass Missile</td>\n",
       "      <td>rock</td>\n",
       "      <td>Saint-Petersburg</td>\n",
       "      <td>20:28:33</td>\n",
       "      <td>Wednesday</td>\n",
       "    </tr>\n",
       "    <tr>\n",
       "      <th>1</th>\n",
       "      <td>55204538</td>\n",
       "      <td>Delayed Because of Accident</td>\n",
       "      <td>Andreas Rönnberg</td>\n",
       "      <td>rock</td>\n",
       "      <td>Moscow</td>\n",
       "      <td>14:07:09</td>\n",
       "      <td>Friday</td>\n",
       "    </tr>\n",
       "    <tr>\n",
       "      <th>2</th>\n",
       "      <td>20EC38</td>\n",
       "      <td>Funiculì funiculà</td>\n",
       "      <td>Mario Lanza</td>\n",
       "      <td>pop</td>\n",
       "      <td>Saint-Petersburg</td>\n",
       "      <td>20:58:07</td>\n",
       "      <td>Wednesday</td>\n",
       "    </tr>\n",
       "    <tr>\n",
       "      <th>3</th>\n",
       "      <td>A3DD03C9</td>\n",
       "      <td>Dragons in the Sunset</td>\n",
       "      <td>Fire + Ice</td>\n",
       "      <td>folk</td>\n",
       "      <td>Saint-Petersburg</td>\n",
       "      <td>08:37:09</td>\n",
       "      <td>Monday</td>\n",
       "    </tr>\n",
       "    <tr>\n",
       "      <th>4</th>\n",
       "      <td>E2DC1FAE</td>\n",
       "      <td>Soul People</td>\n",
       "      <td>Space Echo</td>\n",
       "      <td>dance</td>\n",
       "      <td>Moscow</td>\n",
       "      <td>08:34:34</td>\n",
       "      <td>Monday</td>\n",
       "    </tr>\n",
       "  </tbody>\n",
       "</table>\n",
       "</div>"
      ],
      "text/plain": [
       "     userID                        Track            artist  genre  \\\n",
       "0  FFB692EC            Kamigata To Boots  The Mass Missile   rock   \n",
       "1  55204538  Delayed Because of Accident  Andreas Rönnberg   rock   \n",
       "2    20EC38            Funiculì funiculà       Mario Lanza    pop   \n",
       "3  A3DD03C9        Dragons in the Sunset        Fire + Ice   folk   \n",
       "4  E2DC1FAE                  Soul People        Space Echo  dance   \n",
       "\n",
       "             City        time        Day  \n",
       "0  Saint-Petersburg  20:28:33  Wednesday  \n",
       "1            Moscow  14:07:09     Friday  \n",
       "2  Saint-Petersburg  20:58:07  Wednesday  \n",
       "3  Saint-Petersburg  08:37:09     Monday  \n",
       "4            Moscow  08:34:34     Monday  "
      ]
     },
     "execution_count": 2,
     "metadata": {},
     "output_type": "execute_result"
    }
   ],
   "source": [
    "df = pd.read_csv('datasets/yandex_music_project.csv')\n",
    "df.head(5)"
   ]
  },
  {
   "cell_type": "code",
   "execution_count": 3,
   "metadata": {
    "id": "DSf2kIb-_Zct"
   },
   "outputs": [
    {
     "name": "stdout",
     "output_type": "stream",
     "text": [
      "<class 'pandas.core.frame.DataFrame'>\n",
      "RangeIndex: 65079 entries, 0 to 65078\n",
      "Data columns (total 7 columns):\n",
      " #   Column    Non-Null Count  Dtype \n",
      "---  ------    --------------  ----- \n",
      " 0     userID  65079 non-null  object\n",
      " 1   Track     63848 non-null  object\n",
      " 2   artist    57876 non-null  object\n",
      " 3   genre     63881 non-null  object\n",
      " 4     City    65079 non-null  object\n",
      " 5   time      65079 non-null  object\n",
      " 6   Day       65079 non-null  object\n",
      "dtypes: object(7)\n",
      "memory usage: 3.5+ MB\n"
     ]
    }
   ],
   "source": [
    "df.info()"
   ]
  },
  {
   "cell_type": "markdown",
   "metadata": {
    "id": "TaQ2Iwbr_Zct"
   },
   "source": [
    "В таблице семь столбцов. Тип данных во всех столбцах — `object`.\n",
    "\n",
    "В названиях колонок видны три нарушения стиля:\n",
    "1. Строчные буквы сочетаются с прописными.\n",
    "2. Встречаются пробелы.\n",
    "3. Исползуется *camelCase*, вместо *snake_case*.\n",
    "\n",
    "\n",
    "Количество значений в столбцах различается, то есть в данных есть пропущенные значения."
   ]
  },
  {
   "cell_type": "markdown",
   "metadata": {
    "id": "SjYF6Ub9_Zct"
   },
   "source": [
    "## 2. Предобработка данных"
   ]
  },
  {
   "cell_type": "markdown",
   "metadata": {
    "id": "dIaKXr29_Zct"
   },
   "source": [
    "### 2.1. Форматирование заголовков"
   ]
  },
  {
   "cell_type": "code",
   "execution_count": 4,
   "metadata": {
    "id": "oKOTdF_Q_Zct"
   },
   "outputs": [
    {
     "data": {
      "text/plain": [
       "Index(['  userID', 'Track', 'artist', 'genre', '  City  ', 'time', 'Day'], dtype='object')"
      ]
     },
     "execution_count": 4,
     "metadata": {},
     "output_type": "execute_result"
    }
   ],
   "source": [
    "# Перечень названий столбцов таблицы df.\n",
    "\n",
    "df.columns"
   ]
  },
  {
   "cell_type": "code",
   "execution_count": 5,
   "metadata": {
    "id": "ISlFqs5y_Zct"
   },
   "outputs": [],
   "source": [
    "# Поскольку название столбцов используют разный стиль форматирование, переименуем их.\n",
    "\n",
    "df = df.rename(columns={'  userID': 'user_id',\n",
    "                        'Track': 'track',\n",
    "                        '  City  ': 'city',\n",
    "                        'Day': 'day'\n",
    "                       })"
   ]
  },
  {
   "cell_type": "markdown",
   "metadata": {
    "id": "5ISfbcfY_Zct"
   },
   "source": [
    "### 2.2.Обработка пропущенных значений"
   ]
  },
  {
   "cell_type": "code",
   "execution_count": 6,
   "metadata": {
    "id": "RskX29qr_Zct"
   },
   "outputs": [
    {
     "data": {
      "text/plain": [
       "user_id       0\n",
       "track      1231\n",
       "artist     7203\n",
       "genre      1198\n",
       "city          0\n",
       "time          0\n",
       "day           0\n",
       "dtype: int64"
      ]
     },
     "execution_count": 6,
     "metadata": {},
     "output_type": "execute_result"
    }
   ],
   "source": [
    "# Подсчёт пропусков.\n",
    "\n",
    "df.isna().sum()"
   ]
  },
  {
   "cell_type": "code",
   "execution_count": 7,
   "metadata": {
    "id": "KplB5qWs_Zct"
   },
   "outputs": [
    {
     "data": {
      "text/plain": [
       "user_id    0\n",
       "track      0\n",
       "artist     0\n",
       "genre      0\n",
       "city       0\n",
       "time       0\n",
       "day        0\n",
       "dtype: int64"
      ]
     },
     "execution_count": 7,
     "metadata": {},
     "output_type": "execute_result"
    }
   ],
   "source": [
    "# Перебор названий столбцов в цикле и замена пропущенных значений на 'unknown'.\n",
    "\n",
    "columns_to_replace = ['track', 'artist', 'genre']\n",
    "\n",
    "for column in columns_to_replace:\n",
    "    df[column] = df[column].fillna('unknown')\n",
    "\n",
    "\n",
    "    \n",
    "# Проверка: подсчёт пропусков.\n",
    "\n",
    "df.isna().sum()"
   ]
  },
  {
   "cell_type": "markdown",
   "metadata": {
    "id": "BWKRtBJ3_Zct"
   },
   "source": [
    "### 2.3. Обработка дубликатов"
   ]
  },
  {
   "cell_type": "code",
   "execution_count": 8,
   "metadata": {
    "id": "36eES_S0_Zct"
   },
   "outputs": [
    {
     "data": {
      "text/plain": [
       "3826"
      ]
     },
     "execution_count": 8,
     "metadata": {},
     "output_type": "execute_result"
    }
   ],
   "source": [
    "# Число явных дубликатов.\n",
    "\n",
    "df.duplicated().sum()"
   ]
  },
  {
   "cell_type": "code",
   "execution_count": 9,
   "metadata": {
    "id": "exFHq6tt_Zct"
   },
   "outputs": [],
   "source": [
    "# Удаление явных дубликатов (с удалением старых индексов и формированием новых).\n",
    "\n",
    "df = df.drop_duplicates().reset_index(drop=True)"
   ]
  },
  {
   "cell_type": "code",
   "execution_count": 10,
   "metadata": {
    "id": "-8PuNWQ0_Zct"
   },
   "outputs": [
    {
     "data": {
      "text/plain": [
       "0"
      ]
     },
     "execution_count": 10,
     "metadata": {},
     "output_type": "execute_result"
    }
   ],
   "source": [
    "# Проверка: число явных дубликатов.\n",
    "\n",
    "df.duplicated().sum()"
   ]
  },
  {
   "cell_type": "markdown",
   "metadata": {
    "id": "QlFBsxAr_Zct"
   },
   "source": [
    "Избавимся от неявных дубликатов в колонке `genre`. Например, название одного и того же жанра может быть записано по-разному."
   ]
  },
  {
   "cell_type": "code",
   "execution_count": 11,
   "metadata": {
    "id": "JIUcqzZN_Zct"
   },
   "outputs": [
    {
     "data": {
      "text/plain": [
       "array(['acid', 'acoustic', 'action', 'adult', 'africa', 'afrikaans',\n",
       "       'alternative', 'alternativepunk', 'ambient', 'americana',\n",
       "       'animated', 'anime', 'arabesk', 'arabic', 'arena',\n",
       "       'argentinetango', 'art', 'audiobook', 'author', 'avantgarde',\n",
       "       'axé', 'baile', 'balkan', 'beats', 'bigroom', 'black', 'bluegrass',\n",
       "       'blues', 'bollywood', 'bossa', 'brazilian', 'breakbeat', 'breaks',\n",
       "       'broadway', 'cantautori', 'cantopop', 'canzone', 'caribbean',\n",
       "       'caucasian', 'celtic', 'chamber', 'chanson', 'children', 'chill',\n",
       "       'chinese', 'choral', 'christian', 'christmas', 'classical',\n",
       "       'classicmetal', 'club', 'colombian', 'comedy', 'conjazz',\n",
       "       'contemporary', 'country', 'cuban', 'dance', 'dancehall',\n",
       "       'dancepop', 'dark', 'death', 'deep', 'deutschrock', 'deutschspr',\n",
       "       'dirty', 'disco', 'dnb', 'documentary', 'downbeat', 'downtempo',\n",
       "       'drum', 'dub', 'dubstep', 'eastern', 'easy', 'electronic',\n",
       "       'electropop', 'emo', 'entehno', 'epicmetal', 'estrada', 'ethnic',\n",
       "       'eurofolk', 'european', 'experimental', 'extrememetal', 'fado',\n",
       "       'fairytail', 'film', 'fitness', 'flamenco', 'folk', 'folklore',\n",
       "       'folkmetal', 'folkrock', 'folktronica', 'forró', 'frankreich',\n",
       "       'französisch', 'french', 'funk', 'future', 'gangsta', 'garage',\n",
       "       'german', 'ghazal', 'gitarre', 'glitch', 'gospel', 'gothic',\n",
       "       'grime', 'grunge', 'gypsy', 'handsup', \"hard'n'heavy\", 'hardcore',\n",
       "       'hardstyle', 'hardtechno', 'hip', 'hip-hop', 'hiphop',\n",
       "       'historisch', 'holiday', 'hop', 'horror', 'house', 'hymn', 'idm',\n",
       "       'independent', 'indian', 'indie', 'indipop', 'industrial',\n",
       "       'inspirational', 'instrumental', 'international', 'irish', 'jam',\n",
       "       'japanese', 'jazz', 'jewish', 'jpop', 'jungle', 'k-pop',\n",
       "       'karadeniz', 'karaoke', 'kayokyoku', 'korean', 'laiko', 'latin',\n",
       "       'latino', 'leftfield', 'local', 'lounge', 'loungeelectronic',\n",
       "       'lovers', 'malaysian', 'mandopop', 'marschmusik', 'meditative',\n",
       "       'mediterranean', 'melodic', 'metal', 'metalcore', 'mexican',\n",
       "       'middle', 'minimal', 'miscellaneous', 'modern', 'mood', 'mpb',\n",
       "       'muslim', 'native', 'neoklassik', 'neue', 'new', 'newage',\n",
       "       'newwave', 'nu', 'nujazz', 'numetal', 'oceania', 'old', 'opera',\n",
       "       'orchestral', 'other', 'piano', 'podcasts', 'pop', 'popdance',\n",
       "       'popelectronic', 'popeurodance', 'poprussian', 'post',\n",
       "       'posthardcore', 'postrock', 'power', 'progmetal', 'progressive',\n",
       "       'psychedelic', 'punjabi', 'punk', 'quebecois', 'ragga', 'ram',\n",
       "       'rancheras', 'rap', 'rave', 'reggae', 'reggaeton', 'regional',\n",
       "       'relax', 'religious', 'retro', 'rhythm', 'rnb', 'rnr', 'rock',\n",
       "       'rockabilly', 'rockalternative', 'rockindie', 'rockother',\n",
       "       'romance', 'roots', 'ruspop', 'rusrap', 'rusrock', 'russian',\n",
       "       'salsa', 'samba', 'scenic', 'schlager', 'self', 'sertanejo',\n",
       "       'shanson', 'shoegazing', 'showtunes', 'singer', 'ska', 'skarock',\n",
       "       'slow', 'smooth', 'soft', 'soul', 'soulful', 'sound', 'soundtrack',\n",
       "       'southern', 'specialty', 'speech', 'spiritual', 'sport',\n",
       "       'stonerrock', 'surf', 'swing', 'synthpop', 'synthrock',\n",
       "       'sängerportrait', 'tango', 'tanzorchester', 'taraftar', 'tatar',\n",
       "       'tech', 'techno', 'teen', 'thrash', 'top', 'traditional',\n",
       "       'tradjazz', 'trance', 'tribal', 'trip', 'triphop', 'tropical',\n",
       "       'türk', 'türkçe', 'ukrrock', 'unknown', 'urban', 'uzbek',\n",
       "       'variété', 'vi', 'videogame', 'vocal', 'western', 'world',\n",
       "       'worldbeat', 'ïîï', 'электроника'], dtype=object)"
      ]
     },
     "execution_count": 11,
     "metadata": {},
     "output_type": "execute_result"
    }
   ],
   "source": [
    "# Просмотр уникальных названий жанров.\n",
    "\n",
    "df['genre'].sort_values().unique()"
   ]
  },
  {
   "cell_type": "markdown",
   "metadata": {},
   "source": [
    "Жанр hiphop записан по-разному ('hip', 'hop', 'hip-hop'). Исправим это."
   ]
  },
  {
   "cell_type": "code",
   "execution_count": 12,
   "metadata": {
    "id": "ErNDkmns_Zct"
   },
   "outputs": [],
   "source": [
    "# Функция для замены неявных дубликатов.\n",
    "\n",
    "def replace_wrong_genres(wrong_genres, correct_genre):\n",
    "    for wrong_genre in wrong_genres:\n",
    "        df['genre'] = df['genre'].replace(wrong_genres, correct_genre)\n",
    "\n",
    "genre_incorrect = ['hip', 'hop', 'hip-hop']\n",
    "genre_correction = 'hiphop'"
   ]
  },
  {
   "cell_type": "code",
   "execution_count": 13,
   "metadata": {
    "id": "YN5i2hpmSo09"
   },
   "outputs": [],
   "source": [
    "# Устранение неявных дубликатов.\n",
    "\n",
    "replace_wrong_genres(genre_incorrect, genre_correction)"
   ]
  },
  {
   "cell_type": "code",
   "execution_count": 14,
   "metadata": {
    "id": "wvixALnFG15m"
   },
   "outputs": [
    {
     "data": {
      "text/plain": [
       "array(['acid', 'acoustic', 'action', 'adult', 'africa', 'afrikaans',\n",
       "       'alternative', 'alternativepunk', 'ambient', 'americana',\n",
       "       'animated', 'anime', 'arabesk', 'arabic', 'arena',\n",
       "       'argentinetango', 'art', 'audiobook', 'author', 'avantgarde',\n",
       "       'axé', 'baile', 'balkan', 'beats', 'bigroom', 'black', 'bluegrass',\n",
       "       'blues', 'bollywood', 'bossa', 'brazilian', 'breakbeat', 'breaks',\n",
       "       'broadway', 'cantautori', 'cantopop', 'canzone', 'caribbean',\n",
       "       'caucasian', 'celtic', 'chamber', 'chanson', 'children', 'chill',\n",
       "       'chinese', 'choral', 'christian', 'christmas', 'classical',\n",
       "       'classicmetal', 'club', 'colombian', 'comedy', 'conjazz',\n",
       "       'contemporary', 'country', 'cuban', 'dance', 'dancehall',\n",
       "       'dancepop', 'dark', 'death', 'deep', 'deutschrock', 'deutschspr',\n",
       "       'dirty', 'disco', 'dnb', 'documentary', 'downbeat', 'downtempo',\n",
       "       'drum', 'dub', 'dubstep', 'eastern', 'easy', 'electronic',\n",
       "       'electropop', 'emo', 'entehno', 'epicmetal', 'estrada', 'ethnic',\n",
       "       'eurofolk', 'european', 'experimental', 'extrememetal', 'fado',\n",
       "       'fairytail', 'film', 'fitness', 'flamenco', 'folk', 'folklore',\n",
       "       'folkmetal', 'folkrock', 'folktronica', 'forró', 'frankreich',\n",
       "       'französisch', 'french', 'funk', 'future', 'gangsta', 'garage',\n",
       "       'german', 'ghazal', 'gitarre', 'glitch', 'gospel', 'gothic',\n",
       "       'grime', 'grunge', 'gypsy', 'handsup', \"hard'n'heavy\", 'hardcore',\n",
       "       'hardstyle', 'hardtechno', 'hiphop', 'historisch', 'holiday',\n",
       "       'horror', 'house', 'hymn', 'idm', 'independent', 'indian', 'indie',\n",
       "       'indipop', 'industrial', 'inspirational', 'instrumental',\n",
       "       'international', 'irish', 'jam', 'japanese', 'jazz', 'jewish',\n",
       "       'jpop', 'jungle', 'k-pop', 'karadeniz', 'karaoke', 'kayokyoku',\n",
       "       'korean', 'laiko', 'latin', 'latino', 'leftfield', 'local',\n",
       "       'lounge', 'loungeelectronic', 'lovers', 'malaysian', 'mandopop',\n",
       "       'marschmusik', 'meditative', 'mediterranean', 'melodic', 'metal',\n",
       "       'metalcore', 'mexican', 'middle', 'minimal', 'miscellaneous',\n",
       "       'modern', 'mood', 'mpb', 'muslim', 'native', 'neoklassik', 'neue',\n",
       "       'new', 'newage', 'newwave', 'nu', 'nujazz', 'numetal', 'oceania',\n",
       "       'old', 'opera', 'orchestral', 'other', 'piano', 'podcasts', 'pop',\n",
       "       'popdance', 'popelectronic', 'popeurodance', 'poprussian', 'post',\n",
       "       'posthardcore', 'postrock', 'power', 'progmetal', 'progressive',\n",
       "       'psychedelic', 'punjabi', 'punk', 'quebecois', 'ragga', 'ram',\n",
       "       'rancheras', 'rap', 'rave', 'reggae', 'reggaeton', 'regional',\n",
       "       'relax', 'religious', 'retro', 'rhythm', 'rnb', 'rnr', 'rock',\n",
       "       'rockabilly', 'rockalternative', 'rockindie', 'rockother',\n",
       "       'romance', 'roots', 'ruspop', 'rusrap', 'rusrock', 'russian',\n",
       "       'salsa', 'samba', 'scenic', 'schlager', 'self', 'sertanejo',\n",
       "       'shanson', 'shoegazing', 'showtunes', 'singer', 'ska', 'skarock',\n",
       "       'slow', 'smooth', 'soft', 'soul', 'soulful', 'sound', 'soundtrack',\n",
       "       'southern', 'specialty', 'speech', 'spiritual', 'sport',\n",
       "       'stonerrock', 'surf', 'swing', 'synthpop', 'synthrock',\n",
       "       'sängerportrait', 'tango', 'tanzorchester', 'taraftar', 'tatar',\n",
       "       'tech', 'techno', 'teen', 'thrash', 'top', 'traditional',\n",
       "       'tradjazz', 'trance', 'tribal', 'trip', 'triphop', 'tropical',\n",
       "       'türk', 'türkçe', 'ukrrock', 'unknown', 'urban', 'uzbek',\n",
       "       'variété', 'vi', 'videogame', 'vocal', 'western', 'world',\n",
       "       'worldbeat', 'ïîï', 'электроника'], dtype=object)"
      ]
     },
     "execution_count": 14,
     "metadata": {},
     "output_type": "execute_result"
    }
   ],
   "source": [
    "# Проверка: неявные дубликаты.\n",
    "\n",
    "df['genre'].sort_values().unique()"
   ]
  },
  {
   "cell_type": "markdown",
   "metadata": {
    "id": "jz6a9-7HQUDd"
   },
   "source": [
    "**Выводы**\n",
    "\n",
    "Предобработка обнаружила три проблемы в данных, которые были исправлены:\n",
    "- нарушения в стиле заголовков,\n",
    "- пропущенные значения,\n",
    "- дубликаты — явные и неявные."
   ]
  },
  {
   "cell_type": "markdown",
   "metadata": {
    "id": "WttZHXH0SqKk"
   },
   "source": [
    "## 3. Проверка гипотез"
   ]
  },
  {
   "cell_type": "markdown",
   "metadata": {
    "id": "Im936VVi_Zcu"
   },
   "source": [
    "### 3.1. Сравнение поведения пользователей двух городов"
   ]
  },
  {
   "cell_type": "markdown",
   "metadata": {
    "id": "nwt_MuaL_Zcu"
   },
   "source": [
    "Предположим, что пользователи по-разному слушают музыку в Москве и Санкт-Петербурге. Проверим эту гипотезу на данных о трёх днях недели — понедельнике, среде и пятнице.\n",
    "<p>Для этого:\n",
    "    \n",
    "* Разделим пользователей Москвы и Санкт-Петербурга\n",
    "* Сравним, сколько треков послушала каждая группа пользователей в понедельник, среду и пятницу.\n",
    "</p>"
   ]
  },
  {
   "cell_type": "code",
   "execution_count": 15,
   "metadata": {
    "id": "0_Qs96oh_Zcu"
   },
   "outputs": [
    {
     "name": "stdout",
     "output_type": "stream",
     "text": [
      "city\n",
      "Moscow              42741\n",
      "Saint-Petersburg    18512\n",
      "Name: track, dtype: int64\n"
     ]
    }
   ],
   "source": [
    "# Подсчёт прослушиваний в каждом городе.\n",
    "\n",
    "print(df.groupby('city')['track'].count())"
   ]
  },
  {
   "cell_type": "markdown",
   "metadata": {
    "id": "dzli3w8o_Zcu"
   },
   "source": [
    "В Москве прослушиваний больше, чем в Петербурге. Из этого не следует, что московские пользователи чаще слушают музыку. Просто самих пользователей в Москве больше."
   ]
  },
  {
   "cell_type": "code",
   "execution_count": 16,
   "metadata": {
    "id": "uZMKjiJz_Zcu"
   },
   "outputs": [
    {
     "data": {
      "text/plain": [
       "day\n",
       "Friday       21840\n",
       "Monday       21354\n",
       "Wednesday    18059\n",
       "Name: track, dtype: int64"
      ]
     },
     "execution_count": 16,
     "metadata": {},
     "output_type": "execute_result"
    }
   ],
   "source": [
    "# Подсчёт прослушиваний в каждый из трёх дней.\n",
    "\n",
    "df.groupby('day')['track'].count()"
   ]
  },
  {
   "cell_type": "markdown",
   "metadata": {
    "id": "cC2tNrlL_Zcu"
   },
   "source": [
    "В среднем пользователи из двух городов менее активны по средам. Но картина может измениться, если рассмотреть каждый город в отдельности."
   ]
  },
  {
   "cell_type": "code",
   "execution_count": 17,
   "metadata": {
    "id": "Nz3GdQB1_Zcu"
   },
   "outputs": [],
   "source": [
    "def number_tracks(day, city):\n",
    "    track_list = df[(df['day'] == day) & (df['city'] == city)]\n",
    "    track_list_count = track_list['user_id'].count()\n",
    "    \n",
    "    return track_list_count"
   ]
  },
  {
   "cell_type": "code",
   "execution_count": 42,
   "metadata": {},
   "outputs": [
    {
     "name": "stdout",
     "output_type": "stream",
     "text": [
      "Количество прослушиваний в Москве по понедельникам: 15740\n",
      "Количество прослушиваний в Санкт-Петербурге по понедельникам 5614 \n",
      "\n",
      "Количество прослушиваний в Москве по средам 11056\n",
      "Количество прослушиваний в Санкт-Петербурге по средам 7003 \n",
      "\n",
      "Количество прослушиваний в Москве по пятницам 15945\n",
      "Количество прослушиваний в Санкт-Петербурге по пятницам 5895\n"
     ]
    }
   ],
   "source": [
    "print('Количество прослушиваний в Москве по понедельникам:', number_tracks('Monday', 'Moscow'))\n",
    "print('Количество прослушиваний в Санкт-Петербурге по понедельникам', number_tracks('Monday', 'Saint-Petersburg'), '\\n')\n",
    "print('Количество прослушиваний в Москве по средам', number_tracks('Wednesday', 'Moscow'))\n",
    "print('Количество прослушиваний в Санкт-Петербурге по средам', number_tracks('Wednesday', 'Saint-Petersburg'), '\\n')\n",
    "print('Количество прослушиваний в Москве по пятницам', number_tracks('Friday', 'Moscow'))\n",
    "print('Количество прослушиваний в Санкт-Петербурге по пятницам', number_tracks('Friday', 'Saint-Petersburg'))"
   ]
  },
  {
   "cell_type": "code",
   "execution_count": 44,
   "metadata": {
    "id": "APAcLpOr_Zcu"
   },
   "outputs": [
    {
     "data": {
      "text/html": [
       "<div>\n",
       "<style scoped>\n",
       "    .dataframe tbody tr th:only-of-type {\n",
       "        vertical-align: middle;\n",
       "    }\n",
       "\n",
       "    .dataframe tbody tr th {\n",
       "        vertical-align: top;\n",
       "    }\n",
       "\n",
       "    .dataframe thead th {\n",
       "        text-align: right;\n",
       "    }\n",
       "</style>\n",
       "<table border=\"1\" class=\"dataframe\">\n",
       "  <thead>\n",
       "    <tr style=\"text-align: right;\">\n",
       "      <th></th>\n",
       "      <th>city</th>\n",
       "      <th>monday</th>\n",
       "      <th>wednesday</th>\n",
       "      <th>friday</th>\n",
       "    </tr>\n",
       "  </thead>\n",
       "  <tbody>\n",
       "    <tr>\n",
       "      <th>0</th>\n",
       "      <td>Moscow</td>\n",
       "      <td>15740</td>\n",
       "      <td>11056</td>\n",
       "      <td>15945</td>\n",
       "    </tr>\n",
       "    <tr>\n",
       "      <th>1</th>\n",
       "      <td>Saint-Petersburg</td>\n",
       "      <td>5614</td>\n",
       "      <td>7003</td>\n",
       "      <td>5895</td>\n",
       "    </tr>\n",
       "  </tbody>\n",
       "</table>\n",
       "</div>"
      ],
      "text/plain": [
       "               city  monday  wednesday  friday\n",
       "0            Moscow   15740      11056   15945\n",
       "1  Saint-Petersburg    5614       7003    5895"
      ]
     },
     "metadata": {},
     "output_type": "display_data"
    }
   ],
   "source": [
    "# Приведем эти данные к табличной форме.\n",
    "\n",
    "columns = ['city', 'monday', 'wednesday', 'friday']\n",
    "data = [['Moscow', 15740, 11056, 15945],\n",
    "       ['Saint-Petersburg', 5614, 7003, 5895]]\n",
    "\n",
    "result = pd.DataFrame(data=data, columns=columns)\n",
    "display(result)"
   ]
  },
  {
   "cell_type": "markdown",
   "metadata": {
    "id": "-EgPIHYu_Zcu"
   },
   "source": [
    "**Выводы**\n",
    "\n",
    "Данные показывают разницу поведения пользователей:\n",
    "\n",
    "- В Москве пик прослушиваний приходится на понедельник и пятницу, а в среду заметен спад.\n",
    "- В Петербурге, наоборот, больше слушают музыку по средам. Активность в понедельник и пятницу здесь почти в равной мере уступает среде.\n",
    "\n",
    "Значит, данные говорят в пользу первой гипотезы."
   ]
  },
  {
   "cell_type": "markdown",
   "metadata": {
    "id": "atZAxtq4_Zcu"
   },
   "source": [
    "### 3.1 Музыка в начале и в конце недели"
   ]
  },
  {
   "cell_type": "markdown",
   "metadata": {
    "id": "eXrQqXFH_Zcu"
   },
   "source": [
    "Согласно второй гипотезе, утром в понедельник в Москве преобладают одни жанры, а в Петербурге — другие. Так же и вечером пятницы преобладают разные жанры — в зависимости от города."
   ]
  },
  {
   "cell_type": "code",
   "execution_count": 25,
   "metadata": {
    "id": "qeaFfM_P_Zcu"
   },
   "outputs": [],
   "source": [
    "# получение таблиц по городам.\n",
    "\n",
    "moscow_general = df[df['city'] == 'Moscow']\n",
    "spb_general = df[df['city'] == 'Saint-Petersburg']"
   ]
  },
  {
   "cell_type": "code",
   "execution_count": 27,
   "metadata": {
    "id": "laJT9BYl_Zcu"
   },
   "outputs": [],
   "source": [
    "# Функция, возвращающая информацию о топ-10 жанров тех треков, которые прослушивали в указанный день,\n",
    "# в промежутке между двумя отметками времени.\n",
    "\n",
    "def genre_weekday(table, day, time1, time2):\n",
    "    genre_df = table[(table['day'] == day) & (table['time'] > time1) & (table['time'] < time2)]\n",
    "    genre_df_count = genre_df.groupby('genre')['user_id'].count()\n",
    "    genre_df_sorted = genre_df_count.sort_values(ascending=False)\n",
    "    \n",
    "    return genre_df_sorted.head(10)"
   ]
  },
  {
   "cell_type": "markdown",
   "metadata": {
    "id": "la2s2_PF_Zcu"
   },
   "source": [
    "Cравним результаты функции `genre_weekday()` для Москвы и Санкт-Петербурга в понедельник утром (с 7:00 до 11:00) и в пятницу вечером (с 17:00 до 23:00)."
   ]
  },
  {
   "cell_type": "code",
   "execution_count": 47,
   "metadata": {
    "id": "yz7itPUQ_Zcu"
   },
   "outputs": [
    {
     "name": "stdout",
     "output_type": "stream",
     "text": [
      "genre\n",
      "pop            781\n",
      "dance          549\n",
      "electronic     480\n",
      "rock           474\n",
      "hiphop         286\n",
      "ruspop         186\n",
      "world          181\n",
      "rusrap         175\n",
      "alternative    164\n",
      "unknown        161\n",
      "Name: user_id, dtype: int64 \n",
      "\n",
      "\n",
      "genre\n",
      "pop            218\n",
      "dance          182\n",
      "rock           162\n",
      "electronic     147\n",
      "hiphop          80\n",
      "ruspop          64\n",
      "alternative     58\n",
      "rusrap          55\n",
      "jazz            44\n",
      "classical       40\n",
      "Name: user_id, dtype: int64 \n",
      "\n",
      "\n",
      "genre\n",
      "pop            713\n",
      "rock           517\n",
      "dance          495\n",
      "electronic     482\n",
      "hiphop         273\n",
      "world          208\n",
      "ruspop         170\n",
      "alternative    163\n",
      "classical      163\n",
      "rusrap         142\n",
      "Name: user_id, dtype: int64 \n",
      "\n",
      "\n",
      "genre\n",
      "pop            256\n",
      "rock           216\n",
      "electronic     216\n",
      "dance          210\n",
      "hiphop          97\n",
      "alternative     63\n",
      "jazz            61\n",
      "classical       60\n",
      "rusrap          59\n",
      "world           54\n",
      "Name: user_id, dtype: int64\n"
     ]
    }
   ],
   "source": [
    "print(genre_weekday(moscow_general, 'Monday', '07:00', '11:00'), '\\n\\n')\n",
    "print(genre_weekday(spb_general, 'Monday', '07:00', '11:00'), '\\n\\n')\n",
    "print(genre_weekday(moscow_general, 'Friday', '17:00', '23:00'), '\\n\\n')\n",
    "print(genre_weekday(spb_general, 'Friday', '17:00', '23:00'))"
   ]
  },
  {
   "cell_type": "markdown",
   "metadata": {
    "id": "wrCe4MNX_Zcu"
   },
   "source": [
    "**Выводы**\n",
    "\n",
    "Если сравнить топ-10 жанров в понедельник утром, можно увидеть следующее:\n",
    "\n",
    "1. В Москве и Петербурге слушают похожую музыку. Единственное отличие — в московский рейтинг вошёл жанр “world”, а в петербургский — джаз и классика.\n",
    "\n",
    "2. В Москве пропущенных значений оказалось так много, что значение `'unknown'` заняло десятое место среди самых популярных жанров. Значит, пропущенные значения занимают существенную долю в данных и угрожают достоверности исследования.\n",
    "\n",
    "Вечер пятницы не меняет эту картину. Некоторые жанры поднимаются немного выше, другие спускаются, но в целом топ-10 остаётся тем же самым.\n",
    "\n",
    "Таким образом, вторая гипотеза подтвердилась лишь частично:\n",
    "* Пользователи слушают похожую музыку в начале недели и в конце.\n",
    "* Разница между Москвой и Петербургом не слишком выражена. В Москве чаще слушают русскую популярную музыку, в Петербурге — джаз.\n",
    "\n",
    "Однако пропуски в данных ставят под сомнение этот результат. В Москве их так много, что рейтинг топ-10 мог бы выглядеть иначе, если бы не утерянные  данные о жанрах."
   ]
  },
  {
   "cell_type": "markdown",
   "metadata": {
    "id": "JolODAqr_Zcu"
   },
   "source": [
    "### 3.1 Жанровые предпочтения в Москве и Петербурге"
   ]
  },
  {
   "cell_type": "markdown",
   "metadata": {
    "id": "DlegSvaT_Zcu"
   },
   "source": [
    "Гипотеза: в Петербурге hiphop слушают чаще, чем в Москве; в Москве же преобладает поп-музыка."
   ]
  },
  {
   "cell_type": "code",
   "execution_count": 50,
   "metadata": {
    "id": "r19lIPke_Zcu"
   },
   "outputs": [
    {
     "data": {
      "text/plain": [
       "genre\n",
       "pop            5892\n",
       "dance          4435\n",
       "rock           3965\n",
       "electronic     3786\n",
       "hiphop         2096\n",
       "classical      1616\n",
       "world          1432\n",
       "alternative    1379\n",
       "ruspop         1372\n",
       "rusrap         1161\n",
       "Name: genre, dtype: int64"
      ]
     },
     "execution_count": 50,
     "metadata": {},
     "output_type": "execute_result"
    }
   ],
   "source": [
    "# Сгруппируем жанры, прослушиваемые в Москве.\n",
    "\n",
    "moscow_genres = moscow_general.groupby('genre')['genre'].count().sort_values(ascending=False)\n",
    "moscow_genres.head(10)"
   ]
  },
  {
   "cell_type": "code",
   "execution_count": 51,
   "metadata": {
    "id": "gluLIpE7_Zcv"
   },
   "outputs": [
    {
     "data": {
      "text/plain": [
       "genre\n",
       "pop            2431\n",
       "dance          1932\n",
       "rock           1879\n",
       "electronic     1736\n",
       "hiphop          960\n",
       "alternative     649\n",
       "classical       646\n",
       "rusrap          564\n",
       "ruspop          538\n",
       "world           515\n",
       "Name: genre, dtype: int64"
      ]
     },
     "execution_count": 51,
     "metadata": {},
     "output_type": "execute_result"
    }
   ],
   "source": [
    "# Сгруппируем жанры, прослушиваемые в Петербурге.\n",
    "\n",
    "spb_genres = spb_general.groupby('genre')['genre'].count().sort_values(ascending=False)\n",
    "spb_genres.head(10)"
   ]
  },
  {
   "cell_type": "markdown",
   "metadata": {
    "id": "nVhnJEm__Zcv"
   },
   "source": [
    "**Выводы**\n",
    "\n",
    "Гипотеза частично подтвердилась:\n",
    "* Поп-музыка — самый популярный жанр в Москве, как и предполагала гипотеза. Более того, в топ-10 жанров встречается близкий жанр — русская популярная музыка.\n",
    "* Рэп одинаково популярен в Москве и Петербурге. \n"
   ]
  },
  {
   "cell_type": "markdown",
   "metadata": {
    "id": "ykKQ0N65_Zcv"
   },
   "source": [
    "## 4. Итоги исследования"
   ]
  },
  {
   "cell_type": "markdown",
   "metadata": {
    "id": "tjUwbHb3_Zcv"
   },
   "source": [
    "В результате исследования, были сформулирвоаны следующие выводы:\n",
    "\n",
    "1. День недели по-разному влияет на активность пользователей в Москве и Петербурге. \n",
    "\n",
    "Первая гипотеза полностью подтвердилась.\n",
    "\n",
    "2. Музыкальные предпочтения не сильно меняются в течение недели — будь то Москва или Петербург. Небольшие различия заметны в начале недели, по понедельникам:\n",
    "* в Москве слушают музыку жанра “world”,\n",
    "* в Петербурге — джаз и классику.\n",
    "\n",
    "Вторая гипотеза подтвердилась лишь отчасти. Этот результат мог оказаться иным, если бы не пропуски в данных.\n",
    "\n",
    "3. Во вкусах пользователей Москвы и Петербурга больше общего чем различий. Вопреки ожиданиям, предпочтения жанров в Петербурге напоминают московские.\n",
    "\n",
    "Третья гипотеза не подтвердилась. Если различия в предпочтениях и существуют, на основной массе пользователей они незаметны."
   ]
  }
 ],
 "metadata": {
  "ExecuteTimeLog": [
   {
    "duration": 747,
    "start_time": "2021-12-26T22:43:38.677Z"
   },
   {
    "duration": 462,
    "start_time": "2021-12-26T22:44:05.954Z"
   },
   {
    "duration": 175,
    "start_time": "2021-12-26T22:44:16.330Z"
   },
   {
    "duration": 128,
    "start_time": "2021-12-26T22:44:26.982Z"
   },
   {
    "duration": 3471,
    "start_time": "2021-12-26T22:44:38.997Z"
   },
   {
    "duration": 191,
    "start_time": "2021-12-26T22:44:52.331Z"
   },
   {
    "duration": 11,
    "start_time": "2021-12-26T22:45:09.380Z"
   },
   {
    "duration": 34,
    "start_time": "2021-12-26T22:45:30.046Z"
   },
   {
    "duration": 37,
    "start_time": "2021-12-26T22:45:35.724Z"
   },
   {
    "duration": 13,
    "start_time": "2021-12-26T22:49:23.334Z"
   },
   {
    "duration": 5,
    "start_time": "2021-12-26T22:49:29.846Z"
   },
   {
    "duration": 18,
    "start_time": "2021-12-26T22:49:41.017Z"
   },
   {
    "duration": 34,
    "start_time": "2021-12-26T22:49:59.282Z"
   },
   {
    "duration": 35,
    "start_time": "2021-12-26T22:50:07.366Z"
   },
   {
    "duration": 4,
    "start_time": "2021-12-26T22:51:53.738Z"
   },
   {
    "duration": 27,
    "start_time": "2021-12-26T22:53:58.183Z"
   },
   {
    "duration": 5,
    "start_time": "2021-12-26T22:54:04.147Z"
   },
   {
    "duration": 49,
    "start_time": "2021-12-26T22:55:23.335Z"
   },
   {
    "duration": 24,
    "start_time": "2021-12-26T22:59:56.300Z"
   },
   {
    "duration": 31,
    "start_time": "2021-12-26T23:00:13.788Z"
   },
   {
    "duration": 88,
    "start_time": "2021-12-26T23:00:39.037Z"
   },
   {
    "duration": 85,
    "start_time": "2021-12-26T23:00:43.695Z"
   },
   {
    "duration": 86,
    "start_time": "2021-12-26T23:00:52.008Z"
   },
   {
    "duration": 141,
    "start_time": "2021-12-26T23:03:02.171Z"
   },
   {
    "duration": 407,
    "start_time": "2021-12-26T23:03:23.336Z"
   },
   {
    "duration": 125,
    "start_time": "2021-12-26T23:03:31.049Z"
   },
   {
    "duration": 104,
    "start_time": "2021-12-26T23:03:34.769Z"
   },
   {
    "duration": 7,
    "start_time": "2021-12-26T23:04:54.973Z"
   },
   {
    "duration": 10,
    "start_time": "2021-12-26T23:05:09.487Z"
   },
   {
    "duration": 432,
    "start_time": "2021-12-26T23:05:52.748Z"
   },
   {
    "duration": 14,
    "start_time": "2021-12-26T23:06:41.291Z"
   },
   {
    "duration": 397,
    "start_time": "2021-12-26T23:27:00.023Z"
   },
   {
    "duration": 5,
    "start_time": "2021-12-26T23:27:06.376Z"
   },
   {
    "duration": 21,
    "start_time": "2021-12-26T23:27:09.637Z"
   },
   {
    "duration": 13,
    "start_time": "2021-12-26T23:27:13.227Z"
   },
   {
    "duration": 3,
    "start_time": "2021-12-26T23:27:52.096Z"
   },
   {
    "duration": 192,
    "start_time": "2021-12-26T23:27:52.989Z"
   },
   {
    "duration": 16,
    "start_time": "2021-12-26T23:27:53.786Z"
   },
   {
    "duration": 3,
    "start_time": "2021-12-26T23:28:01.260Z"
   },
   {
    "duration": 183,
    "start_time": "2021-12-26T23:28:02.984Z"
   },
   {
    "duration": 17,
    "start_time": "2021-12-26T23:28:04.554Z"
   },
   {
    "duration": 3,
    "start_time": "2021-12-26T23:28:25.268Z"
   },
   {
    "duration": 252,
    "start_time": "2021-12-26T23:28:26.650Z"
   },
   {
    "duration": 16,
    "start_time": "2021-12-26T23:28:27.084Z"
   },
   {
    "duration": 33,
    "start_time": "2021-12-26T23:28:27.398Z"
   },
   {
    "duration": 5,
    "start_time": "2021-12-26T23:28:28.886Z"
   },
   {
    "duration": 28,
    "start_time": "2021-12-26T23:28:29.312Z"
   },
   {
    "duration": 4,
    "start_time": "2021-12-26T23:28:29.644Z"
   },
   {
    "duration": 30,
    "start_time": "2021-12-26T23:28:29.968Z"
   },
   {
    "duration": 27,
    "start_time": "2021-12-26T23:28:30.592Z"
   },
   {
    "duration": 33,
    "start_time": "2021-12-26T23:28:31.188Z"
   },
   {
    "duration": 81,
    "start_time": "2021-12-26T23:28:31.486Z"
   },
   {
    "duration": 90,
    "start_time": "2021-12-26T23:28:32.306Z"
   },
   {
    "duration": 74,
    "start_time": "2021-12-26T23:28:32.688Z"
   },
   {
    "duration": 14,
    "start_time": "2021-12-26T23:28:35.916Z"
   },
   {
    "duration": 7,
    "start_time": "2021-12-26T23:28:41.824Z"
   },
   {
    "duration": 22,
    "start_time": "2021-12-26T23:28:42.967Z"
   },
   {
    "duration": 14,
    "start_time": "2021-12-26T23:28:44.084Z"
   },
   {
    "duration": 466,
    "start_time": "2021-12-27T17:15:16.467Z"
   },
   {
    "duration": 860,
    "start_time": "2021-12-27T17:15:24.929Z"
   },
   {
    "duration": 220,
    "start_time": "2021-12-27T17:15:25.791Z"
   },
   {
    "duration": 25,
    "start_time": "2021-12-27T17:15:27.072Z"
   },
   {
    "duration": 34,
    "start_time": "2021-12-27T17:15:28.195Z"
   },
   {
    "duration": 6,
    "start_time": "2021-12-27T17:15:30.480Z"
   },
   {
    "duration": 28,
    "start_time": "2021-12-27T17:15:31.436Z"
   },
   {
    "duration": 5,
    "start_time": "2021-12-27T17:15:32.277Z"
   },
   {
    "duration": 30,
    "start_time": "2021-12-27T17:15:33.115Z"
   },
   {
    "duration": 23,
    "start_time": "2021-12-27T17:15:34.221Z"
   },
   {
    "duration": 48,
    "start_time": "2021-12-27T17:15:34.882Z"
   },
   {
    "duration": 115,
    "start_time": "2021-12-27T17:15:35.697Z"
   },
   {
    "duration": 100,
    "start_time": "2021-12-27T17:15:36.513Z"
   },
   {
    "duration": 80,
    "start_time": "2021-12-27T17:15:37.236Z"
   },
   {
    "duration": 14,
    "start_time": "2021-12-27T17:15:38.537Z"
   },
   {
    "duration": 5,
    "start_time": "2021-12-27T17:15:39.361Z"
   },
   {
    "duration": 22,
    "start_time": "2021-12-27T17:15:40.179Z"
   },
   {
    "duration": 17,
    "start_time": "2021-12-27T17:15:41.003Z"
   },
   {
    "duration": 46,
    "start_time": "2021-12-27T17:15:44.700Z"
   },
   {
    "duration": 17,
    "start_time": "2021-12-27T17:16:36.003Z"
   },
   {
    "duration": 15,
    "start_time": "2021-12-27T17:16:49.616Z"
   },
   {
    "duration": 14,
    "start_time": "2021-12-27T17:17:34.442Z"
   },
   {
    "duration": 5,
    "start_time": "2021-12-27T17:23:12.416Z"
   },
   {
    "duration": 1024,
    "start_time": "2021-12-27T17:23:28.715Z"
   },
   {
    "duration": 6,
    "start_time": "2021-12-27T17:23:43.803Z"
   },
   {
    "duration": 4,
    "start_time": "2021-12-27T17:23:46.943Z"
   },
   {
    "duration": 7,
    "start_time": "2021-12-27T17:25:04.832Z"
   },
   {
    "duration": 6,
    "start_time": "2021-12-27T17:25:13.487Z"
   },
   {
    "duration": 5,
    "start_time": "2021-12-27T17:25:35.026Z"
   },
   {
    "duration": 5,
    "start_time": "2021-12-27T17:25:57.495Z"
   },
   {
    "duration": 5,
    "start_time": "2021-12-27T17:27:12.192Z"
   },
   {
    "duration": 645,
    "start_time": "2021-12-27T17:28:06.709Z"
   },
   {
    "duration": 1072,
    "start_time": "2021-12-27T17:29:46.877Z"
   },
   {
    "duration": 590,
    "start_time": "2021-12-27T17:30:02.110Z"
   },
   {
    "duration": 31,
    "start_time": "2021-12-27T17:37:36.539Z"
   },
   {
    "duration": 21,
    "start_time": "2021-12-27T17:37:47.898Z"
   },
   {
    "duration": 28,
    "start_time": "2021-12-27T17:38:17.651Z"
   },
   {
    "duration": 32,
    "start_time": "2021-12-27T17:38:22.338Z"
   },
   {
    "duration": 5,
    "start_time": "2021-12-27T17:39:34.431Z"
   },
   {
    "duration": 52,
    "start_time": "2021-12-27T17:39:38.915Z"
   },
   {
    "duration": 26,
    "start_time": "2021-12-27T17:40:36.682Z"
   },
   {
    "duration": 23,
    "start_time": "2021-12-27T17:41:00.526Z"
   },
   {
    "duration": 29,
    "start_time": "2021-12-27T17:42:11.561Z"
   },
   {
    "duration": 28,
    "start_time": "2021-12-27T17:42:33.066Z"
   },
   {
    "duration": 29,
    "start_time": "2021-12-27T17:42:45.180Z"
   },
   {
    "duration": 24,
    "start_time": "2021-12-27T17:43:02.642Z"
   },
   {
    "duration": 21,
    "start_time": "2021-12-27T17:43:04.511Z"
   },
   {
    "duration": 21,
    "start_time": "2021-12-27T17:43:27.126Z"
   },
   {
    "duration": 19,
    "start_time": "2021-12-27T17:43:28.545Z"
   },
   {
    "duration": 13,
    "start_time": "2021-12-27T17:45:45.724Z"
   },
   {
    "duration": 394,
    "start_time": "2021-12-27T17:46:12.209Z"
   },
   {
    "duration": 13,
    "start_time": "2021-12-27T17:46:51.416Z"
   },
   {
    "duration": 17,
    "start_time": "2021-12-27T17:47:41.473Z"
   },
   {
    "duration": 28,
    "start_time": "2021-12-27T17:47:50.775Z"
   },
   {
    "duration": 59,
    "start_time": "2021-12-27T17:48:17.023Z"
   },
   {
    "duration": 143,
    "start_time": "2021-12-27T17:49:08.811Z"
   },
   {
    "duration": 30,
    "start_time": "2021-12-27T18:06:11.570Z"
   },
   {
    "duration": 27,
    "start_time": "2021-12-27T18:06:58.184Z"
   },
   {
    "duration": 125,
    "start_time": "2021-12-27T18:12:34.710Z"
   },
   {
    "duration": 29,
    "start_time": "2021-12-27T18:12:55.648Z"
   },
   {
    "duration": 26,
    "start_time": "2021-12-27T18:14:20.566Z"
   },
   {
    "duration": 19,
    "start_time": "2021-12-27T18:14:22.787Z"
   },
   {
    "duration": 24,
    "start_time": "2021-12-27T18:15:19.912Z"
   },
   {
    "duration": 26,
    "start_time": "2021-12-27T18:15:22.100Z"
   },
   {
    "duration": 41,
    "start_time": "2021-12-27T18:17:45.901Z"
   },
   {
    "duration": 133,
    "start_time": "2021-12-27T18:18:03.223Z"
   },
   {
    "duration": 365,
    "start_time": "2021-12-27T18:18:12.185Z"
   },
   {
    "duration": 529,
    "start_time": "2021-12-27T18:18:23.992Z"
   },
   {
    "duration": 434,
    "start_time": "2021-12-27T18:18:34.369Z"
   },
   {
    "duration": 42,
    "start_time": "2021-12-27T18:18:47.420Z"
   },
   {
    "duration": 390,
    "start_time": "2021-12-27T18:19:41.048Z"
   },
   {
    "duration": 408,
    "start_time": "2021-12-27T18:20:14.130Z"
   },
   {
    "duration": 546,
    "start_time": "2021-12-27T18:20:42.852Z"
   },
   {
    "duration": 383,
    "start_time": "2021-12-27T18:21:08.161Z"
   },
   {
    "duration": 32,
    "start_time": "2021-12-27T18:21:25.033Z"
   },
   {
    "duration": 44,
    "start_time": "2021-12-27T18:21:31.181Z"
   },
   {
    "duration": 61,
    "start_time": "2021-12-27T18:21:43.931Z"
   },
   {
    "duration": 61,
    "start_time": "2021-12-27T18:21:47.379Z"
   },
   {
    "duration": 13,
    "start_time": "2021-12-27T18:22:48.507Z"
   },
   {
    "duration": 48,
    "start_time": "2021-12-27T18:22:52.712Z"
   },
   {
    "duration": 46,
    "start_time": "2021-12-27T18:22:55.748Z"
   },
   {
    "duration": 353,
    "start_time": "2021-12-27T18:23:11.246Z"
   },
   {
    "duration": 32,
    "start_time": "2021-12-27T18:23:16.406Z"
   },
   {
    "duration": 482,
    "start_time": "2021-12-27T18:23:58.413Z"
   },
   {
    "duration": 11,
    "start_time": "2021-12-27T18:24:19.112Z"
   },
   {
    "duration": 8,
    "start_time": "2021-12-27T18:24:21.152Z"
   },
   {
    "duration": 8,
    "start_time": "2021-12-27T18:25:35.980Z"
   },
   {
    "duration": 445,
    "start_time": "2021-12-27T18:25:47.432Z"
   },
   {
    "duration": 515,
    "start_time": "2021-12-27T18:25:51.258Z"
   },
   {
    "duration": 727,
    "start_time": "2021-12-27T18:26:39.937Z"
   },
   {
    "duration": 9,
    "start_time": "2021-12-27T18:26:51.497Z"
   },
   {
    "duration": 7,
    "start_time": "2021-12-27T18:26:54.955Z"
   },
   {
    "duration": 142,
    "start_time": "2021-12-27T18:28:52.880Z"
   },
   {
    "duration": 17,
    "start_time": "2021-12-27T18:29:08.201Z"
   },
   {
    "duration": 4,
    "start_time": "2021-12-27T18:29:19.831Z"
   },
   {
    "duration": 220,
    "start_time": "2021-12-27T18:29:20.780Z"
   },
   {
    "duration": 17,
    "start_time": "2021-12-27T18:29:21.871Z"
   },
   {
    "duration": 32,
    "start_time": "2021-12-27T18:29:26.891Z"
   },
   {
    "duration": 4,
    "start_time": "2021-12-27T18:29:33.029Z"
   },
   {
    "duration": 33,
    "start_time": "2021-12-27T18:29:36.597Z"
   },
   {
    "duration": 5,
    "start_time": "2021-12-27T18:29:39.683Z"
   },
   {
    "duration": 32,
    "start_time": "2021-12-27T18:29:41.775Z"
   },
   {
    "duration": 25,
    "start_time": "2021-12-27T18:29:44.341Z"
   },
   {
    "duration": 31,
    "start_time": "2021-12-27T18:29:46.661Z"
   },
   {
    "duration": 81,
    "start_time": "2021-12-27T18:29:48.051Z"
   },
   {
    "duration": 95,
    "start_time": "2021-12-27T18:29:51.077Z"
   },
   {
    "duration": 80,
    "start_time": "2021-12-27T18:29:51.831Z"
   },
   {
    "duration": 16,
    "start_time": "2021-12-27T18:29:55.986Z"
   },
   {
    "duration": 6,
    "start_time": "2021-12-27T18:30:05.548Z"
   },
   {
    "duration": 21,
    "start_time": "2021-12-27T18:30:06.896Z"
   },
   {
    "duration": 15,
    "start_time": "2021-12-27T18:30:16.724Z"
   },
   {
    "duration": 15,
    "start_time": "2021-12-27T18:30:19.860Z"
   },
   {
    "duration": 15,
    "start_time": "2021-12-27T18:30:22.278Z"
   },
   {
    "duration": 5,
    "start_time": "2021-12-27T18:30:23.641Z"
   },
   {
    "duration": 5,
    "start_time": "2021-12-27T18:30:28.207Z"
   },
   {
    "duration": 23,
    "start_time": "2021-12-27T18:30:28.982Z"
   },
   {
    "duration": 22,
    "start_time": "2021-12-27T18:30:35.028Z"
   },
   {
    "duration": 19,
    "start_time": "2021-12-27T18:30:35.796Z"
   },
   {
    "duration": 27,
    "start_time": "2021-12-27T18:30:37.579Z"
   },
   {
    "duration": 18,
    "start_time": "2021-12-27T18:30:41.610Z"
   },
   {
    "duration": 26,
    "start_time": "2021-12-27T18:30:43.209Z"
   },
   {
    "duration": 42,
    "start_time": "2021-12-27T18:30:46.204Z"
   },
   {
    "duration": 13,
    "start_time": "2021-12-27T18:30:49.005Z"
   },
   {
    "duration": 31,
    "start_time": "2021-12-27T18:31:15.901Z"
   },
   {
    "duration": 19,
    "start_time": "2021-12-27T18:31:16.557Z"
   },
   {
    "duration": 12,
    "start_time": "2021-12-27T18:31:17.963Z"
   },
   {
    "duration": 15,
    "start_time": "2021-12-27T18:31:21.133Z"
   },
   {
    "duration": 13,
    "start_time": "2021-12-27T18:31:23.682Z"
   },
   {
    "duration": 5,
    "start_time": "2021-12-27T18:31:24.813Z"
   },
   {
    "duration": 38,
    "start_time": "2021-12-27T18:31:27.161Z"
   },
   {
    "duration": 27,
    "start_time": "2021-12-27T18:31:27.901Z"
   },
   {
    "duration": 37,
    "start_time": "2021-12-27T18:31:28.460Z"
   },
   {
    "duration": 18,
    "start_time": "2021-12-27T18:31:28.921Z"
   },
   {
    "duration": 11,
    "start_time": "2021-12-27T18:31:30.441Z"
   },
   {
    "duration": 7,
    "start_time": "2021-12-27T18:31:31.131Z"
   },
   {
    "duration": 9,
    "start_time": "2021-12-27T18:31:32.025Z"
   },
   {
    "duration": 7,
    "start_time": "2021-12-27T18:31:32.766Z"
   },
   {
    "duration": 686,
    "start_time": "2021-12-28T16:24:28.857Z"
   },
   {
    "duration": 136,
    "start_time": "2021-12-28T16:24:29.545Z"
   },
   {
    "duration": 15,
    "start_time": "2021-12-28T16:24:29.684Z"
   },
   {
    "duration": 27,
    "start_time": "2021-12-28T16:24:29.701Z"
   },
   {
    "duration": 4,
    "start_time": "2021-12-28T16:24:29.730Z"
   },
   {
    "duration": 32,
    "start_time": "2021-12-28T16:24:29.736Z"
   },
   {
    "duration": 8,
    "start_time": "2021-12-28T16:24:29.769Z"
   },
   {
    "duration": 24,
    "start_time": "2021-12-28T16:24:29.778Z"
   },
   {
    "duration": 25,
    "start_time": "2021-12-28T16:24:29.804Z"
   },
   {
    "duration": 27,
    "start_time": "2021-12-28T16:24:29.832Z"
   },
   {
    "duration": 70,
    "start_time": "2021-12-28T16:24:29.860Z"
   },
   {
    "duration": 66,
    "start_time": "2021-12-28T16:24:29.933Z"
   },
   {
    "duration": 70,
    "start_time": "2021-12-28T16:24:30.001Z"
   },
   {
    "duration": 10,
    "start_time": "2021-12-28T16:24:30.073Z"
   },
   {
    "duration": 6,
    "start_time": "2021-12-28T16:24:30.084Z"
   },
   {
    "duration": 36,
    "start_time": "2021-12-28T16:24:30.091Z"
   },
   {
    "duration": 23,
    "start_time": "2021-12-28T16:24:30.129Z"
   },
   {
    "duration": 20,
    "start_time": "2021-12-28T16:24:30.153Z"
   },
   {
    "duration": 17,
    "start_time": "2021-12-28T16:24:30.175Z"
   },
   {
    "duration": 14,
    "start_time": "2021-12-28T16:24:30.194Z"
   },
   {
    "duration": 42,
    "start_time": "2021-12-28T16:24:30.209Z"
   },
   {
    "duration": 18,
    "start_time": "2021-12-28T16:24:30.252Z"
   },
   {
    "duration": 18,
    "start_time": "2021-12-28T16:24:30.272Z"
   },
   {
    "duration": 18,
    "start_time": "2021-12-28T16:24:30.291Z"
   },
   {
    "duration": 21,
    "start_time": "2021-12-28T16:24:30.311Z"
   },
   {
    "duration": 26,
    "start_time": "2021-12-28T16:24:30.334Z"
   },
   {
    "duration": 11,
    "start_time": "2021-12-28T16:24:30.364Z"
   },
   {
    "duration": 14,
    "start_time": "2021-12-28T16:24:30.377Z"
   },
   {
    "duration": 8,
    "start_time": "2021-12-28T16:24:30.392Z"
   },
   {
    "duration": 8,
    "start_time": "2021-12-28T16:24:30.402Z"
   },
   {
    "duration": 36,
    "start_time": "2021-12-28T16:24:30.412Z"
   },
   {
    "duration": 11,
    "start_time": "2021-12-28T16:24:30.450Z"
   },
   {
    "duration": 28,
    "start_time": "2021-12-28T16:24:30.463Z"
   },
   {
    "duration": 11,
    "start_time": "2021-12-28T16:24:30.492Z"
   },
   {
    "duration": 22,
    "start_time": "2021-12-28T16:24:30.505Z"
   },
   {
    "duration": 5,
    "start_time": "2021-12-28T16:24:30.529Z"
   },
   {
    "duration": 23,
    "start_time": "2021-12-28T16:24:30.536Z"
   },
   {
    "duration": 20,
    "start_time": "2021-12-28T16:24:30.560Z"
   },
   {
    "duration": 125,
    "start_time": "2021-12-28T16:25:30.962Z"
   },
   {
    "duration": 545,
    "start_time": "2021-12-28T16:53:15.970Z"
   },
   {
    "duration": 824,
    "start_time": "2021-12-28T16:53:22.230Z"
   },
   {
    "duration": 220,
    "start_time": "2021-12-28T16:53:23.578Z"
   },
   {
    "duration": 32,
    "start_time": "2021-12-28T16:53:25.548Z"
   },
   {
    "duration": 31,
    "start_time": "2021-12-28T16:53:39.472Z"
   },
   {
    "duration": 8,
    "start_time": "2021-12-28T16:54:10.857Z"
   },
   {
    "duration": 25,
    "start_time": "2021-12-28T16:54:47.710Z"
   },
   {
    "duration": 5,
    "start_time": "2021-12-28T16:54:49.936Z"
   },
   {
    "duration": 54,
    "start_time": "2021-12-28T16:54:52.246Z"
   },
   {
    "duration": 33,
    "start_time": "2021-12-28T16:54:55.396Z"
   },
   {
    "duration": 53,
    "start_time": "2021-12-28T16:54:56.535Z"
   },
   {
    "duration": 86,
    "start_time": "2021-12-28T16:54:58.614Z"
   },
   {
    "duration": 101,
    "start_time": "2021-12-28T16:54:59.573Z"
   },
   {
    "duration": 81,
    "start_time": "2021-12-28T16:55:01.982Z"
   },
   {
    "duration": 14,
    "start_time": "2021-12-28T16:55:03.400Z"
   },
   {
    "duration": 62,
    "start_time": "2021-12-28T16:55:49.244Z"
   },
   {
    "duration": 5,
    "start_time": "2021-12-28T16:56:49.821Z"
   },
   {
    "duration": 24,
    "start_time": "2021-12-28T16:56:52.433Z"
   },
   {
    "duration": 17,
    "start_time": "2021-12-28T16:56:56.068Z"
   },
   {
    "duration": 58,
    "start_time": "2021-12-28T16:57:14.081Z"
   },
   {
    "duration": 4,
    "start_time": "2021-12-28T16:57:50.638Z"
   },
   {
    "duration": 286,
    "start_time": "2021-12-28T16:57:51.170Z"
   },
   {
    "duration": 25,
    "start_time": "2021-12-28T16:57:51.621Z"
   },
   {
    "duration": 53,
    "start_time": "2021-12-28T16:57:52.160Z"
   },
   {
    "duration": 7,
    "start_time": "2021-12-28T16:57:53.792Z"
   },
   {
    "duration": 25,
    "start_time": "2021-12-28T16:57:54.239Z"
   },
   {
    "duration": 5,
    "start_time": "2021-12-28T16:57:54.696Z"
   },
   {
    "duration": 30,
    "start_time": "2021-12-28T16:57:55.039Z"
   },
   {
    "duration": 24,
    "start_time": "2021-12-28T16:58:29.184Z"
   },
   {
    "duration": 40,
    "start_time": "2021-12-28T16:58:29.656Z"
   },
   {
    "duration": 93,
    "start_time": "2021-12-28T16:58:30.111Z"
   },
   {
    "duration": 112,
    "start_time": "2021-12-28T16:58:30.650Z"
   },
   {
    "duration": 82,
    "start_time": "2021-12-28T16:58:31.600Z"
   },
   {
    "duration": 68,
    "start_time": "2021-12-28T16:58:32.143Z"
   },
   {
    "duration": 4,
    "start_time": "2021-12-28T16:58:34.103Z"
   },
   {
    "duration": 21,
    "start_time": "2021-12-28T16:58:40.627Z"
   },
   {
    "duration": 97,
    "start_time": "2021-12-28T16:58:46.803Z"
   },
   {
    "duration": 17,
    "start_time": "2021-12-28T16:58:49.871Z"
   },
   {
    "duration": 17,
    "start_time": "2021-12-28T16:58:52.749Z"
   },
   {
    "duration": 16,
    "start_time": "2021-12-28T16:59:06.657Z"
   },
   {
    "duration": 17,
    "start_time": "2021-12-28T16:59:13.228Z"
   },
   {
    "duration": 5,
    "start_time": "2021-12-28T16:59:15.792Z"
   },
   {
    "duration": 21,
    "start_time": "2021-12-28T16:59:17.433Z"
   },
   {
    "duration": 18,
    "start_time": "2021-12-28T16:59:17.598Z"
   },
   {
    "duration": 20,
    "start_time": "2021-12-28T16:59:17.752Z"
   },
   {
    "duration": 20,
    "start_time": "2021-12-28T16:59:17.903Z"
   },
   {
    "duration": 23,
    "start_time": "2021-12-28T16:59:18.400Z"
   },
   {
    "duration": 22,
    "start_time": "2021-12-28T16:59:21.347Z"
   },
   {
    "duration": 15,
    "start_time": "2021-12-28T16:59:22.314Z"
   },
   {
    "duration": 16,
    "start_time": "2021-12-28T16:59:26.878Z"
   },
   {
    "duration": 729,
    "start_time": "2021-12-29T04:24:09.702Z"
   },
   {
    "duration": 192,
    "start_time": "2021-12-29T04:24:10.434Z"
   },
   {
    "duration": 41,
    "start_time": "2021-12-29T04:24:10.632Z"
   },
   {
    "duration": 35,
    "start_time": "2021-12-29T04:24:10.676Z"
   },
   {
    "duration": 5,
    "start_time": "2021-12-29T04:24:10.713Z"
   },
   {
    "duration": 62,
    "start_time": "2021-12-29T04:24:10.721Z"
   },
   {
    "duration": 6,
    "start_time": "2021-12-29T04:24:10.787Z"
   },
   {
    "duration": 30,
    "start_time": "2021-12-29T04:24:10.796Z"
   },
   {
    "duration": 52,
    "start_time": "2021-12-29T04:24:10.829Z"
   },
   {
    "duration": 29,
    "start_time": "2021-12-29T04:24:10.884Z"
   },
   {
    "duration": 119,
    "start_time": "2021-12-29T04:24:10.915Z"
   },
   {
    "duration": 121,
    "start_time": "2021-12-29T04:24:11.037Z"
   },
   {
    "duration": 78,
    "start_time": "2021-12-29T04:24:11.160Z"
   },
   {
    "duration": 70,
    "start_time": "2021-12-29T04:24:11.241Z"
   },
   {
    "duration": 5,
    "start_time": "2021-12-29T04:24:11.313Z"
   },
   {
    "duration": 54,
    "start_time": "2021-12-29T04:24:11.320Z"
   },
   {
    "duration": 58,
    "start_time": "2021-12-29T04:24:11.376Z"
   },
   {
    "duration": 36,
    "start_time": "2021-12-29T04:24:11.436Z"
   },
   {
    "duration": 15,
    "start_time": "2021-12-29T04:24:11.474Z"
   },
   {
    "duration": 5,
    "start_time": "2021-12-29T04:24:11.492Z"
   },
   {
    "duration": 64,
    "start_time": "2021-12-29T04:24:11.499Z"
   },
   {
    "duration": 20,
    "start_time": "2021-12-29T04:24:11.568Z"
   },
   {
    "duration": 20,
    "start_time": "2021-12-29T04:24:11.591Z"
   },
   {
    "duration": 52,
    "start_time": "2021-12-29T04:24:11.613Z"
   },
   {
    "duration": 22,
    "start_time": "2021-12-29T04:24:11.668Z"
   },
   {
    "duration": 19,
    "start_time": "2021-12-29T04:24:11.692Z"
   },
   {
    "duration": 55,
    "start_time": "2021-12-29T04:24:11.713Z"
   },
   {
    "duration": 17,
    "start_time": "2021-12-29T04:24:11.771Z"
   },
   {
    "duration": 13,
    "start_time": "2021-12-29T04:24:11.790Z"
   },
   {
    "duration": 6,
    "start_time": "2021-12-29T04:24:11.805Z"
   },
   {
    "duration": 61,
    "start_time": "2021-12-29T04:24:11.813Z"
   },
   {
    "duration": 17,
    "start_time": "2021-12-29T04:24:11.876Z"
   },
   {
    "duration": 23,
    "start_time": "2021-12-29T04:24:11.896Z"
   },
   {
    "duration": 47,
    "start_time": "2021-12-29T04:24:11.921Z"
   },
   {
    "duration": 10,
    "start_time": "2021-12-29T04:24:11.971Z"
   },
   {
    "duration": 6,
    "start_time": "2021-12-29T04:24:11.984Z"
   },
   {
    "duration": 9,
    "start_time": "2021-12-29T04:24:11.992Z"
   },
   {
    "duration": 7,
    "start_time": "2021-12-29T04:24:12.003Z"
   }
  ],
  "colab": {
   "collapsed_sections": [
    "E0vqbgi9ay0H",
    "VUC88oWjTJw2"
   ],
   "name": "yandex_music_project_2021.2.ipynb",
   "provenance": []
  },
  "kernelspec": {
   "display_name": "Python 3",
   "language": "python",
   "name": "python3"
  },
  "language_info": {
   "codemirror_mode": {
    "name": "ipython",
    "version": 3
   },
   "file_extension": ".py",
   "mimetype": "text/x-python",
   "name": "python",
   "nbconvert_exporter": "python",
   "pygments_lexer": "ipython3",
   "version": "3.8.5"
  },
  "toc": {
   "base_numbering": 1,
   "nav_menu": {},
   "number_sections": true,
   "sideBar": true,
   "skip_h1_title": true,
   "title_cell": "Table of Contents",
   "title_sidebar": "Contents",
   "toc_cell": false,
   "toc_position": {
    "height": "calc(100% - 180px)",
    "left": "10px",
    "top": "150px",
    "width": "211.6px"
   },
   "toc_section_display": true,
   "toc_window_display": true
  }
 },
 "nbformat": 4,
 "nbformat_minor": 1
}
