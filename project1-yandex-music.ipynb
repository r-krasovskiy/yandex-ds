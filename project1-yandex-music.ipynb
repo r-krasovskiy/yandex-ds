{
 "cells": [
  {
   "cell_type": "markdown",
   "metadata": {},
   "source": [
    "**Привет!**\n",
    "\n",
    "Меня зовут Матушевич Ольга, и я буду проверять твой проект. Предлагаю общаться на «ты» :) Но если это не удобно - дай знать, и мы перейдем на \"вы\". \n",
    "\n",
    "Моя основная цель — не указать на совершенные тобою ошибки, а поделиться своим опытом и помочь тебе стать аналитиком данных. Ты уже проделал большую работу над проектом, но давай сделаем его еще лучше. Ниже ты найдешь мои комментарии - пожалуйста, не перемещай, не изменяй и не удаляй их. Я буду использовать цветовую разметку:\n",
    "\n",
    "<div class=\"alert alert-danger\">\n",
    "<b>❌ Комментарий ревьюера:</b> Так выделены самые важные замечания. Без их отработки проект не будет принят. </div>\n",
    "\n",
    "<div class=\"alert alert-warning\">\n",
    "<b>⚠️ Комментарий ревьюера:</b> Так выделены небольшие замечания. Я надеюсь, что их ты тоже учтешь - твой проект от этого станет только лучше. Но настаивать на их отработке не буду.\n",
    "\n",
    "</div>\n",
    "\n",
    "<div class=\"alert alert-success\">\n",
    "<b>✔️ Комментарий ревьюера:</b> Так я выделяю все остальные комментарии.</div>\n",
    "\n",
    "Давай работать над проектом в диалоге: если ты что-то меняешь в проекте или отвечаешь на мои комменатри — пиши об этом. Мне будет легче отследить изменения, если ты выделишь свои комментарии:\n",
    "<div class=\"alert alert-info\"> <b>Комментарий студента:</b> Например, вот так.</div>\n",
    "\n",
    "Всё это поможет выполнить повторную проверку твоего проекта оперативнее. \n",
    "\n",
    "<br>\n",
    "<div class=\"alert alert-info\">\n",
    "<b>Комментарий студента:</b>\n",
    "<br>\n",
    "Добрый день, Ольга\n",
    "<br>\n",
    "Приятно познакомитсься. Комментарии учтены.</div>\n"
   ]
  },
  {
   "cell_type": "markdown",
   "metadata": {
    "id": "E0vqbgi9ay0H"
   },
   "source": [
    "# Яндекс.Музыка"
   ]
  },
  {
   "cell_type": "markdown",
   "metadata": {
    "id": "VUC88oWjTJw2"
   },
   "source": [
    "Сравнение Москвы и Петербурга окружено мифами. Например:\n",
    " * Москва — мегаполис, подчинённый жёсткому ритму рабочей недели;\n",
    " * Петербург — культурная столица, со своими вкусами.\n",
    "\n",
    "На данных Яндекс.Музыки вы сравните поведение пользователей двух столиц.\n",
    "\n",
    "**Цель исследования** — проверьте три гипотезы:\n",
    "1. Активность пользователей зависит от дня недели. Причём в Москве и Петербурге это проявляется по-разному.\n",
    "2. В понедельник утром в Москве преобладают одни жанры, а в Петербурге — другие. Так же и вечером пятницы преобладают разные жанры — в зависимости от города. \n",
    "3. Москва и Петербург предпочитают разные жанры музыки. В Москве чаще слушают поп-музыку, в Петербурге — русский рэп.\n",
    "\n",
    "**Ход исследования**\n",
    "\n",
    "Данные о поведении пользователей вы получите из файла `yandex_music_project.csv`. О качестве данных ничего не известно. Поэтому перед проверкой гипотез понадобится обзор данных. \n",
    "\n",
    "Вы проверите данные на ошибки и оцените их влияние на исследование. Затем, на этапе предобработки вы поищете возможность исправить самые критичные ошибки данных.\n",
    " \n",
    "Таким образом, исследование пройдёт в три этапа:\n",
    " 1. Обзор данных.\n",
    " 2. Предобработка данных.\n",
    " 3. Проверка гипотез.\n",
    "\n"
   ]
  },
  {
   "cell_type": "markdown",
   "metadata": {
    "id": "Ml1hmfXC_Zcs"
   },
   "source": [
    "## Обзор данных\n",
    "\n",
    "Составьте первое представление о данных Яндекс.Музыки.\n",
    "\n",
    "\n"
   ]
  },
  {
   "cell_type": "markdown",
   "metadata": {
    "id": "57eAOGIz_Zcs"
   },
   "source": [
    "Основной инструмент аналитика — `pandas`. Импортируйте эту библиотеку."
   ]
  },
  {
   "cell_type": "code",
   "execution_count": 1,
   "metadata": {
    "id": "AXN7PHPN_Zcs"
   },
   "outputs": [],
   "source": [
    "# импорт библиотеки pandas\n",
    "import pandas as pd"
   ]
  },
  {
   "cell_type": "markdown",
   "metadata": {},
   "source": [
    "\n",
    "<div class=\"alert alert-success\">\n",
    "<b>✔️ Комментарий ревьюера:</b> Очень здорово, что ты используешь сокращение pd для Pandas, это общепринятое сокращение для этой библиотеки для удобной дальнейшей работы.</div>"
   ]
  },
  {
   "cell_type": "markdown",
   "metadata": {
    "id": "SG23P8tt_Zcs"
   },
   "source": [
    "Прочитайте файл `yandex_music_project.csv` из папки `/datasets` и сохраните его в переменной `df`:"
   ]
  },
  {
   "cell_type": "code",
   "execution_count": 2,
   "metadata": {
    "id": "fFVu7vqh_Zct"
   },
   "outputs": [],
   "source": [
    "# чтение файла с данными и сохранение в df\n",
    "df = pd.read_csv('/datasets/yandex_music_project.csv')"
   ]
  },
  {
   "cell_type": "markdown",
   "metadata": {},
   "source": [
    "\n",
    "<div class=\"alert alert-success\">\n",
    "<b>✔️ Комментарий ревьюера:</b> Указан правильный путь к файлу: слэш в начале пути очень важен, так как указывает, что нужно искать файл в корневой папке.</div>"
   ]
  },
  {
   "cell_type": "markdown",
   "metadata": {
    "id": "rDoOMd3uTqnZ"
   },
   "source": [
    "Выведите на экран первые десять строк таблицы:"
   ]
  },
  {
   "cell_type": "code",
   "execution_count": 3,
   "metadata": {
    "id": "oWTVX3gW_Zct"
   },
   "outputs": [
    {
     "data": {
      "text/html": [
       "<div>\n",
       "<style scoped>\n",
       "    .dataframe tbody tr th:only-of-type {\n",
       "        vertical-align: middle;\n",
       "    }\n",
       "\n",
       "    .dataframe tbody tr th {\n",
       "        vertical-align: top;\n",
       "    }\n",
       "\n",
       "    .dataframe thead th {\n",
       "        text-align: right;\n",
       "    }\n",
       "</style>\n",
       "<table border=\"1\" class=\"dataframe\">\n",
       "  <thead>\n",
       "    <tr style=\"text-align: right;\">\n",
       "      <th></th>\n",
       "      <th>userID</th>\n",
       "      <th>Track</th>\n",
       "      <th>artist</th>\n",
       "      <th>genre</th>\n",
       "      <th>City</th>\n",
       "      <th>time</th>\n",
       "      <th>Day</th>\n",
       "    </tr>\n",
       "  </thead>\n",
       "  <tbody>\n",
       "    <tr>\n",
       "      <td>0</td>\n",
       "      <td>FFB692EC</td>\n",
       "      <td>Kamigata To Boots</td>\n",
       "      <td>The Mass Missile</td>\n",
       "      <td>rock</td>\n",
       "      <td>Saint-Petersburg</td>\n",
       "      <td>20:28:33</td>\n",
       "      <td>Wednesday</td>\n",
       "    </tr>\n",
       "    <tr>\n",
       "      <td>1</td>\n",
       "      <td>55204538</td>\n",
       "      <td>Delayed Because of Accident</td>\n",
       "      <td>Andreas Rönnberg</td>\n",
       "      <td>rock</td>\n",
       "      <td>Moscow</td>\n",
       "      <td>14:07:09</td>\n",
       "      <td>Friday</td>\n",
       "    </tr>\n",
       "    <tr>\n",
       "      <td>2</td>\n",
       "      <td>20EC38</td>\n",
       "      <td>Funiculì funiculà</td>\n",
       "      <td>Mario Lanza</td>\n",
       "      <td>pop</td>\n",
       "      <td>Saint-Petersburg</td>\n",
       "      <td>20:58:07</td>\n",
       "      <td>Wednesday</td>\n",
       "    </tr>\n",
       "    <tr>\n",
       "      <td>3</td>\n",
       "      <td>A3DD03C9</td>\n",
       "      <td>Dragons in the Sunset</td>\n",
       "      <td>Fire + Ice</td>\n",
       "      <td>folk</td>\n",
       "      <td>Saint-Petersburg</td>\n",
       "      <td>08:37:09</td>\n",
       "      <td>Monday</td>\n",
       "    </tr>\n",
       "    <tr>\n",
       "      <td>4</td>\n",
       "      <td>E2DC1FAE</td>\n",
       "      <td>Soul People</td>\n",
       "      <td>Space Echo</td>\n",
       "      <td>dance</td>\n",
       "      <td>Moscow</td>\n",
       "      <td>08:34:34</td>\n",
       "      <td>Monday</td>\n",
       "    </tr>\n",
       "    <tr>\n",
       "      <td>5</td>\n",
       "      <td>842029A1</td>\n",
       "      <td>Преданная</td>\n",
       "      <td>IMPERVTOR</td>\n",
       "      <td>rusrap</td>\n",
       "      <td>Saint-Petersburg</td>\n",
       "      <td>13:09:41</td>\n",
       "      <td>Friday</td>\n",
       "    </tr>\n",
       "    <tr>\n",
       "      <td>6</td>\n",
       "      <td>4CB90AA5</td>\n",
       "      <td>True</td>\n",
       "      <td>Roman Messer</td>\n",
       "      <td>dance</td>\n",
       "      <td>Moscow</td>\n",
       "      <td>13:00:07</td>\n",
       "      <td>Wednesday</td>\n",
       "    </tr>\n",
       "    <tr>\n",
       "      <td>7</td>\n",
       "      <td>F03E1C1F</td>\n",
       "      <td>Feeling This Way</td>\n",
       "      <td>Polina Griffith</td>\n",
       "      <td>dance</td>\n",
       "      <td>Moscow</td>\n",
       "      <td>20:47:49</td>\n",
       "      <td>Wednesday</td>\n",
       "    </tr>\n",
       "    <tr>\n",
       "      <td>8</td>\n",
       "      <td>8FA1D3BE</td>\n",
       "      <td>И вновь продолжается бой</td>\n",
       "      <td>NaN</td>\n",
       "      <td>ruspop</td>\n",
       "      <td>Moscow</td>\n",
       "      <td>09:17:40</td>\n",
       "      <td>Friday</td>\n",
       "    </tr>\n",
       "    <tr>\n",
       "      <td>9</td>\n",
       "      <td>E772D5C0</td>\n",
       "      <td>Pessimist</td>\n",
       "      <td>NaN</td>\n",
       "      <td>dance</td>\n",
       "      <td>Saint-Petersburg</td>\n",
       "      <td>21:20:49</td>\n",
       "      <td>Wednesday</td>\n",
       "    </tr>\n",
       "  </tbody>\n",
       "</table>\n",
       "</div>"
      ],
      "text/plain": [
       "     userID                        Track            artist   genre  \\\n",
       "0  FFB692EC            Kamigata To Boots  The Mass Missile    rock   \n",
       "1  55204538  Delayed Because of Accident  Andreas Rönnberg    rock   \n",
       "2    20EC38            Funiculì funiculà       Mario Lanza     pop   \n",
       "3  A3DD03C9        Dragons in the Sunset        Fire + Ice    folk   \n",
       "4  E2DC1FAE                  Soul People        Space Echo   dance   \n",
       "5  842029A1                    Преданная         IMPERVTOR  rusrap   \n",
       "6  4CB90AA5                         True      Roman Messer   dance   \n",
       "7  F03E1C1F             Feeling This Way   Polina Griffith   dance   \n",
       "8  8FA1D3BE     И вновь продолжается бой               NaN  ruspop   \n",
       "9  E772D5C0                    Pessimist               NaN   dance   \n",
       "\n",
       "             City        time        Day  \n",
       "0  Saint-Petersburg  20:28:33  Wednesday  \n",
       "1            Moscow  14:07:09     Friday  \n",
       "2  Saint-Petersburg  20:58:07  Wednesday  \n",
       "3  Saint-Petersburg  08:37:09     Monday  \n",
       "4            Moscow  08:34:34     Monday  \n",
       "5  Saint-Petersburg  13:09:41     Friday  \n",
       "6            Moscow  13:00:07  Wednesday  \n",
       "7            Moscow  20:47:49  Wednesday  \n",
       "8            Moscow  09:17:40     Friday  \n",
       "9  Saint-Petersburg  21:20:49  Wednesday  "
      ]
     },
     "execution_count": 3,
     "metadata": {},
     "output_type": "execute_result"
    }
   ],
   "source": [
    "# получение первых 10 строк таблицы df\n",
    "df.head(10)"
   ]
  },
  {
   "cell_type": "markdown",
   "metadata": {},
   "source": [
    "\n",
    "<div class=\"alert alert-warning\">\n",
    "<b>⚠️ Комментарий ревьюера:</b> display тут явно лишний - можешь его удалить и ничего не изменится - ведь в последней строке он никогда не нужен. </div>\n",
    "\n",
    "<div class=\"alert alert-info\"><b>Комментарий студента:</b><i> display()<i/> удален.</div>"
   ]
  },
  {
   "cell_type": "markdown",
   "metadata": {},
   "source": [
    "\n",
    "<div class=\"alert alert-success\">\n",
    "<b>✔️ Комментарий ревьюера v2:</b> Отлично.</div>"
   ]
  },
  {
   "cell_type": "markdown",
   "metadata": {
    "id": "EO73Kwic_Zct"
   },
   "source": [
    "Одной командой получить общую информацию о таблице:"
   ]
  },
  {
   "cell_type": "code",
   "execution_count": 4,
   "metadata": {
    "id": "DSf2kIb-_Zct"
   },
   "outputs": [
    {
     "name": "stdout",
     "output_type": "stream",
     "text": [
      "<class 'pandas.core.frame.DataFrame'>\n",
      "RangeIndex: 65079 entries, 0 to 65078\n",
      "Data columns (total 7 columns):\n",
      "  userID    65079 non-null object\n",
      "Track       63848 non-null object\n",
      "artist      57876 non-null object\n",
      "genre       63881 non-null object\n",
      "  City      65079 non-null object\n",
      "time        65079 non-null object\n",
      "Day         65079 non-null object\n",
      "dtypes: object(7)\n",
      "memory usage: 3.5+ MB\n"
     ]
    }
   ],
   "source": [
    "# получение общей информации о данных в таблице df\n",
    "df.info()"
   ]
  },
  {
   "cell_type": "markdown",
   "metadata": {},
   "source": [
    "\n",
    "<div class=\"alert alert-success\">\n",
    "<b>✔️ Комментарий ревьюера:</b> Отличный выбор метода - info действительно показывает много информации о датафрейме.</div>"
   ]
  },
  {
   "cell_type": "markdown",
   "metadata": {
    "id": "TaQ2Iwbr_Zct"
   },
   "source": [
    "Итак, в таблице семь столбцов. Тип данных во всех столбцах — `object`.\n",
    "\n",
    "Согласно документации к данным:\n",
    "* `userID` — идентификатор пользователя;\n",
    "* `Track` — название трека;  \n",
    "* `artist` — имя исполнителя;\n",
    "* `genre` — название жанра;\n",
    "* `City` — город пользователя;\n",
    "* `time` — время начала прослушивания;\n",
    "* `Day` — день недели.\n",
    "\n",
    "В названиях колонок видны три нарушения стиля:\n",
    "1. Строчные буквы сочетаются с прописными.\n",
    "2. Встречаются пробелы.\n",
    "3. Исползуется *camelCase*, вместо *snake_case*.\n",
    "\n",
    "\n",
    "Количество значений в столбцах различается. Значит, в данных есть пропущенные значения.\n"
   ]
  },
  {
   "cell_type": "markdown",
   "metadata": {},
   "source": [
    "\n",
    "<div class=\"alert alert-success\">\n",
    "<b>✔️ Комментарий ревьюера:</b> Абсолютно правильный ответ на вопрос задания! Отличная работа!</div>"
   ]
  },
  {
   "cell_type": "markdown",
   "metadata": {
    "id": "MCB6-dXG_Zct"
   },
   "source": [
    "**Выводы**\n",
    "\n",
    "В каждой строке таблицы — данные о прослушанном треке. Часть колонок описывает саму композицию: название, исполнителя и жанр. Остальные данные рассказывают о пользователе: из какого он города, когда он слушал музыку. \n",
    "\n",
    "Предварительно можно утверждать, что, данных достаточно для проверки гипотез. Но встречаются пропуски в данных, а в названиях колонок — расхождения с хорошим стилем.\n",
    "\n",
    "Чтобы двигаться дальше, нужно устранить проблемы в данных."
   ]
  },
  {
   "cell_type": "markdown",
   "metadata": {
    "id": "SjYF6Ub9_Zct"
   },
   "source": [
    "## Предобработка данных\n",
    "Исправьте стиль в заголовках столбцов, исключите пропуски. Затем проверьте данные на дубликаты."
   ]
  },
  {
   "cell_type": "markdown",
   "metadata": {
    "id": "dIaKXr29_Zct"
   },
   "source": [
    "### Стиль заголовков\n",
    "Выведите на экран названия столбцов:"
   ]
  },
  {
   "cell_type": "code",
   "execution_count": 5,
   "metadata": {
    "id": "oKOTdF_Q_Zct"
   },
   "outputs": [
    {
     "data": {
      "text/plain": [
       "Index(['  userID', 'Track', 'artist', 'genre', '  City  ', 'time', 'Day'], dtype='object')"
      ]
     },
     "execution_count": 5,
     "metadata": {},
     "output_type": "execute_result"
    }
   ],
   "source": [
    "# перечень названий столбцов таблицы df\n",
    "df.columns"
   ]
  },
  {
   "cell_type": "markdown",
   "metadata": {},
   "source": [
    "\n",
    "<div class=\"alert alert-warning\">\n",
    "<b>⚠️ Комментарий ревьюера:</b> print тут явно лишний - можешь его удалить и ничего не изменится: ведь это последняя строчка ячейки. </div>\n",
    "\n",
    "<div class=\"alert alert-info\"><b>Комментарий студента:</b><i> print()<i/> удален.</div>"
   ]
  },
  {
   "cell_type": "markdown",
   "metadata": {},
   "source": [
    "\n",
    "<div class=\"alert alert-success\">\n",
    "<b>✔️ Комментарий ревьюера v2:</b> Отлично.</div>"
   ]
  },
  {
   "cell_type": "markdown",
   "metadata": {
    "id": "zj5534cv_Zct"
   },
   "source": [
    "Приведите названия в соответствие с хорошим стилем:\n",
    "* несколько слов в названии запишите в «змеином_регистре»,\n",
    "* все символы сделайте строчными,\n",
    "* устраните пробелы.\n",
    "\n",
    "Для этого переименуйте колонки так:\n",
    "* `'  userID'` → `'user_id'`;\n",
    "* `'Track'` → `'track'`;\n",
    "* `'  City  '` → `'city'`;\n",
    "* `'Day'` → `'day'`."
   ]
  },
  {
   "cell_type": "code",
   "execution_count": 6,
   "metadata": {
    "id": "ISlFqs5y_Zct"
   },
   "outputs": [],
   "source": [
    "# переименование столбцов\n",
    "df = df.rename(columns={'  userID': 'user_id',\n",
    "                        'Track': 'track',\n",
    "                        '  City  ': 'city',\n",
    "                        'Day': 'day'\n",
    "                       })\n"
   ]
  },
  {
   "cell_type": "markdown",
   "metadata": {
    "id": "1dqbh00J_Zct"
   },
   "source": [
    "Проверьте результат. Для этого ещё раз выведите на экран названия столбцов:"
   ]
  },
  {
   "cell_type": "markdown",
   "metadata": {},
   "source": [
    "\n",
    "<div class=\"alert alert-success\">\n",
    "<b>✔️ Комментарий ревьюера:</b> Хороший выбор метода - rename сработает без ошибок, даже если изменится порядок столбцов.</div>"
   ]
  },
  {
   "cell_type": "code",
   "execution_count": 7,
   "metadata": {
    "id": "d4NOAmTW_Zct"
   },
   "outputs": [
    {
     "name": "stdout",
     "output_type": "stream",
     "text": [
      "Index(['user_id', 'track', 'artist', 'genre', 'city', 'time', 'day'], dtype='object')\n"
     ]
    }
   ],
   "source": [
    "# проверка результатов - перечень названий столбцов\n",
    "print(df.columns)"
   ]
  },
  {
   "cell_type": "markdown",
   "metadata": {
    "id": "5ISfbcfY_Zct"
   },
   "source": [
    "### Пропуски значений\n",
    "Сначала посчитайте, сколько в таблице пропущенных значений. Для этого достаточно двух методов `pandas`:"
   ]
  },
  {
   "cell_type": "code",
   "execution_count": 8,
   "metadata": {
    "id": "RskX29qr_Zct"
   },
   "outputs": [
    {
     "data": {
      "text/plain": [
       "user_id       0\n",
       "track      1231\n",
       "artist     7203\n",
       "genre      1198\n",
       "city          0\n",
       "time          0\n",
       "day           0\n",
       "dtype: int64"
      ]
     },
     "execution_count": 8,
     "metadata": {},
     "output_type": "execute_result"
    }
   ],
   "source": [
    "# подсчёт пропусков\n",
    "df.isna().sum()"
   ]
  },
  {
   "cell_type": "markdown",
   "metadata": {},
   "source": [
    "\n",
    "<div class=\"alert alert-success\">\n",
    "<b>✔️ Комментарий ревьюера:</b>  Выбран метод isna() для нахождения пропущенных значений, это отлично! На самом деле, isnull() и isna() делают одно и то же, но использование isna() предпочтительнее.</div>"
   ]
  },
  {
   "cell_type": "markdown",
   "metadata": {
    "id": "qubhgnlO_Zct"
   },
   "source": [
    "Не все пропущенные значения влияют на исследование. Так в `track` и `artist` пропуски не важны для вашей работы. Достаточно заменить их явными обозначениями.\n",
    "\n",
    "Но пропуски в `genre` могут помешать сравнению музыкальных вкусов в Москве и Санкт-Петербурге. На практике было бы правильно установить причину пропусков и восстановить данные. Такой возможности нет в учебном проекте. Придётся:\n",
    "* заполнить и эти пропуски явными обозначениями,\n",
    "* оценить, насколько они повредят расчётам. "
   ]
  },
  {
   "cell_type": "markdown",
   "metadata": {
    "id": "fSv2laPA_Zct"
   },
   "source": [
    "Замените пропущенные значения в столбцах `track`, `artist` и `genre` на строку `'unknown'`. Для этого создайте список `columns_to_replace`, переберите его элементы циклом `for` и для каждого столбца выполните замену пропущенных значений:"
   ]
  },
  {
   "cell_type": "code",
   "execution_count": 9,
   "metadata": {
    "id": "KplB5qWs_Zct"
   },
   "outputs": [],
   "source": [
    "# перебор названий столбцов в цикле и замена пропущенных значений на 'unknown'\n",
    "columns_to_replace = ['track', 'artist', 'genre']\n",
    "\n",
    "for column in columns_to_replace:\n",
    "    df[column] = df[column].fillna('unknown')\n",
    "    "
   ]
  },
  {
   "cell_type": "markdown",
   "metadata": {},
   "source": [
    "\n",
    "<div class=\"alert alert-success\">\n",
    "<b>✔️ Комментарий ревьюера:</b> Список columns_to_replace сформирован верно, цикл отработал без ошибок.</div>"
   ]
  },
  {
   "cell_type": "markdown",
   "metadata": {
    "id": "Ilsm-MZo_Zct"
   },
   "source": [
    "Убедитесь, что в таблице не осталось пропусков. Для этого ещё раз посчитайте пропущенные значения."
   ]
  },
  {
   "cell_type": "code",
   "execution_count": 10,
   "metadata": {
    "id": "Tq4nYRX4_Zct"
   },
   "outputs": [
    {
     "data": {
      "text/plain": [
       "user_id    0\n",
       "track      0\n",
       "artist     0\n",
       "genre      0\n",
       "city       0\n",
       "time       0\n",
       "day        0\n",
       "dtype: int64"
      ]
     },
     "execution_count": 10,
     "metadata": {},
     "output_type": "execute_result"
    }
   ],
   "source": [
    "# подсчёт пропусков\n",
    "df.isna().sum()"
   ]
  },
  {
   "cell_type": "markdown",
   "metadata": {},
   "source": [
    "\n",
    "<div class=\"alert alert-success\">\n",
    "<b>✔️ Комментарий ревьюера:</b> Проверки результата работы кода очень важны.</div>"
   ]
  },
  {
   "cell_type": "markdown",
   "metadata": {
    "id": "BWKRtBJ3_Zct"
   },
   "source": [
    "### Дубликаты\n",
    "Посчитайте явные дубликаты в таблице одной командой:"
   ]
  },
  {
   "cell_type": "code",
   "execution_count": 11,
   "metadata": {
    "id": "36eES_S0_Zct"
   },
   "outputs": [
    {
     "data": {
      "text/plain": [
       "3826"
      ]
     },
     "execution_count": 11,
     "metadata": {},
     "output_type": "execute_result"
    }
   ],
   "source": [
    "# подсчёт явных дубликатов\n",
    "df.duplicated().sum()"
   ]
  },
  {
   "cell_type": "markdown",
   "metadata": {},
   "source": [
    "\n",
    "<div class=\"alert alert-success\">\n",
    "<b>✔️ Комментарий ревьюера:</b> Дубликаты верно найдены и посчитаны оптимальными методами.</div>"
   ]
  },
  {
   "cell_type": "markdown",
   "metadata": {
    "id": "Ot25h6XR_Zct"
   },
   "source": [
    "Вызовите специальный метод `pandas`, чтобы удалить явные дубликаты:"
   ]
  },
  {
   "cell_type": "code",
   "execution_count": 12,
   "metadata": {
    "id": "exFHq6tt_Zct"
   },
   "outputs": [],
   "source": [
    "# удаление явных дубликатов (с удалением старых индексов и формированием новых)\n",
    "df = df.drop_duplicates().reset_index(drop=True)"
   ]
  },
  {
   "cell_type": "markdown",
   "metadata": {},
   "source": [
    "\n",
    "<div class=\"alert alert-success\">\n",
    "<b>✔️ Комментарий ревьюера:</b> Совершенно верно.</div>"
   ]
  },
  {
   "cell_type": "markdown",
   "metadata": {
    "id": "Im2YwBEG_Zct"
   },
   "source": [
    "Ещё раз посчитайте явные дубликаты в таблице — убедитесь, что полностью от них избавились:"
   ]
  },
  {
   "cell_type": "code",
   "execution_count": 13,
   "metadata": {
    "id": "-8PuNWQ0_Zct"
   },
   "outputs": [
    {
     "data": {
      "text/plain": [
       "0"
      ]
     },
     "execution_count": 13,
     "metadata": {},
     "output_type": "execute_result"
    }
   ],
   "source": [
    "# проверка на отсутствие дубликатов\n",
    "df.duplicated().sum()"
   ]
  },
  {
   "cell_type": "markdown",
   "metadata": {
    "id": "QlFBsxAr_Zct"
   },
   "source": [
    "Теперь избавьтесь от неявных дубликатов в колонке `genre`. Например, название одного и того же жанра может быть записано немного по-разному. Такие ошибки тоже повлияют на результат исследования."
   ]
  },
  {
   "cell_type": "markdown",
   "metadata": {
    "id": "eSjWwsOh_Zct"
   },
   "source": [
    "Выведите на экран список уникальных названий жанров, отсортированный в алфавитном порядке. Для этого:\n",
    "* извлеките нужный столбец датафрейма, \n",
    "* примените к нему метод сортировки,\n",
    "* для отсортированного столбца вызовите метод, который вернёт уникальные значения из столбца."
   ]
  },
  {
   "cell_type": "code",
   "execution_count": 14,
   "metadata": {
    "id": "JIUcqzZN_Zct"
   },
   "outputs": [
    {
     "data": {
      "text/plain": [
       "array(['acid', 'acoustic', 'action', 'adult', 'africa', 'afrikaans',\n",
       "       'alternative', 'alternativepunk', 'ambient', 'americana',\n",
       "       'animated', 'anime', 'arabesk', 'arabic', 'arena',\n",
       "       'argentinetango', 'art', 'audiobook', 'author', 'avantgarde',\n",
       "       'axé', 'baile', 'balkan', 'beats', 'bigroom', 'black', 'bluegrass',\n",
       "       'blues', 'bollywood', 'bossa', 'brazilian', 'breakbeat', 'breaks',\n",
       "       'broadway', 'cantautori', 'cantopop', 'canzone', 'caribbean',\n",
       "       'caucasian', 'celtic', 'chamber', 'chanson', 'children', 'chill',\n",
       "       'chinese', 'choral', 'christian', 'christmas', 'classical',\n",
       "       'classicmetal', 'club', 'colombian', 'comedy', 'conjazz',\n",
       "       'contemporary', 'country', 'cuban', 'dance', 'dancehall',\n",
       "       'dancepop', 'dark', 'death', 'deep', 'deutschrock', 'deutschspr',\n",
       "       'dirty', 'disco', 'dnb', 'documentary', 'downbeat', 'downtempo',\n",
       "       'drum', 'dub', 'dubstep', 'eastern', 'easy', 'electronic',\n",
       "       'electropop', 'emo', 'entehno', 'epicmetal', 'estrada', 'ethnic',\n",
       "       'eurofolk', 'european', 'experimental', 'extrememetal', 'fado',\n",
       "       'fairytail', 'film', 'fitness', 'flamenco', 'folk', 'folklore',\n",
       "       'folkmetal', 'folkrock', 'folktronica', 'forró', 'frankreich',\n",
       "       'französisch', 'french', 'funk', 'future', 'gangsta', 'garage',\n",
       "       'german', 'ghazal', 'gitarre', 'glitch', 'gospel', 'gothic',\n",
       "       'grime', 'grunge', 'gypsy', 'handsup', \"hard'n'heavy\", 'hardcore',\n",
       "       'hardstyle', 'hardtechno', 'hip', 'hip-hop', 'hiphop',\n",
       "       'historisch', 'holiday', 'hop', 'horror', 'house', 'hymn', 'idm',\n",
       "       'independent', 'indian', 'indie', 'indipop', 'industrial',\n",
       "       'inspirational', 'instrumental', 'international', 'irish', 'jam',\n",
       "       'japanese', 'jazz', 'jewish', 'jpop', 'jungle', 'k-pop',\n",
       "       'karadeniz', 'karaoke', 'kayokyoku', 'korean', 'laiko', 'latin',\n",
       "       'latino', 'leftfield', 'local', 'lounge', 'loungeelectronic',\n",
       "       'lovers', 'malaysian', 'mandopop', 'marschmusik', 'meditative',\n",
       "       'mediterranean', 'melodic', 'metal', 'metalcore', 'mexican',\n",
       "       'middle', 'minimal', 'miscellaneous', 'modern', 'mood', 'mpb',\n",
       "       'muslim', 'native', 'neoklassik', 'neue', 'new', 'newage',\n",
       "       'newwave', 'nu', 'nujazz', 'numetal', 'oceania', 'old', 'opera',\n",
       "       'orchestral', 'other', 'piano', 'podcasts', 'pop', 'popdance',\n",
       "       'popelectronic', 'popeurodance', 'poprussian', 'post',\n",
       "       'posthardcore', 'postrock', 'power', 'progmetal', 'progressive',\n",
       "       'psychedelic', 'punjabi', 'punk', 'quebecois', 'ragga', 'ram',\n",
       "       'rancheras', 'rap', 'rave', 'reggae', 'reggaeton', 'regional',\n",
       "       'relax', 'religious', 'retro', 'rhythm', 'rnb', 'rnr', 'rock',\n",
       "       'rockabilly', 'rockalternative', 'rockindie', 'rockother',\n",
       "       'romance', 'roots', 'ruspop', 'rusrap', 'rusrock', 'russian',\n",
       "       'salsa', 'samba', 'scenic', 'schlager', 'self', 'sertanejo',\n",
       "       'shanson', 'shoegazing', 'showtunes', 'singer', 'ska', 'skarock',\n",
       "       'slow', 'smooth', 'soft', 'soul', 'soulful', 'sound', 'soundtrack',\n",
       "       'southern', 'specialty', 'speech', 'spiritual', 'sport',\n",
       "       'stonerrock', 'surf', 'swing', 'synthpop', 'synthrock',\n",
       "       'sängerportrait', 'tango', 'tanzorchester', 'taraftar', 'tatar',\n",
       "       'tech', 'techno', 'teen', 'thrash', 'top', 'traditional',\n",
       "       'tradjazz', 'trance', 'tribal', 'trip', 'triphop', 'tropical',\n",
       "       'türk', 'türkçe', 'ukrrock', 'unknown', 'urban', 'uzbek',\n",
       "       'variété', 'vi', 'videogame', 'vocal', 'western', 'world',\n",
       "       'worldbeat', 'ïîï', 'электроника'], dtype=object)"
      ]
     },
     "execution_count": 14,
     "metadata": {},
     "output_type": "execute_result"
    }
   ],
   "source": [
    "# Просмотр уникальных названий жанров\n",
    "# sorted(df['genre'].unique())\n",
    "df['genre'].sort_values().unique()"
   ]
  },
  {
   "cell_type": "markdown",
   "metadata": {},
   "source": [
    "\n",
    "<div class=\"alert alert-warning\">\n",
    "<b>⚠️ Комментарий ревьюера:</b> Список с названиями жанров отсортирован успешно. Но если нужно отсортировать датафрейм, то можно использовать метод sort_values(): df['genre'].sort_values().unique()</div>\n",
    "\n",
    "<div class=\"alert alert-info\"><b>Комментарий студента:</b><i> сортировка заменена на sort_values()<i/>.</div>"
   ]
  },
  {
   "cell_type": "markdown",
   "metadata": {},
   "source": [
    "\n",
    "<div class=\"alert alert-success\">\n",
    "<b>✔️ Комментарий ревьюера v2:</b> Так лучше.</div>"
   ]
  },
  {
   "cell_type": "markdown",
   "metadata": {
    "id": "qej-Qmuo_Zct"
   },
   "source": [
    "Просмотрите список и найдите неявные дубликаты названия `hiphop`. Это могут быть названия с ошибками или альтернативные названия того же жанра.\n",
    "\n",
    "Вы увидите следующие неявные дубликаты:\n",
    "* *hip*,\n",
    "* *hop*,\n",
    "* *hip-hop*.\n",
    "\n",
    "Чтобы очистить от них таблицу, напишите функцию `replace_wrong_genres()` с двумя параметрами: \n",
    "* `wrong_genres` — список дубликатов,\n",
    "* `correct_genre` — строка с правильным значением.\n",
    "\n",
    "Функция должна исправить колонку `genre` в таблице `df`: заменить каждое значение из списка `wrong_genres` на значение из `correct_genre`."
   ]
  },
  {
   "cell_type": "code",
   "execution_count": 15,
   "metadata": {
    "id": "ErNDkmns_Zct"
   },
   "outputs": [],
   "source": [
    "# Функция для замены неявных дубликатов\n",
    "def replace_wrong_genres(wrong_genres, correct_genre):\n",
    "    for wrong_genre in wrong_genres:\n",
    "        df['genre'] = df['genre'].replace(wrong_genres, correct_genre)\n",
    "\n",
    "genre_incorrect = ['hip', 'hop', 'hip-hop']\n",
    "genre_correction = 'hiphop'\n"
   ]
  },
  {
   "cell_type": "markdown",
   "metadata": {},
   "source": [
    "\n",
    "<div class=\"alert alert-success\">\n",
    "<b>✔️ Комментарий ревьюера:</b> Функция написана верно!</div>"
   ]
  },
  {
   "cell_type": "markdown",
   "metadata": {
    "id": "aDoBJxbA_Zct"
   },
   "source": [
    "Вызовите `replace_wrong_genres()` и передайте ей такие аргументы, чтобы она устранила неявные дубликаты: вместо `hip`, `hop` и `hip-hop` в таблице должно быть значение `hiphop`:"
   ]
  },
  {
   "cell_type": "code",
   "execution_count": 16,
   "metadata": {
    "id": "YN5i2hpmSo09"
   },
   "outputs": [],
   "source": [
    "# Устранение неявных дубликатов\n",
    "replace_wrong_genres(genre_incorrect, genre_correction)"
   ]
  },
  {
   "cell_type": "markdown",
   "metadata": {
    "id": "zQKF16_RG15m"
   },
   "source": [
    "Проверьте, что заменили неправильные названия:\n",
    "\n",
    "*   hip\n",
    "*   hop\n",
    "*   hip-hop\n",
    "\n",
    "Выведите отсортированный список уникальных значений столбца `genre`:"
   ]
  },
  {
   "cell_type": "code",
   "execution_count": 17,
   "metadata": {
    "id": "wvixALnFG15m"
   },
   "outputs": [
    {
     "data": {
      "text/plain": [
       "array(['acid', 'acoustic', 'action', 'adult', 'africa', 'afrikaans',\n",
       "       'alternative', 'alternativepunk', 'ambient', 'americana',\n",
       "       'animated', 'anime', 'arabesk', 'arabic', 'arena',\n",
       "       'argentinetango', 'art', 'audiobook', 'author', 'avantgarde',\n",
       "       'axé', 'baile', 'balkan', 'beats', 'bigroom', 'black', 'bluegrass',\n",
       "       'blues', 'bollywood', 'bossa', 'brazilian', 'breakbeat', 'breaks',\n",
       "       'broadway', 'cantautori', 'cantopop', 'canzone', 'caribbean',\n",
       "       'caucasian', 'celtic', 'chamber', 'chanson', 'children', 'chill',\n",
       "       'chinese', 'choral', 'christian', 'christmas', 'classical',\n",
       "       'classicmetal', 'club', 'colombian', 'comedy', 'conjazz',\n",
       "       'contemporary', 'country', 'cuban', 'dance', 'dancehall',\n",
       "       'dancepop', 'dark', 'death', 'deep', 'deutschrock', 'deutschspr',\n",
       "       'dirty', 'disco', 'dnb', 'documentary', 'downbeat', 'downtempo',\n",
       "       'drum', 'dub', 'dubstep', 'eastern', 'easy', 'electronic',\n",
       "       'electropop', 'emo', 'entehno', 'epicmetal', 'estrada', 'ethnic',\n",
       "       'eurofolk', 'european', 'experimental', 'extrememetal', 'fado',\n",
       "       'fairytail', 'film', 'fitness', 'flamenco', 'folk', 'folklore',\n",
       "       'folkmetal', 'folkrock', 'folktronica', 'forró', 'frankreich',\n",
       "       'französisch', 'french', 'funk', 'future', 'gangsta', 'garage',\n",
       "       'german', 'ghazal', 'gitarre', 'glitch', 'gospel', 'gothic',\n",
       "       'grime', 'grunge', 'gypsy', 'handsup', \"hard'n'heavy\", 'hardcore',\n",
       "       'hardstyle', 'hardtechno', 'hiphop', 'historisch', 'holiday',\n",
       "       'horror', 'house', 'hymn', 'idm', 'independent', 'indian', 'indie',\n",
       "       'indipop', 'industrial', 'inspirational', 'instrumental',\n",
       "       'international', 'irish', 'jam', 'japanese', 'jazz', 'jewish',\n",
       "       'jpop', 'jungle', 'k-pop', 'karadeniz', 'karaoke', 'kayokyoku',\n",
       "       'korean', 'laiko', 'latin', 'latino', 'leftfield', 'local',\n",
       "       'lounge', 'loungeelectronic', 'lovers', 'malaysian', 'mandopop',\n",
       "       'marschmusik', 'meditative', 'mediterranean', 'melodic', 'metal',\n",
       "       'metalcore', 'mexican', 'middle', 'minimal', 'miscellaneous',\n",
       "       'modern', 'mood', 'mpb', 'muslim', 'native', 'neoklassik', 'neue',\n",
       "       'new', 'newage', 'newwave', 'nu', 'nujazz', 'numetal', 'oceania',\n",
       "       'old', 'opera', 'orchestral', 'other', 'piano', 'podcasts', 'pop',\n",
       "       'popdance', 'popelectronic', 'popeurodance', 'poprussian', 'post',\n",
       "       'posthardcore', 'postrock', 'power', 'progmetal', 'progressive',\n",
       "       'psychedelic', 'punjabi', 'punk', 'quebecois', 'ragga', 'ram',\n",
       "       'rancheras', 'rap', 'rave', 'reggae', 'reggaeton', 'regional',\n",
       "       'relax', 'religious', 'retro', 'rhythm', 'rnb', 'rnr', 'rock',\n",
       "       'rockabilly', 'rockalternative', 'rockindie', 'rockother',\n",
       "       'romance', 'roots', 'ruspop', 'rusrap', 'rusrock', 'russian',\n",
       "       'salsa', 'samba', 'scenic', 'schlager', 'self', 'sertanejo',\n",
       "       'shanson', 'shoegazing', 'showtunes', 'singer', 'ska', 'skarock',\n",
       "       'slow', 'smooth', 'soft', 'soul', 'soulful', 'sound', 'soundtrack',\n",
       "       'southern', 'specialty', 'speech', 'spiritual', 'sport',\n",
       "       'stonerrock', 'surf', 'swing', 'synthpop', 'synthrock',\n",
       "       'sängerportrait', 'tango', 'tanzorchester', 'taraftar', 'tatar',\n",
       "       'tech', 'techno', 'teen', 'thrash', 'top', 'traditional',\n",
       "       'tradjazz', 'trance', 'tribal', 'trip', 'triphop', 'tropical',\n",
       "       'türk', 'türkçe', 'ukrrock', 'unknown', 'urban', 'uzbek',\n",
       "       'variété', 'vi', 'videogame', 'vocal', 'western', 'world',\n",
       "       'worldbeat', 'ïîï', 'электроника'], dtype=object)"
      ]
     },
     "execution_count": 17,
     "metadata": {},
     "output_type": "execute_result"
    }
   ],
   "source": [
    "# Проверка на неявные дубликаты\n",
    "# sorted(df['genre'].unique())\n",
    "df['genre'].sort_values().unique()"
   ]
  },
  {
   "cell_type": "markdown",
   "metadata": {},
   "source": [
    "\n",
    "<div class=\"alert alert-warning\">\n",
    "<b>⚠️ Комментарий ревьюера:</b> Список с названиями жанров отсортирован успешно. Но если нужно отсортировать датафрейм, то можно использовать метод sort_values(): df['genre'].sort_values().unique()</div>\n",
    "\n",
    "<div class=\"alert alert-info\"><b>Комментарий студента:</b><i> сортировка заменена на sort_values()<i/>.</div>"
   ]
  },
  {
   "cell_type": "markdown",
   "metadata": {},
   "source": [
    "\n",
    "<div class=\"alert alert-success\">\n",
    "<b>✔️ Комментарий ревьюера v2:</b> Отлично.</div>"
   ]
  },
  {
   "cell_type": "markdown",
   "metadata": {
    "id": "jz6a9-7HQUDd"
   },
   "source": [
    "**Выводы**\n",
    "\n",
    "Предобработка обнаружила три проблемы в данных:\n",
    "\n",
    "- нарушения в стиле заголовков,\n",
    "- пропущенные значения,\n",
    "- дубликаты — явные и неявные.\n",
    "\n",
    "Вы исправили заголовки, чтобы упростить работу с таблицей. Без дубликатов исследование станет более точным.\n",
    "\n",
    "Пропущенные значения вы заменили на `'unknown'`. Ещё предстоит увидеть, не повредят ли исследованию пропуски в колонке `genre`.\n",
    "\n",
    "Теперь можно перейти к проверке гипотез. "
   ]
  },
  {
   "cell_type": "markdown",
   "metadata": {
    "id": "WttZHXH0SqKk"
   },
   "source": [
    "## Проверка гипотез"
   ]
  },
  {
   "cell_type": "markdown",
   "metadata": {
    "id": "Im936VVi_Zcu"
   },
   "source": [
    "### Сравнение поведения пользователей двух столиц"
   ]
  },
  {
   "cell_type": "markdown",
   "metadata": {
    "id": "nwt_MuaL_Zcu"
   },
   "source": [
    "Первая гипотеза утверждает, что пользователи по-разному слушают музыку в Москве и Санкт-Петербурге. Проверьте это предположение по данным о трёх днях недели — понедельнике, среде и пятнице. Для этого:\n",
    "\n",
    "* Разделите пользователей Москвы и Санкт-Петербурга\n",
    "* Сравните, сколько треков послушала каждая группа пользователей в понедельник, среду и пятницу.\n"
   ]
  },
  {
   "cell_type": "markdown",
   "metadata": {
    "id": "8Dw_YMmT_Zcu"
   },
   "source": [
    "Для тренировки сначала выполните каждый из расчётов по отдельности. \n",
    "\n",
    "Оцените активность пользователей в каждом городе. Сгруппируйте данные по городу и посчитайте прослушивания в каждой группе.\n",
    "\n"
   ]
  },
  {
   "cell_type": "code",
   "execution_count": 18,
   "metadata": {
    "id": "0_Qs96oh_Zcu"
   },
   "outputs": [
    {
     "name": "stdout",
     "output_type": "stream",
     "text": [
      "city\n",
      "Moscow              42741\n",
      "Saint-Petersburg    18512\n",
      "Name: track, dtype: int64\n"
     ]
    }
   ],
   "source": [
    "# Подсчёт прослушиваний в каждом городе\n",
    "print(df.groupby('city')['track'].count())"
   ]
  },
  {
   "cell_type": "markdown",
   "metadata": {},
   "source": [
    "\n",
    "<div class=\"alert alert-success\">\n",
    "<b>✔️ Комментарий ревьюера:</b> Все верно, кроме, конечно, print().</div>"
   ]
  },
  {
   "cell_type": "markdown",
   "metadata": {
    "id": "dzli3w8o_Zcu"
   },
   "source": [
    "В Москве прослушиваний больше, чем в Петербурге. Из этого не следует, что московские пользователи чаще слушают музыку. Просто самих пользователей в Москве больше.\n",
    "\n",
    "Теперь сгруппируйте данные по дню недели и подсчитайте прослушивания в понедельник, среду и пятницу. Учтите, что в данных есть информация только о прослушиваниях только за эти дни.\n"
   ]
  },
  {
   "cell_type": "code",
   "execution_count": 19,
   "metadata": {
    "id": "uZMKjiJz_Zcu"
   },
   "outputs": [
    {
     "data": {
      "text/plain": [
       "day\n",
       "Friday       21840\n",
       "Monday       21354\n",
       "Wednesday    18059\n",
       "Name: track, dtype: int64"
      ]
     },
     "execution_count": 19,
     "metadata": {},
     "output_type": "execute_result"
    }
   ],
   "source": [
    "# Подсчёт прослушиваний в каждый из трёх дней\n",
    "df.groupby('day')['track'].count()"
   ]
  },
  {
   "cell_type": "markdown",
   "metadata": {
    "id": "cC2tNrlL_Zcu"
   },
   "source": [
    "В среднем пользователи из двух городов менее активны по средам. Но картина может измениться, если рассмотреть каждый город в отдельности."
   ]
  },
  {
   "cell_type": "markdown",
   "metadata": {
    "id": "POzs8bGa_Zcu"
   },
   "source": [
    "Вы видели, как работает группировка по городу и по дням недели. Теперь напишите функцию, которая объединит два эти расчёта.\n",
    "\n",
    "Создайте функцию `number_tracks()`, которая посчитает прослушивания для заданного дня и города. Ей понадобятся два параметра:\n",
    "* день недели,\n",
    "* название города.\n",
    "\n",
    "В функции сохраните в переменную строки исходной таблицы, у которых значение:\n",
    "  * в колонке `day` равно параметру `day`,\n",
    "  * в колонке `city` равно параметру `city`.\n",
    "\n",
    "Для этого примените последовательную фильтрацию с логической индексацией.\n",
    "\n",
    "Затем посчитайте значения в столбце `user_id` получившейся таблицы. Результат сохраните в новую переменную. Верните эту переменную из функции."
   ]
  },
  {
   "cell_type": "code",
   "execution_count": 20,
   "metadata": {
    "id": "Nz3GdQB1_Zcu"
   },
   "outputs": [],
   "source": [
    "# <создание функции number_tracks()>\n",
    "# Объявляется функция с двумя параметрами: day, city.\n",
    "# В переменной track_list сохраняются те строки таблицы df, для которых \n",
    "# значение в столбце 'day' равно параметру day и одновременно значение\n",
    "# в столбце 'city' равно параметру city (используйте последовательную фильтрацию\n",
    "# с помощью логической индексации).\n",
    "# В переменной track_list_count сохраняется число значений столбца 'user_id',\n",
    "# рассчитанное методом count() для таблицы track_list.\n",
    "# Функция возвращает число - значение track_list_count.\n",
    "\n",
    "# Функция для подсчёта прослушиваний для конкретного города и дня.\n",
    "# С помощью последовательной фильтрации с логической индексацией она \n",
    "# сначала получит из исходной таблицы строки с нужным днём,\n",
    "# затем из результата отфильтрует строки с нужным городом,\n",
    "# методом count() посчитает количество значений в колонке user_id. \n",
    "# Это количество функция вернёт в качестве результата\n",
    "\n",
    "\n",
    "def number_tracks(day, city):\n",
    "    track_list = df[(df['day'] == day) & (df['city'] == city)]\n",
    "    track_list_count = track_list['user_id'].count()\n",
    "    \n",
    "    return track_list_count"
   ]
  },
  {
   "cell_type": "markdown",
   "metadata": {},
   "source": [
    "\n",
    "<div class=\"alert alert-success\">\n",
    "<b>✔️ Комментарий ревьюера:</b> Отличная функция.</div>"
   ]
  },
  {
   "cell_type": "markdown",
   "metadata": {
    "id": "ytf7xFrFJQ2r"
   },
   "source": [
    "Вызовите `number_tracks()` шесть раз, меняя значение параметров — так, чтобы получить данные для каждого города в каждый из трёх дней."
   ]
  },
  {
   "cell_type": "code",
   "execution_count": 21,
   "metadata": {
    "id": "rJcRATNQ_Zcu"
   },
   "outputs": [
    {
     "data": {
      "text/plain": [
       "15740"
      ]
     },
     "execution_count": 21,
     "metadata": {},
     "output_type": "execute_result"
    }
   ],
   "source": [
    "# количество прослушиваний в Москве по понедельникам\n",
    "number_tracks('Monday', 'Moscow')"
   ]
  },
  {
   "cell_type": "code",
   "execution_count": 22,
   "metadata": {
    "id": "hq_ncZ5T_Zcu"
   },
   "outputs": [
    {
     "data": {
      "text/plain": [
       "5614"
      ]
     },
     "execution_count": 22,
     "metadata": {},
     "output_type": "execute_result"
    }
   ],
   "source": [
    "# количество прослушиваний в Санкт-Петербурге по понедельникам\n",
    "number_tracks('Monday', 'Saint-Petersburg')"
   ]
  },
  {
   "cell_type": "code",
   "execution_count": 23,
   "metadata": {
    "id": "_NTy2VPU_Zcu"
   },
   "outputs": [
    {
     "data": {
      "text/plain": [
       "11056"
      ]
     },
     "execution_count": 23,
     "metadata": {},
     "output_type": "execute_result"
    }
   ],
   "source": [
    "# количество прослушиваний в Москве по средам\n",
    "number_tracks('Wednesday', 'Moscow')"
   ]
  },
  {
   "cell_type": "code",
   "execution_count": 24,
   "metadata": {
    "id": "j2y3TAwo_Zcu"
   },
   "outputs": [
    {
     "data": {
      "text/plain": [
       "7003"
      ]
     },
     "execution_count": 24,
     "metadata": {},
     "output_type": "execute_result"
    }
   ],
   "source": [
    "# количество прослушиваний в Санкт-Петербурге по средам\n",
    "number_tracks('Wednesday', 'Saint-Petersburg')"
   ]
  },
  {
   "cell_type": "code",
   "execution_count": 25,
   "metadata": {
    "id": "vYDw5u_K_Zcu"
   },
   "outputs": [
    {
     "data": {
      "text/plain": [
       "15945"
      ]
     },
     "execution_count": 25,
     "metadata": {},
     "output_type": "execute_result"
    }
   ],
   "source": [
    "# количество прослушиваний в Москве по пятницам\n",
    "number_tracks('Friday', 'Moscow')"
   ]
  },
  {
   "cell_type": "code",
   "execution_count": 26,
   "metadata": {
    "id": "8_yzFtW3_Zcu"
   },
   "outputs": [
    {
     "data": {
      "text/plain": [
       "5895"
      ]
     },
     "execution_count": 26,
     "metadata": {},
     "output_type": "execute_result"
    }
   ],
   "source": [
    "# количество прослушиваний в Санкт-Петербурге по пятницам\n",
    "number_tracks('Friday', 'Saint-Petersburg')"
   ]
  },
  {
   "cell_type": "markdown",
   "metadata": {
    "id": "7QXffbO-_Zcu"
   },
   "source": [
    "Создайте c помощью конструктора `pd.DataFrame` таблицу, где\n",
    "* названия колонок — `['city', 'monday', 'wednesday', 'friday']`;\n",
    "* данные — результаты, которые вы получили с помощью `number_tracks`."
   ]
  },
  {
   "cell_type": "code",
   "execution_count": 27,
   "metadata": {
    "id": "APAcLpOr_Zcu"
   },
   "outputs": [
    {
     "data": {
      "text/html": [
       "<div>\n",
       "<style scoped>\n",
       "    .dataframe tbody tr th:only-of-type {\n",
       "        vertical-align: middle;\n",
       "    }\n",
       "\n",
       "    .dataframe tbody tr th {\n",
       "        vertical-align: top;\n",
       "    }\n",
       "\n",
       "    .dataframe thead th {\n",
       "        text-align: right;\n",
       "    }\n",
       "</style>\n",
       "<table border=\"1\" class=\"dataframe\">\n",
       "  <thead>\n",
       "    <tr style=\"text-align: right;\">\n",
       "      <th></th>\n",
       "      <th>city</th>\n",
       "      <th>monday</th>\n",
       "      <th>wednesday</th>\n",
       "      <th>friday</th>\n",
       "    </tr>\n",
       "  </thead>\n",
       "  <tbody>\n",
       "    <tr>\n",
       "      <td>0</td>\n",
       "      <td>Moscow</td>\n",
       "      <td>15740</td>\n",
       "      <td>11056</td>\n",
       "      <td>15945</td>\n",
       "    </tr>\n",
       "    <tr>\n",
       "      <td>1</td>\n",
       "      <td>Saint-Petersburg</td>\n",
       "      <td>5614</td>\n",
       "      <td>7003</td>\n",
       "      <td>5895</td>\n",
       "    </tr>\n",
       "  </tbody>\n",
       "</table>\n",
       "</div>"
      ],
      "text/plain": [
       "               city  monday  wednesday  friday\n",
       "0            Moscow   15740      11056   15945\n",
       "1  Saint-Petersburg    5614       7003    5895"
      ]
     },
     "metadata": {},
     "output_type": "display_data"
    }
   ],
   "source": [
    "# Таблица с результатами\n",
    "columns = ['city', 'monday', 'wednesday', 'friday']\n",
    "data = [['Moscow', 15740, 11056, 15945],\n",
    "       ['Saint-Petersburg', 5614, 7003, 5895]]\n",
    "\n",
    "result = pd.DataFrame(data=data, columns=columns)\n",
    "display(result)"
   ]
  },
  {
   "cell_type": "markdown",
   "metadata": {},
   "source": [
    "\n",
    "<div class=\"alert alert-success\">\n",
    "<b>✔️ Комментарий ревьюера:</b> Датафрейм составлен верно.</div>"
   ]
  },
  {
   "cell_type": "markdown",
   "metadata": {
    "id": "-EgPIHYu_Zcu"
   },
   "source": [
    "**Выводы**\n",
    "\n",
    "Данные показывают разницу поведения пользователей:\n",
    "\n",
    "- В Москве пик прослушиваний приходится на понедельник и пятницу, а в среду заметен спад.\n",
    "- В Петербурге, наоборот, больше слушают музыку по средам. Активность в понедельник и пятницу здесь почти в равной мере уступает среде.\n",
    "\n",
    "Значит, данные говорят в пользу первой гипотезы."
   ]
  },
  {
   "cell_type": "markdown",
   "metadata": {
    "id": "atZAxtq4_Zcu"
   },
   "source": [
    "### Музыка в начале и в конце недели"
   ]
  },
  {
   "cell_type": "markdown",
   "metadata": {
    "id": "eXrQqXFH_Zcu"
   },
   "source": [
    "Согласно второй гипотезе, утром в понедельник в Москве преобладают одни жанры, а в Петербурге — другие. Так же и вечером пятницы преобладают разные жанры — в зависимости от города."
   ]
  },
  {
   "cell_type": "markdown",
   "metadata": {
    "id": "S8UcW6Hw_Zcu"
   },
   "source": [
    "Сохраните таблицы с данными в две переменные:\n",
    "* по Москве — в `moscow_general`;\n",
    "* по Санкт-Петербургу — в `spb_general`."
   ]
  },
  {
   "cell_type": "code",
   "execution_count": 28,
   "metadata": {
    "id": "qeaFfM_P_Zcu"
   },
   "outputs": [],
   "source": [
    "# получение таблицы moscow_general из тех строк таблицы df, \n",
    "# для которых значение в столбце 'city' равно 'Moscow'\n",
    "moscow_general = df[df['city'] == 'Moscow']"
   ]
  },
  {
   "cell_type": "code",
   "execution_count": 29,
   "metadata": {
    "id": "ORaVRKto_Zcu"
   },
   "outputs": [],
   "source": [
    "# получение таблицы spb_general из тех строк таблицы df,\n",
    "# для которых значение в столбце 'city' равно 'Saint-Petersburg'\n",
    "spb_general = df[df['city'] == 'Saint-Petersburg']"
   ]
  },
  {
   "cell_type": "markdown",
   "metadata": {
    "id": "MEJV-CX2_Zcu"
   },
   "source": [
    "Создайте функцию `genre_weekday()` с четырьмя параметрами:\n",
    "* таблица (датафрейм) с данными,\n",
    "* день недели,\n",
    "* начальная временная метка в формате 'hh:mm', \n",
    "* последняя временная метка в формате 'hh:mm'.\n",
    "\n",
    "Функция должна вернуть информацию о топ-10 жанров тех треков, которые прослушивали в указанный день, в промежутке между двумя отметками времени."
   ]
  },
  {
   "cell_type": "code",
   "execution_count": 30,
   "metadata": {
    "id": "laJT9BYl_Zcu"
   },
   "outputs": [],
   "source": [
    "# Объявление функции genre_weekday() с параметрами table, day, time1, time2,\n",
    "# которая возвращает информацию о самых популярных жанрах в указанный день в\n",
    "# заданное время:\n",
    "# 1) в переменную genre_df сохраняются те строки переданного датафрейма table, для\n",
    "#    которых одновременно:\n",
    "#    - значение в столбце day равно значению аргумента day\n",
    "#    - значение в столбце time больше значения аргумента time1\n",
    "#    - значение в столбце time меньше значения аргумента time2\n",
    "#    Используйте последовательную фильтрацию с помощью логической индексации.\n",
    "# 2) сгруппировать датафрейм genre_df по столбцу genre, взять один из его\n",
    "#    столбцов и посчитать методом count() количество записей для каждого из\n",
    "#    присутствующих жанров, получившийся Series записать в переменную\n",
    "#    genre_df_count\n",
    "# 3) отсортировать genre_df_count по убыванию встречаемости и сохранить\n",
    "#    в переменную genre_df_sorted\n",
    "# 4) вернуть Series из 10 первых значений genre_df_sorted, это будут топ-10\n",
    "#    популярных жанров (в указанный день, в заданное время)\n",
    "\n",
    "def genre_weekday(table, day, time1, time2):\n",
    "    genre_df = table[(table['day'] == day) & (table['time'] > time1) & (table['time'] < time2)]\n",
    "    genre_df_count = genre_df.groupby('genre')['user_id'].count()\n",
    "    genre_df_sorted = genre_df_count.sort_values(ascending=False)\n",
    "    \n",
    "    return genre_df_sorted.head(10)"
   ]
  },
  {
   "cell_type": "markdown",
   "metadata": {},
   "source": [
    "\n",
    "<div class=\"alert alert-success\">\n",
    "<b>✔️ Комментарий ревьюера:</b> Прекрасная работа.</div>"
   ]
  },
  {
   "cell_type": "markdown",
   "metadata": {
    "id": "la2s2_PF_Zcu"
   },
   "source": [
    "Cравните результаты функции `genre_weekday()` для Москвы и Санкт-Петербурга в понедельник утром (с 7:00 до 11:00) и в пятницу вечером (с 17:00 до 23:00):"
   ]
  },
  {
   "cell_type": "code",
   "execution_count": 31,
   "metadata": {
    "id": "yz7itPUQ_Zcu"
   },
   "outputs": [
    {
     "data": {
      "text/plain": [
       "genre\n",
       "pop            781\n",
       "dance          549\n",
       "electronic     480\n",
       "rock           474\n",
       "hiphop         286\n",
       "ruspop         186\n",
       "world          181\n",
       "rusrap         175\n",
       "alternative    164\n",
       "unknown        161\n",
       "Name: user_id, dtype: int64"
      ]
     },
     "execution_count": 31,
     "metadata": {},
     "output_type": "execute_result"
    }
   ],
   "source": [
    "# вызов функции для утра понедельника в Москве (вместо df — таблица moscow_general)\n",
    "# объекты, хранящие время, являются строками и сравниваются как строки\n",
    "# пример вызова: genre_weekday(moscow_general, 'Monday', '07:00', '11:00')\n",
    "genre_weekday(moscow_general, 'Monday', '07:00', '11:00')"
   ]
  },
  {
   "cell_type": "code",
   "execution_count": 32,
   "metadata": {
    "id": "kwUcHPdy_Zcu"
   },
   "outputs": [
    {
     "data": {
      "text/plain": [
       "genre\n",
       "pop            218\n",
       "dance          182\n",
       "rock           162\n",
       "electronic     147\n",
       "hiphop          80\n",
       "ruspop          64\n",
       "alternative     58\n",
       "rusrap          55\n",
       "jazz            44\n",
       "classical       40\n",
       "Name: user_id, dtype: int64"
      ]
     },
     "execution_count": 32,
     "metadata": {},
     "output_type": "execute_result"
    }
   ],
   "source": [
    "# вызов функции для утра понедельника в Петербурге (вместо df — таблица spb_general)\n",
    "genre_weekday(spb_general, 'Monday', '07:00', '11:00')"
   ]
  },
  {
   "cell_type": "code",
   "execution_count": 33,
   "metadata": {
    "id": "EzXVRE1o_Zcu"
   },
   "outputs": [
    {
     "data": {
      "text/plain": [
       "genre\n",
       "pop            713\n",
       "rock           517\n",
       "dance          495\n",
       "electronic     482\n",
       "hiphop         273\n",
       "world          208\n",
       "ruspop         170\n",
       "alternative    163\n",
       "classical      163\n",
       "rusrap         142\n",
       "Name: user_id, dtype: int64"
      ]
     },
     "execution_count": 33,
     "metadata": {},
     "output_type": "execute_result"
    }
   ],
   "source": [
    "# вызов функции для вечера пятницы в Москве\n",
    "genre_weekday(moscow_general, 'Friday', '17:00', '23:00')"
   ]
  },
  {
   "cell_type": "code",
   "execution_count": 34,
   "metadata": {
    "id": "JZaEKu5v_Zcu"
   },
   "outputs": [
    {
     "data": {
      "text/plain": [
       "genre\n",
       "pop            256\n",
       "rock           216\n",
       "electronic     216\n",
       "dance          210\n",
       "hiphop          97\n",
       "alternative     63\n",
       "jazz            61\n",
       "classical       60\n",
       "rusrap          59\n",
       "world           54\n",
       "Name: user_id, dtype: int64"
      ]
     },
     "execution_count": 34,
     "metadata": {},
     "output_type": "execute_result"
    }
   ],
   "source": [
    "# вызов функции для вечера пятницы в Петербурге\n",
    "genre_weekday(spb_general, 'Friday', '17:00', '23:00')"
   ]
  },
  {
   "cell_type": "markdown",
   "metadata": {},
   "source": [
    "\n",
    "<div class=\"alert alert-success\">\n",
    "<b>✔️ Комментарий ревьюера:</b> Верное использование функции.</div>"
   ]
  },
  {
   "cell_type": "markdown",
   "metadata": {
    "id": "wrCe4MNX_Zcu"
   },
   "source": [
    "**Выводы**\n",
    "\n",
    "Если сравнить топ-10 жанров в понедельник утром, можно сделать такие выводы:\n",
    "\n",
    "1. В Москве и Петербурге слушают похожую музыку. Единственное отличие — в московский рейтинг вошёл жанр “world”, а в петербургский — джаз и классика.\n",
    "\n",
    "2. В Москве пропущенных значений оказалось так много, что значение `'unknown'` заняло десятое место среди самых популярных жанров. Значит, пропущенные значения занимают существенную долю в данных и угрожают достоверности исследования.\n",
    "\n",
    "Вечер пятницы не меняет эту картину. Некоторые жанры поднимаются немного выше, другие спускаются, но в целом топ-10 остаётся тем же самым.\n",
    "\n",
    "Таким образом, вторая гипотеза подтвердилась лишь частично:\n",
    "* Пользователи слушают похожую музыку в начале недели и в конце.\n",
    "* Разница между Москвой и Петербургом не слишком выражена. В Москве чаще слушают русскую популярную музыку, в Петербурге — джаз.\n",
    "\n",
    "Однако пропуски в данных ставят под сомнение этот результат. В Москве их так много, что рейтинг топ-10 мог бы выглядеть иначе, если бы не утерянные  данные о жанрах."
   ]
  },
  {
   "cell_type": "markdown",
   "metadata": {
    "id": "JolODAqr_Zcu"
   },
   "source": [
    "### Жанровые предпочтения в Москве и Петербурге\n",
    "\n",
    "Гипотеза: Петербург — столица рэпа, музыку этого жанра там слушают чаще, чем в Москве.  А Москва — город контрастов, в котором, тем не менее, преобладает поп-музыка."
   ]
  },
  {
   "cell_type": "markdown",
   "metadata": {
    "id": "DlegSvaT_Zcu"
   },
   "source": [
    "Сгруппируйте таблицу `moscow_general` по жанру и посчитайте прослушивания треков каждого жанра методом `count()`. Затем отсортируйте результат в порядке убывания и сохраните его в таблице `moscow_genres`."
   ]
  },
  {
   "cell_type": "code",
   "execution_count": 35,
   "metadata": {
    "id": "r19lIPke_Zcu"
   },
   "outputs": [],
   "source": [
    "# одной строкой: группировка таблицы moscow_general по столбцу 'genre', \n",
    "# подсчёт числа значений 'genre' в этой группировке методом count(), \n",
    "# сортировка получившегося Series в порядке убывания и сохранение в moscow_genres\n",
    "moscow_genres = moscow_general.groupby('genre')['genre'].count().sort_values(ascending=False)"
   ]
  },
  {
   "cell_type": "markdown",
   "metadata": {
    "id": "6kMuomxTiIr8"
   },
   "source": [
    "Выведите на экран первые десять строк `moscow_genres`:"
   ]
  },
  {
   "cell_type": "code",
   "execution_count": 36,
   "metadata": {
    "id": "WhCSooF8_Zcv"
   },
   "outputs": [
    {
     "data": {
      "text/plain": [
       "genre\n",
       "pop            5892\n",
       "dance          4435\n",
       "rock           3965\n",
       "electronic     3786\n",
       "hiphop         2096\n",
       "classical      1616\n",
       "world          1432\n",
       "alternative    1379\n",
       "ruspop         1372\n",
       "rusrap         1161\n",
       "Name: genre, dtype: int64"
      ]
     },
     "execution_count": 36,
     "metadata": {},
     "output_type": "execute_result"
    }
   ],
   "source": [
    "# просмотр первых 10 строк moscow_genres\n",
    "moscow_genres.head(10)"
   ]
  },
  {
   "cell_type": "markdown",
   "metadata": {
    "id": "cnPG2vnN_Zcv"
   },
   "source": [
    "Теперь повторите то же и для Петербурга.\n",
    "\n",
    "Сгруппируйте таблицу `spb_general` по жанру. Посчитайте прослушивания треков каждого жанра. Результат отсортируйте в порядке убывания и сохраните в таблице `spb_genres`:\n"
   ]
  },
  {
   "cell_type": "code",
   "execution_count": 37,
   "metadata": {
    "id": "gluLIpE7_Zcv"
   },
   "outputs": [],
   "source": [
    "# одной строкой: группировка таблицы spb_general по столбцу 'genre', \n",
    "# подсчёт числа значений 'genre' в этой группировке методом count(), \n",
    "# сортировка получившегося Series в порядке убывания и сохранение в spb_genres\n",
    "spb_genres = spb_general.groupby('genre')['genre'].count().sort_values(ascending=False) "
   ]
  },
  {
   "cell_type": "markdown",
   "metadata": {
    "id": "5Doha_ODgyQ8"
   },
   "source": [
    "Выведите на экран первые десять строк `spb_genres`:"
   ]
  },
  {
   "cell_type": "code",
   "execution_count": 38,
   "metadata": {
    "id": "uaGJHjVU_Zcv"
   },
   "outputs": [
    {
     "data": {
      "text/plain": [
       "genre\n",
       "pop            2431\n",
       "dance          1932\n",
       "rock           1879\n",
       "electronic     1736\n",
       "hiphop          960\n",
       "alternative     649\n",
       "classical       646\n",
       "rusrap          564\n",
       "ruspop          538\n",
       "world           515\n",
       "Name: genre, dtype: int64"
      ]
     },
     "execution_count": 38,
     "metadata": {},
     "output_type": "execute_result"
    }
   ],
   "source": [
    "# просмотр первых 10 строк spb_genres\n",
    "spb_genres.head(10)"
   ]
  },
  {
   "cell_type": "markdown",
   "metadata": {},
   "source": [
    "\n",
    "<div class=\"alert alert-success\">\n",
    "<b>✔️ Комментарий ревьюера:</b> Именно так.</div>"
   ]
  },
  {
   "cell_type": "markdown",
   "metadata": {
    "id": "RY51YJYu_Zcv"
   },
   "source": [
    "**Выводы**"
   ]
  },
  {
   "cell_type": "markdown",
   "metadata": {
    "id": "nVhnJEm__Zcv"
   },
   "source": [
    "Гипотеза частично подтвердилась:\n",
    "* Поп-музыка — самый популярный жанр в Москве, как и предполагала гипотеза. Более того, в топ-10 жанров встречается близкий жанр — русская популярная музыка.\n",
    "* Вопреки ожиданиям, рэп одинаково популярен в Москве и Петербурге. \n"
   ]
  },
  {
   "cell_type": "markdown",
   "metadata": {
    "id": "ykKQ0N65_Zcv"
   },
   "source": [
    "## Итоги исследования"
   ]
  },
  {
   "cell_type": "markdown",
   "metadata": {
    "id": "tjUwbHb3_Zcv"
   },
   "source": [
    "Вы проверили три гипотезы и установили:\n",
    "\n",
    "1. День недели по-разному влияет на активность пользователей в Москве и Петербурге. \n",
    "\n",
    "Первая гипотеза полностью подтвердилась.\n",
    "\n",
    "2. Музыкальные предпочтения не сильно меняются в течение недели — будь то Москва или Петербург. Небольшие различия заметны в начале недели, по понедельникам:\n",
    "* в Москве слушают музыку жанра “world”,\n",
    "* в Петербурге — джаз и классику.\n",
    "\n",
    "Таким образом, вторая гипотеза подтвердилась лишь отчасти. Этот результат мог оказаться иным, если бы не пропуски в данных.\n",
    "\n",
    "3. Во вкусах пользователей Москвы и Петербурга больше общего чем различий. Вопреки ожиданиям, предпочтения жанров в Петербурге напоминают московские.\n",
    "\n",
    "Третья гипотеза не подтвердилась. Если различия в предпочтениях и существуют, на основной массе пользователей они незаметны.\n",
    "\n",
    "**На практике исследования содержат проверки статистических гипотез.**\n",
    "Из данных одного сервиса не всегда можно сделать вывод о всех жителях города.\n",
    "Проверки статистических гипотез покажут, насколько они достоверны, исходя из имеющихся данных. \n",
    "С методами проверок гипотез вы ещё познакомитесь в следующих темах."
   ]
  },
  {
   "cell_type": "markdown",
   "metadata": {},
   "source": [
    "\n",
    "<div class=\"alert alert-success\">\n",
    "<b>✔️ Комментарий ревьюера:</b> Ты прекрасно поработал над проектом. Я могу принять его с первого раза, но возвращаю, что бы ты мог задать мне свои вопросы и уточнить мои комменатрии. Также, возможно, ты захочешь исправить желтые замечания и проверить  нет ли лишних print в твоем проекте.</div>"
   ]
  },
  {
   "cell_type": "markdown",
   "metadata": {},
   "source": [
    "\n",
    "<div class=\"alert alert-success\">\n",
    "<b>✔️ Комментарий ревьюера v2:</b> Спасибо за устранение замечаний. Поздравляю со сдачей первого проекта)))\n",
    "    \n",
    "Я написала не о всех лишних print и display  в проекте - ты отредактировал лишь те, на которые я указала. Попробуй в будущих проектах думать, нужны ли тебе методы и использовать их только при необходимости.</div>"
   ]
  },
  {
   "cell_type": "code",
   "execution_count": null,
   "metadata": {},
   "outputs": [],
   "source": []
  }
 ],
 "metadata": {
  "ExecuteTimeLog": [
   {
    "duration": 747,
    "start_time": "2021-12-26T22:43:38.677Z"
   },
   {
    "duration": 462,
    "start_time": "2021-12-26T22:44:05.954Z"
   },
   {
    "duration": 175,
    "start_time": "2021-12-26T22:44:16.330Z"
   },
   {
    "duration": 128,
    "start_time": "2021-12-26T22:44:26.982Z"
   },
   {
    "duration": 3471,
    "start_time": "2021-12-26T22:44:38.997Z"
   },
   {
    "duration": 191,
    "start_time": "2021-12-26T22:44:52.331Z"
   },
   {
    "duration": 11,
    "start_time": "2021-12-26T22:45:09.380Z"
   },
   {
    "duration": 34,
    "start_time": "2021-12-26T22:45:30.046Z"
   },
   {
    "duration": 37,
    "start_time": "2021-12-26T22:45:35.724Z"
   },
   {
    "duration": 13,
    "start_time": "2021-12-26T22:49:23.334Z"
   },
   {
    "duration": 5,
    "start_time": "2021-12-26T22:49:29.846Z"
   },
   {
    "duration": 18,
    "start_time": "2021-12-26T22:49:41.017Z"
   },
   {
    "duration": 34,
    "start_time": "2021-12-26T22:49:59.282Z"
   },
   {
    "duration": 35,
    "start_time": "2021-12-26T22:50:07.366Z"
   },
   {
    "duration": 4,
    "start_time": "2021-12-26T22:51:53.738Z"
   },
   {
    "duration": 27,
    "start_time": "2021-12-26T22:53:58.183Z"
   },
   {
    "duration": 5,
    "start_time": "2021-12-26T22:54:04.147Z"
   },
   {
    "duration": 49,
    "start_time": "2021-12-26T22:55:23.335Z"
   },
   {
    "duration": 24,
    "start_time": "2021-12-26T22:59:56.300Z"
   },
   {
    "duration": 31,
    "start_time": "2021-12-26T23:00:13.788Z"
   },
   {
    "duration": 88,
    "start_time": "2021-12-26T23:00:39.037Z"
   },
   {
    "duration": 85,
    "start_time": "2021-12-26T23:00:43.695Z"
   },
   {
    "duration": 86,
    "start_time": "2021-12-26T23:00:52.008Z"
   },
   {
    "duration": 141,
    "start_time": "2021-12-26T23:03:02.171Z"
   },
   {
    "duration": 407,
    "start_time": "2021-12-26T23:03:23.336Z"
   },
   {
    "duration": 125,
    "start_time": "2021-12-26T23:03:31.049Z"
   },
   {
    "duration": 104,
    "start_time": "2021-12-26T23:03:34.769Z"
   },
   {
    "duration": 7,
    "start_time": "2021-12-26T23:04:54.973Z"
   },
   {
    "duration": 10,
    "start_time": "2021-12-26T23:05:09.487Z"
   },
   {
    "duration": 432,
    "start_time": "2021-12-26T23:05:52.748Z"
   },
   {
    "duration": 14,
    "start_time": "2021-12-26T23:06:41.291Z"
   },
   {
    "duration": 397,
    "start_time": "2021-12-26T23:27:00.023Z"
   },
   {
    "duration": 5,
    "start_time": "2021-12-26T23:27:06.376Z"
   },
   {
    "duration": 21,
    "start_time": "2021-12-26T23:27:09.637Z"
   },
   {
    "duration": 13,
    "start_time": "2021-12-26T23:27:13.227Z"
   },
   {
    "duration": 3,
    "start_time": "2021-12-26T23:27:52.096Z"
   },
   {
    "duration": 192,
    "start_time": "2021-12-26T23:27:52.989Z"
   },
   {
    "duration": 16,
    "start_time": "2021-12-26T23:27:53.786Z"
   },
   {
    "duration": 3,
    "start_time": "2021-12-26T23:28:01.260Z"
   },
   {
    "duration": 183,
    "start_time": "2021-12-26T23:28:02.984Z"
   },
   {
    "duration": 17,
    "start_time": "2021-12-26T23:28:04.554Z"
   },
   {
    "duration": 3,
    "start_time": "2021-12-26T23:28:25.268Z"
   },
   {
    "duration": 252,
    "start_time": "2021-12-26T23:28:26.650Z"
   },
   {
    "duration": 16,
    "start_time": "2021-12-26T23:28:27.084Z"
   },
   {
    "duration": 33,
    "start_time": "2021-12-26T23:28:27.398Z"
   },
   {
    "duration": 5,
    "start_time": "2021-12-26T23:28:28.886Z"
   },
   {
    "duration": 28,
    "start_time": "2021-12-26T23:28:29.312Z"
   },
   {
    "duration": 4,
    "start_time": "2021-12-26T23:28:29.644Z"
   },
   {
    "duration": 30,
    "start_time": "2021-12-26T23:28:29.968Z"
   },
   {
    "duration": 27,
    "start_time": "2021-12-26T23:28:30.592Z"
   },
   {
    "duration": 33,
    "start_time": "2021-12-26T23:28:31.188Z"
   },
   {
    "duration": 81,
    "start_time": "2021-12-26T23:28:31.486Z"
   },
   {
    "duration": 90,
    "start_time": "2021-12-26T23:28:32.306Z"
   },
   {
    "duration": 74,
    "start_time": "2021-12-26T23:28:32.688Z"
   },
   {
    "duration": 14,
    "start_time": "2021-12-26T23:28:35.916Z"
   },
   {
    "duration": 7,
    "start_time": "2021-12-26T23:28:41.824Z"
   },
   {
    "duration": 22,
    "start_time": "2021-12-26T23:28:42.967Z"
   },
   {
    "duration": 14,
    "start_time": "2021-12-26T23:28:44.084Z"
   },
   {
    "duration": 466,
    "start_time": "2021-12-27T17:15:16.467Z"
   },
   {
    "duration": 860,
    "start_time": "2021-12-27T17:15:24.929Z"
   },
   {
    "duration": 220,
    "start_time": "2021-12-27T17:15:25.791Z"
   },
   {
    "duration": 25,
    "start_time": "2021-12-27T17:15:27.072Z"
   },
   {
    "duration": 34,
    "start_time": "2021-12-27T17:15:28.195Z"
   },
   {
    "duration": 6,
    "start_time": "2021-12-27T17:15:30.480Z"
   },
   {
    "duration": 28,
    "start_time": "2021-12-27T17:15:31.436Z"
   },
   {
    "duration": 5,
    "start_time": "2021-12-27T17:15:32.277Z"
   },
   {
    "duration": 30,
    "start_time": "2021-12-27T17:15:33.115Z"
   },
   {
    "duration": 23,
    "start_time": "2021-12-27T17:15:34.221Z"
   },
   {
    "duration": 48,
    "start_time": "2021-12-27T17:15:34.882Z"
   },
   {
    "duration": 115,
    "start_time": "2021-12-27T17:15:35.697Z"
   },
   {
    "duration": 100,
    "start_time": "2021-12-27T17:15:36.513Z"
   },
   {
    "duration": 80,
    "start_time": "2021-12-27T17:15:37.236Z"
   },
   {
    "duration": 14,
    "start_time": "2021-12-27T17:15:38.537Z"
   },
   {
    "duration": 5,
    "start_time": "2021-12-27T17:15:39.361Z"
   },
   {
    "duration": 22,
    "start_time": "2021-12-27T17:15:40.179Z"
   },
   {
    "duration": 17,
    "start_time": "2021-12-27T17:15:41.003Z"
   },
   {
    "duration": 46,
    "start_time": "2021-12-27T17:15:44.700Z"
   },
   {
    "duration": 17,
    "start_time": "2021-12-27T17:16:36.003Z"
   },
   {
    "duration": 15,
    "start_time": "2021-12-27T17:16:49.616Z"
   },
   {
    "duration": 14,
    "start_time": "2021-12-27T17:17:34.442Z"
   },
   {
    "duration": 5,
    "start_time": "2021-12-27T17:23:12.416Z"
   },
   {
    "duration": 1024,
    "start_time": "2021-12-27T17:23:28.715Z"
   },
   {
    "duration": 6,
    "start_time": "2021-12-27T17:23:43.803Z"
   },
   {
    "duration": 4,
    "start_time": "2021-12-27T17:23:46.943Z"
   },
   {
    "duration": 7,
    "start_time": "2021-12-27T17:25:04.832Z"
   },
   {
    "duration": 6,
    "start_time": "2021-12-27T17:25:13.487Z"
   },
   {
    "duration": 5,
    "start_time": "2021-12-27T17:25:35.026Z"
   },
   {
    "duration": 5,
    "start_time": "2021-12-27T17:25:57.495Z"
   },
   {
    "duration": 5,
    "start_time": "2021-12-27T17:27:12.192Z"
   },
   {
    "duration": 645,
    "start_time": "2021-12-27T17:28:06.709Z"
   },
   {
    "duration": 1072,
    "start_time": "2021-12-27T17:29:46.877Z"
   },
   {
    "duration": 590,
    "start_time": "2021-12-27T17:30:02.110Z"
   },
   {
    "duration": 31,
    "start_time": "2021-12-27T17:37:36.539Z"
   },
   {
    "duration": 21,
    "start_time": "2021-12-27T17:37:47.898Z"
   },
   {
    "duration": 28,
    "start_time": "2021-12-27T17:38:17.651Z"
   },
   {
    "duration": 32,
    "start_time": "2021-12-27T17:38:22.338Z"
   },
   {
    "duration": 5,
    "start_time": "2021-12-27T17:39:34.431Z"
   },
   {
    "duration": 52,
    "start_time": "2021-12-27T17:39:38.915Z"
   },
   {
    "duration": 26,
    "start_time": "2021-12-27T17:40:36.682Z"
   },
   {
    "duration": 23,
    "start_time": "2021-12-27T17:41:00.526Z"
   },
   {
    "duration": 29,
    "start_time": "2021-12-27T17:42:11.561Z"
   },
   {
    "duration": 28,
    "start_time": "2021-12-27T17:42:33.066Z"
   },
   {
    "duration": 29,
    "start_time": "2021-12-27T17:42:45.180Z"
   },
   {
    "duration": 24,
    "start_time": "2021-12-27T17:43:02.642Z"
   },
   {
    "duration": 21,
    "start_time": "2021-12-27T17:43:04.511Z"
   },
   {
    "duration": 21,
    "start_time": "2021-12-27T17:43:27.126Z"
   },
   {
    "duration": 19,
    "start_time": "2021-12-27T17:43:28.545Z"
   },
   {
    "duration": 13,
    "start_time": "2021-12-27T17:45:45.724Z"
   },
   {
    "duration": 394,
    "start_time": "2021-12-27T17:46:12.209Z"
   },
   {
    "duration": 13,
    "start_time": "2021-12-27T17:46:51.416Z"
   },
   {
    "duration": 17,
    "start_time": "2021-12-27T17:47:41.473Z"
   },
   {
    "duration": 28,
    "start_time": "2021-12-27T17:47:50.775Z"
   },
   {
    "duration": 59,
    "start_time": "2021-12-27T17:48:17.023Z"
   },
   {
    "duration": 143,
    "start_time": "2021-12-27T17:49:08.811Z"
   },
   {
    "duration": 30,
    "start_time": "2021-12-27T18:06:11.570Z"
   },
   {
    "duration": 27,
    "start_time": "2021-12-27T18:06:58.184Z"
   },
   {
    "duration": 125,
    "start_time": "2021-12-27T18:12:34.710Z"
   },
   {
    "duration": 29,
    "start_time": "2021-12-27T18:12:55.648Z"
   },
   {
    "duration": 26,
    "start_time": "2021-12-27T18:14:20.566Z"
   },
   {
    "duration": 19,
    "start_time": "2021-12-27T18:14:22.787Z"
   },
   {
    "duration": 24,
    "start_time": "2021-12-27T18:15:19.912Z"
   },
   {
    "duration": 26,
    "start_time": "2021-12-27T18:15:22.100Z"
   },
   {
    "duration": 41,
    "start_time": "2021-12-27T18:17:45.901Z"
   },
   {
    "duration": 133,
    "start_time": "2021-12-27T18:18:03.223Z"
   },
   {
    "duration": 365,
    "start_time": "2021-12-27T18:18:12.185Z"
   },
   {
    "duration": 529,
    "start_time": "2021-12-27T18:18:23.992Z"
   },
   {
    "duration": 434,
    "start_time": "2021-12-27T18:18:34.369Z"
   },
   {
    "duration": 42,
    "start_time": "2021-12-27T18:18:47.420Z"
   },
   {
    "duration": 390,
    "start_time": "2021-12-27T18:19:41.048Z"
   },
   {
    "duration": 408,
    "start_time": "2021-12-27T18:20:14.130Z"
   },
   {
    "duration": 546,
    "start_time": "2021-12-27T18:20:42.852Z"
   },
   {
    "duration": 383,
    "start_time": "2021-12-27T18:21:08.161Z"
   },
   {
    "duration": 32,
    "start_time": "2021-12-27T18:21:25.033Z"
   },
   {
    "duration": 44,
    "start_time": "2021-12-27T18:21:31.181Z"
   },
   {
    "duration": 61,
    "start_time": "2021-12-27T18:21:43.931Z"
   },
   {
    "duration": 61,
    "start_time": "2021-12-27T18:21:47.379Z"
   },
   {
    "duration": 13,
    "start_time": "2021-12-27T18:22:48.507Z"
   },
   {
    "duration": 48,
    "start_time": "2021-12-27T18:22:52.712Z"
   },
   {
    "duration": 46,
    "start_time": "2021-12-27T18:22:55.748Z"
   },
   {
    "duration": 353,
    "start_time": "2021-12-27T18:23:11.246Z"
   },
   {
    "duration": 32,
    "start_time": "2021-12-27T18:23:16.406Z"
   },
   {
    "duration": 482,
    "start_time": "2021-12-27T18:23:58.413Z"
   },
   {
    "duration": 11,
    "start_time": "2021-12-27T18:24:19.112Z"
   },
   {
    "duration": 8,
    "start_time": "2021-12-27T18:24:21.152Z"
   },
   {
    "duration": 8,
    "start_time": "2021-12-27T18:25:35.980Z"
   },
   {
    "duration": 445,
    "start_time": "2021-12-27T18:25:47.432Z"
   },
   {
    "duration": 515,
    "start_time": "2021-12-27T18:25:51.258Z"
   },
   {
    "duration": 727,
    "start_time": "2021-12-27T18:26:39.937Z"
   },
   {
    "duration": 9,
    "start_time": "2021-12-27T18:26:51.497Z"
   },
   {
    "duration": 7,
    "start_time": "2021-12-27T18:26:54.955Z"
   },
   {
    "duration": 142,
    "start_time": "2021-12-27T18:28:52.880Z"
   },
   {
    "duration": 17,
    "start_time": "2021-12-27T18:29:08.201Z"
   },
   {
    "duration": 4,
    "start_time": "2021-12-27T18:29:19.831Z"
   },
   {
    "duration": 220,
    "start_time": "2021-12-27T18:29:20.780Z"
   },
   {
    "duration": 17,
    "start_time": "2021-12-27T18:29:21.871Z"
   },
   {
    "duration": 32,
    "start_time": "2021-12-27T18:29:26.891Z"
   },
   {
    "duration": 4,
    "start_time": "2021-12-27T18:29:33.029Z"
   },
   {
    "duration": 33,
    "start_time": "2021-12-27T18:29:36.597Z"
   },
   {
    "duration": 5,
    "start_time": "2021-12-27T18:29:39.683Z"
   },
   {
    "duration": 32,
    "start_time": "2021-12-27T18:29:41.775Z"
   },
   {
    "duration": 25,
    "start_time": "2021-12-27T18:29:44.341Z"
   },
   {
    "duration": 31,
    "start_time": "2021-12-27T18:29:46.661Z"
   },
   {
    "duration": 81,
    "start_time": "2021-12-27T18:29:48.051Z"
   },
   {
    "duration": 95,
    "start_time": "2021-12-27T18:29:51.077Z"
   },
   {
    "duration": 80,
    "start_time": "2021-12-27T18:29:51.831Z"
   },
   {
    "duration": 16,
    "start_time": "2021-12-27T18:29:55.986Z"
   },
   {
    "duration": 6,
    "start_time": "2021-12-27T18:30:05.548Z"
   },
   {
    "duration": 21,
    "start_time": "2021-12-27T18:30:06.896Z"
   },
   {
    "duration": 15,
    "start_time": "2021-12-27T18:30:16.724Z"
   },
   {
    "duration": 15,
    "start_time": "2021-12-27T18:30:19.860Z"
   },
   {
    "duration": 15,
    "start_time": "2021-12-27T18:30:22.278Z"
   },
   {
    "duration": 5,
    "start_time": "2021-12-27T18:30:23.641Z"
   },
   {
    "duration": 5,
    "start_time": "2021-12-27T18:30:28.207Z"
   },
   {
    "duration": 23,
    "start_time": "2021-12-27T18:30:28.982Z"
   },
   {
    "duration": 22,
    "start_time": "2021-12-27T18:30:35.028Z"
   },
   {
    "duration": 19,
    "start_time": "2021-12-27T18:30:35.796Z"
   },
   {
    "duration": 27,
    "start_time": "2021-12-27T18:30:37.579Z"
   },
   {
    "duration": 18,
    "start_time": "2021-12-27T18:30:41.610Z"
   },
   {
    "duration": 26,
    "start_time": "2021-12-27T18:30:43.209Z"
   },
   {
    "duration": 42,
    "start_time": "2021-12-27T18:30:46.204Z"
   },
   {
    "duration": 13,
    "start_time": "2021-12-27T18:30:49.005Z"
   },
   {
    "duration": 31,
    "start_time": "2021-12-27T18:31:15.901Z"
   },
   {
    "duration": 19,
    "start_time": "2021-12-27T18:31:16.557Z"
   },
   {
    "duration": 12,
    "start_time": "2021-12-27T18:31:17.963Z"
   },
   {
    "duration": 15,
    "start_time": "2021-12-27T18:31:21.133Z"
   },
   {
    "duration": 13,
    "start_time": "2021-12-27T18:31:23.682Z"
   },
   {
    "duration": 5,
    "start_time": "2021-12-27T18:31:24.813Z"
   },
   {
    "duration": 38,
    "start_time": "2021-12-27T18:31:27.161Z"
   },
   {
    "duration": 27,
    "start_time": "2021-12-27T18:31:27.901Z"
   },
   {
    "duration": 37,
    "start_time": "2021-12-27T18:31:28.460Z"
   },
   {
    "duration": 18,
    "start_time": "2021-12-27T18:31:28.921Z"
   },
   {
    "duration": 11,
    "start_time": "2021-12-27T18:31:30.441Z"
   },
   {
    "duration": 7,
    "start_time": "2021-12-27T18:31:31.131Z"
   },
   {
    "duration": 9,
    "start_time": "2021-12-27T18:31:32.025Z"
   },
   {
    "duration": 7,
    "start_time": "2021-12-27T18:31:32.766Z"
   },
   {
    "duration": 686,
    "start_time": "2021-12-28T16:24:28.857Z"
   },
   {
    "duration": 136,
    "start_time": "2021-12-28T16:24:29.545Z"
   },
   {
    "duration": 15,
    "start_time": "2021-12-28T16:24:29.684Z"
   },
   {
    "duration": 27,
    "start_time": "2021-12-28T16:24:29.701Z"
   },
   {
    "duration": 4,
    "start_time": "2021-12-28T16:24:29.730Z"
   },
   {
    "duration": 32,
    "start_time": "2021-12-28T16:24:29.736Z"
   },
   {
    "duration": 8,
    "start_time": "2021-12-28T16:24:29.769Z"
   },
   {
    "duration": 24,
    "start_time": "2021-12-28T16:24:29.778Z"
   },
   {
    "duration": 25,
    "start_time": "2021-12-28T16:24:29.804Z"
   },
   {
    "duration": 27,
    "start_time": "2021-12-28T16:24:29.832Z"
   },
   {
    "duration": 70,
    "start_time": "2021-12-28T16:24:29.860Z"
   },
   {
    "duration": 66,
    "start_time": "2021-12-28T16:24:29.933Z"
   },
   {
    "duration": 70,
    "start_time": "2021-12-28T16:24:30.001Z"
   },
   {
    "duration": 10,
    "start_time": "2021-12-28T16:24:30.073Z"
   },
   {
    "duration": 6,
    "start_time": "2021-12-28T16:24:30.084Z"
   },
   {
    "duration": 36,
    "start_time": "2021-12-28T16:24:30.091Z"
   },
   {
    "duration": 23,
    "start_time": "2021-12-28T16:24:30.129Z"
   },
   {
    "duration": 20,
    "start_time": "2021-12-28T16:24:30.153Z"
   },
   {
    "duration": 17,
    "start_time": "2021-12-28T16:24:30.175Z"
   },
   {
    "duration": 14,
    "start_time": "2021-12-28T16:24:30.194Z"
   },
   {
    "duration": 42,
    "start_time": "2021-12-28T16:24:30.209Z"
   },
   {
    "duration": 18,
    "start_time": "2021-12-28T16:24:30.252Z"
   },
   {
    "duration": 18,
    "start_time": "2021-12-28T16:24:30.272Z"
   },
   {
    "duration": 18,
    "start_time": "2021-12-28T16:24:30.291Z"
   },
   {
    "duration": 21,
    "start_time": "2021-12-28T16:24:30.311Z"
   },
   {
    "duration": 26,
    "start_time": "2021-12-28T16:24:30.334Z"
   },
   {
    "duration": 11,
    "start_time": "2021-12-28T16:24:30.364Z"
   },
   {
    "duration": 14,
    "start_time": "2021-12-28T16:24:30.377Z"
   },
   {
    "duration": 8,
    "start_time": "2021-12-28T16:24:30.392Z"
   },
   {
    "duration": 8,
    "start_time": "2021-12-28T16:24:30.402Z"
   },
   {
    "duration": 36,
    "start_time": "2021-12-28T16:24:30.412Z"
   },
   {
    "duration": 11,
    "start_time": "2021-12-28T16:24:30.450Z"
   },
   {
    "duration": 28,
    "start_time": "2021-12-28T16:24:30.463Z"
   },
   {
    "duration": 11,
    "start_time": "2021-12-28T16:24:30.492Z"
   },
   {
    "duration": 22,
    "start_time": "2021-12-28T16:24:30.505Z"
   },
   {
    "duration": 5,
    "start_time": "2021-12-28T16:24:30.529Z"
   },
   {
    "duration": 23,
    "start_time": "2021-12-28T16:24:30.536Z"
   },
   {
    "duration": 20,
    "start_time": "2021-12-28T16:24:30.560Z"
   },
   {
    "duration": 125,
    "start_time": "2021-12-28T16:25:30.962Z"
   },
   {
    "duration": 545,
    "start_time": "2021-12-28T16:53:15.970Z"
   },
   {
    "duration": 824,
    "start_time": "2021-12-28T16:53:22.230Z"
   },
   {
    "duration": 220,
    "start_time": "2021-12-28T16:53:23.578Z"
   },
   {
    "duration": 32,
    "start_time": "2021-12-28T16:53:25.548Z"
   },
   {
    "duration": 31,
    "start_time": "2021-12-28T16:53:39.472Z"
   },
   {
    "duration": 8,
    "start_time": "2021-12-28T16:54:10.857Z"
   },
   {
    "duration": 25,
    "start_time": "2021-12-28T16:54:47.710Z"
   },
   {
    "duration": 5,
    "start_time": "2021-12-28T16:54:49.936Z"
   },
   {
    "duration": 54,
    "start_time": "2021-12-28T16:54:52.246Z"
   },
   {
    "duration": 33,
    "start_time": "2021-12-28T16:54:55.396Z"
   },
   {
    "duration": 53,
    "start_time": "2021-12-28T16:54:56.535Z"
   },
   {
    "duration": 86,
    "start_time": "2021-12-28T16:54:58.614Z"
   },
   {
    "duration": 101,
    "start_time": "2021-12-28T16:54:59.573Z"
   },
   {
    "duration": 81,
    "start_time": "2021-12-28T16:55:01.982Z"
   },
   {
    "duration": 14,
    "start_time": "2021-12-28T16:55:03.400Z"
   },
   {
    "duration": 62,
    "start_time": "2021-12-28T16:55:49.244Z"
   },
   {
    "duration": 5,
    "start_time": "2021-12-28T16:56:49.821Z"
   },
   {
    "duration": 24,
    "start_time": "2021-12-28T16:56:52.433Z"
   },
   {
    "duration": 17,
    "start_time": "2021-12-28T16:56:56.068Z"
   },
   {
    "duration": 58,
    "start_time": "2021-12-28T16:57:14.081Z"
   },
   {
    "duration": 4,
    "start_time": "2021-12-28T16:57:50.638Z"
   },
   {
    "duration": 286,
    "start_time": "2021-12-28T16:57:51.170Z"
   },
   {
    "duration": 25,
    "start_time": "2021-12-28T16:57:51.621Z"
   },
   {
    "duration": 53,
    "start_time": "2021-12-28T16:57:52.160Z"
   },
   {
    "duration": 7,
    "start_time": "2021-12-28T16:57:53.792Z"
   },
   {
    "duration": 25,
    "start_time": "2021-12-28T16:57:54.239Z"
   },
   {
    "duration": 5,
    "start_time": "2021-12-28T16:57:54.696Z"
   },
   {
    "duration": 30,
    "start_time": "2021-12-28T16:57:55.039Z"
   },
   {
    "duration": 24,
    "start_time": "2021-12-28T16:58:29.184Z"
   },
   {
    "duration": 40,
    "start_time": "2021-12-28T16:58:29.656Z"
   },
   {
    "duration": 93,
    "start_time": "2021-12-28T16:58:30.111Z"
   },
   {
    "duration": 112,
    "start_time": "2021-12-28T16:58:30.650Z"
   },
   {
    "duration": 82,
    "start_time": "2021-12-28T16:58:31.600Z"
   },
   {
    "duration": 68,
    "start_time": "2021-12-28T16:58:32.143Z"
   },
   {
    "duration": 4,
    "start_time": "2021-12-28T16:58:34.103Z"
   },
   {
    "duration": 21,
    "start_time": "2021-12-28T16:58:40.627Z"
   },
   {
    "duration": 97,
    "start_time": "2021-12-28T16:58:46.803Z"
   },
   {
    "duration": 17,
    "start_time": "2021-12-28T16:58:49.871Z"
   },
   {
    "duration": 17,
    "start_time": "2021-12-28T16:58:52.749Z"
   },
   {
    "duration": 16,
    "start_time": "2021-12-28T16:59:06.657Z"
   },
   {
    "duration": 17,
    "start_time": "2021-12-28T16:59:13.228Z"
   },
   {
    "duration": 5,
    "start_time": "2021-12-28T16:59:15.792Z"
   },
   {
    "duration": 21,
    "start_time": "2021-12-28T16:59:17.433Z"
   },
   {
    "duration": 18,
    "start_time": "2021-12-28T16:59:17.598Z"
   },
   {
    "duration": 20,
    "start_time": "2021-12-28T16:59:17.752Z"
   },
   {
    "duration": 20,
    "start_time": "2021-12-28T16:59:17.903Z"
   },
   {
    "duration": 23,
    "start_time": "2021-12-28T16:59:18.400Z"
   },
   {
    "duration": 22,
    "start_time": "2021-12-28T16:59:21.347Z"
   },
   {
    "duration": 15,
    "start_time": "2021-12-28T16:59:22.314Z"
   },
   {
    "duration": 16,
    "start_time": "2021-12-28T16:59:26.878Z"
   },
   {
    "duration": 729,
    "start_time": "2021-12-29T04:24:09.702Z"
   },
   {
    "duration": 192,
    "start_time": "2021-12-29T04:24:10.434Z"
   },
   {
    "duration": 41,
    "start_time": "2021-12-29T04:24:10.632Z"
   },
   {
    "duration": 35,
    "start_time": "2021-12-29T04:24:10.676Z"
   },
   {
    "duration": 5,
    "start_time": "2021-12-29T04:24:10.713Z"
   },
   {
    "duration": 62,
    "start_time": "2021-12-29T04:24:10.721Z"
   },
   {
    "duration": 6,
    "start_time": "2021-12-29T04:24:10.787Z"
   },
   {
    "duration": 30,
    "start_time": "2021-12-29T04:24:10.796Z"
   },
   {
    "duration": 52,
    "start_time": "2021-12-29T04:24:10.829Z"
   },
   {
    "duration": 29,
    "start_time": "2021-12-29T04:24:10.884Z"
   },
   {
    "duration": 119,
    "start_time": "2021-12-29T04:24:10.915Z"
   },
   {
    "duration": 121,
    "start_time": "2021-12-29T04:24:11.037Z"
   },
   {
    "duration": 78,
    "start_time": "2021-12-29T04:24:11.160Z"
   },
   {
    "duration": 70,
    "start_time": "2021-12-29T04:24:11.241Z"
   },
   {
    "duration": 5,
    "start_time": "2021-12-29T04:24:11.313Z"
   },
   {
    "duration": 54,
    "start_time": "2021-12-29T04:24:11.320Z"
   },
   {
    "duration": 58,
    "start_time": "2021-12-29T04:24:11.376Z"
   },
   {
    "duration": 36,
    "start_time": "2021-12-29T04:24:11.436Z"
   },
   {
    "duration": 15,
    "start_time": "2021-12-29T04:24:11.474Z"
   },
   {
    "duration": 5,
    "start_time": "2021-12-29T04:24:11.492Z"
   },
   {
    "duration": 64,
    "start_time": "2021-12-29T04:24:11.499Z"
   },
   {
    "duration": 20,
    "start_time": "2021-12-29T04:24:11.568Z"
   },
   {
    "duration": 20,
    "start_time": "2021-12-29T04:24:11.591Z"
   },
   {
    "duration": 52,
    "start_time": "2021-12-29T04:24:11.613Z"
   },
   {
    "duration": 22,
    "start_time": "2021-12-29T04:24:11.668Z"
   },
   {
    "duration": 19,
    "start_time": "2021-12-29T04:24:11.692Z"
   },
   {
    "duration": 55,
    "start_time": "2021-12-29T04:24:11.713Z"
   },
   {
    "duration": 17,
    "start_time": "2021-12-29T04:24:11.771Z"
   },
   {
    "duration": 13,
    "start_time": "2021-12-29T04:24:11.790Z"
   },
   {
    "duration": 6,
    "start_time": "2021-12-29T04:24:11.805Z"
   },
   {
    "duration": 61,
    "start_time": "2021-12-29T04:24:11.813Z"
   },
   {
    "duration": 17,
    "start_time": "2021-12-29T04:24:11.876Z"
   },
   {
    "duration": 23,
    "start_time": "2021-12-29T04:24:11.896Z"
   },
   {
    "duration": 47,
    "start_time": "2021-12-29T04:24:11.921Z"
   },
   {
    "duration": 10,
    "start_time": "2021-12-29T04:24:11.971Z"
   },
   {
    "duration": 6,
    "start_time": "2021-12-29T04:24:11.984Z"
   },
   {
    "duration": 9,
    "start_time": "2021-12-29T04:24:11.992Z"
   },
   {
    "duration": 7,
    "start_time": "2021-12-29T04:24:12.003Z"
   }
  ],
  "colab": {
   "collapsed_sections": [
    "E0vqbgi9ay0H",
    "VUC88oWjTJw2"
   ],
   "name": "yandex_music_project_2021.2.ipynb",
   "provenance": []
  },
  "kernelspec": {
   "display_name": "Python 3 (ipykernel)",
   "language": "python",
   "name": "python3"
  },
  "language_info": {
   "codemirror_mode": {
    "name": "ipython",
    "version": 3
   },
   "file_extension": ".py",
   "mimetype": "text/x-python",
   "name": "python",
   "nbconvert_exporter": "python",
   "pygments_lexer": "ipython3",
   "version": "3.9.5"
  },
  "toc": {
   "base_numbering": 1,
   "nav_menu": {},
   "number_sections": true,
   "sideBar": true,
   "skip_h1_title": true,
   "title_cell": "Table of Contents",
   "title_sidebar": "Contents",
   "toc_cell": false,
   "toc_position": {
    "height": "calc(100% - 180px)",
    "left": "10px",
    "top": "150px",
    "width": "211.6px"
   },
   "toc_section_display": true,
   "toc_window_display": true
  }
 },
 "nbformat": 4,
 "nbformat_minor": 1
}
